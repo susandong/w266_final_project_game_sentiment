{
  "nbformat": 4,
  "nbformat_minor": 0,
  "metadata": {
    "colab": {
      "name": " w266_Final Project_Aspect_Extraction_1129.ipynb",
      "provenance": [],
      "collapsed_sections": [],
      "include_colab_link": true
    },
    "kernelspec": {
      "display_name": "Python 3",
      "name": "python3"
    }
  },
  "cells": [
    {
      "cell_type": "markdown",
      "metadata": {
        "id": "view-in-github",
        "colab_type": "text"
      },
      "source": [
        "<a href=\"https://colab.research.google.com/github/susandong/w266_final_project_game_sentiment/blob/master/w266_Final_Project_Aspect_Extraction_1129.ipynb\" target=\"_parent\"><img src=\"https://colab.research.google.com/assets/colab-badge.svg\" alt=\"Open In Colab\"/></a>"
      ]
    },
    {
      "cell_type": "markdown",
      "metadata": {
        "id": "DrstJ8hJNJmO"
      },
      "source": [
        "# Final Project: Game Review Sentiment Analysis Aspect Extraction\n",
        "Hypothesis 2:   \n",
        "\n",
        "* 2a)Can we use unsupervised aspect extraction to extract aspect and related sentiment in game review?   \n",
        "\n",
        "* 2b)what are the differences between fps game and communication games in terms of aspect?\n",
        "\n",
        "## Dataset: \n",
        "* Game Review:   \n",
        "\n",
        "  1. fps games: csgo game review\n",
        "  2. communication games: fg game review\n",
        "\n",
        "## Algorithm: \n",
        "* unsupervised aspect extraction with attention (CAT paper) \n",
        "* Sentiment analysis with \n"
      ]
    },
    {
      "cell_type": "code",
      "metadata": {
        "id": "yW01NUndQd3C"
      },
      "source": [
        "#Load libraries\n",
        "import pandas as pd\n",
        "import nltk\n",
        "import numpy as np\n",
        "import matplotlib.pyplot as plt\n",
        "import seaborn as sns\n",
        "!pip install unidecode\n",
        "!pip install vaderSentiment\n",
        "import unidecode\n",
        "import re\n",
        "from nltk.tokenize import TweetTokenizer\n",
        "from nltk.corpus import stopwords\n",
        "from nltk.stem import PorterStemmer\n",
        "from nltk.tokenize import RegexpTokenizer\n",
        "from vaderSentiment.vaderSentiment import SentimentIntensityAnalyzer \n",
        "from nltk.tokenize import RegexpTokenizer"
      ],
      "execution_count": null,
      "outputs": []
    },
    {
      "cell_type": "code",
      "metadata": {
        "id": "kFboN7cwMM6V"
      },
      "source": [
        "\"\"\" Download Data: There are 4 games with review data\n",
        "Fall Guys (fg)\n",
        "PlayerUnknown Battlegrounds (pubg)\n",
        "Dota 2 (dota2)\n",
        "Counterstrike Source: Go (csgo)\n",
        "\n",
        "Review data has the following columns:\n",
        "app: ID for the game\n",
        "useful: how many users voted the review as useful\n",
        "funny: how many users voted the review as funny\n",
        "username: username of the person who wrote the review\n",
        "games_owned: how many games the reviewer owns on Steam\n",
        "num_reviews: how many reviews the reviewer has written on Steam\n",
        "recommend: 1 for recommend (thumbs up), -1 for do not recommend (thumbs down)\n",
        "hours_played: number of hours the reviewer played before writing the review\n",
        "date: date review was written\n",
        "text: text of the review\n",
        "\"\"\"\n",
        "#Fall Guys\n",
        "fg_url = 'https://raw.githubusercontent.com/susandong/w266_final_project_game_sentiment/master/data/fallguys_reviews.csv'\n",
        "fg_df = pd.read_csv(fg_url, error_bad_lines=False)\n",
        "fg_df = fg_df.dropna()\n",
        "\n",
        "#CS: Go\n",
        "csgo_url = 'https://raw.githubusercontent.com/susandong/w266_final_project_game_sentiment/master/data/csgo_reviews.csv'\n",
        "csgo_df = pd.read_csv(csgo_url, error_bad_lines=False)\n",
        "csgo_df = csgo_df.dropna()\n",
        "\n",
        "#PUBG\n",
        "pubg_url = 'https://raw.githubusercontent.com/susandong/w266_final_project_game_sentiment/master/data/pubg_reviews.csv'\n",
        "pubg_df = pd.read_csv(pubg_url, error_bad_lines=False)\n",
        "pubg_df = pubg_df.dropna()\n",
        "\n",
        "#dota2_url = 'https://raw.githubusercontent.com/susandong/w266_final_project_game_sentiment/master/data/dota2_reviews.csv'\n",
        "#dota2_df = pd.read_csv(dota2_url, error_bad_lines=False)\n",
        "#player_url = 'https://raw.githubusercontent.com/susandong/w266_final_project_game_sentiment/master/data/PlayerCountData.csv'\n",
        "#player_df = pd.read_csv(player_url, error_bad_lines=False)"
      ],
      "execution_count": null,
      "outputs": []
    },
    {
      "cell_type": "code",
      "metadata": {
        "id": "iHVQmCT-tzlz"
      },
      "source": [
        "\n",
        "def remove_blankrow(df,column):\n",
        "  tokenizer = RegexpTokenizer(r'\\w+')\n",
        "  df['lens'] =[len(tokenizer.tokenize(utterance)) for utterance in df[column]]\n",
        "  df_clean=df[df['lens'] !=0]\n",
        "  return df_clean"
      ],
      "execution_count": null,
      "outputs": []
    },
    {
      "cell_type": "code",
      "metadata": {
        "id": "Fq_wR2DmOp7T",
        "colab": {
          "base_uri": "https://localhost:8080/"
        },
        "outputId": "b26ed9ba-a5a7-4665-aee5-b3da9a533dc2"
      },
      "source": [
        "# Data Preprocessing\n",
        "\n",
        "#from nltk.stem import WordNetLemmatizer\n",
        "nltk.download('stopwords')\n",
        "\n",
        "tknzr = TweetTokenizer()\n",
        "stop_words = set(stopwords.words('english'))\n",
        "stemmer = PorterStemmer()\n",
        "#lemma = WordNetLemmatizer()\n",
        "\n",
        "#Convert accented characters\n",
        "def remove_accents(text):\n",
        "  try:\n",
        "    text = unidecode.unidecode(text)\n",
        "  except:\n",
        "    pass\n",
        "  return text\n",
        "\n",
        "#Remove digits and punctuation\n",
        "def remove_nonletters(text):\n",
        "  try:\n",
        "    #Remove digits AND punctuation\n",
        "    text = re.sub('[^a-zA-Z]', ' ', text)\n",
        "    \n",
        "    #Remove just digits that are by themselves\n",
        "    #text = re.sub('^\\d+\\s|\\s\\d+\\s|\\s\\d+$', ' ', text)\n",
        "  except:\n",
        "    pass\n",
        "  return text\n",
        "\n",
        "\n",
        "#Use Tweet Tokenizer for some built-in emoji support\n",
        "def tweet_tokenization(text):\n",
        "  try:\n",
        "    return tknzr.tokenize(text)\n",
        "  except:\n",
        "    pass\n",
        "\n",
        "def remove_stopwords(token):\n",
        "  try:\n",
        "    return [item for item in token if item not in stop_words]\n",
        "  except:\n",
        "    pass\n",
        "\n",
        "def remove_stemmer(token):\n",
        "  try:\n",
        "    return [stemmer.stem(i) for i in token]\n",
        "  except:\n",
        "    pass\n",
        "\n",
        "def remove_lemmatizer(token):\n",
        "  try:\n",
        "    return [lemma.lemmatize(word=w, pow='v') for w in token]\n",
        "  except:\n",
        "    pass\n",
        "  \n",
        "def remove_shortwords(token):\n",
        "  try:\n",
        "    return [i for i in token if len(i) > 1]\n",
        "  except:\n",
        "    pass\n",
        "\n",
        "def token_to_string(listTokens):\n",
        "  return ' '.join(listTokens)\n",
        "\n",
        "#Process text from dataframe. df = dataframe to clean, text = name of column with text\n",
        "def process_text(df, text):\n",
        "\n",
        "  #Create new column for cleaned text\n",
        "  df['cleaned'] = df[text]\n",
        "\n",
        "  #Lower case all text\n",
        "  df['cleaned'] = df['cleaned'].str.lower()\n",
        "\n",
        "  #Clean URLs\n",
        "  df['cleaned'] = df['cleaned'].str.replace('http\\S+|www.\\S+', '', case=False)\n",
        "\n",
        "  #Remove accents from text\n",
        "  #df['cleaned'] = df['cleaned'].apply(remove_accents)\n",
        "\n",
        "  #Remove numbers and punctuation from text\n",
        "  df['cleaned'] = df['cleaned'].apply(remove_nonletters)\n",
        "  \n",
        "  #Tokenize\n",
        "  df['cleaned'] = df['cleaned'].apply(tweet_tokenization)\n",
        "\n",
        "  #Remove stopwords\n",
        "  #df['cleaned'] = df['cleaned'].apply(remove_stopwords)\n",
        "  \n",
        "  #Remove short words\n",
        "  df['cleaned'] = df['cleaned'].apply(remove_shortwords)\n",
        "\n",
        "  #Stemming - can decide to use or not\n",
        "  #df['cleaned'] = df['cleaned'].apply(remove_stemmer)\n",
        "\n",
        "  #Convert tokens back to string\n",
        "  df['cleaned'] = df['cleaned'].apply(token_to_string)\n",
        "\n",
        "  #Remove blankrows\n",
        "  df = remove_blankrow(df, 'cleaned')\n"
      ],
      "execution_count": null,
      "outputs": [
        {
          "output_type": "stream",
          "text": [
            "Requirement already satisfied: unidecode in /usr/local/lib/python3.6/dist-packages (1.1.1)\n",
            "[nltk_data] Downloading package stopwords to /root/nltk_data...\n",
            "[nltk_data]   Package stopwords is already up-to-date!\n"
          ],
          "name": "stdout"
        }
      ]
    },
    {
      "cell_type": "code",
      "metadata": {
        "id": "I8s2O3Ajub9l"
      },
      "source": [
        "\n"
      ],
      "execution_count": null,
      "outputs": []
    },
    {
      "cell_type": "code",
      "metadata": {
        "id": "ahL3k7O7XGZ-"
      },
      "source": [
        "#preprocess all the datasets for all 3 games\n",
        "process_text(fg_df, 'text')\n",
        "#len(fg_df['cleaned'][11]) < 2\n",
        "process_text(csgo_df, 'text')\n",
        "process_text(pubg_df, 'text')"
      ],
      "execution_count": null,
      "outputs": []
    },
    {
      "cell_type": "code",
      "metadata": {
        "id": "agbZIEqVXgVQ",
        "colab": {
          "base_uri": "https://localhost:8080/"
        },
        "outputId": "cdefc384-f1ef-4fff-f8d2-72d578f53b40"
      },
      "source": [
        "fg_df.shape\n"
      ],
      "execution_count": null,
      "outputs": [
        {
          "output_type": "execute_result",
          "data": {
            "text/plain": [
              "(90410, 12)"
            ]
          },
          "metadata": {
            "tags": []
          },
          "execution_count": 63
        }
      ]
    },
    {
      "cell_type": "code",
      "metadata": {
        "id": "gZFpy-6mi4AD",
        "colab": {
          "base_uri": "https://localhost:8080/"
        },
        "outputId": "dfb8dd1f-14d4-4a62-cdfa-6547fa6619bf"
      },
      "source": [
        "#remove blank rows\n",
        "fg_df_text=remove_blankrow(fg_df,'cleaned')[\"cleaned\"]\n",
        "\n",
        "csgo_df_text=remove_blankrow(csgo_df,'cleaned')[\"cleaned\"]\n",
        "pubg_df_text=remove_blankrow(pubg_df,'cleaned')[\"cleaned\"]\n",
        "pubg_df_text.shape\n"
      ],
      "execution_count": null,
      "outputs": [
        {
          "output_type": "execute_result",
          "data": {
            "text/plain": [
              "(226783,)"
            ]
          },
          "metadata": {
            "tags": []
          },
          "execution_count": 64
        }
      ]
    },
    {
      "cell_type": "code",
      "metadata": {
        "id": "75Mdddumw5ck"
      },
      "source": [
        "fg_df_text.to_csv(\"fg_review_text_final_v2\",header=False)"
      ],
      "execution_count": null,
      "outputs": []
    },
    {
      "cell_type": "code",
      "metadata": {
        "id": "jOLXlMli6LqQ"
      },
      "source": [
        "csgo_df_text.to_csv(\"csgo_review_text_final_v2\",header=False)"
      ],
      "execution_count": null,
      "outputs": []
    },
    {
      "cell_type": "code",
      "metadata": {
        "id": "kbdSSVIk6T1Q",
        "colab": {
          "base_uri": "https://localhost:8080/"
        },
        "outputId": "f0980aea-bec5-4a26-ee12-d26d4ff459c9"
      },
      "source": [
        "csgo_df_text.shape"
      ],
      "execution_count": null,
      "outputs": [
        {
          "output_type": "execute_result",
          "data": {
            "text/plain": [
              "(118567,)"
            ]
          },
          "metadata": {
            "tags": []
          },
          "execution_count": 99
        }
      ]
    },
    {
      "cell_type": "code",
      "metadata": {
        "id": "JJw9EPD5zoTw"
      },
      "source": [
        "## Aspect extraction with word2vec embedding in gensim"
      ],
      "execution_count": null,
      "outputs": []
    },
    {
      "cell_type": "code",
      "metadata": {
        "id": "gyJcxfuQqtC2"
      },
      "source": [
        "\n",
        "\n",
        "%matplotlib inline\n",
        "\n",
        "import nltk.data;\n",
        "\n",
        "from gensim.models import word2vec;\n",
        "\n",
        "from sklearn.cluster import KMeans;\n",
        "from sklearn.neighbors import KDTree;\n",
        "\n",
        "import pandas as pd;\n",
        "import numpy as np;\n",
        "\n",
        "import os;\n",
        "import re;\n",
        "import logging;\n",
        "import sqlite3;\n",
        "import time;\n",
        "import sys;\n",
        "import multiprocessing;\n",
        "from wordcloud import WordCloud, ImageColorGenerator\n",
        "import matplotlib.pyplot as plt;\n",
        "from itertools import cycle;\n",
        "\n"
      ],
      "execution_count": null,
      "outputs": []
    },
    {
      "cell_type": "code",
      "metadata": {
        "id": "HbUmlFlAqyxi",
        "colab": {
          "base_uri": "https://localhost:8080/"
        },
        "outputId": "861448b4-ed6b-4541-cc4c-fab58268daf6"
      },
      "source": [
        "\n",
        "nltk.download('punkt')\n",
        "tokenizer = nltk.data.load('tokenizers/punkt/english.pickle');"
      ],
      "execution_count": null,
      "outputs": [
        {
          "output_type": "stream",
          "text": [
            "[nltk_data] Downloading package punkt to /root/nltk_data...\n",
            "[nltk_data]   Unzipping tokenizers/punkt.zip.\n"
          ],
          "name": "stdout"
        }
      ]
    },
    {
      "cell_type": "code",
      "metadata": {
        "id": "Z8h_4MjV3OyC"
      },
      "source": [
        "#tokenize text\n",
        "fg_df_text_tokenized=fg_df_text.apply(tweet_tokenization)"
      ],
      "execution_count": null,
      "outputs": []
    },
    {
      "cell_type": "code",
      "metadata": {
        "id": "FVBmA2g6qy_i",
        "colab": {
          "base_uri": "https://localhost:8080/"
        },
        "outputId": "c7a5b429-8006-4ef9-f07f-752732a6054c"
      },
      "source": [
        "start = time.time();\n",
        "\n",
        "#Set the logging format to get some basic updates.\n",
        "logging.basicConfig(format='%(asctime)s : %(levelname)s : %(message)s',\\\n",
        "    level=logging.INFO)\n",
        "\n",
        "# Set values for various parameters\n",
        "num_features = 100;    # Dimensionality of the hidden layer representation\n",
        "min_word_count = 4;   # Minimum word count to keep a word in the vocabulary\n",
        "num_workers = multiprocessing.cpu_count();       # Number of threads to run in parallel set to total number of cpus.\n",
        "context = 5          # Context window size (on each side)                                                       \n",
        "downsampling = 1e-3   # Downsample setting for frequent words\n",
        "\n",
        "# Initialize and train the model. \n",
        "#The LineSentence object allows us to pass in a file name directly as input to Word2Vec,\n",
        "#instead of having to read it into memory first.\n",
        "\n",
        "print(\"Training model...\");\n",
        "model = word2vec.Word2Vec(fg_df_text_tokenized, workers=num_workers, \\\n",
        "            size=num_features, min_count = min_word_count, \\\n",
        "            window = context, sample = downsampling);\n",
        "\n",
        "# We don't plan on training the model any further, so calling \n",
        "# init_sims will make the model more memory efficient by normalizing the vectors in-place.\n",
        "model.init_sims(replace=True);\n",
        "\n",
        "# Save the model\n",
        "model_name = \"model_full_game\";\n",
        "model.save(model_name);\n",
        "\n",
        "#print('Total time: ' + str((time.time() - start)) + ' secs')"
      ],
      "execution_count": null,
      "outputs": [
        {
          "output_type": "stream",
          "text": [
            "2020-11-30 05:13:16,907 : INFO : collecting all words and their counts\n",
            "2020-11-30 05:13:16,908 : INFO : PROGRESS: at sentence #0, processed 0 words, keeping 0 word types\n",
            "2020-11-30 05:13:16,961 : INFO : PROGRESS: at sentence #10000, processed 189986 words, keeping 10008 word types\n",
            "2020-11-30 05:13:17,008 : INFO : PROGRESS: at sentence #20000, processed 352595 words, keeping 14872 word types\n",
            "2020-11-30 05:13:17,044 : INFO : PROGRESS: at sentence #30000, processed 501734 words, keeping 18210 word types\n",
            "2020-11-30 05:13:17,085 : INFO : PROGRESS: at sentence #40000, processed 664869 words, keeping 21477 word types\n"
          ],
          "name": "stderr"
        },
        {
          "output_type": "stream",
          "text": [
            "Training model...\n"
          ],
          "name": "stdout"
        },
        {
          "output_type": "stream",
          "text": [
            "2020-11-30 05:13:17,131 : INFO : PROGRESS: at sentence #50000, processed 850834 words, keeping 24443 word types\n",
            "2020-11-30 05:13:17,180 : INFO : PROGRESS: at sentence #60000, processed 1059558 words, keeping 27216 word types\n",
            "2020-11-30 05:13:17,242 : INFO : PROGRESS: at sentence #70000, processed 1344663 words, keeping 30210 word types\n",
            "2020-11-30 05:13:17,300 : INFO : PROGRESS: at sentence #80000, processed 1603160 words, keeping 33061 word types\n",
            "2020-11-30 05:13:17,334 : INFO : collected 34952 word types from a corpus of 1748803 raw words and 87847 sentences\n",
            "2020-11-30 05:13:17,335 : INFO : Loading a fresh vocabulary\n",
            "2020-11-30 05:13:17,366 : INFO : effective_min_count=4 retains 8887 unique words (25% of original 34952, drops 26065)\n",
            "2020-11-30 05:13:17,367 : INFO : effective_min_count=4 leaves 1715203 word corpus (98% of original 1748803, drops 33600)\n",
            "2020-11-30 05:13:17,397 : INFO : deleting the raw counts dictionary of 34952 items\n",
            "2020-11-30 05:13:17,400 : INFO : sample=0.001 downsamples 57 most-common words\n",
            "2020-11-30 05:13:17,401 : INFO : downsampling leaves estimated 1224002 word corpus (71.4% of prior 1715203)\n",
            "2020-11-30 05:13:17,430 : INFO : estimated required memory for 8887 words and 100 dimensions: 11553100 bytes\n",
            "2020-11-30 05:13:17,430 : INFO : resetting layer weights\n",
            "2020-11-30 05:13:19,165 : INFO : training model with 2 workers on 8887 vocabulary and 100 features, using sg=0 hs=0 sample=0.001 negative=5 window=5\n",
            "2020-11-30 05:13:20,177 : INFO : EPOCH 1 - PROGRESS: at 59.55% examples, 620171 words/s, in_qsize 3, out_qsize 0\n",
            "2020-11-30 05:13:21,128 : INFO : worker thread finished; awaiting finish of 1 more threads\n",
            "2020-11-30 05:13:21,136 : INFO : worker thread finished; awaiting finish of 0 more threads\n",
            "2020-11-30 05:13:21,136 : INFO : EPOCH - 1 : training on 1748803 raw words (1224035 effective words) took 2.0s, 623555 effective words/s\n",
            "2020-11-30 05:13:22,154 : INFO : EPOCH 2 - PROGRESS: at 60.74% examples, 628979 words/s, in_qsize 3, out_qsize 0\n",
            "2020-11-30 05:13:23,061 : INFO : worker thread finished; awaiting finish of 1 more threads\n",
            "2020-11-30 05:13:23,067 : INFO : worker thread finished; awaiting finish of 0 more threads\n",
            "2020-11-30 05:13:23,068 : INFO : EPOCH - 2 : training on 1748803 raw words (1224261 effective words) took 1.9s, 636322 effective words/s\n",
            "2020-11-30 05:13:24,084 : INFO : EPOCH 3 - PROGRESS: at 57.74% examples, 595601 words/s, in_qsize 2, out_qsize 1\n",
            "2020-11-30 05:13:25,031 : INFO : worker thread finished; awaiting finish of 1 more threads\n",
            "2020-11-30 05:13:25,036 : INFO : worker thread finished; awaiting finish of 0 more threads\n",
            "2020-11-30 05:13:25,037 : INFO : EPOCH - 3 : training on 1748803 raw words (1223380 effective words) took 2.0s, 623553 effective words/s\n",
            "2020-11-30 05:13:26,054 : INFO : EPOCH 4 - PROGRESS: at 60.05% examples, 623117 words/s, in_qsize 3, out_qsize 0\n",
            "2020-11-30 05:13:26,974 : INFO : worker thread finished; awaiting finish of 1 more threads\n",
            "2020-11-30 05:13:26,982 : INFO : worker thread finished; awaiting finish of 0 more threads\n",
            "2020-11-30 05:13:26,982 : INFO : EPOCH - 4 : training on 1748803 raw words (1223992 effective words) took 1.9s, 631573 effective words/s\n",
            "2020-11-30 05:13:27,993 : INFO : EPOCH 5 - PROGRESS: at 59.55% examples, 620005 words/s, in_qsize 3, out_qsize 0\n",
            "2020-11-30 05:13:28,922 : INFO : worker thread finished; awaiting finish of 1 more threads\n",
            "2020-11-30 05:13:28,931 : INFO : worker thread finished; awaiting finish of 0 more threads\n",
            "2020-11-30 05:13:28,932 : INFO : EPOCH - 5 : training on 1748803 raw words (1223273 effective words) took 1.9s, 629909 effective words/s\n",
            "2020-11-30 05:13:28,934 : INFO : training on a 8744015 raw words (6118941 effective words) took 9.8s, 626459 effective words/s\n",
            "2020-11-30 05:13:28,935 : INFO : precomputing L2-norms of word weight vectors\n",
            "2020-11-30 05:13:29,008 : INFO : saving Word2Vec object under model_full_game, separately None\n",
            "2020-11-30 05:13:29,010 : INFO : not storing attribute vectors_norm\n",
            "2020-11-30 05:13:29,011 : INFO : not storing attribute cum_table\n",
            "2020-11-30 05:13:29,130 : INFO : saved model_full_game\n"
          ],
          "name": "stderr"
        },
        {
          "output_type": "stream",
          "text": [
            "Total time: 12.224370956420898 secs\n"
          ],
          "name": "stdout"
        }
      ]
    },
    {
      "cell_type": "code",
      "metadata": {
        "id": "zfeL3uu6qzCK",
        "colab": {
          "base_uri": "https://localhost:8080/"
        },
        "outputId": "f43aa011-9556-436d-ce9b-fa2a677c9c0a"
      },
      "source": [
        "model = word2vec.Word2Vec.load('model_full_game')"
      ],
      "execution_count": null,
      "outputs": [
        {
          "output_type": "stream",
          "text": [
            "2020-11-30 05:13:29,142 : INFO : loading Word2Vec object from model_full_game\n",
            "2020-11-30 05:13:29,222 : INFO : loading wv recursively from model_full_game.wv.* with mmap=None\n",
            "2020-11-30 05:13:29,222 : INFO : setting ignored attribute vectors_norm to None\n",
            "2020-11-30 05:13:29,223 : INFO : loading vocabulary recursively from model_full_game.vocabulary.* with mmap=None\n",
            "2020-11-30 05:13:29,224 : INFO : loading trainables recursively from model_full_game.trainables.* with mmap=None\n",
            "2020-11-30 05:13:29,225 : INFO : setting ignored attribute cum_table to None\n",
            "2020-11-30 05:13:29,226 : INFO : loaded model_full_game\n"
          ],
          "name": "stderr"
        }
      ]
    },
    {
      "cell_type": "code",
      "metadata": {
        "id": "vv77wnui0twm",
        "colab": {
          "base_uri": "https://localhost:8080/"
        },
        "outputId": "8f5a1fb1-e48e-4abf-d179-cf80cf614ea1"
      },
      "source": [
        "model.wv['design']"
      ],
      "execution_count": null,
      "outputs": [
        {
          "output_type": "execute_result",
          "data": {
            "text/plain": [
              "array([ 0.1327    , -0.01282406,  0.02822841, -0.11354175, -0.05139009,\n",
              "        0.09539826,  0.09953274,  0.09168584,  0.04874735, -0.04435923,\n",
              "       -0.14234984,  0.01858038,  0.00656976, -0.14651494, -0.05536489,\n",
              "       -0.03610853, -0.11378744,  0.01017868,  0.09220725,  0.05613735,\n",
              "       -0.01529327,  0.08263876, -0.09886692,  0.08675379, -0.12973009,\n",
              "        0.20853819,  0.12480985,  0.06805932, -0.07432627, -0.06253787,\n",
              "       -0.02459421,  0.28950256,  0.08148087, -0.0560331 , -0.10949425,\n",
              "       -0.11218738,  0.02882916,  0.00849777,  0.10028146, -0.08890696,\n",
              "        0.15848358,  0.18643948, -0.05703058, -0.15258096,  0.03032086,\n",
              "       -0.00850626,  0.02647657,  0.07227655, -0.14148088, -0.06305078,\n",
              "        0.03692735,  0.00463161,  0.04554168,  0.01820813, -0.05252282,\n",
              "        0.07510676,  0.01435483, -0.00117465, -0.09000956, -0.09277203,\n",
              "       -0.00989039,  0.00766436,  0.15036707, -0.00436268,  0.00641968,\n",
              "        0.17179404,  0.005624  , -0.0190917 , -0.05017204,  0.01954801,\n",
              "       -0.1589437 , -0.18733433, -0.14861365,  0.0692104 , -0.01839107,\n",
              "        0.11003887, -0.14527859, -0.087223  ,  0.05693799, -0.01789675,\n",
              "        0.04523412, -0.07869709, -0.2345891 ,  0.22618148,  0.08603738,\n",
              "       -0.14550571,  0.07538851, -0.032104  , -0.03985545, -0.14823197,\n",
              "       -0.1474838 ,  0.08591367, -0.10280315,  0.03519638, -0.05346127,\n",
              "        0.06440497, -0.05368823,  0.16125856,  0.11910257,  0.11256416],\n",
              "      dtype=float32)"
            ]
          },
          "metadata": {
            "tags": []
          },
          "execution_count": 14
        }
      ]
    },
    {
      "cell_type": "code",
      "metadata": {
        "id": "6ag4wbIdqzEd",
        "colab": {
          "base_uri": "https://localhost:8080/"
        },
        "outputId": "01c8910c-ab30-45d0-d8b0-9742e5525f09"
      },
      "source": [
        "Z = model.wv.syn0"
      ],
      "execution_count": null,
      "outputs": [
        {
          "output_type": "stream",
          "text": [
            "/usr/local/lib/python3.6/dist-packages/ipykernel_launcher.py:1: DeprecationWarning: Call to deprecated `syn0` (Attribute will be removed in 4.0.0, use self.wv.vectors instead).\n",
            "  \"\"\"Entry point for launching an IPython kernel.\n"
          ],
          "name": "stderr"
        }
      ]
    },
    {
      "cell_type": "code",
      "metadata": {
        "id": "Oa7A7j8zqzKu",
        "colab": {
          "base_uri": "https://localhost:8080/"
        },
        "outputId": "4e172e91-38ea-4abb-e840-ec3805fa6d84"
      },
      "source": [
        "#100 vector per word\n",
        "print(Z[0].shape)\n",
        "Z[0]"
      ],
      "execution_count": null,
      "outputs": [
        {
          "output_type": "stream",
          "text": [
            "(100,)\n"
          ],
          "name": "stdout"
        },
        {
          "output_type": "execute_result",
          "data": {
            "text/plain": [
              "array([ 0.1587925 , -0.08928841,  0.07397182, -0.10469238, -0.03719344,\n",
              "        0.25014806,  0.00400675, -0.17462872,  0.10006379, -0.1355905 ,\n",
              "       -0.01082472, -0.13697398,  0.05958966,  0.22142543,  0.13801043,\n",
              "        0.01710247, -0.07038821,  0.12120213,  0.01350596, -0.07235699,\n",
              "       -0.02074218,  0.05034162,  0.07545972, -0.17847237, -0.10835167,\n",
              "        0.06873611, -0.01052263,  0.1758024 ,  0.03490781, -0.09966074,\n",
              "       -0.03194235,  0.11438927,  0.03381001,  0.12718983,  0.04915005,\n",
              "       -0.07970897, -0.09663429,  0.06403992,  0.14442733,  0.04300756,\n",
              "        0.05983939, -0.08463358, -0.03821822, -0.06428319,  0.02211371,\n",
              "        0.04876302,  0.05940839, -0.06243271, -0.05594997, -0.00414608,\n",
              "        0.18187967,  0.10648019, -0.19029781, -0.05878729,  0.00934547,\n",
              "       -0.1519444 ,  0.1652107 ,  0.0526341 ,  0.02379435, -0.04136626,\n",
              "        0.15220037, -0.01447473, -0.08525392, -0.06831571, -0.06280885,\n",
              "       -0.15518138, -0.01860712, -0.09128616,  0.07966905, -0.14027247,\n",
              "       -0.1394273 ,  0.00866102,  0.05931116, -0.11648443,  0.02990068,\n",
              "        0.087341  ,  0.05246474,  0.14442265,  0.09063398, -0.02185438,\n",
              "       -0.04986303, -0.20121647, -0.00897223, -0.00602059, -0.10650457,\n",
              "       -0.02227403,  0.12249409,  0.1807811 , -0.05524299, -0.10349251,\n",
              "       -0.10264219,  0.09538626, -0.15968195,  0.08227812,  0.09164012,\n",
              "       -0.08136886, -0.05057289, -0.05412458,  0.01142788, -0.04899409],\n",
              "      dtype=float32)"
            ]
          },
          "metadata": {
            "tags": []
          },
          "execution_count": 17
        }
      ]
    },
    {
      "cell_type": "code",
      "metadata": {
        "id": "6OTQR2cvukhf"
      },
      "source": [
        "\n",
        "\n",
        "def clustering_on_wordvecs(word_vectors, num_clusters):\n",
        "    # Initalize a k-means object and use it to extract centroids\n",
        "    kmeans_clustering = KMeans(n_clusters = num_clusters, init='k-means++');\n",
        "    idx = kmeans_clustering.fit_predict(word_vectors);\n",
        "    \n",
        "    return kmeans_clustering.cluster_centers_, idx;\n",
        "\n"
      ],
      "execution_count": null,
      "outputs": []
    },
    {
      "cell_type": "code",
      "metadata": {
        "id": "SipDYtCMunOK"
      },
      "source": [
        "start = time.time();\n",
        "centers, clusters = clustering_on_wordvecs(Z, 6);\n",
        "#print('Total time: ' + str((time.time() - start)) + ' secs')"
      ],
      "execution_count": null,
      "outputs": []
    },
    {
      "cell_type": "code",
      "metadata": {
        "id": "VkPXsMr3unU2"
      },
      "source": [
        "start = time.time();\n",
        "centroid_map = dict(zip(model.wv.index2word, clusters));\n",
        "#print('Total time: ' + str((time.time() - start)) + ' secs')"
      ],
      "execution_count": null,
      "outputs": []
    },
    {
      "cell_type": "code",
      "metadata": {
        "id": "Eiit-DJMunXf"
      },
      "source": [
        "\n",
        "\n",
        "def get_top_words(index2word, k, centers, wordvecs):\n",
        "    tree = KDTree(wordvecs);\n",
        "\n",
        "    #Closest points for each Cluster center is used to query the closest 20 points to it.\n",
        "    closest_points = [tree.query(np.reshape(x, (1, -1)), k=k) for x in centers];\n",
        "    closest_words_idxs = [x[1] for x in closest_points];\n",
        "\n",
        "    #Word Index is queried for each position in the above array, and added to a Dictionary.\n",
        "    closest_words = {};\n",
        "    for i in range(0, len(closest_words_idxs)):\n",
        "        closest_words['Cluster #' + str(i+1).zfill(2)] = [index2word[j] for j in closest_words_idxs[i][0]]\n",
        "\n",
        "    #A DataFrame is generated from the dictionary.\n",
        "    df = pd.DataFrame(closest_words);\n",
        "    df.index = df.index+1\n",
        "\n",
        "    return df\n",
        "\n"
      ],
      "execution_count": null,
      "outputs": []
    },
    {
      "cell_type": "code",
      "metadata": {
        "id": "Om35QvAhuuVQ"
      },
      "source": [
        "pd.set_option('display.max_columns', None)\n",
        "pd.set_option('display.max_rows', None)"
      ],
      "execution_count": null,
      "outputs": []
    },
    {
      "cell_type": "code",
      "metadata": {
        "id": "4XO4vd3_uuXy"
      },
      "source": [
        "top_words = get_top_words(model.wv.index2word, 20, centers, Z)"
      ],
      "execution_count": null,
      "outputs": []
    },
    {
      "cell_type": "code",
      "metadata": {
        "id": "WZ2jtnI-uuaX",
        "colab": {
          "base_uri": "https://localhost:8080/",
          "height": 677
        },
        "outputId": "a7d59de3-8b05-4e3b-dfd7-6f4b161021f7"
      },
      "source": [
        "#top words per cluster\n",
        "top_words"
      ],
      "execution_count": null,
      "outputs": [
        {
          "output_type": "execute_result",
          "data": {
            "text/html": [
              "<div>\n",
              "<style scoped>\n",
              "    .dataframe tbody tr th:only-of-type {\n",
              "        vertical-align: middle;\n",
              "    }\n",
              "\n",
              "    .dataframe tbody tr th {\n",
              "        vertical-align: top;\n",
              "    }\n",
              "\n",
              "    .dataframe thead th {\n",
              "        text-align: right;\n",
              "    }\n",
              "</style>\n",
              "<table border=\"1\" class=\"dataframe\">\n",
              "  <thead>\n",
              "    <tr style=\"text-align: right;\">\n",
              "      <th></th>\n",
              "      <th>Cluster #01</th>\n",
              "      <th>Cluster #02</th>\n",
              "      <th>Cluster #03</th>\n",
              "      <th>Cluster #04</th>\n",
              "      <th>Cluster #05</th>\n",
              "      <th>Cluster #06</th>\n",
              "    </tr>\n",
              "  </thead>\n",
              "  <tbody>\n",
              "    <tr>\n",
              "      <th>1</th>\n",
              "      <td>latinoamerica</td>\n",
              "      <td>igra</td>\n",
              "      <td>considerably</td>\n",
              "      <td>whimsical</td>\n",
              "      <td>checkpoint</td>\n",
              "      <td>hexagonal</td>\n",
              "    </tr>\n",
              "    <tr>\n",
              "      <th>2</th>\n",
              "      <td>fofo</td>\n",
              "      <td>mantap</td>\n",
              "      <td>estan</td>\n",
              "      <td>aesthetically</td>\n",
              "      <td>miracle</td>\n",
              "      <td>tower</td>\n",
              "    </tr>\n",
              "    <tr>\n",
              "      <th>3</th>\n",
              "      <td>spa</td>\n",
              "      <td>szar</td>\n",
              "      <td>har</td>\n",
              "      <td>wonderfully</td>\n",
              "      <td>booted</td>\n",
              "      <td>spawning</td>\n",
              "    </tr>\n",
              "    <tr>\n",
              "      <th>4</th>\n",
              "      <td>gli</td>\n",
              "      <td>fune</td>\n",
              "      <td>divertente</td>\n",
              "      <td>cheerful</td>\n",
              "      <td>reinstall</td>\n",
              "      <td>goop</td>\n",
              "    </tr>\n",
              "    <tr>\n",
              "      <th>5</th>\n",
              "      <td>een</td>\n",
              "      <td>sranje</td>\n",
              "      <td>spec</td>\n",
              "      <td>brightly</td>\n",
              "      <td>qualifications</td>\n",
              "      <td>respawn</td>\n",
              "    </tr>\n",
              "    <tr>\n",
              "      <th>6</th>\n",
              "      <td>precio</td>\n",
              "      <td>kurva</td>\n",
              "      <td>banners</td>\n",
              "      <td>vivid</td>\n",
              "      <td>reported</td>\n",
              "      <td>beam</td>\n",
              "    </tr>\n",
              "    <tr>\n",
              "      <th>7</th>\n",
              "      <td>interessante</td>\n",
              "      <td>goodd</td>\n",
              "      <td>public</td>\n",
              "      <td>gorgeous</td>\n",
              "      <td>attempts</td>\n",
              "      <td>pole</td>\n",
              "    </tr>\n",
              "    <tr>\n",
              "      <th>8</th>\n",
              "      <td>stunden</td>\n",
              "      <td>koi</td>\n",
              "      <td>dll</td>\n",
              "      <td>cartoonish</td>\n",
              "      <td>passed</td>\n",
              "      <td>sliding</td>\n",
              "    </tr>\n",
              "    <tr>\n",
              "      <th>9</th>\n",
              "      <td>foda</td>\n",
              "      <td>anjing</td>\n",
              "      <td>pata</td>\n",
              "      <td>fantastically</td>\n",
              "      <td>speedhacks</td>\n",
              "      <td>hoop</td>\n",
              "    </tr>\n",
              "    <tr>\n",
              "      <th>10</th>\n",
              "      <td>ti</td>\n",
              "      <td>merda</td>\n",
              "      <td>leaderboard</td>\n",
              "      <td>visually</td>\n",
              "      <td>shortly</td>\n",
              "      <td>spawns</td>\n",
              "    </tr>\n",
              "    <tr>\n",
              "      <th>11</th>\n",
              "      <td>pu</td>\n",
              "      <td>nhu</td>\n",
              "      <td>giocatori</td>\n",
              "      <td>cutesy</td>\n",
              "      <td>tempted</td>\n",
              "      <td>center</td>\n",
              "    </tr>\n",
              "    <tr>\n",
              "      <th>12</th>\n",
              "      <td>jogando</td>\n",
              "      <td>geam</td>\n",
              "      <td>tool</td>\n",
              "      <td>playful</td>\n",
              "      <td>sec</td>\n",
              "      <td>smacking</td>\n",
              "    </tr>\n",
              "    <tr>\n",
              "      <th>13</th>\n",
              "      <td>pasar</td>\n",
              "      <td>dah</td>\n",
              "      <td>stat</td>\n",
              "      <td>shapes</td>\n",
              "      <td>immediately</td>\n",
              "      <td>cold</td>\n",
              "    </tr>\n",
              "    <tr>\n",
              "      <th>14</th>\n",
              "      <td>poco</td>\n",
              "      <td>foarte</td>\n",
              "      <td>basura</td>\n",
              "      <td>frenetic</td>\n",
              "      <td>qualified</td>\n",
              "      <td>ramps</td>\n",
              "    </tr>\n",
              "    <tr>\n",
              "      <th>15</th>\n",
              "      <td>jogadores</td>\n",
              "      <td>recomand</td>\n",
              "      <td>west</td>\n",
              "      <td>bubbly</td>\n",
              "      <td>dc</td>\n",
              "      <td>accidentally</td>\n",
              "    </tr>\n",
              "    <tr>\n",
              "      <th>16</th>\n",
              "      <td>questo</td>\n",
              "      <td>nya</td>\n",
              "      <td>guidelines</td>\n",
              "      <td>intensely</td>\n",
              "      <td>claimed</td>\n",
              "      <td>boulder</td>\n",
              "    </tr>\n",
              "    <tr>\n",
              "      <th>17</th>\n",
              "      <td>mu</td>\n",
              "      <td>oi</td>\n",
              "      <td>decrease</td>\n",
              "      <td>upbeat</td>\n",
              "      <td>receiving</td>\n",
              "      <td>zoom</td>\n",
              "    </tr>\n",
              "    <tr>\n",
              "      <th>18</th>\n",
              "      <td>juegos</td>\n",
              "      <td>nhi</td>\n",
              "      <td>intermittent</td>\n",
              "      <td>humorous</td>\n",
              "      <td>permanently</td>\n",
              "      <td>foot</td>\n",
              "    </tr>\n",
              "    <tr>\n",
              "      <th>19</th>\n",
              "      <td>polecam</td>\n",
              "      <td>ld</td>\n",
              "      <td>mapas</td>\n",
              "      <td>sloppy</td>\n",
              "      <td>tomorrow</td>\n",
              "      <td>zone</td>\n",
              "    </tr>\n",
              "    <tr>\n",
              "      <th>20</th>\n",
              "      <td>potencial</td>\n",
              "      <td>booga</td>\n",
              "      <td>kkk</td>\n",
              "      <td>uplifting</td>\n",
              "      <td>request</td>\n",
              "      <td>doorway</td>\n",
              "    </tr>\n",
              "  </tbody>\n",
              "</table>\n",
              "</div>"
            ],
            "text/plain": [
              "      Cluster #01 Cluster #02   Cluster #03    Cluster #04     Cluster #05  \\\n",
              "1   latinoamerica        igra  considerably      whimsical      checkpoint   \n",
              "2            fofo      mantap         estan  aesthetically         miracle   \n",
              "3             spa        szar           har    wonderfully          booted   \n",
              "4             gli        fune    divertente       cheerful       reinstall   \n",
              "5             een      sranje          spec       brightly  qualifications   \n",
              "6          precio       kurva       banners          vivid        reported   \n",
              "7    interessante       goodd        public       gorgeous        attempts   \n",
              "8         stunden         koi           dll     cartoonish          passed   \n",
              "9            foda      anjing          pata  fantastically      speedhacks   \n",
              "10             ti       merda   leaderboard       visually         shortly   \n",
              "11             pu         nhu     giocatori         cutesy         tempted   \n",
              "12        jogando        geam          tool        playful             sec   \n",
              "13          pasar         dah          stat         shapes     immediately   \n",
              "14           poco      foarte        basura       frenetic       qualified   \n",
              "15      jogadores    recomand          west         bubbly              dc   \n",
              "16         questo         nya    guidelines      intensely         claimed   \n",
              "17             mu          oi      decrease         upbeat       receiving   \n",
              "18         juegos         nhi  intermittent       humorous     permanently   \n",
              "19        polecam          ld         mapas         sloppy        tomorrow   \n",
              "20      potencial       booga           kkk      uplifting         request   \n",
              "\n",
              "     Cluster #06  \n",
              "1      hexagonal  \n",
              "2          tower  \n",
              "3       spawning  \n",
              "4           goop  \n",
              "5        respawn  \n",
              "6           beam  \n",
              "7           pole  \n",
              "8        sliding  \n",
              "9           hoop  \n",
              "10        spawns  \n",
              "11        center  \n",
              "12      smacking  \n",
              "13          cold  \n",
              "14         ramps  \n",
              "15  accidentally  \n",
              "16       boulder  \n",
              "17          zoom  \n",
              "18          foot  \n",
              "19          zone  \n",
              "20       doorway  "
            ]
          },
          "metadata": {
            "tags": []
          },
          "execution_count": 83
        }
      ]
    },
    {
      "cell_type": "code",
      "metadata": {
        "id": "gYqiOthZ__9x"
      },
      "source": [
        "def get_word_table(table, key, sim_key='similarity', show_sim = True):\n",
        "    if show_sim == True:\n",
        "        return pd.DataFrame(table, columns=[key, sim_key])\n",
        "    else:\n",
        "        return pd.DataFrame(table, columns=[key, sim_key])[key]\n",
        "\n",
        "\n"
      ],
      "execution_count": null,
      "outputs": []
    },
    {
      "cell_type": "code",
      "metadata": {
        "id": "hvX9Y8YZuufd",
        "colab": {
          "base_uri": "https://localhost:8080/"
        },
        "outputId": "0d5447d9-6952-4829-9962-f96d0f885d00"
      },
      "source": [
        "keys = ['game', 'design', 'tactic','feeling','community' ]\n",
        "#keys = ['design', 'tactic', 'money', 'time','community']\n",
        "tables = []\n",
        "for key in keys:\n",
        "    tables.append(get_word_table(model.wv.similar_by_word(key,topn=50), key, show_sim=False))\n",
        "    "
      ],
      "execution_count": null,
      "outputs": [
        {
          "output_type": "stream",
          "text": [
            "/usr/local/lib/python3.6/dist-packages/gensim/matutils.py:737: FutureWarning: Conversion of the second argument of issubdtype from `int` to `np.signedinteger` is deprecated. In future, it will be treated as `np.int64 == np.dtype(int).type`.\n",
            "  if np.issubdtype(vec.dtype, np.int):\n"
          ],
          "name": "stderr"
        }
      ]
    },
    {
      "cell_type": "code",
      "metadata": {
        "id": "re9piI-2vV3B"
      },
      "source": [
        "#aspect extraction and aspect terms\n",
        "aspect_terms = pd.concat(tables, axis=1)"
      ],
      "execution_count": null,
      "outputs": []
    },
    {
      "cell_type": "code",
      "metadata": {
        "colab": {
          "base_uri": "https://localhost:8080/",
          "height": 1000
        },
        "id": "ILkDOi6tAuRV",
        "outputId": "2d62a459-81bd-4bfe-e2b1-6c45c5d323cf"
      },
      "source": [
        "aspect_terms"
      ],
      "execution_count": null,
      "outputs": [
        {
          "output_type": "execute_result",
          "data": {
            "text/html": [
              "<div>\n",
              "<style scoped>\n",
              "    .dataframe tbody tr th:only-of-type {\n",
              "        vertical-align: middle;\n",
              "    }\n",
              "\n",
              "    .dataframe tbody tr th {\n",
              "        vertical-align: top;\n",
              "    }\n",
              "\n",
              "    .dataframe thead th {\n",
              "        text-align: right;\n",
              "    }\n",
              "</style>\n",
              "<table border=\"1\" class=\"dataframe\">\n",
              "  <thead>\n",
              "    <tr style=\"text-align: right;\">\n",
              "      <th></th>\n",
              "      <th>game</th>\n",
              "      <th>design</th>\n",
              "      <th>tactic</th>\n",
              "      <th>feeling</th>\n",
              "      <th>community</th>\n",
              "    </tr>\n",
              "  </thead>\n",
              "  <tbody>\n",
              "    <tr>\n",
              "      <th>0</th>\n",
              "      <td>experience</td>\n",
              "      <td>artstyle</td>\n",
              "      <td>inability</td>\n",
              "      <td>satisfaction</td>\n",
              "      <td>mediatonic</td>\n",
              "    </tr>\n",
              "    <tr>\n",
              "      <th>1</th>\n",
              "      <td>match</td>\n",
              "      <td>music</td>\n",
              "      <td>notable</td>\n",
              "      <td>crown</td>\n",
              "      <td>developer</td>\n",
              "    </tr>\n",
              "    <tr>\n",
              "      <th>2</th>\n",
              "      <td>it</td>\n",
              "      <td>sound</td>\n",
              "      <td>dreaded</td>\n",
              "      <td>winning</td>\n",
              "      <td>company</td>\n",
              "    </tr>\n",
              "    <tr>\n",
              "      <th>3</th>\n",
              "      <td>games</td>\n",
              "      <td>art</td>\n",
              "      <td>activate</td>\n",
              "      <td>secs</td>\n",
              "      <td>support</td>\n",
              "    </tr>\n",
              "    <tr>\n",
              "      <th>4</th>\n",
              "      <td>round</td>\n",
              "      <td>aesthetics</td>\n",
              "      <td>refuses</td>\n",
              "      <td>rush</td>\n",
              "      <td>user</td>\n",
              "    </tr>\n",
              "    <tr>\n",
              "      <th>5</th>\n",
              "      <td>day</td>\n",
              "      <td>effects</td>\n",
              "      <td>thr</td>\n",
              "      <td>chance</td>\n",
              "      <td>developers</td>\n",
              "    </tr>\n",
              "    <tr>\n",
              "      <th>6</th>\n",
              "      <td>point</td>\n",
              "      <td>vibrant</td>\n",
              "      <td>scores</td>\n",
              "      <td>accomplishment</td>\n",
              "      <td>continuing</td>\n",
              "    </tr>\n",
              "    <tr>\n",
              "      <th>7</th>\n",
              "      <td>thing</td>\n",
              "      <td>catchy</td>\n",
              "      <td>rendering</td>\n",
              "      <td>victory</td>\n",
              "      <td>feedback</td>\n",
              "    </tr>\n",
              "    <tr>\n",
              "      <th>8</th>\n",
              "      <td>honestly</td>\n",
              "      <td>visuals</td>\n",
              "      <td>har</td>\n",
              "      <td>gist</td>\n",
              "      <td>active</td>\n",
              "    </tr>\n",
              "    <tr>\n",
              "      <th>9</th>\n",
              "      <td>fun</td>\n",
              "      <td>execution</td>\n",
              "      <td>vile</td>\n",
              "      <td>feels</td>\n",
              "      <td>expand</td>\n",
              "    </tr>\n",
              "    <tr>\n",
              "      <th>10</th>\n",
              "      <td>bumpy</td>\n",
              "      <td>designs</td>\n",
              "      <td>widespread</td>\n",
              "      <td>bored</td>\n",
              "      <td>devs</td>\n",
              "    </tr>\n",
              "    <tr>\n",
              "      <th>11</th>\n",
              "      <td>strides</td>\n",
              "      <td>aesthetic</td>\n",
              "      <td>prime</td>\n",
              "      <td>excitement</td>\n",
              "      <td>creators</td>\n",
              "    </tr>\n",
              "    <tr>\n",
              "      <th>12</th>\n",
              "      <td>lobby</td>\n",
              "      <td>soundtrack</td>\n",
              "      <td>infallible</td>\n",
              "      <td>tired</td>\n",
              "      <td>created</td>\n",
              "    </tr>\n",
              "    <tr>\n",
              "      <th>13</th>\n",
              "      <td>beta</td>\n",
              "      <td>upbeat</td>\n",
              "      <td>acknowledging</td>\n",
              "      <td>losing</td>\n",
              "      <td>workshop</td>\n",
              "    </tr>\n",
              "    <tr>\n",
              "      <th>14</th>\n",
              "      <td>problem</td>\n",
              "      <td>quirky</td>\n",
              "      <td>filter</td>\n",
              "      <td>show</td>\n",
              "      <td>solution</td>\n",
              "    </tr>\n",
              "    <tr>\n",
              "      <th>15</th>\n",
              "      <td>time</td>\n",
              "      <td>colours</td>\n",
              "      <td>restricted</td>\n",
              "      <td>wins</td>\n",
              "      <td>playerbase</td>\n",
              "    </tr>\n",
              "    <tr>\n",
              "      <th>16</th>\n",
              "      <td>everything</td>\n",
              "      <td>wacky</td>\n",
              "      <td>legitimate</td>\n",
              "      <td>laughing</td>\n",
              "      <td>future</td>\n",
              "    </tr>\n",
              "    <tr>\n",
              "      <th>17</th>\n",
              "      <td>week</td>\n",
              "      <td>bright</td>\n",
              "      <td>containing</td>\n",
              "      <td>priceless</td>\n",
              "      <td>meantime</td>\n",
              "    </tr>\n",
              "    <tr>\n",
              "      <th>18</th>\n",
              "      <td>fact</td>\n",
              "      <td>animations</td>\n",
              "      <td>projectiles</td>\n",
              "      <td>frustrated</td>\n",
              "      <td>twitter</td>\n",
              "    </tr>\n",
              "    <tr>\n",
              "      <th>19</th>\n",
              "      <td>really</td>\n",
              "      <td>pleasing</td>\n",
              "      <td>openly</td>\n",
              "      <td>dopamine</td>\n",
              "      <td>usernames</td>\n",
              "    </tr>\n",
              "    <tr>\n",
              "      <th>20</th>\n",
              "      <td>however</td>\n",
              "      <td>graphics</td>\n",
              "      <td>refusing</td>\n",
              "      <td>feel</td>\n",
              "      <td>communicating</td>\n",
              "    </tr>\n",
              "    <tr>\n",
              "      <th>21</th>\n",
              "      <td>hours</td>\n",
              "      <td>colors</td>\n",
              "      <td>dodgy</td>\n",
              "      <td>round</td>\n",
              "      <td>fixing</td>\n",
              "    </tr>\n",
              "    <tr>\n",
              "      <th>22</th>\n",
              "      <td>season</td>\n",
              "      <td>simplistic</td>\n",
              "      <td>divided</td>\n",
              "      <td>felt</td>\n",
              "      <td>suggestions</td>\n",
              "    </tr>\n",
              "    <tr>\n",
              "      <th>23</th>\n",
              "      <td>its</td>\n",
              "      <td>charming</td>\n",
              "      <td>occurred</td>\n",
              "      <td>smiling</td>\n",
              "      <td>improving</td>\n",
              "    </tr>\n",
              "    <tr>\n",
              "      <th>24</th>\n",
              "      <td>month</td>\n",
              "      <td>scheme</td>\n",
              "      <td>protect</td>\n",
              "      <td>infront</td>\n",
              "      <td>communicative</td>\n",
              "    </tr>\n",
              "    <tr>\n",
              "      <th>25</th>\n",
              "      <td>matches</td>\n",
              "      <td>characters</td>\n",
              "      <td>involves</td>\n",
              "      <td>hang</td>\n",
              "      <td>resolve</td>\n",
              "    </tr>\n",
              "    <tr>\n",
              "      <th>26</th>\n",
              "      <td>potential</td>\n",
              "      <td>mechanics</td>\n",
              "      <td>nest</td>\n",
              "      <td>qualifying</td>\n",
              "      <td>longevity</td>\n",
              "    </tr>\n",
              "    <tr>\n",
              "      <th>27</th>\n",
              "      <td>something</td>\n",
              "      <td>colorful</td>\n",
              "      <td>bogus</td>\n",
              "      <td>takeshi</td>\n",
              "      <td>plans</td>\n",
              "    </tr>\n",
              "    <tr>\n",
              "      <th>28</th>\n",
              "      <td>review</td>\n",
              "      <td>adorable</td>\n",
              "      <td>shoutout</td>\n",
              "      <td>playing</td>\n",
              "      <td>official</td>\n",
              "    </tr>\n",
              "    <tr>\n",
              "      <th>29</th>\n",
              "      <td>fixed</td>\n",
              "      <td>movement</td>\n",
              "      <td>affecting</td>\n",
              "      <td>xp</td>\n",
              "      <td>devolver</td>\n",
              "    </tr>\n",
              "    <tr>\n",
              "      <th>30</th>\n",
              "      <td>minigame</td>\n",
              "      <td>simplicity</td>\n",
              "      <td>counter</td>\n",
              "      <td>emotion</td>\n",
              "      <td>names</td>\n",
              "    </tr>\n",
              "    <tr>\n",
              "      <th>31</th>\n",
              "      <td>enjoyment</td>\n",
              "      <td>cuteness</td>\n",
              "      <td>advancing</td>\n",
              "      <td>minutes</td>\n",
              "      <td>studio</td>\n",
              "    </tr>\n",
              "    <tr>\n",
              "      <th>32</th>\n",
              "      <td>content</td>\n",
              "      <td>premise</td>\n",
              "      <td>tags</td>\n",
              "      <td>qualified</td>\n",
              "      <td>address</td>\n",
              "    </tr>\n",
              "    <tr>\n",
              "      <th>33</th>\n",
              "      <td>days</td>\n",
              "      <td>creative</td>\n",
              "      <td>spectators</td>\n",
              "      <td>course</td>\n",
              "      <td>crossplay</td>\n",
              "    </tr>\n",
              "    <tr>\n",
              "      <th>34</th>\n",
              "      <td>issue</td>\n",
              "      <td>physics</td>\n",
              "      <td>smoothing</td>\n",
              "      <td>challenge</td>\n",
              "      <td>actively</td>\n",
              "    </tr>\n",
              "    <tr>\n",
              "      <th>35</th>\n",
              "      <td>worth</td>\n",
              "      <td>cartoony</td>\n",
              "      <td>lackluster</td>\n",
              "      <td>nostalgic</td>\n",
              "      <td>develop</td>\n",
              "    </tr>\n",
              "    <tr>\n",
              "      <th>36</th>\n",
              "      <td>gameplay</td>\n",
              "      <td>pros</td>\n",
              "      <td>switched</td>\n",
              "      <td>getting</td>\n",
              "      <td>tools</td>\n",
              "    </tr>\n",
              "    <tr>\n",
              "      <th>37</th>\n",
              "      <td>almost</td>\n",
              "      <td>clunky</td>\n",
              "      <td>prevents</td>\n",
              "      <td>watching</td>\n",
              "      <td>ability</td>\n",
              "    </tr>\n",
              "    <tr>\n",
              "      <th>38</th>\n",
              "      <td>concept</td>\n",
              "      <td>visually</td>\n",
              "      <td>squads</td>\n",
              "      <td>instantly</td>\n",
              "      <td>updating</td>\n",
              "    </tr>\n",
              "    <tr>\n",
              "      <th>39</th>\n",
              "      <td>state</td>\n",
              "      <td>gameplay</td>\n",
              "      <td>lemming</td>\n",
              "      <td>wipeout</td>\n",
              "      <td>development</td>\n",
              "    </tr>\n",
              "    <tr>\n",
              "      <th>40</th>\n",
              "      <td>beginning</td>\n",
              "      <td>colourful</td>\n",
              "      <td>applying</td>\n",
              "      <td>slog</td>\n",
              "      <td>dev</td>\n",
              "    </tr>\n",
              "    <tr>\n",
              "      <th>41</th>\n",
              "      <td>stage</td>\n",
              "      <td>cutesy</td>\n",
              "      <td>disgrace</td>\n",
              "      <td>dream</td>\n",
              "      <td>html</td>\n",
              "    </tr>\n",
              "    <tr>\n",
              "      <th>42</th>\n",
              "      <td>hour</td>\n",
              "      <td>color</td>\n",
              "      <td>tower</td>\n",
              "      <td>defeat</td>\n",
              "      <td>features</td>\n",
              "    </tr>\n",
              "    <tr>\n",
              "      <th>43</th>\n",
              "      <td>minutes</td>\n",
              "      <td>ui</td>\n",
              "      <td>forgot</td>\n",
              "      <td>you</td>\n",
              "      <td>addition</td>\n",
              "    </tr>\n",
              "    <tr>\n",
              "      <th>44</th>\n",
              "      <td>hype</td>\n",
              "      <td>visual</td>\n",
              "      <td>featuring</td>\n",
              "      <td>tv</td>\n",
              "      <td>popularity</td>\n",
              "    </tr>\n",
              "    <tr>\n",
              "      <th>45</th>\n",
              "      <td>update</td>\n",
              "      <td>customization</td>\n",
              "      <td>transitions</td>\n",
              "      <td>tilted</td>\n",
              "      <td>exploits</td>\n",
              "    </tr>\n",
              "    <tr>\n",
              "      <th>46</th>\n",
              "      <td>months</td>\n",
              "      <td>rag</td>\n",
              "      <td>toxics</td>\n",
              "      <td>crowns</td>\n",
              "      <td>roadmap</td>\n",
              "    </tr>\n",
              "    <tr>\n",
              "      <th>47</th>\n",
              "      <td>rounds</td>\n",
              "      <td>doll</td>\n",
              "      <td>chooses</td>\n",
              "      <td>seconds</td>\n",
              "      <td>page</td>\n",
              "    </tr>\n",
              "    <tr>\n",
              "      <th>48</th>\n",
              "      <td>absolutely</td>\n",
              "      <td>style</td>\n",
              "      <td>hiding</td>\n",
              "      <td>horde</td>\n",
              "      <td>social</td>\n",
              "    </tr>\n",
              "    <tr>\n",
              "      <th>49</th>\n",
              "      <td>penny</td>\n",
              "      <td>concept</td>\n",
              "      <td>bear</td>\n",
              "      <td>furious</td>\n",
              "      <td>software</td>\n",
              "    </tr>\n",
              "  </tbody>\n",
              "</table>\n",
              "</div>"
            ],
            "text/plain": [
              "          game         design         tactic         feeling      community\n",
              "0   experience       artstyle      inability    satisfaction     mediatonic\n",
              "1        match          music        notable           crown      developer\n",
              "2           it          sound        dreaded         winning        company\n",
              "3        games            art       activate            secs        support\n",
              "4        round     aesthetics        refuses            rush           user\n",
              "5          day        effects            thr          chance     developers\n",
              "6        point        vibrant         scores  accomplishment     continuing\n",
              "7        thing         catchy      rendering         victory       feedback\n",
              "8     honestly        visuals            har            gist         active\n",
              "9          fun      execution           vile           feels         expand\n",
              "10       bumpy        designs     widespread           bored           devs\n",
              "11     strides      aesthetic          prime      excitement       creators\n",
              "12       lobby     soundtrack     infallible           tired        created\n",
              "13        beta         upbeat  acknowledging          losing       workshop\n",
              "14     problem         quirky         filter            show       solution\n",
              "15        time        colours     restricted            wins     playerbase\n",
              "16  everything          wacky     legitimate        laughing         future\n",
              "17        week         bright     containing       priceless       meantime\n",
              "18        fact     animations    projectiles      frustrated        twitter\n",
              "19      really       pleasing         openly        dopamine      usernames\n",
              "20     however       graphics       refusing            feel  communicating\n",
              "21       hours         colors          dodgy           round         fixing\n",
              "22      season     simplistic        divided            felt    suggestions\n",
              "23         its       charming       occurred         smiling      improving\n",
              "24       month         scheme        protect         infront  communicative\n",
              "25     matches     characters       involves            hang        resolve\n",
              "26   potential      mechanics           nest      qualifying      longevity\n",
              "27   something       colorful          bogus         takeshi          plans\n",
              "28      review       adorable       shoutout         playing       official\n",
              "29       fixed       movement      affecting              xp       devolver\n",
              "30    minigame     simplicity        counter         emotion          names\n",
              "31   enjoyment       cuteness      advancing         minutes         studio\n",
              "32     content        premise           tags       qualified        address\n",
              "33        days       creative     spectators          course      crossplay\n",
              "34       issue        physics      smoothing       challenge       actively\n",
              "35       worth       cartoony     lackluster       nostalgic        develop\n",
              "36    gameplay           pros       switched         getting          tools\n",
              "37      almost         clunky       prevents        watching        ability\n",
              "38     concept       visually         squads       instantly       updating\n",
              "39       state       gameplay        lemming         wipeout    development\n",
              "40   beginning      colourful       applying            slog            dev\n",
              "41       stage         cutesy       disgrace           dream           html\n",
              "42        hour          color          tower          defeat       features\n",
              "43     minutes             ui         forgot             you       addition\n",
              "44        hype         visual      featuring              tv     popularity\n",
              "45      update  customization    transitions          tilted       exploits\n",
              "46      months            rag         toxics          crowns        roadmap\n",
              "47      rounds           doll        chooses         seconds           page\n",
              "48  absolutely          style         hiding           horde         social\n",
              "49       penny        concept           bear         furious       software"
            ]
          },
          "metadata": {
            "tags": []
          },
          "execution_count": 87
        }
      ]
    },
    {
      "cell_type": "code",
      "metadata": {
        "id": "RkXdSwhO1ssj"
      },
      "source": [
        "## aspect extract and classification \n",
        "\n"
      ],
      "execution_count": null,
      "outputs": []
    },
    {
      "cell_type": "code",
      "metadata": {
        "colab": {
          "base_uri": "https://localhost:8080/",
          "height": 441
        },
        "id": "hGsEPLxcmzSX",
        "outputId": "cfaab41a-a849-4690-a329-781d07dcf86f"
      },
      "source": [
        "#df_cs=pd.read_csv(\"/content/all_txt_csgo.txt\",header=None)"
      ],
      "execution_count": null,
      "outputs": [
        {
          "output_type": "error",
          "ename": "FileNotFoundError",
          "evalue": "ignored",
          "traceback": [
            "\u001b[0;31m---------------------------------------------------------------------------\u001b[0m",
            "\u001b[0;31mFileNotFoundError\u001b[0m                         Traceback (most recent call last)",
            "\u001b[0;32m<ipython-input-31-f49182af27f9>\u001b[0m in \u001b[0;36m<module>\u001b[0;34m()\u001b[0m\n\u001b[0;32m----> 1\u001b[0;31m \u001b[0mdf_cs\u001b[0m\u001b[0;34m=\u001b[0m\u001b[0mpd\u001b[0m\u001b[0;34m.\u001b[0m\u001b[0mread_csv\u001b[0m\u001b[0;34m(\u001b[0m\u001b[0;34m\"/content/all_txt_csgo.txt\"\u001b[0m\u001b[0;34m,\u001b[0m\u001b[0mheader\u001b[0m\u001b[0;34m=\u001b[0m\u001b[0;32mNone\u001b[0m\u001b[0;34m)\u001b[0m\u001b[0;34m\u001b[0m\u001b[0;34m\u001b[0m\u001b[0m\n\u001b[0m",
            "\u001b[0;32m/usr/local/lib/python3.6/dist-packages/pandas/io/parsers.py\u001b[0m in \u001b[0;36mread_csv\u001b[0;34m(filepath_or_buffer, sep, delimiter, header, names, index_col, usecols, squeeze, prefix, mangle_dupe_cols, dtype, engine, converters, true_values, false_values, skipinitialspace, skiprows, skipfooter, nrows, na_values, keep_default_na, na_filter, verbose, skip_blank_lines, parse_dates, infer_datetime_format, keep_date_col, date_parser, dayfirst, cache_dates, iterator, chunksize, compression, thousands, decimal, lineterminator, quotechar, quoting, doublequote, escapechar, comment, encoding, dialect, error_bad_lines, warn_bad_lines, delim_whitespace, low_memory, memory_map, float_precision)\u001b[0m\n\u001b[1;32m    686\u001b[0m     )\n\u001b[1;32m    687\u001b[0m \u001b[0;34m\u001b[0m\u001b[0m\n\u001b[0;32m--> 688\u001b[0;31m     \u001b[0;32mreturn\u001b[0m \u001b[0m_read\u001b[0m\u001b[0;34m(\u001b[0m\u001b[0mfilepath_or_buffer\u001b[0m\u001b[0;34m,\u001b[0m \u001b[0mkwds\u001b[0m\u001b[0;34m)\u001b[0m\u001b[0;34m\u001b[0m\u001b[0;34m\u001b[0m\u001b[0m\n\u001b[0m\u001b[1;32m    689\u001b[0m \u001b[0;34m\u001b[0m\u001b[0m\n\u001b[1;32m    690\u001b[0m \u001b[0;34m\u001b[0m\u001b[0m\n",
            "\u001b[0;32m/usr/local/lib/python3.6/dist-packages/pandas/io/parsers.py\u001b[0m in \u001b[0;36m_read\u001b[0;34m(filepath_or_buffer, kwds)\u001b[0m\n\u001b[1;32m    452\u001b[0m \u001b[0;34m\u001b[0m\u001b[0m\n\u001b[1;32m    453\u001b[0m     \u001b[0;31m# Create the parser.\u001b[0m\u001b[0;34m\u001b[0m\u001b[0;34m\u001b[0m\u001b[0;34m\u001b[0m\u001b[0m\n\u001b[0;32m--> 454\u001b[0;31m     \u001b[0mparser\u001b[0m \u001b[0;34m=\u001b[0m \u001b[0mTextFileReader\u001b[0m\u001b[0;34m(\u001b[0m\u001b[0mfp_or_buf\u001b[0m\u001b[0;34m,\u001b[0m \u001b[0;34m**\u001b[0m\u001b[0mkwds\u001b[0m\u001b[0;34m)\u001b[0m\u001b[0;34m\u001b[0m\u001b[0;34m\u001b[0m\u001b[0m\n\u001b[0m\u001b[1;32m    455\u001b[0m \u001b[0;34m\u001b[0m\u001b[0m\n\u001b[1;32m    456\u001b[0m     \u001b[0;32mif\u001b[0m \u001b[0mchunksize\u001b[0m \u001b[0;32mor\u001b[0m \u001b[0miterator\u001b[0m\u001b[0;34m:\u001b[0m\u001b[0;34m\u001b[0m\u001b[0;34m\u001b[0m\u001b[0m\n",
            "\u001b[0;32m/usr/local/lib/python3.6/dist-packages/pandas/io/parsers.py\u001b[0m in \u001b[0;36m__init__\u001b[0;34m(self, f, engine, **kwds)\u001b[0m\n\u001b[1;32m    946\u001b[0m             \u001b[0mself\u001b[0m\u001b[0;34m.\u001b[0m\u001b[0moptions\u001b[0m\u001b[0;34m[\u001b[0m\u001b[0;34m\"has_index_names\"\u001b[0m\u001b[0;34m]\u001b[0m \u001b[0;34m=\u001b[0m \u001b[0mkwds\u001b[0m\u001b[0;34m[\u001b[0m\u001b[0;34m\"has_index_names\"\u001b[0m\u001b[0;34m]\u001b[0m\u001b[0;34m\u001b[0m\u001b[0;34m\u001b[0m\u001b[0m\n\u001b[1;32m    947\u001b[0m \u001b[0;34m\u001b[0m\u001b[0m\n\u001b[0;32m--> 948\u001b[0;31m         \u001b[0mself\u001b[0m\u001b[0;34m.\u001b[0m\u001b[0m_make_engine\u001b[0m\u001b[0;34m(\u001b[0m\u001b[0mself\u001b[0m\u001b[0;34m.\u001b[0m\u001b[0mengine\u001b[0m\u001b[0;34m)\u001b[0m\u001b[0;34m\u001b[0m\u001b[0;34m\u001b[0m\u001b[0m\n\u001b[0m\u001b[1;32m    949\u001b[0m \u001b[0;34m\u001b[0m\u001b[0m\n\u001b[1;32m    950\u001b[0m     \u001b[0;32mdef\u001b[0m \u001b[0mclose\u001b[0m\u001b[0;34m(\u001b[0m\u001b[0mself\u001b[0m\u001b[0;34m)\u001b[0m\u001b[0;34m:\u001b[0m\u001b[0;34m\u001b[0m\u001b[0;34m\u001b[0m\u001b[0m\n",
            "\u001b[0;32m/usr/local/lib/python3.6/dist-packages/pandas/io/parsers.py\u001b[0m in \u001b[0;36m_make_engine\u001b[0;34m(self, engine)\u001b[0m\n\u001b[1;32m   1178\u001b[0m     \u001b[0;32mdef\u001b[0m \u001b[0m_make_engine\u001b[0m\u001b[0;34m(\u001b[0m\u001b[0mself\u001b[0m\u001b[0;34m,\u001b[0m \u001b[0mengine\u001b[0m\u001b[0;34m=\u001b[0m\u001b[0;34m\"c\"\u001b[0m\u001b[0;34m)\u001b[0m\u001b[0;34m:\u001b[0m\u001b[0;34m\u001b[0m\u001b[0;34m\u001b[0m\u001b[0m\n\u001b[1;32m   1179\u001b[0m         \u001b[0;32mif\u001b[0m \u001b[0mengine\u001b[0m \u001b[0;34m==\u001b[0m \u001b[0;34m\"c\"\u001b[0m\u001b[0;34m:\u001b[0m\u001b[0;34m\u001b[0m\u001b[0;34m\u001b[0m\u001b[0m\n\u001b[0;32m-> 1180\u001b[0;31m             \u001b[0mself\u001b[0m\u001b[0;34m.\u001b[0m\u001b[0m_engine\u001b[0m \u001b[0;34m=\u001b[0m \u001b[0mCParserWrapper\u001b[0m\u001b[0;34m(\u001b[0m\u001b[0mself\u001b[0m\u001b[0;34m.\u001b[0m\u001b[0mf\u001b[0m\u001b[0;34m,\u001b[0m \u001b[0;34m**\u001b[0m\u001b[0mself\u001b[0m\u001b[0;34m.\u001b[0m\u001b[0moptions\u001b[0m\u001b[0;34m)\u001b[0m\u001b[0;34m\u001b[0m\u001b[0;34m\u001b[0m\u001b[0m\n\u001b[0m\u001b[1;32m   1181\u001b[0m         \u001b[0;32melse\u001b[0m\u001b[0;34m:\u001b[0m\u001b[0;34m\u001b[0m\u001b[0;34m\u001b[0m\u001b[0m\n\u001b[1;32m   1182\u001b[0m             \u001b[0;32mif\u001b[0m \u001b[0mengine\u001b[0m \u001b[0;34m==\u001b[0m \u001b[0;34m\"python\"\u001b[0m\u001b[0;34m:\u001b[0m\u001b[0;34m\u001b[0m\u001b[0;34m\u001b[0m\u001b[0m\n",
            "\u001b[0;32m/usr/local/lib/python3.6/dist-packages/pandas/io/parsers.py\u001b[0m in \u001b[0;36m__init__\u001b[0;34m(self, src, **kwds)\u001b[0m\n\u001b[1;32m   2008\u001b[0m         \u001b[0mkwds\u001b[0m\u001b[0;34m[\u001b[0m\u001b[0;34m\"usecols\"\u001b[0m\u001b[0;34m]\u001b[0m \u001b[0;34m=\u001b[0m \u001b[0mself\u001b[0m\u001b[0;34m.\u001b[0m\u001b[0musecols\u001b[0m\u001b[0;34m\u001b[0m\u001b[0;34m\u001b[0m\u001b[0m\n\u001b[1;32m   2009\u001b[0m \u001b[0;34m\u001b[0m\u001b[0m\n\u001b[0;32m-> 2010\u001b[0;31m         \u001b[0mself\u001b[0m\u001b[0;34m.\u001b[0m\u001b[0m_reader\u001b[0m \u001b[0;34m=\u001b[0m \u001b[0mparsers\u001b[0m\u001b[0;34m.\u001b[0m\u001b[0mTextReader\u001b[0m\u001b[0;34m(\u001b[0m\u001b[0msrc\u001b[0m\u001b[0;34m,\u001b[0m \u001b[0;34m**\u001b[0m\u001b[0mkwds\u001b[0m\u001b[0;34m)\u001b[0m\u001b[0;34m\u001b[0m\u001b[0;34m\u001b[0m\u001b[0m\n\u001b[0m\u001b[1;32m   2011\u001b[0m         \u001b[0mself\u001b[0m\u001b[0;34m.\u001b[0m\u001b[0munnamed_cols\u001b[0m \u001b[0;34m=\u001b[0m \u001b[0mself\u001b[0m\u001b[0;34m.\u001b[0m\u001b[0m_reader\u001b[0m\u001b[0;34m.\u001b[0m\u001b[0munnamed_cols\u001b[0m\u001b[0;34m\u001b[0m\u001b[0;34m\u001b[0m\u001b[0m\n\u001b[1;32m   2012\u001b[0m \u001b[0;34m\u001b[0m\u001b[0m\n",
            "\u001b[0;32mpandas/_libs/parsers.pyx\u001b[0m in \u001b[0;36mpandas._libs.parsers.TextReader.__cinit__\u001b[0;34m()\u001b[0m\n",
            "\u001b[0;32mpandas/_libs/parsers.pyx\u001b[0m in \u001b[0;36mpandas._libs.parsers.TextReader._setup_parser_source\u001b[0;34m()\u001b[0m\n",
            "\u001b[0;31mFileNotFoundError\u001b[0m: [Errno 2] No such file or directory: '/content/all_txt_csgo.txt'"
          ]
        }
      ]
    },
    {
      "cell_type": "code",
      "metadata": {
        "id": "JYncrCCIvWFU"
      },
      "source": [
        "#df_pred_cs=pd.read_csv(\"/content/pred_result_csgo_final.txt\",header=None,sep='\\n')"
      ],
      "execution_count": null,
      "outputs": []
    },
    {
      "cell_type": "code",
      "metadata": {
        "id": "RfZ84lRZez8x"
      },
      "source": [
        "#Aspect extraction of Game Reviews\n",
        "##CAT: https://github.com/clips/cat\n",
        "\n",
        "#works, results to be uploaded to repo, but the results are not reliable\n",
        "\n"
      ],
      "execution_count": null,
      "outputs": []
    },
    {
      "cell_type": "code",
      "metadata": {
        "id": "V-DkvQaLVYjk"
      },
      "source": [
        "# calculate sentiment score for each review"
      ],
      "execution_count": null,
      "outputs": []
    },
    {
      "cell_type": "code",
      "metadata": {
        "colab": {
          "base_uri": "https://localhost:8080/"
        },
        "id": "uFaubqdGMfC8",
        "outputId": "69026a08-b9f3-42ce-a537-5fe4f2592748"
      },
      "source": [
        ""
      ],
      "execution_count": null,
      "outputs": [
        {
          "output_type": "stream",
          "text": [
            "Requirement already satisfied: vaderSentiment in /usr/local/lib/python3.6/dist-packages (3.3.2)\n",
            "Requirement already satisfied: requests in /usr/local/lib/python3.6/dist-packages (from vaderSentiment) (2.23.0)\n",
            "Requirement already satisfied: urllib3!=1.25.0,!=1.25.1,<1.26,>=1.21.1 in /usr/local/lib/python3.6/dist-packages (from requests->vaderSentiment) (1.24.3)\n",
            "Requirement already satisfied: certifi>=2017.4.17 in /usr/local/lib/python3.6/dist-packages (from requests->vaderSentiment) (2020.11.8)\n",
            "Requirement already satisfied: chardet<4,>=3.0.2 in /usr/local/lib/python3.6/dist-packages (from requests->vaderSentiment) (3.0.4)\n",
            "Requirement already satisfied: idna<3,>=2.5 in /usr/local/lib/python3.6/dist-packages (from requests->vaderSentiment) (2.10)\n"
          ],
          "name": "stdout"
        }
      ]
    },
    {
      "cell_type": "code",
      "metadata": {
        "id": "9Ku2rM33U20k"
      },
      "source": [
        "def sentiment_analyzer(data):\n",
        "  analyser = SentimentIntensityAnalyzer()\n",
        "\n",
        "  sentiment_score_list = []\n",
        "  sentiment_label_list = []\n",
        "\n",
        "  for i in data.values.tolist():\n",
        "    #if type(i) == \"float\":\n",
        "      #print(i)\n",
        "      #continue\n",
        "      sentiment_score = analyser.polarity_scores(i)\n",
        "\n",
        "      if sentiment_score['compound'] >= 0.05:\n",
        "          sentiment_score_list.append(sentiment_score['compound'])\n",
        "          sentiment_label_list.append('Positive')\n",
        "      elif sentiment_score['compound'] > -0.05 and sentiment_score['compound'] < 0.05:\n",
        "          sentiment_score_list.append(sentiment_score['compound'])\n",
        "          sentiment_label_list.append('Neutral')\n",
        "      elif sentiment_score['compound'] <= -0.05:\n",
        "          sentiment_score_list.append(sentiment_score['compound'])\n",
        "          sentiment_label_list.append('Negative')\n",
        "  data=pd.DataFrame(data)\n",
        "  data['sentiment'] = sentiment_label_list\n",
        "  data['sentiment score'] = sentiment_score_list\n",
        "\n",
        "  return data\n"
      ],
      "execution_count": null,
      "outputs": []
    },
    {
      "cell_type": "code",
      "metadata": {
        "id": "EPWRxLD_2g_b"
      },
      "source": [
        "#use cat output to label each review with one aspect, \n",
        "#merge with sentiment score to see the difference between genre/games\n",
        "def merge_plot_aspect_sentiment(df_sentiment,df_aspect):\n",
        "  df_merged=pd.concat((df_sentiment,df_aspect),axis=1)\n",
        "  df_merged.columns=['text','sentiment', 'sentiment score','aspect']\n",
        "  return df_merged"
      ],
      "execution_count": null,
      "outputs": []
    },
    {
      "cell_type": "code",
      "metadata": {
        "id": "S2EfHHicu5Nc",
        "colab": {
          "base_uri": "https://localhost:8080/",
          "height": 370
        },
        "outputId": "604ccff6-3203-4bca-9746-60e3f5dfdc20"
      },
      "source": [
        "fg_df_sentiment=sentiment_analyzer(fg_df_text)"
      ],
      "execution_count": null,
      "outputs": [
        {
          "output_type": "error",
          "ename": "KeyboardInterrupt",
          "evalue": "ignored",
          "traceback": [
            "\u001b[0;31m---------------------------------------------------------------------------\u001b[0m",
            "\u001b[0;31mKeyboardInterrupt\u001b[0m                         Traceback (most recent call last)",
            "\u001b[0;32m<ipython-input-250-cf684cc92b69>\u001b[0m in \u001b[0;36m<module>\u001b[0;34m()\u001b[0m\n\u001b[0;32m----> 1\u001b[0;31m \u001b[0mfg_df_sentiment\u001b[0m\u001b[0;34m=\u001b[0m\u001b[0msentiment_analyzer\u001b[0m\u001b[0;34m(\u001b[0m\u001b[0mfg_df_text\u001b[0m\u001b[0;34m)\u001b[0m\u001b[0;34m\u001b[0m\u001b[0;34m\u001b[0m\u001b[0m\n\u001b[0m",
            "\u001b[0;32m<ipython-input-207-17ba29dda1ed>\u001b[0m in \u001b[0;36msentiment_analyzer\u001b[0;34m(data)\u001b[0m\n\u001b[1;32m      9\u001b[0m       \u001b[0;31m#print(i)\u001b[0m\u001b[0;34m\u001b[0m\u001b[0;34m\u001b[0m\u001b[0;34m\u001b[0m\u001b[0m\n\u001b[1;32m     10\u001b[0m       \u001b[0;31m#continue\u001b[0m\u001b[0;34m\u001b[0m\u001b[0;34m\u001b[0m\u001b[0;34m\u001b[0m\u001b[0m\n\u001b[0;32m---> 11\u001b[0;31m       \u001b[0msentiment_score\u001b[0m \u001b[0;34m=\u001b[0m \u001b[0manalyser\u001b[0m\u001b[0;34m.\u001b[0m\u001b[0mpolarity_scores\u001b[0m\u001b[0;34m(\u001b[0m\u001b[0mi\u001b[0m\u001b[0;34m)\u001b[0m\u001b[0;34m\u001b[0m\u001b[0;34m\u001b[0m\u001b[0m\n\u001b[0m\u001b[1;32m     12\u001b[0m \u001b[0;34m\u001b[0m\u001b[0m\n\u001b[1;32m     13\u001b[0m       \u001b[0;32mif\u001b[0m \u001b[0msentiment_score\u001b[0m\u001b[0;34m[\u001b[0m\u001b[0;34m'compound'\u001b[0m\u001b[0;34m]\u001b[0m \u001b[0;34m>=\u001b[0m \u001b[0;36m0.05\u001b[0m\u001b[0;34m:\u001b[0m\u001b[0;34m\u001b[0m\u001b[0;34m\u001b[0m\u001b[0m\n",
            "\u001b[0;32m/usr/local/lib/python3.6/dist-packages/vaderSentiment/vaderSentiment.py\u001b[0m in \u001b[0;36mpolarity_scores\u001b[0;34m(self, text)\u001b[0m\n\u001b[1;32m    269\u001b[0m             \u001b[0msentiments\u001b[0m \u001b[0;34m=\u001b[0m \u001b[0mself\u001b[0m\u001b[0;34m.\u001b[0m\u001b[0msentiment_valence\u001b[0m\u001b[0;34m(\u001b[0m\u001b[0mvalence\u001b[0m\u001b[0;34m,\u001b[0m \u001b[0msentitext\u001b[0m\u001b[0;34m,\u001b[0m \u001b[0mitem\u001b[0m\u001b[0;34m,\u001b[0m \u001b[0mi\u001b[0m\u001b[0;34m,\u001b[0m \u001b[0msentiments\u001b[0m\u001b[0;34m)\u001b[0m\u001b[0;34m\u001b[0m\u001b[0;34m\u001b[0m\u001b[0m\n\u001b[1;32m    270\u001b[0m \u001b[0;34m\u001b[0m\u001b[0m\n\u001b[0;32m--> 271\u001b[0;31m         \u001b[0msentiments\u001b[0m \u001b[0;34m=\u001b[0m \u001b[0mself\u001b[0m\u001b[0;34m.\u001b[0m\u001b[0m_but_check\u001b[0m\u001b[0;34m(\u001b[0m\u001b[0mwords_and_emoticons\u001b[0m\u001b[0;34m,\u001b[0m \u001b[0msentiments\u001b[0m\u001b[0;34m)\u001b[0m\u001b[0;34m\u001b[0m\u001b[0;34m\u001b[0m\u001b[0m\n\u001b[0m\u001b[1;32m    272\u001b[0m \u001b[0;34m\u001b[0m\u001b[0m\n\u001b[1;32m    273\u001b[0m         \u001b[0mvalence_dict\u001b[0m \u001b[0;34m=\u001b[0m \u001b[0mself\u001b[0m\u001b[0;34m.\u001b[0m\u001b[0mscore_valence\u001b[0m\u001b[0;34m(\u001b[0m\u001b[0msentiments\u001b[0m\u001b[0;34m,\u001b[0m \u001b[0mtext\u001b[0m\u001b[0;34m)\u001b[0m\u001b[0;34m\u001b[0m\u001b[0;34m\u001b[0m\u001b[0m\n",
            "\u001b[0;32m/usr/local/lib/python3.6/dist-packages/vaderSentiment/vaderSentiment.py\u001b[0m in \u001b[0;36m_but_check\u001b[0;34m(words_and_emoticons, sentiments)\u001b[0m\n\u001b[1;32m    332\u001b[0m     \u001b[0;32mdef\u001b[0m \u001b[0m_but_check\u001b[0m\u001b[0;34m(\u001b[0m\u001b[0mwords_and_emoticons\u001b[0m\u001b[0;34m,\u001b[0m \u001b[0msentiments\u001b[0m\u001b[0;34m)\u001b[0m\u001b[0;34m:\u001b[0m\u001b[0;34m\u001b[0m\u001b[0;34m\u001b[0m\u001b[0m\n\u001b[1;32m    333\u001b[0m         \u001b[0;31m# check for modification in sentiment due to contrastive conjunction 'but'\u001b[0m\u001b[0;34m\u001b[0m\u001b[0;34m\u001b[0m\u001b[0;34m\u001b[0m\u001b[0m\n\u001b[0;32m--> 334\u001b[0;31m         \u001b[0mwords_and_emoticons_lower\u001b[0m \u001b[0;34m=\u001b[0m \u001b[0;34m[\u001b[0m\u001b[0mstr\u001b[0m\u001b[0;34m(\u001b[0m\u001b[0mw\u001b[0m\u001b[0;34m)\u001b[0m\u001b[0;34m.\u001b[0m\u001b[0mlower\u001b[0m\u001b[0;34m(\u001b[0m\u001b[0;34m)\u001b[0m \u001b[0;32mfor\u001b[0m \u001b[0mw\u001b[0m \u001b[0;32min\u001b[0m \u001b[0mwords_and_emoticons\u001b[0m\u001b[0;34m]\u001b[0m\u001b[0;34m\u001b[0m\u001b[0;34m\u001b[0m\u001b[0m\n\u001b[0m\u001b[1;32m    335\u001b[0m         \u001b[0;32mif\u001b[0m \u001b[0;34m'but'\u001b[0m \u001b[0;32min\u001b[0m \u001b[0mwords_and_emoticons_lower\u001b[0m\u001b[0;34m:\u001b[0m\u001b[0;34m\u001b[0m\u001b[0;34m\u001b[0m\u001b[0m\n\u001b[1;32m    336\u001b[0m             \u001b[0mbi\u001b[0m \u001b[0;34m=\u001b[0m \u001b[0mwords_and_emoticons_lower\u001b[0m\u001b[0;34m.\u001b[0m\u001b[0mindex\u001b[0m\u001b[0;34m(\u001b[0m\u001b[0;34m'but'\u001b[0m\u001b[0;34m)\u001b[0m\u001b[0;34m\u001b[0m\u001b[0;34m\u001b[0m\u001b[0m\n",
            "\u001b[0;32m/usr/local/lib/python3.6/dist-packages/vaderSentiment/vaderSentiment.py\u001b[0m in \u001b[0;36m<listcomp>\u001b[0;34m(.0)\u001b[0m\n\u001b[1;32m    332\u001b[0m     \u001b[0;32mdef\u001b[0m \u001b[0m_but_check\u001b[0m\u001b[0;34m(\u001b[0m\u001b[0mwords_and_emoticons\u001b[0m\u001b[0;34m,\u001b[0m \u001b[0msentiments\u001b[0m\u001b[0;34m)\u001b[0m\u001b[0;34m:\u001b[0m\u001b[0;34m\u001b[0m\u001b[0;34m\u001b[0m\u001b[0m\n\u001b[1;32m    333\u001b[0m         \u001b[0;31m# check for modification in sentiment due to contrastive conjunction 'but'\u001b[0m\u001b[0;34m\u001b[0m\u001b[0;34m\u001b[0m\u001b[0;34m\u001b[0m\u001b[0m\n\u001b[0;32m--> 334\u001b[0;31m         \u001b[0mwords_and_emoticons_lower\u001b[0m \u001b[0;34m=\u001b[0m \u001b[0;34m[\u001b[0m\u001b[0mstr\u001b[0m\u001b[0;34m(\u001b[0m\u001b[0mw\u001b[0m\u001b[0;34m)\u001b[0m\u001b[0;34m.\u001b[0m\u001b[0mlower\u001b[0m\u001b[0;34m(\u001b[0m\u001b[0;34m)\u001b[0m \u001b[0;32mfor\u001b[0m \u001b[0mw\u001b[0m \u001b[0;32min\u001b[0m \u001b[0mwords_and_emoticons\u001b[0m\u001b[0;34m]\u001b[0m\u001b[0;34m\u001b[0m\u001b[0;34m\u001b[0m\u001b[0m\n\u001b[0m\u001b[1;32m    335\u001b[0m         \u001b[0;32mif\u001b[0m \u001b[0;34m'but'\u001b[0m \u001b[0;32min\u001b[0m \u001b[0mwords_and_emoticons_lower\u001b[0m\u001b[0;34m:\u001b[0m\u001b[0;34m\u001b[0m\u001b[0;34m\u001b[0m\u001b[0m\n\u001b[1;32m    336\u001b[0m             \u001b[0mbi\u001b[0m \u001b[0;34m=\u001b[0m \u001b[0mwords_and_emoticons_lower\u001b[0m\u001b[0;34m.\u001b[0m\u001b[0mindex\u001b[0m\u001b[0;34m(\u001b[0m\u001b[0;34m'but'\u001b[0m\u001b[0;34m)\u001b[0m\u001b[0;34m\u001b[0m\u001b[0;34m\u001b[0m\u001b[0m\n",
            "\u001b[0;31mKeyboardInterrupt\u001b[0m: "
          ]
        }
      ]
    },
    {
      "cell_type": "code",
      "metadata": {
        "id": "MDr1UJg0-n1U"
      },
      "source": [
        "csgo_df_sentiment=sentiment_analyzer(csgo_df_text)"
      ],
      "execution_count": null,
      "outputs": []
    },
    {
      "cell_type": "code",
      "metadata": {
        "id": "ES6TSQIqMmVt",
        "colab": {
          "base_uri": "https://localhost:8080/",
          "height": 206
        },
        "outputId": "f68166e3-37a2-487e-b43d-557eaa7fec6e"
      },
      "source": [
        "csgo_df_sentiment.head()"
      ],
      "execution_count": null,
      "outputs": [
        {
          "output_type": "execute_result",
          "data": {
            "text/html": [
              "<div>\n",
              "<style scoped>\n",
              "    .dataframe tbody tr th:only-of-type {\n",
              "        vertical-align: middle;\n",
              "    }\n",
              "\n",
              "    .dataframe tbody tr th {\n",
              "        vertical-align: top;\n",
              "    }\n",
              "\n",
              "    .dataframe thead th {\n",
              "        text-align: right;\n",
              "    }\n",
              "</style>\n",
              "<table border=\"1\" class=\"dataframe\">\n",
              "  <thead>\n",
              "    <tr style=\"text-align: right;\">\n",
              "      <th></th>\n",
              "      <th>cleaned</th>\n",
              "      <th>sentiment</th>\n",
              "      <th>sentiment score</th>\n",
              "    </tr>\n",
              "  </thead>\n",
              "  <tbody>\n",
              "    <tr>\n",
              "      <th>0</th>\n",
              "      <td>nice</td>\n",
              "      <td>Positive</td>\n",
              "      <td>0.4215</td>\n",
              "    </tr>\n",
              "    <tr>\n",
              "      <th>1</th>\n",
              "      <td>ok game</td>\n",
              "      <td>Positive</td>\n",
              "      <td>0.2960</td>\n",
              "    </tr>\n",
              "    <tr>\n",
              "      <th>2</th>\n",
              "      <td>eish</td>\n",
              "      <td>Neutral</td>\n",
              "      <td>0.0000</td>\n",
              "    </tr>\n",
              "    <tr>\n",
              "      <th>3</th>\n",
              "      <td>cyka blyat rush don stop good for learning rus...</td>\n",
              "      <td>Positive</td>\n",
              "      <td>0.1779</td>\n",
              "    </tr>\n",
              "    <tr>\n",
              "      <th>4</th>\n",
              "      <td>gud game learn russian really quick very nice ...</td>\n",
              "      <td>Positive</td>\n",
              "      <td>0.7036</td>\n",
              "    </tr>\n",
              "  </tbody>\n",
              "</table>\n",
              "</div>"
            ],
            "text/plain": [
              "                                             cleaned sentiment  \\\n",
              "0                                               nice  Positive   \n",
              "1                                            ok game  Positive   \n",
              "2                                               eish   Neutral   \n",
              "3  cyka blyat rush don stop good for learning rus...  Positive   \n",
              "4  gud game learn russian really quick very nice ...  Positive   \n",
              "\n",
              "   sentiment score  \n",
              "0           0.4215  \n",
              "1           0.2960  \n",
              "2           0.0000  \n",
              "3           0.1779  \n",
              "4           0.7036  "
            ]
          },
          "metadata": {
            "tags": []
          },
          "execution_count": 211
        }
      ]
    },
    {
      "cell_type": "code",
      "metadata": {
        "id": "8OJlLggquusu"
      },
      "source": [
        "df_pred_fg=pd.read_csv(\"/content/pred_result_fg_final_v2.txt\",header=None,sep='\\n')"
      ],
      "execution_count": null,
      "outputs": []
    },
    {
      "cell_type": "code",
      "metadata": {
        "id": "W6veM1wZ9yG8"
      },
      "source": [
        "df_pred_csgo=pd.read_csv(\"/content/pred_result_csgo_final_v2.txt\",header=None,sep='\\n')"
      ],
      "execution_count": null,
      "outputs": []
    },
    {
      "cell_type": "code",
      "metadata": {
        "id": "QLC-f0mSBAC_"
      },
      "source": [
        "#{'tactic', 'game', 'community', 'design', 'feeling'}\n",
        "#  0          1         2           3        4\n",
        "df_merged_fg=merge_plot_aspect_sentiment(fg_df_sentiment,df_pred_fg)"
      ],
      "execution_count": null,
      "outputs": []
    },
    {
      "cell_type": "code",
      "metadata": {
        "id": "eKHnWgQ2lJ_d"
      },
      "source": [
        "#{'design', 'community', 'feeling', 'game', 'tactic'}\n",
        "#  0            1           2          3        4\n",
        "df_merged_csgo=merge_plot_aspect_sentiment(csgo_df_sentiment,df_pred_csgo)"
      ],
      "execution_count": null,
      "outputs": []
    },
    {
      "cell_type": "code",
      "metadata": {
        "id": "dm1RiSKMu5QK"
      },
      "source": [
        "def label_plot_aspect(data,map_dict):\n",
        "  data_clean=data.dropna()\n",
        "  map_dict = map_dict \n",
        "  data_clean[\"aspect_label\"] = data_clean[\"aspect\"].map(map_dict)\n",
        "  ax = sns.countplot(x=\"aspect_label\",hue =\"sentiment\",data=data_clean, palette=\"husl\",hue_order=['Positive','Neutral','Negative'], order=['game','tactic','design','feeling','community'])\n",
        "  ax.set_title('Sentiment of Aspects')\n",
        "\n",
        "  data_group_aspect=data_clean.groupby(['aspect_label'])['sentiment'].value_counts()\n",
        "  \n",
        "  data_group_aspect_new = pd.DataFrame(data_group_aspect.reset_index(name='count'))\n",
        "  data_group_aspect_new['percent'] = data_group_aspect_new['count']/sum(data_group_aspect_new['count'])\n",
        "  print(data_group_aspect_new)\n",
        "  return data_clean"
      ],
      "execution_count": null,
      "outputs": []
    },
    {
      "cell_type": "code",
      "metadata": {
        "id": "giTjA2BHAU_5",
        "colab": {
          "base_uri": "https://localhost:8080/",
          "height": 725
        },
        "outputId": "14039f05-4492-4784-84d6-702b541b84df"
      },
      "source": [
        "print(\"FG: Game Review aspect based sentiment analysis\")\n",
        "data_fg_clean=label_plot_aspect(df_merged_fg,{0:'tactic', 1:'game', 2:'community', 3:'design', 4:'feeling'})\n",
        "#ax = sns.countplot(x=\"aspect_label\",hue = \"sentiment\",data=data_fg_clean, palette=[\"C1\", \"C0\", \"k\"],hue_order=['Positive','Neutral','Negative'])\n"
      ],
      "execution_count": null,
      "outputs": [
        {
          "output_type": "stream",
          "text": [
            "FG: Game Review aspect based sentiment analysis\n"
          ],
          "name": "stdout"
        },
        {
          "output_type": "stream",
          "text": [
            "/usr/local/lib/python3.6/dist-packages/ipykernel_launcher.py:4: SettingWithCopyWarning: \n",
            "A value is trying to be set on a copy of a slice from a DataFrame.\n",
            "Try using .loc[row_indexer,col_indexer] = value instead\n",
            "\n",
            "See the caveats in the documentation: https://pandas.pydata.org/pandas-docs/stable/user_guide/indexing.html#returning-a-view-versus-a-copy\n",
            "  after removing the cwd from sys.path.\n"
          ],
          "name": "stderr"
        },
        {
          "output_type": "stream",
          "text": [
            "   aspect_label sentiment  count   percent\n",
            "0     community  Positive   3035  0.035649\n",
            "1     community   Neutral    767  0.009009\n",
            "2     community  Negative    649  0.007623\n",
            "3        design  Positive  14712  0.172808\n",
            "4        design   Neutral   3909  0.045915\n",
            "5        design  Negative   2986  0.035074\n",
            "6       feeling  Positive   8206  0.096388\n",
            "7       feeling   Neutral   2226  0.026147\n",
            "8       feeling  Negative   1765  0.020732\n",
            "9          game  Positive  16356  0.192118\n",
            "10         game   Neutral   4550  0.053445\n",
            "11         game  Negative   3455  0.040583\n",
            "12       tactic  Positive  15280  0.179480\n",
            "13       tactic   Neutral   4013  0.047137\n",
            "14       tactic  Negative   3226  0.037893\n"
          ],
          "name": "stdout"
        },
        {
          "output_type": "display_data",
          "data": {
            "image/png": "[encoded data removed]",
            "text/plain": [
              "<Figure size 432x288 with 1 Axes>"
            ]
          },
          "metadata": {
            "tags": [],
            "needs_background": "light"
          }
        }
      ]
    },
    {
      "cell_type": "code",
      "metadata": {
        "id": "Lvr9L2ykAVDL",
        "colab": {
          "base_uri": "https://localhost:8080/",
          "height": 725
        },
        "outputId": "59761631-18e3-4ed3-a083-72b700ec5597"
      },
      "source": [
        "print(\"CSGO: Game Review aspect based sentiment analysis\")\n",
        "data_csgo_clean=label_plot_aspect(df_merged_csgo,{4:'tactic', 3:'game', 1:'community', 0:'design', 2:'feeling'})\n"
      ],
      "execution_count": null,
      "outputs": [
        {
          "output_type": "stream",
          "text": [
            "CSGO: Game Review aspect based sentiment analysis\n"
          ],
          "name": "stdout"
        },
        {
          "output_type": "stream",
          "text": [
            "/usr/local/lib/python3.6/dist-packages/ipykernel_launcher.py:4: SettingWithCopyWarning: \n",
            "A value is trying to be set on a copy of a slice from a DataFrame.\n",
            "Try using .loc[row_indexer,col_indexer] = value instead\n",
            "\n",
            "See the caveats in the documentation: https://pandas.pydata.org/pandas-docs/stable/user_guide/indexing.html#returning-a-view-versus-a-copy\n",
            "  after removing the cwd from sys.path.\n"
          ],
          "name": "stderr"
        },
        {
          "output_type": "stream",
          "text": [
            "   aspect_label sentiment  count   percent\n",
            "0     community  Positive   1182  0.010611\n",
            "1     community   Neutral    502  0.004506\n",
            "2     community  Negative    262  0.002352\n",
            "3        design  Positive  28578  0.256540\n",
            "4        design   Neutral  11987  0.107605\n",
            "5        design  Negative   6540  0.058708\n",
            "6       feeling  Positive   3909  0.035090\n",
            "7       feeling   Neutral   1636  0.014686\n",
            "8       feeling  Negative    904  0.008115\n",
            "9          game  Positive  16460  0.147758\n",
            "10         game   Neutral   7096  0.063700\n",
            "11         game  Negative   3881  0.034839\n",
            "12       tactic  Positive  17230  0.154671\n",
            "13       tactic   Neutral   7262  0.065190\n",
            "14       tactic  Negative   3969  0.035629\n"
          ],
          "name": "stdout"
        },
        {
          "output_type": "display_data",
          "data": {
            "image/png": "[encoded data removed]",
            "text/plain": [
              "<Figure size 432x288 with 1 Axes>"
            ]
          },
          "metadata": {
            "tags": [],
            "needs_background": "light"
          }
        }
      ]
    },
    {
      "cell_type": "code",
      "metadata": {
        "id": "Nxx3YiZpAVF3"
      },
      "source": [
        ""
      ],
      "execution_count": null,
      "outputs": []
    }
  ]
}