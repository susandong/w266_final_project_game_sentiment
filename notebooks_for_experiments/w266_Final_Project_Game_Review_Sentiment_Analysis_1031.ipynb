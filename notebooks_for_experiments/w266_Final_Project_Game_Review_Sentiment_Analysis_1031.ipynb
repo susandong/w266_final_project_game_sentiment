{
  "nbformat": 4,
  "nbformat_minor": 0,
  "metadata": {
    "colab": {
      "name": "w266_Final Project_Game Review Sentiment Analysis_1031.ipynb",
      "provenance": [],
      "include_colab_link": true
    },
    "kernelspec": {
      "name": "python3",
      "display_name": "Python 3"
    },
    "accelerator": "GPU"
  },
  "cells": [
    {
      "cell_type": "markdown",
      "metadata": {
        "id": "view-in-github",
        "colab_type": "text"
      },
      "source": [
        "<a href=\"https://colab.research.google.com/github/susandong/w266_final_project_game_sentiment/blob/master/w266_Final_Project_Game_Review_Sentiment_Analysis_1031.ipynb\" target=\"_parent\"><img src=\"https://colab.research.google.com/assets/colab-badge.svg\" alt=\"Open In Colab\"/></a>"
      ]
    },
    {
      "cell_type": "markdown",
      "metadata": {
        "id": "DrstJ8hJNJmO"
      },
      "source": [
        "# Final Project: Game Review Sentiment Analysis Over Time\n",
        "## Research Question: \n",
        "* Can we use sentiment analysis score to predict the active user base for video games over time\n",
        "\n",
        "## Dataset: \n",
        "* Game Review: twitter/reddit/discord/steam reviews\n",
        "* active user base: steam\n",
        "\n",
        "## Algorithm: \n",
        "* Baseline(logistic Regression); \n",
        "* Transformer(Elmo/Bert)\n"
      ]
    },
    {
      "cell_type": "code",
      "metadata": {
        "id": "yW01NUndQd3C"
      },
      "source": [
        "#Load libraries\n",
        "import pandas as pd\n",
        "import nltk\n",
        "import numpy as np\n",
        "import matplotlib.pyplot as plt\n",
        "import seaborn as sns"
      ],
      "execution_count": 2,
      "outputs": []
    },
    {
      "cell_type": "code",
      "metadata": {
        "id": "kFboN7cwMM6V",
        "outputId": "175efa90-c7f6-410c-f1ac-425666e9690b",
        "colab": {
          "base_uri": "https://localhost:8080/"
        }
      },
      "source": [
        "\"\"\" Download Data: There are 4 games with review data\n",
        "Fall Guys (fg)\n",
        "PlayerUnknown Battlegrounds (pubg)\n",
        "Dota 2 (dota2)\n",
        "Counterstrike Source: Go (csgo)\n",
        "\n",
        "Review data has the following columns:\n",
        "app: ID for the game\n",
        "useful: how many users voted the review as useful\n",
        "funny: how many users voted the review as funny\n",
        "username: username of the person who wrote the review\n",
        "games_owned: how many games the reviewer owns on Steam\n",
        "num_reviews: how many reviews the reviewer has written on Steam\n",
        "recommend: 1 for recommend (thumbs up), -1 for do not recommend (thumbs down)\n",
        "hours_played: number of hours the reviewer played before writing the review\n",
        "date: date review was written\n",
        "text: text of the review\n",
        "\"\"\"\n",
        "#Fall Guys\n",
        "fg_url = 'https://raw.githubusercontent.com/susandong/w266_final_project_game_sentiment/master/data/fallguys_reviews.csv'\n",
        "fg_df = pd.read_csv(fg_url, error_bad_lines=False)\n",
        "fg_df = fg_df.dropna()\n",
        "\n",
        "#CS: Go\n",
        "csgo_url = 'https://raw.githubusercontent.com/susandong/w266_final_project_game_sentiment/master/data/csgo_reviews.csv'\n",
        "csgo_df = pd.read_csv(csgo_url, error_bad_lines=False)\n",
        "csgo_df = csgo_df.dropna()\n",
        "\n",
        "#PUBG\n",
        "pubg_url = 'https://raw.githubusercontent.com/susandong/w266_final_project_game_sentiment/master/data/pubg_reviews.csv'\n",
        "pubg_df = pd.read_csv(pubg_url, error_bad_lines=False)\n",
        "pubg_df = pubg_df.dropna()\n",
        "\n",
        "#Communication games\n",
        "comm_url = 'https://raw.githubusercontent.com/susandong/w266_final_project_game_sentiment/master/data/comm_reviews.csv'\n",
        "comm_df = pd.read_csv(comm_url, error_bad_lines=False)\n",
        "comm_df = comm_df.dropna()\n",
        "\n",
        "#Sports games\n",
        "sports_url = 'https://raw.githubusercontent.com/susandong/w266_final_project_game_sentiment/master/data/sports_reviews.csv'\n",
        "sports_df = pd.read_csv(sports_url, error_bad_lines=False)\n",
        "sports_df = sports_df.dropna()\n",
        "\n",
        "#FPS games\n",
        "fps_url = 'https://raw.githubusercontent.com/susandong/w266_final_project_game_sentiment/master/data/fps_reviews.csv'\n",
        "fps_df = pd.read_csv(fps_url, error_bad_lines=False)\n",
        "fps_df = fps_df.dropna()"
      ],
      "execution_count": 3,
      "outputs": [
        {
          "output_type": "stream",
          "text": [
            "/usr/local/lib/python3.6/dist-packages/IPython/core/interactiveshell.py:2718: DtypeWarning: Columns (3,8,9) have mixed types.Specify dtype option on import or set low_memory=False.\n",
            "  interactivity=interactivity, compiler=compiler, result=result)\n"
          ],
          "name": "stderr"
        }
      ]
    },
    {
      "cell_type": "code",
      "metadata": {
        "id": "agbZIEqVXgVQ"
      },
      "source": [
        "from nltk.tokenize import RegexpTokenizer\n",
        "def remove_blankrow(df,column):\n",
        "  tokenizer = RegexpTokenizer(r'\\w+')\n",
        "  df['lens'] =[len(tokenizer.tokenize(utterance)) for utterance in df[column]]\n",
        "  df_clean=df[df['lens'] !=0]\n",
        "  return df_clean"
      ],
      "execution_count": 16,
      "outputs": []
    },
    {
      "cell_type": "code",
      "metadata": {
        "id": "Fq_wR2DmOp7T",
        "outputId": "6ca6a51f-af3b-43de-a71d-ee47d85b8359",
        "colab": {
          "base_uri": "https://localhost:8080/"
        }
      },
      "source": [
        "# Data Preprocessing\n",
        "!pip install unidecode\n",
        "import unidecode\n",
        "import re\n",
        "from nltk.tokenize import TweetTokenizer\n",
        "from nltk.corpus import stopwords\n",
        "from nltk.stem import PorterStemmer\n",
        "#from nltk.stem import WordNetLemmatizer\n",
        "nltk.download('stopwords')\n",
        "\n",
        "tknzr = TweetTokenizer()\n",
        "stop_words = set(stopwords.words('english'))\n",
        "stemmer = PorterStemmer()\n",
        "#lemma = WordNetLemmatizer()\n",
        "\n",
        "#Convert accented characters\n",
        "def remove_accents(text):\n",
        "  try:\n",
        "    text = unidecode.unidecode(text)\n",
        "  except:\n",
        "    pass\n",
        "  return text\n",
        "\n",
        "#Remove digits and punctuation\n",
        "def remove_nonletters(text):\n",
        "  try:\n",
        "    #Remove digits AND punctuation\n",
        "    text = re.sub('[^a-zA-Z]', ' ', text)\n",
        "    \n",
        "    #Remove just digits that are by themselves\n",
        "    #text = re.sub('^\\d+\\s|\\s\\d+\\s|\\s\\d+$', ' ', text)\n",
        "  except:\n",
        "    pass\n",
        "  return text\n",
        "\n",
        "\n",
        "#Use Tweet Tokenizer for some built-in emoji support\n",
        "def tweet_tokenization(text):\n",
        "  try:\n",
        "    return tknzr.tokenize(text)\n",
        "  except:\n",
        "    pass\n",
        "\n",
        "def remove_stopwords(token):\n",
        "  try:\n",
        "    return [item for item in token if item not in stop_words]\n",
        "  except:\n",
        "    pass\n",
        "\n",
        "def remove_stemmer(token):\n",
        "  try:\n",
        "    return [stemmer.stem(i) for i in token]\n",
        "  except:\n",
        "    pass\n",
        "\n",
        "def remove_lemmatizer(token):\n",
        "  try:\n",
        "    return [lemma.lemmatize(word=w, pow='v') for w in token]\n",
        "  except:\n",
        "    pass\n",
        "  \n",
        "def remove_shortwords(token):\n",
        "  try:\n",
        "    return [i for i in token if len(i) > 1]\n",
        "  except:\n",
        "    pass\n",
        "\n",
        "def token_to_string(listTokens):\n",
        "  return ' '.join(listTokens)\n",
        "\n",
        "#Process text from dataframe. df = dataframe to clean, text = name of column with text\n",
        "def process_text(df, text):  \n",
        "  #Create new column for cleaned text\n",
        "  df['cleaned'] = df[text]\n",
        "\n",
        "  #Lower case all text\n",
        "  df['cleaned'] = df['cleaned'].str.lower()\n",
        "\n",
        "  #Clean URLs\n",
        "  df['cleaned'] = df['cleaned'].str.replace('http\\S+|www.\\S+', '', case=False)\n",
        "\n",
        "  #Remove accents from text\n",
        "  #df['cleaned'] = df['cleaned'].apply(remove_accents)\n",
        "\n",
        "  #Remove numbers and punctuation from text\n",
        "  df['cleaned'] = df['cleaned'].apply(remove_nonletters)\n",
        "  \n",
        "  #Tokenize\n",
        "  df['cleaned'] = df['cleaned'].apply(tweet_tokenization)\n",
        "\n",
        "  #Remove stopwords\n",
        "  #df['cleaned'] = df['cleaned'].apply(remove_stopwords)\n",
        "  \n",
        "  #Remove short words\n",
        "  df['cleaned'] = df['cleaned'].apply(remove_shortwords)\n",
        "\n",
        "  #Stemming - can decide to use or not\n",
        "  #df['cleaned'] = df['cleaned'].apply(remove_stemmer)\n",
        "\n",
        "  #Convert tokens back to string\n",
        "  df['cleaned'] = df['cleaned'].apply(token_to_string)\n",
        "\n",
        "  #Remove blankrows\n",
        "  df = remove_blankrow(df, 'cleaned')\n",
        "\n",
        "  #Remove overly long reviews\n",
        "  df =df[df.lens<(df['lens'].quantile(0.90))]\n",
        "\n",
        "  #Change negative review from -1 to 0\n",
        "  df['recommend'] = df['recommend'].replace([-1],0)\n",
        "\n",
        "  #Use only recommend and cleaned columns\n",
        "  df = df[[\"recommend\",\"cleaned\"]]\n"
      ],
      "execution_count": 18,
      "outputs": [
        {
          "output_type": "stream",
          "text": [
            "Requirement already satisfied: unidecode in /usr/local/lib/python3.6/dist-packages (1.1.1)\n",
            "[nltk_data] Downloading package stopwords to /root/nltk_data...\n",
            "[nltk_data]   Package stopwords is already up-to-date!\n"
          ],
          "name": "stdout"
        }
      ]
    },
    {
      "cell_type": "code",
      "metadata": {
        "id": "ahL3k7O7XGZ-"
      },
      "source": [
        "#preprocess all the datasets for all 3 games\n",
        "process_text(fg_df, 'text')\n",
        "process_text(csgo_df, 'text')\n",
        "process_text(pubg_df, 'text')\n",
        "process_text(comm_df, 'text')\n",
        "process_text(sports_df, 'text')\n",
        "process_text(fps_df, 'text')"
      ],
      "execution_count": 19,
      "outputs": []
    },
    {
      "cell_type": "code",
      "metadata": {
        "id": "vCJP3eYe5e0-",
        "outputId": "aa94c99e-3945-42d8-894d-fd6238856fcd",
        "colab": {
          "base_uri": "https://localhost:8080/",
          "height": 844
        }
      },
      "source": [
        "comm_df"
      ],
      "execution_count": 20,
      "outputs": [
        {
          "output_type": "execute_result",
          "data": {
            "text/html": [
              "<div>\n",
              "<style scoped>\n",
              "    .dataframe tbody tr th:only-of-type {\n",
              "        vertical-align: middle;\n",
              "    }\n",
              "\n",
              "    .dataframe tbody tr th {\n",
              "        vertical-align: top;\n",
              "    }\n",
              "\n",
              "    .dataframe thead th {\n",
              "        text-align: right;\n",
              "    }\n",
              "</style>\n",
              "<table border=\"1\" class=\"dataframe\">\n",
              "  <thead>\n",
              "    <tr style=\"text-align: right;\">\n",
              "      <th></th>\n",
              "      <th>app</th>\n",
              "      <th>useful</th>\n",
              "      <th>funny</th>\n",
              "      <th>username</th>\n",
              "      <th>games_owned</th>\n",
              "      <th>num_reviews</th>\n",
              "      <th>recommend</th>\n",
              "      <th>hours_played</th>\n",
              "      <th>date</th>\n",
              "      <th>text</th>\n",
              "      <th>cleaned</th>\n",
              "      <th>lens</th>\n",
              "    </tr>\n",
              "  </thead>\n",
              "  <tbody>\n",
              "    <tr>\n",
              "      <th>0</th>\n",
              "      <td>1211630</td>\n",
              "      <td>0</td>\n",
              "      <td>0</td>\n",
              "      <td>7.65612E+16</td>\n",
              "      <td>48</td>\n",
              "      <td>4</td>\n",
              "      <td>1</td>\n",
              "      <td>10.1</td>\n",
              "      <td>5 November, 2020</td>\n",
              "      <td>Pog</td>\n",
              "      <td>pog</td>\n",
              "      <td>1</td>\n",
              "    </tr>\n",
              "    <tr>\n",
              "      <th>1</th>\n",
              "      <td>1211630</td>\n",
              "      <td>0</td>\n",
              "      <td>0</td>\n",
              "      <td>vukand12</td>\n",
              "      <td>50</td>\n",
              "      <td>5</td>\n",
              "      <td>1</td>\n",
              "      <td>4.5</td>\n",
              "      <td>5 November, 2020</td>\n",
              "      <td>play at school if you can for amazing results</td>\n",
              "      <td>play at school if you can for amazing results</td>\n",
              "      <td>9</td>\n",
              "    </tr>\n",
              "    <tr>\n",
              "      <th>2</th>\n",
              "      <td>1211630</td>\n",
              "      <td>0</td>\n",
              "      <td>0</td>\n",
              "      <td>Miffelmesh</td>\n",
              "      <td>24</td>\n",
              "      <td>3</td>\n",
              "      <td>1</td>\n",
              "      <td>3.8</td>\n",
              "      <td>5 November, 2020</td>\n",
              "      <td>This is the first Jackbox Party Pack that I've...</td>\n",
              "      <td>this is the first jackbox party pack that ve p...</td>\n",
              "      <td>52</td>\n",
              "    </tr>\n",
              "    <tr>\n",
              "      <th>3</th>\n",
              "      <td>1211630</td>\n",
              "      <td>0</td>\n",
              "      <td>0</td>\n",
              "      <td>7.65612E+16</td>\n",
              "      <td>50</td>\n",
              "      <td>1</td>\n",
              "      <td>1</td>\n",
              "      <td>3.4</td>\n",
              "      <td>5 November, 2020</td>\n",
              "      <td>stan Talking Points</td>\n",
              "      <td>stan talking points</td>\n",
              "      <td>3</td>\n",
              "    </tr>\n",
              "    <tr>\n",
              "      <th>4</th>\n",
              "      <td>1211630</td>\n",
              "      <td>0</td>\n",
              "      <td>0</td>\n",
              "      <td>7.65612E+16</td>\n",
              "      <td>8</td>\n",
              "      <td>1</td>\n",
              "      <td>1</td>\n",
              "      <td>9.5</td>\n",
              "      <td>4 November, 2020</td>\n",
              "      <td>We play Champed Up a lot!  Good fun and the dr...</td>\n",
              "      <td>we play champed up lot good fun and the drawin...</td>\n",
              "      <td>43</td>\n",
              "    </tr>\n",
              "    <tr>\n",
              "      <th>...</th>\n",
              "      <td>...</td>\n",
              "      <td>...</td>\n",
              "      <td>...</td>\n",
              "      <td>...</td>\n",
              "      <td>...</td>\n",
              "      <td>...</td>\n",
              "      <td>...</td>\n",
              "      <td>...</td>\n",
              "      <td>...</td>\n",
              "      <td>...</td>\n",
              "      <td>...</td>\n",
              "      <td>...</td>\n",
              "    </tr>\n",
              "    <tr>\n",
              "      <th>93749</th>\n",
              "      <td>945360</td>\n",
              "      <td>0</td>\n",
              "      <td>0</td>\n",
              "      <td>7.65612E+16</td>\n",
              "      <td>3</td>\n",
              "      <td>1</td>\n",
              "      <td>1</td>\n",
              "      <td>38.5</td>\n",
              "      <td>29 October, 2020</td>\n",
              "      <td>great game for big brain people</td>\n",
              "      <td>great game for big brain people</td>\n",
              "      <td>6</td>\n",
              "    </tr>\n",
              "    <tr>\n",
              "      <th>93750</th>\n",
              "      <td>945360</td>\n",
              "      <td>0</td>\n",
              "      <td>0</td>\n",
              "      <td>1.23457E+28</td>\n",
              "      <td>204</td>\n",
              "      <td>3</td>\n",
              "      <td>1</td>\n",
              "      <td>61.0</td>\n",
              "      <td>29 October, 2020</td>\n",
              "      <td>Despite everything that is happening, this gam...</td>\n",
              "      <td>despite everything that is happening this game...</td>\n",
              "      <td>20</td>\n",
              "    </tr>\n",
              "    <tr>\n",
              "      <th>93751</th>\n",
              "      <td>945360</td>\n",
              "      <td>0</td>\n",
              "      <td>0</td>\n",
              "      <td>7.65612E+16</td>\n",
              "      <td>6</td>\n",
              "      <td>1</td>\n",
              "      <td>1</td>\n",
              "      <td>12.7</td>\n",
              "      <td>29 October, 2020</td>\n",
              "      <td>v good</td>\n",
              "      <td>good</td>\n",
              "      <td>1</td>\n",
              "    </tr>\n",
              "    <tr>\n",
              "      <th>93752</th>\n",
              "      <td>945360</td>\n",
              "      <td>0</td>\n",
              "      <td>0</td>\n",
              "      <td>7.65612E+16</td>\n",
              "      <td>3</td>\n",
              "      <td>1</td>\n",
              "      <td>1</td>\n",
              "      <td>69.6</td>\n",
              "      <td>29 October, 2020</td>\n",
              "      <td>Its really fun and can have great times with F...</td>\n",
              "      <td>its really fun and can have great times with f...</td>\n",
              "      <td>10</td>\n",
              "    </tr>\n",
              "    <tr>\n",
              "      <th>93753</th>\n",
              "      <td>945360</td>\n",
              "      <td>0</td>\n",
              "      <td>0</td>\n",
              "      <td>7.65612E+16</td>\n",
              "      <td>43</td>\n",
              "      <td>4</td>\n",
              "      <td>1</td>\n",
              "      <td>4.3</td>\n",
              "      <td>29 October, 2020</td>\n",
              "      <td>great game</td>\n",
              "      <td>great game</td>\n",
              "      <td>2</td>\n",
              "    </tr>\n",
              "  </tbody>\n",
              "</table>\n",
              "<p>93434 rows × 12 columns</p>\n",
              "</div>"
            ],
            "text/plain": [
              "           app  useful  ...                                            cleaned lens\n",
              "0      1211630       0  ...                                                pog    1\n",
              "1      1211630       0  ...      play at school if you can for amazing results    9\n",
              "2      1211630       0  ...  this is the first jackbox party pack that ve p...   52\n",
              "3      1211630       0  ...                                stan talking points    3\n",
              "4      1211630       0  ...  we play champed up lot good fun and the drawin...   43\n",
              "...        ...     ...  ...                                                ...  ...\n",
              "93749   945360       0  ...                    great game for big brain people    6\n",
              "93750   945360       0  ...  despite everything that is happening this game...   20\n",
              "93751   945360       0  ...                                               good    1\n",
              "93752   945360       0  ...  its really fun and can have great times with f...   10\n",
              "93753   945360       0  ...                                         great game    2\n",
              "\n",
              "[93434 rows x 12 columns]"
            ]
          },
          "metadata": {
            "tags": []
          },
          "execution_count": 20
        }
      ]
    },
    {
      "cell_type": "code",
      "metadata": {
        "id": "8I3A02R2XgMn",
        "outputId": "33025b8f-ae81-4ccf-8700-dd7f21672157",
        "colab": {
          "base_uri": "https://localhost:8080/",
          "height": 419
        }
      },
      "source": [
        "#concatenate all 3 games data to one large dataset\n",
        "all_df=pd.concat([fg_df,csgo_df,pubg_df])\n",
        "all_clean_df = all_df[[\"recommend\",\"cleaned\"]]\n",
        "comm_clean_df = comm_df[[\"recommend\",\"cleaned\"]]\n",
        "sports_clean_df = sports_df[[\"recommend\",\"cleaned\"]]\n",
        "fps_clean_df = fps_df[[\"recommend\",\"cleaned\"]]\n",
        "sports_clean_df"
      ],
      "execution_count": 10,
      "outputs": [
        {
          "output_type": "execute_result",
          "data": {
            "text/html": [
              "<div>\n",
              "<style scoped>\n",
              "    .dataframe tbody tr th:only-of-type {\n",
              "        vertical-align: middle;\n",
              "    }\n",
              "\n",
              "    .dataframe tbody tr th {\n",
              "        vertical-align: top;\n",
              "    }\n",
              "\n",
              "    .dataframe thead th {\n",
              "        text-align: right;\n",
              "    }\n",
              "</style>\n",
              "<table border=\"1\" class=\"dataframe\">\n",
              "  <thead>\n",
              "    <tr style=\"text-align: right;\">\n",
              "      <th></th>\n",
              "      <th>recommend</th>\n",
              "      <th>cleaned</th>\n",
              "    </tr>\n",
              "  </thead>\n",
              "  <tbody>\n",
              "    <tr>\n",
              "      <th>0</th>\n",
              "      <td>-1</td>\n",
              "      <td>what different vs the previous one more sweat</td>\n",
              "    </tr>\n",
              "    <tr>\n",
              "      <th>1</th>\n",
              "      <td>1</td>\n",
              "      <td>its on sale so dont mind it but if pay full pr...</td>\n",
              "    </tr>\n",
              "    <tr>\n",
              "      <th>2</th>\n",
              "      <td>1</td>\n",
              "      <td>sometimes question my life choices don buy thi...</td>\n",
              "    </tr>\n",
              "    <tr>\n",
              "      <th>3</th>\n",
              "      <td>-1</td>\n",
              "      <td></td>\n",
              "    </tr>\n",
              "    <tr>\n",
              "      <th>4</th>\n",
              "      <td>-1</td>\n",
              "      <td>in the trash</td>\n",
              "    </tr>\n",
              "    <tr>\n",
              "      <th>...</th>\n",
              "      <td>...</td>\n",
              "      <td>...</td>\n",
              "    </tr>\n",
              "    <tr>\n",
              "      <th>16835</th>\n",
              "      <td>-1</td>\n",
              "      <td>lots of improvement needed some third kits are...</td>\n",
              "    </tr>\n",
              "    <tr>\n",
              "      <th>16836</th>\n",
              "      <td>-1</td>\n",
              "      <td>game ever</td>\n",
              "    </tr>\n",
              "    <tr>\n",
              "      <th>16837</th>\n",
              "      <td>1</td>\n",
              "      <td>mean its pure cancer but good game</td>\n",
              "    </tr>\n",
              "    <tr>\n",
              "      <th>16838</th>\n",
              "      <td>-1</td>\n",
              "      <td>no</td>\n",
              "    </tr>\n",
              "    <tr>\n",
              "      <th>16839</th>\n",
              "      <td>1</td>\n",
              "      <td></td>\n",
              "    </tr>\n",
              "  </tbody>\n",
              "</table>\n",
              "<p>16755 rows × 2 columns</p>\n",
              "</div>"
            ],
            "text/plain": [
              "       recommend                                            cleaned\n",
              "0             -1      what different vs the previous one more sweat\n",
              "1              1  its on sale so dont mind it but if pay full pr...\n",
              "2              1  sometimes question my life choices don buy thi...\n",
              "3             -1                                                   \n",
              "4             -1                                       in the trash\n",
              "...          ...                                                ...\n",
              "16835         -1  lots of improvement needed some third kits are...\n",
              "16836         -1                                          game ever\n",
              "16837          1                 mean its pure cancer but good game\n",
              "16838         -1                                                 no\n",
              "16839          1                                                   \n",
              "\n",
              "[16755 rows x 2 columns]"
            ]
          },
          "metadata": {
            "tags": []
          },
          "execution_count": 10
        }
      ]
    },
    {
      "cell_type": "code",
      "metadata": {
        "id": "_yLsbbrEXgYf",
        "outputId": "47734a79-0fd5-4d33-f622-48c9f7928e85",
        "colab": {
          "base_uri": "https://localhost:8080/"
        }
      },
      "source": [
        "#df_final=remove_blankrow(all_clean_df,'cleaned')\n",
        "#comm_clean_df = remove_blankrow(comm_clean_df, 'cleaned')\n",
        "#sports_clean_df = remove_blankrow(comm_clean_df, 'cleaned')\n",
        "#fps_clean_df = remove_blankrow(comm_clean_df, 'cleaned')"
      ],
      "execution_count": 12,
      "outputs": [
        {
          "output_type": "stream",
          "text": [
            "/usr/local/lib/python3.6/dist-packages/ipykernel_launcher.py:4: SettingWithCopyWarning: \n",
            "A value is trying to be set on a copy of a slice from a DataFrame.\n",
            "Try using .loc[row_indexer,col_indexer] = value instead\n",
            "\n",
            "See the caveats in the documentation: https://pandas.pydata.org/pandas-docs/stable/user_guide/indexing.html#returning-a-view-versus-a-copy\n",
            "  after removing the cwd from sys.path.\n"
          ],
          "name": "stderr"
        }
      ]
    },
    {
      "cell_type": "code",
      "metadata": {
        "id": "67rs7QtqXgbg",
        "outputId": "ffbdbfff-bac4-45eb-970e-c67d04b5a511",
        "colab": {
          "base_uri": "https://localhost:8080/"
        }
      },
      "source": [
        "df_final.shape"
      ],
      "execution_count": null,
      "outputs": [
        {
          "output_type": "execute_result",
          "data": {
            "text/plain": [
              "(433197, 3)"
            ]
          },
          "metadata": {
            "tags": []
          },
          "execution_count": 9
        }
      ]
    },
    {
      "cell_type": "code",
      "metadata": {
        "id": "blE3XyBeuO5-",
        "outputId": "c2541b38-41f0-4841-bb95-6036106a5a6d",
        "colab": {
          "base_uri": "https://localhost:8080/"
        }
      },
      "source": [
        "all_clean_df.shape"
      ],
      "execution_count": null,
      "outputs": [
        {
          "output_type": "execute_result",
          "data": {
            "text/plain": [
              "(452858, 3)"
            ]
          },
          "metadata": {
            "tags": []
          },
          "execution_count": 10
        }
      ]
    },
    {
      "cell_type": "code",
      "metadata": {
        "id": "lYO6zayauqLp",
        "outputId": "9e166785-f708-4a7c-ef1c-8d4aa7fe406f",
        "colab": {
          "base_uri": "https://localhost:8080/"
        }
      },
      "source": [
        "#check the length of reviews\n",
        "print(df_final.lens.describe())\n",
        "print(df_final['lens'].quantile(0.90))\n",
        "#remove the extremely long reviews\n",
        "df_final=df_final[df_final.lens<(df_final['lens'].quantile(0.90))]\n",
        "comm_clean_df = comm_clean_df[comm_clean_df.lens<(comm_clean_df['lens'].quantile(0.90))]\n",
        "sports_clean_df = sports_clean_df[sports_clean_df.lens<(sports_clean_df['lens'].quantile(0.90))]\n",
        "fps_clean_df = fps_clean_df[fps_clean_df.lens<(fps_clean_df['lens'].quantile(0.90))]"
      ],
      "execution_count": 14,
      "outputs": [
        {
          "output_type": "stream",
          "text": [
            "count    389672.000000\n",
            "mean         10.726100\n",
            "std          12.793445\n",
            "min           1.000000\n",
            "25%           2.000000\n",
            "50%           5.000000\n",
            "75%          14.000000\n",
            "max          59.000000\n",
            "Name: lens, dtype: float64\n",
            "30.0\n"
          ],
          "name": "stdout"
        }
      ]
    },
    {
      "cell_type": "code",
      "metadata": {
        "id": "nFSQvyP1wOO2",
        "outputId": "74f782d1-b7b7-41f3-b7f2-e07d1a8d8135",
        "colab": {
          "base_uri": "https://localhost:8080/"
        }
      },
      "source": [
        "#check negative data vs positive data\n",
        "df_final.recommend.value_counts()"
      ],
      "execution_count": null,
      "outputs": [
        {
          "output_type": "execute_result",
          "data": {
            "text/plain": [
              " 1    296086\n",
              "-1     93586\n",
              "Name: recommend, dtype: int64"
            ]
          },
          "metadata": {
            "tags": []
          },
          "execution_count": 12
        }
      ]
    },
    {
      "cell_type": "code",
      "metadata": {
        "id": "fVZ35aYFEMyQ",
        "outputId": "2cc4bcfb-aa7f-4036-feb6-b0c955bd1306",
        "colab": {
          "base_uri": "https://localhost:8080/",
          "height": 352
        }
      },
      "source": [
        "sns.countplot(df_final.lens)"
      ],
      "execution_count": null,
      "outputs": [
        {
          "output_type": "stream",
          "text": [
            "/usr/local/lib/python3.6/dist-packages/seaborn/_decorators.py:43: FutureWarning: Pass the following variable as a keyword arg: x. From version 0.12, the only valid positional argument will be `data`, and passing other arguments without an explicit keyword will result in an error or misinterpretation.\n",
            "  FutureWarning\n"
          ],
          "name": "stderr"
        },
        {
          "output_type": "execute_result",
          "data": {
            "text/plain": [
              "<matplotlib.axes._subplots.AxesSubplot at 0x7fa8db88f668>"
            ]
          },
          "metadata": {
            "tags": []
          },
          "execution_count": 13
        },
        {
          "output_type": "display_data",
          "data": {
            "image/png": "[encoded data removed]",
            "text/plain": [
              "<Figure size 432x288 with 1 Axes>"
            ]
          },
          "metadata": {
            "tags": [],
            "needs_background": "light"
          }
        }
      ]
    },
    {
      "cell_type": "code",
      "metadata": {
        "id": "W00n-Er7wsjf",
        "outputId": "86545822-8078-4140-80ff-1d63b384e964",
        "colab": {
          "base_uri": "https://localhost:8080/"
        }
      },
      "source": [
        "#balance the negative and positive data\n",
        "from sklearn.utils import resample\n",
        "\n",
        "df_majority = df_final[df_final.recommend==1]\n",
        "df_minority = df_final[df_final.recommend==-1]\n",
        "\n",
        "df_minority_upsampled = resample(df_minority, \n",
        "                                 replace=True,     # sample with replacement\n",
        "                                 n_samples=296086,    # to match majority class\n",
        "                                 random_state=235) # reproducible results\n",
        " \n",
        "# Combine majority class with upsampled minority class\n",
        "df_balanced = pd.concat([df_majority, df_minority_upsampled])\n",
        " \n",
        "\n",
        "#replace outcome label -1 with 0\n",
        "#df_balanced['recommend'] = df_balanced['recommend'].replace([-1],0)\n",
        "# Display new class counts\n",
        "df_balanced.recommend.value_counts()"
      ],
      "execution_count": null,
      "outputs": [
        {
          "output_type": "execute_result",
          "data": {
            "text/plain": [
              "1    296086\n",
              "0    296086\n",
              "Name: recommend, dtype: int64"
            ]
          },
          "metadata": {
            "tags": []
          },
          "execution_count": 14
        }
      ]
    },
    {
      "cell_type": "code",
      "metadata": {
        "id": "szr37BDfOuVz"
      },
      "source": [
        "# Build model"
      ],
      "execution_count": null,
      "outputs": []
    },
    {
      "cell_type": "code",
      "metadata": {
        "id": "WRSwS4BBzlWG"
      },
      "source": [
        "from sklearn.model_selection import train_test_split\n",
        "X_train, X_test, y_train, y_test = train_test_split(df_balanced.cleaned,df_balanced.recommend,\n",
        "test_size=0.2,stratify=df_balanced.recommend)\n"
      ],
      "execution_count": null,
      "outputs": []
    },
    {
      "cell_type": "code",
      "metadata": {
        "id": "m3A_qMs4J_2i"
      },
      "source": [
        "#Bag of Words + XGBoost\n",
        "from sklearn.feature_extraction.text import CountVectorizer\n",
        "import xgboost as xgb\n",
        "from sklearn.model_selection import cross_val_score\n",
        "from sklearn.metrics import confusion_matrix\n",
        "from sklearn.model_selection import GridSearchCV\n",
        "from sklearn.metrics import accuracy_score"
      ],
      "execution_count": null,
      "outputs": []
    },
    {
      "cell_type": "code",
      "metadata": {
        "id": "Zfw7Zn-UHa5g"
      },
      "source": [
        "#Start with Bag of Words\n",
        "vectorizer = CountVectorizer(analyzer = \"word\", max_features=1500, min_df=.01, max_df=0.7) \n",
        "bow_train = vectorizer.fit_transform(X_train).toarray()"
      ],
      "execution_count": null,
      "outputs": []
    },
    {
      "cell_type": "code",
      "metadata": {
        "id": "411QkviQOKtg"
      },
      "source": [
        "#XGB classifier\n",
        "BOW_XGB = xgb.XGBClassifier(max_depth=7, n_estimators=300, objective=\"binary:logistic\", \n",
        "                            random_state=1, tree_method='gpu_hist', predictor='gpu_predictor')\n",
        "BOW_XGB_scores = cross_val_score(BOW_XGB, bow_train, y_train, cv=3, n_jobs=-1)\n",
        "print(\"Averaged CV Accuracy: %0.5f\" % BOW_XGB_scores.mean())\n",
        "\n",
        "BOW_XGB.fit(bow_train, y_train)\n"
      ],
      "execution_count": null,
      "outputs": []
    },
    {
      "cell_type": "code",
      "metadata": {
        "id": "9CGG7LN8TpjL"
      },
      "source": [
        "bow_test = (vectorizer.transform(X_test)).toarray()\n",
        "XGB_pred = BOW_XGB.predict(bow_test)"
      ],
      "execution_count": null,
      "outputs": []
    },
    {
      "cell_type": "code",
      "metadata": {
        "id": "fZgDgRGsUBif"
      },
      "source": [
        "BOW_XGB_scores_test = cross_val_score(BOW_XGB, bow_test, y_test, cv=3, n_jobs=-1)\n",
        "print(\"Averaged CV Accuracy: %0.5f (+/- %0.5f)\" % (BOW_XGB_scores_test.mean(), BOW_XGB_scores_test.std() * 2))"
      ],
      "execution_count": null,
      "outputs": []
    },
    {
      "cell_type": "code",
      "metadata": {
        "id": "Fm5BRcZsNn1R"
      },
      "source": [
        "# LSTM\n",
        "import tensorflow as tf\n",
        "from tensorflow import keras\n",
        "from tensorflow.keras import layers\n",
        "from keras.preprocessing.sequence import pad_sequences\n",
        "from keras.layers import Dense, Input, LSTM, Embedding, Dropout, Activation\n",
        "from keras.layers import Bidirectional, GlobalMaxPool1D\n",
        "from keras.models import Model\n",
        "from keras import initializers, regularizers, constraints, optimizers, layers"
      ],
      "execution_count": null,
      "outputs": []
    },
    {
      "cell_type": "code",
      "metadata": {
        "id": "5LOQ82hNzPKw"
      },
      "source": [
        "\n",
        "max_features = 200000  # Only consider the top 200k words\n",
        "maxlen = 60\n",
        "embedding_dim = 128\n"
      ],
      "execution_count": null,
      "outputs": []
    },
    {
      "cell_type": "code",
      "metadata": {
        "id": "OW4JP3XXzleL"
      },
      "source": [
        "from tensorflow.keras.layers.experimental.preprocessing import TextVectorization\n",
        "from tensorflow.keras import layers\n",
        "import string\n",
        "import re\n",
        "vectorization_layer = TextVectorization(max_tokens=max_features,\n",
        "    output_mode='int',\n",
        "    output_sequence_length=maxlen)\n",
        "\n",
        "vectorization_layer.adapt(X_train.values)\n",
        "vectorization_layer.adapt(X_test.values)"
      ],
      "execution_count": null,
      "outputs": []
    },
    {
      "cell_type": "code",
      "metadata": {
        "id": "gkXHGbba_i-f"
      },
      "source": [
        "#build CNN model\n",
        "def CNN_model():\n",
        "  model = tf.keras.models.Sequential()\n",
        "  model.add(tf.keras.Input(shape=(None,), dtype=tf.string))\n",
        "  model.add(vectorization_layer)\n",
        "  model.add(layers.Embedding(max_features, embedding_dim))\n",
        "  model.layers[1].trainable = False\n",
        "\n",
        "  model.add(tf.keras.layers.Conv1D(\n",
        "    filters=5, \n",
        "    kernel_size=3, \n",
        "    strides=1, \n",
        "    padding='same', \n",
        "    activation='relu', \n",
        "    use_bias=True,\n",
        "    kernel_initializer='glorot_uniform', \n",
        "    bias_initializer='zeros')\n",
        "            )    \n",
        "  model.add(layers.GlobalAveragePooling1D())\n",
        "  model.add(layers.Dense(64, activation=\"relu\"))\n",
        "  #model.add(layers.Dropout(0.05))\n",
        "  model.add(layers.Dense(1, activation=\"sigmoid\"))\n",
        "\n",
        "  model.summary()\n",
        "\n",
        "  model.compile(loss=\"binary_crossentropy\", optimizer=keras.optimizers.Adam(), metrics=\"accuracy\")\n",
        "  return model"
      ],
      "execution_count": null,
      "outputs": []
    },
    {
      "cell_type": "code",
      "metadata": {
        "id": "fRSt1O71_73z",
        "outputId": "b09c0bea-0413-43f4-90c6-5abee3f2c9ad",
        "colab": {
          "base_uri": "https://localhost:8080/"
        }
      },
      "source": [
        "#train CNN\n",
        "CNN_model=CNN_model()\n",
        "history = CNN_model.fit(\n",
        "   X_train,y_train,validation_data=(X_test, y_test),\n",
        "   epochs=10,batch_size=128)"
      ],
      "execution_count": null,
      "outputs": [
        {
          "output_type": "stream",
          "text": [
            "Model: \"sequential\"\n",
            "_________________________________________________________________\n",
            "Layer (type)                 Output Shape              Param #   \n",
            "=================================================================\n",
            "text_vectorization (TextVect (None, 60)                0         \n",
            "_________________________________________________________________\n",
            "embedding (Embedding)        (None, 60, 128)           25600000  \n",
            "_________________________________________________________________\n",
            "conv1d (Conv1D)              (None, 60, 5)             1925      \n",
            "_________________________________________________________________\n",
            "global_average_pooling1d (Gl (None, 5)                 0         \n",
            "_________________________________________________________________\n",
            "dense (Dense)                (None, 64)                384       \n",
            "_________________________________________________________________\n",
            "dense_1 (Dense)              (None, 1)                 65        \n",
            "=================================================================\n",
            "Total params: 25,602,374\n",
            "Trainable params: 2,374\n",
            "Non-trainable params: 25,600,000\n",
            "_________________________________________________________________\n"
          ],
          "name": "stdout"
        }
      ]
    },
    {
      "cell_type": "code",
      "metadata": {
        "id": "DcEgk_7PN7Sf"
      },
      "source": [
        "#build LSTM\n",
        "\n",
        "def LSTM_model():\n",
        "\n",
        "  # A integer input for vocab indices.\n",
        "  model = tf.keras.models.Sequential()\n",
        "  \n",
        "  model.add(tf.keras.Input(shape=(None,), dtype=tf.string))\n",
        "\n",
        "  # Next, we add a layer to map those vocab indices into a space of dimensionality\n",
        "  # 'embedding_dim'.\n",
        "  model.add(vectorization_layer)\n",
        "  model.add(tf.keras.layers.Embedding(max_features, embedding_dim))\n",
        "  model.layers[1].trainable = False\n",
        "\n",
        "  # Add bidirectional LSTM\n",
        "  model.add(tf.keras.layers.LSTM(60, return_sequences=True,name='lstm'))\n",
        "  model.add(tf.keras.layers.GlobalMaxPool1D())\n",
        "  model.add(tf.keras.layers.Dropout(0.1))\n",
        "  model.add(tf.keras.layers.Dense(50,activation=\"relu\"))\n",
        "  model.add(tf.keras.layers.Dropout(0.1))\n",
        "\n",
        "\n",
        "  # Add a classifier\n",
        "  model.add(tf.keras.layers.Dense(1, activation=\"sigmoid\"))\n",
        "\n",
        "  model.summary()\n",
        "  model.compile(\"adam\", \"binary_crossentropy\", metrics=[\"accuracy\"])\n",
        "  return model"
      ],
      "execution_count": null,
      "outputs": []
    },
    {
      "cell_type": "code",
      "metadata": {
        "id": "OPsooca3N7Vl",
        "outputId": "d71f5bfb-d163-4a59-ef5d-fd95f1896414",
        "colab": {
          "base_uri": "https://localhost:8080/"
        }
      },
      "source": [
        "#train LSTM\n",
        "model_LSTM=LSTM_model()\n",
        "model_LSTM.fit(np.array(X_train),y_train, validation_data=(X_test, y_test),epochs=20, batch_size=128)\n"
      ],
      "execution_count": null,
      "outputs": [
        {
          "output_type": "stream",
          "text": [
            "Model: \"sequential_1\"\n",
            "_________________________________________________________________\n",
            "Layer (type)                 Output Shape              Param #   \n",
            "=================================================================\n",
            "text_vectorization (TextVect (None, 60)                0         \n",
            "_________________________________________________________________\n",
            "embedding_1 (Embedding)      (None, 60, 128)           25600000  \n",
            "_________________________________________________________________\n",
            "lstm (LSTM)                  (None, 60, 60)            45360     \n",
            "_________________________________________________________________\n",
            "global_max_pooling1d (Global (None, 60)                0         \n",
            "_________________________________________________________________\n",
            "dropout (Dropout)            (None, 60)                0         \n",
            "_________________________________________________________________\n",
            "dense_2 (Dense)              (None, 50)                3050      \n",
            "_________________________________________________________________\n",
            "dropout_1 (Dropout)          (None, 50)                0         \n",
            "_________________________________________________________________\n",
            "dense_3 (Dense)              (None, 1)                 51        \n",
            "=================================================================\n",
            "Total params: 25,648,461\n",
            "Trainable params: 48,461\n",
            "Non-trainable params: 25,600,000\n",
            "_________________________________________________________________\n"
          ],
          "name": "stdout"
        }
      ]
    },
    {
      "cell_type": "code",
      "metadata": {
        "id": "VJwBYEowO2pk"
      },
      "source": [
        "#BERT model"
      ],
      "execution_count": null,
      "outputs": []
    },
    {
      "cell_type": "code",
      "metadata": {
        "id": "vO0QlEWmzj-r"
      },
      "source": [
        "tf.config.set_soft_device_placement(True)\n",
        "tf.debugging.set_log_device_placement(True)"
      ],
      "execution_count": null,
      "outputs": []
    },
    {
      "cell_type": "code",
      "metadata": {
        "id": "wHbZ0Xo73rcB"
      },
      "source": [
        "\n",
        "import pandas as pd\n",
        "import numpy as np\n",
        "import os\n",
        "import sys\n",
        "import tensorflow as tf\n",
        "from time import time\n",
        "import io\n",
        "import re\n",
        "\n",
        "import pickle\n",
        "from tensorflow.keras import layers\n",
        "from tensorflow.keras.layers import Dense, Flatten\n",
        "from datetime import datetime\n",
        "\n"
      ],
      "execution_count": null,
      "outputs": []
    },
    {
      "cell_type": "code",
      "metadata": {
        "id": "hlpRCXbRBvbe"
      },
      "source": [
        "from sklearn.model_selection import train_test_split\n",
        "\n",
        "train,test= train_test_split(df_balanced,\n",
        "test_size=0.2)\n"
      ],
      "execution_count": null,
      "outputs": []
    },
    {
      "cell_type": "code",
      "metadata": {
        "id": "5Eqix_R9C2Ml"
      },
      "source": [
        ""
      ],
      "execution_count": null,
      "outputs": []
    },
    {
      "cell_type": "code",
      "metadata": {
        "id": "MT2WH75Sjskf"
      },
      "source": [
        "#Build Bert Model with tf_hub\n",
        "import tensorflow_hub as hub\n",
        "import tensorflow_datasets as tfds\n",
        "\n",
        "embedding = \"https://tfhub.dev/google/nnlm-en-dim50/2\"\n"
      ],
      "execution_count": null,
      "outputs": []
    },
    {
      "cell_type": "code",
      "metadata": {
        "id": "cthDiLknjszv"
      },
      "source": [
        "#convert pandas dataframe to tensorflow dataset\n",
        "tf.enable_eager_execution()"
      ],
      "execution_count": null,
      "outputs": []
    },
    {
      "cell_type": "code",
      "metadata": {
        "id": "yGTh5zqRjs4C"
      },
      "source": [
        "train_dataset = (\n",
        "    tf.data.Dataset.from_tensor_slices(\n",
        "        (\n",
        "            tf.cast(train[\"cleaned\"].values, tf.string),\n",
        "            tf.cast(train['recommend'].values, tf.int32)\n",
        "        )\n",
        "    )\n",
        ")"
      ],
      "execution_count": null,
      "outputs": []
    },
    {
      "cell_type": "code",
      "metadata": {
        "id": "sNDhnz0gk-5X"
      },
      "source": [
        "test_dataset = (\n",
        "    tf.data.Dataset.from_tensor_slices(\n",
        "        (\n",
        "            tf.cast(test[\"cleaned\"].values, tf.string),\n",
        "            tf.cast(test['recommend'].values, tf.int32)\n",
        "        )\n",
        "    )\n",
        ")"
      ],
      "execution_count": null,
      "outputs": []
    },
    {
      "cell_type": "code",
      "metadata": {
        "id": "55NqpdJ1lEj4",
        "outputId": "93612de1-a61f-4cf9-9e54-6527665af94f",
        "colab": {
          "base_uri": "https://localhost:8080/"
        }
      },
      "source": [
        "#build BERT \n",
        "hub_layer = hub.KerasLayer(embedding, input_shape=[], \n",
        "                           dtype=tf.string, trainable=True)\n",
        "def BERT_model():\n",
        "  model = tf.keras.Sequential()\n",
        "  model.add(hub_layer)\n",
        "  model.add(tf.keras.layers.Dropout(0.1))\n",
        "  model.add(tf.keras.layers.Dense(16, activation='relu'))\n",
        "  model.add(tf.keras.layers.Dense(1))\n",
        "\n",
        "  model.summary()\n",
        "  model.compile(optimizer= tf.keras.optimizers.Adam(),\n",
        "                loss=tf.keras.losses.BinaryCrossentropy(from_logits=True),\n",
        "                metrics=['accuracy'])\n",
        "  return model\n",
        "\n"
      ],
      "execution_count": null,
      "outputs": [
        {
          "output_type": "stream",
          "text": [
            "WARNING:tensorflow:11 out of the last 11 calls to <function recreate_function.<locals>.restored_function_body at 0x7fa8de1ac9d8> triggered tf.function retracing. Tracing is expensive and the excessive number of tracings could be due to (1) creating @tf.function repeatedly in a loop, (2) passing tensors with different shapes, (3) passing Python objects instead of tensors. For (1), please define your @tf.function outside of the loop. For (2), @tf.function has experimental_relax_shapes=True option that relaxes argument shapes that can avoid unnecessary retracing. For (3), please refer to https://www.tensorflow.org/tutorials/customization/performance#python_or_tensor_args and https://www.tensorflow.org/api_docs/python/tf/function for  more details.\n"
          ],
          "name": "stdout"
        },
        {
          "output_type": "stream",
          "text": [
            "WARNING:tensorflow:11 out of the last 11 calls to <function recreate_function.<locals>.restored_function_body at 0x7fa8de1ac9d8> triggered tf.function retracing. Tracing is expensive and the excessive number of tracings could be due to (1) creating @tf.function repeatedly in a loop, (2) passing tensors with different shapes, (3) passing Python objects instead of tensors. For (1), please define your @tf.function outside of the loop. For (2), @tf.function has experimental_relax_shapes=True option that relaxes argument shapes that can avoid unnecessary retracing. For (3), please refer to https://www.tensorflow.org/tutorials/customization/performance#python_or_tensor_args and https://www.tensorflow.org/api_docs/python/tf/function for  more details.\n"
          ],
          "name": "stderr"
        },
        {
          "output_type": "stream",
          "text": [
            "WARNING:tensorflow:11 out of the last 11 calls to <function recreate_function.<locals>.restored_function_body at 0x7fa8de1ac268> triggered tf.function retracing. Tracing is expensive and the excessive number of tracings could be due to (1) creating @tf.function repeatedly in a loop, (2) passing tensors with different shapes, (3) passing Python objects instead of tensors. For (1), please define your @tf.function outside of the loop. For (2), @tf.function has experimental_relax_shapes=True option that relaxes argument shapes that can avoid unnecessary retracing. For (3), please refer to https://www.tensorflow.org/tutorials/customization/performance#python_or_tensor_args and https://www.tensorflow.org/api_docs/python/tf/function for  more details.\n"
          ],
          "name": "stdout"
        },
        {
          "output_type": "stream",
          "text": [
            "WARNING:tensorflow:11 out of the last 11 calls to <function recreate_function.<locals>.restored_function_body at 0x7fa8de1ac268> triggered tf.function retracing. Tracing is expensive and the excessive number of tracings could be due to (1) creating @tf.function repeatedly in a loop, (2) passing tensors with different shapes, (3) passing Python objects instead of tensors. For (1), please define your @tf.function outside of the loop. For (2), @tf.function has experimental_relax_shapes=True option that relaxes argument shapes that can avoid unnecessary retracing. For (3), please refer to https://www.tensorflow.org/tutorials/customization/performance#python_or_tensor_args and https://www.tensorflow.org/api_docs/python/tf/function for  more details.\n"
          ],
          "name": "stderr"
        }
      ]
    },
    {
      "cell_type": "code",
      "metadata": {
        "id": "zDf2FpQLnonc",
        "outputId": "3943d6ed-d5ca-4f8b-d3e0-96014f2213a8",
        "colab": {
          "base_uri": "https://localhost:8080/"
        }
      },
      "source": [
        "BERT_model=BERT_model()"
      ],
      "execution_count": null,
      "outputs": [
        {
          "output_type": "stream",
          "text": [
            "Model: \"sequential_6\"\n",
            "_________________________________________________________________\n",
            "Layer (type)                 Output Shape              Param #   \n",
            "=================================================================\n",
            "keras_layer_5 (KerasLayer)   (None, 50)                48190600  \n",
            "_________________________________________________________________\n",
            "dense_15 (Dense)             (None, 16)                816       \n",
            "_________________________________________________________________\n",
            "dense_16 (Dense)             (None, 1)                 17        \n",
            "=================================================================\n",
            "Total params: 48,191,433\n",
            "Trainable params: 48,191,433\n",
            "Non-trainable params: 0\n",
            "_________________________________________________________________\n"
          ],
          "name": "stdout"
        }
      ]
    },
    {
      "cell_type": "code",
      "metadata": {
        "id": "4zoXHplalEpW",
        "outputId": "3125be18-0615-448c-888d-86150641b54b",
        "colab": {
          "base_uri": "https://localhost:8080/"
        }
      },
      "source": [
        "history = BERT_model.fit(train_dataset.shuffle(10000).batch(512),\n",
        "                    epochs=20,\n",
        "                    validation_data=test_dataset.batch(512),\n",
        "                    verbose=1)"
      ],
      "execution_count": null,
      "outputs": [
        {
          "output_type": "stream",
          "text": [
            "Epoch 1/20\n",
            "926/926 [==============================] - 29s 32ms/step - loss: 0.1813 - accuracy: 0.9284 - val_loss: 0.2633 - val_accuracy: 0.9026\n",
            "Epoch 2/20\n",
            "926/926 [==============================] - 29s 32ms/step - loss: 0.1741 - accuracy: 0.9320 - val_loss: 0.2628 - val_accuracy: 0.9053\n",
            "Epoch 3/20\n",
            "926/926 [==============================] - 29s 32ms/step - loss: 0.1675 - accuracy: 0.9349 - val_loss: 0.2626 - val_accuracy: 0.9061\n",
            "Epoch 4/20\n",
            "926/926 [==============================] - 30s 32ms/step - loss: 0.1616 - accuracy: 0.9376 - val_loss: 0.2633 - val_accuracy: 0.9073\n",
            "Epoch 5/20\n",
            "926/926 [==============================] - 30s 32ms/step - loss: 0.1563 - accuracy: 0.9400 - val_loss: 0.2644 - val_accuracy: 0.9092\n",
            "Epoch 6/20\n",
            "926/926 [==============================] - 29s 32ms/step - loss: 0.1513 - accuracy: 0.9423 - val_loss: 0.2658 - val_accuracy: 0.9102\n",
            "Epoch 7/20\n",
            "926/926 [==============================] - 29s 32ms/step - loss: 0.1468 - accuracy: 0.9443 - val_loss: 0.2693 - val_accuracy: 0.9103\n",
            "Epoch 8/20\n",
            "926/926 [==============================] - 29s 32ms/step - loss: 0.1427 - accuracy: 0.9459 - val_loss: 0.2713 - val_accuracy: 0.9111\n",
            "Epoch 9/20\n",
            "926/926 [==============================] - 29s 32ms/step - loss: 0.1390 - accuracy: 0.9476 - val_loss: 0.2718 - val_accuracy: 0.9123\n",
            "Epoch 10/20\n",
            "926/926 [==============================] - 30s 32ms/step - loss: 0.1355 - accuracy: 0.9489 - val_loss: 0.2721 - val_accuracy: 0.9135\n",
            "Epoch 11/20\n",
            "926/926 [==============================] - 29s 32ms/step - loss: 0.1324 - accuracy: 0.9502 - val_loss: 0.2759 - val_accuracy: 0.9132\n",
            "Epoch 12/20\n",
            "926/926 [==============================] - 29s 32ms/step - loss: 0.1295 - accuracy: 0.9514 - val_loss: 0.2775 - val_accuracy: 0.9143\n",
            "Epoch 13/20\n",
            "926/926 [==============================] - 30s 32ms/step - loss: 0.1269 - accuracy: 0.9527 - val_loss: 0.2803 - val_accuracy: 0.9149\n",
            "Epoch 14/20\n",
            "926/926 [==============================] - 30s 32ms/step - loss: 0.1245 - accuracy: 0.9536 - val_loss: 0.2842 - val_accuracy: 0.9150\n",
            "Epoch 15/20\n",
            "926/926 [==============================] - 30s 32ms/step - loss: 0.1220 - accuracy: 0.9545 - val_loss: 0.2834 - val_accuracy: 0.9163\n",
            "Epoch 16/20\n",
            "926/926 [==============================] - 29s 32ms/step - loss: 0.1200 - accuracy: 0.9553 - val_loss: 0.2873 - val_accuracy: 0.9156\n",
            "Epoch 17/20\n",
            " 17/926 [..............................] - ETA: 26s - loss: 0.1275 - accuracy: 0.9536"
          ],
          "name": "stdout"
        }
      ]
    },
    {
      "cell_type": "code",
      "metadata": {
        "id": "RQAKfwswlEvB"
      },
      "source": [
        ""
      ],
      "execution_count": null,
      "outputs": []
    },
    {
      "cell_type": "code",
      "metadata": {
        "id": "s7opfmARlEr-"
      },
      "source": [
        ""
      ],
      "execution_count": null,
      "outputs": []
    },
    {
      "cell_type": "code",
      "metadata": {
        "id": "MTH1MYUGlEnM"
      },
      "source": [
        ""
      ],
      "execution_count": null,
      "outputs": []
    }
  ]
}