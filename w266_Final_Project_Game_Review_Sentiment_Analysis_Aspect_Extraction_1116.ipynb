{
  "nbformat": 4,
  "nbformat_minor": 0,
  "metadata": {
    "colab": {
      "name": "w266_Final Project_Game Review Sentiment Analysis_Aspect_Extraction_1116.ipynb",
      "provenance": [],
      "collapsed_sections": [],
      "include_colab_link": true
    },
    "kernelspec": {
      "display_name": "Python 3",
      "name": "python3"
    }
  },
  "cells": [
    {
      "cell_type": "markdown",
      "metadata": {
        "id": "view-in-github",
        "colab_type": "text"
      },
      "source": [
        "<a href=\"https://colab.research.google.com/github/susandong/w266_final_project_game_sentiment/blob/master/w266_Final_Project_Game_Review_Sentiment_Analysis_Aspect_Extraction_1116.ipynb\" target=\"_parent\"><img src=\"https://colab.research.google.com/assets/colab-badge.svg\" alt=\"Open In Colab\"/></a>"
      ]
    },
    {
      "cell_type": "markdown",
      "metadata": {
        "id": "DrstJ8hJNJmO"
      },
      "source": [
        "# Final Project: Game Review Sentiment Analysis Aspect Extraction\n",
        "\n",
        "* Can we use sentiment analysis score to predict the active user base for video games over time\n",
        "\n",
        "## Dataset: \n",
        "* Game Review: twitter/reddit/discord/steam reviews\n",
        "* active user base: steam\n",
        "\n",
        "## Algorithm: \n",
        "* Baseline(logistic Regression); \n",
        "* Transformer(Elmo/Bert)\n"
      ]
    },
    {
      "cell_type": "code",
      "metadata": {
        "id": "yW01NUndQd3C"
      },
      "source": [
        "#Load libraries\n",
        "import pandas as pd\n",
        "import nltk\n",
        "import numpy as np\n",
        "import matplotlib.pyplot as plt\n",
        "import seaborn as sns"
      ],
      "execution_count": 1,
      "outputs": []
    },
    {
      "cell_type": "code",
      "metadata": {
        "id": "kFboN7cwMM6V"
      },
      "source": [
        "\"\"\" Download Data: There are 4 games with review data\n",
        "Fall Guys (fg)\n",
        "PlayerUnknown Battlegrounds (pubg)\n",
        "Dota 2 (dota2)\n",
        "Counterstrike Source: Go (csgo)\n",
        "\n",
        "Review data has the following columns:\n",
        "app: ID for the game\n",
        "useful: how many users voted the review as useful\n",
        "funny: how many users voted the review as funny\n",
        "username: username of the person who wrote the review\n",
        "games_owned: how many games the reviewer owns on Steam\n",
        "num_reviews: how many reviews the reviewer has written on Steam\n",
        "recommend: 1 for recommend (thumbs up), -1 for do not recommend (thumbs down)\n",
        "hours_played: number of hours the reviewer played before writing the review\n",
        "date: date review was written\n",
        "text: text of the review\n",
        "\"\"\"\n",
        "#Fall Guys\n",
        "fg_url = 'https://raw.githubusercontent.com/susandong/w266_final_project_game_sentiment/master/data/fallguys_reviews.csv'\n",
        "fg_df = pd.read_csv(fg_url, error_bad_lines=False)\n",
        "fg_df = fg_df.dropna()\n",
        "\n",
        "#CS: Go\n",
        "csgo_url = 'https://raw.githubusercontent.com/susandong/w266_final_project_game_sentiment/master/data/csgo_reviews.csv'\n",
        "csgo_df = pd.read_csv(csgo_url, error_bad_lines=False)\n",
        "csgo_df = csgo_df.dropna()\n",
        "\n",
        "#PUBG\n",
        "pubg_url = 'https://raw.githubusercontent.com/susandong/w266_final_project_game_sentiment/master/data/pubg_reviews.csv'\n",
        "pubg_df = pd.read_csv(pubg_url, error_bad_lines=False)\n",
        "pubg_df = pubg_df.dropna()\n",
        "\n",
        "#dota2_url = 'https://raw.githubusercontent.com/susandong/w266_final_project_game_sentiment/master/data/dota2_reviews.csv'\n",
        "#dota2_df = pd.read_csv(dota2_url, error_bad_lines=False)\n",
        "#player_url = 'https://raw.githubusercontent.com/susandong/w266_final_project_game_sentiment/master/data/PlayerCountData.csv'\n",
        "#player_df = pd.read_csv(player_url, error_bad_lines=False)"
      ],
      "execution_count": 2,
      "outputs": []
    },
    {
      "cell_type": "code",
      "metadata": {
        "id": "Fq_wR2DmOp7T",
        "colab": {
          "base_uri": "https://localhost:8080/"
        },
        "outputId": "268ad8e4-6a7a-41a3-8d0d-9aaff7e0b246"
      },
      "source": [
        "# Data Preprocessing\n",
        "!pip install unidecode\n",
        "import unidecode\n",
        "import re\n",
        "from nltk.tokenize import TweetTokenizer\n",
        "from nltk.corpus import stopwords\n",
        "from nltk.stem import PorterStemmer\n",
        "#from nltk.stem import WordNetLemmatizer\n",
        "nltk.download('stopwords')\n",
        "\n",
        "tknzr = TweetTokenizer()\n",
        "stop_words = set(stopwords.words('english'))\n",
        "stemmer = PorterStemmer()\n",
        "#lemma = WordNetLemmatizer()\n",
        "\n",
        "#Convert accented characters\n",
        "def remove_accents(text):\n",
        "  try:\n",
        "    text = unidecode.unidecode(text)\n",
        "  except:\n",
        "    pass\n",
        "  return text\n",
        "\n",
        "#Remove digits and punctuation\n",
        "def remove_nonletters(text):\n",
        "  try:\n",
        "    #Remove digits AND punctuation\n",
        "    text = re.sub('[^a-zA-Z]', ' ', text)\n",
        "    \n",
        "    #Remove just digits that are by themselves\n",
        "    #text = re.sub('^\\d+\\s|\\s\\d+\\s|\\s\\d+$', ' ', text)\n",
        "  except:\n",
        "    pass\n",
        "  return text\n",
        "\n",
        "\n",
        "#Use Tweet Tokenizer for some built-in emoji support\n",
        "def tweet_tokenization(text):\n",
        "  try:\n",
        "    return tknzr.tokenize(text)\n",
        "  except:\n",
        "    pass\n",
        "\n",
        "def remove_stopwords(token):\n",
        "  try:\n",
        "    return [item for item in token if item not in stop_words]\n",
        "  except:\n",
        "    pass\n",
        "\n",
        "def remove_stemmer(token):\n",
        "  try:\n",
        "    return [stemmer.stem(i) for i in token]\n",
        "  except:\n",
        "    pass\n",
        "\n",
        "def remove_lemmatizer(token):\n",
        "  try:\n",
        "    return [lemma.lemmatize(word=w, pow='v') for w in token]\n",
        "  except:\n",
        "    pass\n",
        "  \n",
        "def remove_shortwords(token):\n",
        "  try:\n",
        "    return [i for i in token if len(i) > 1]\n",
        "  except:\n",
        "    pass\n",
        "\n",
        "def token_to_string(listTokens):\n",
        "  return ' '.join(listTokens)\n",
        "\n",
        "#Process text from dataframe. df = dataframe to clean, text = name of column with text\n",
        "def process_text(df, text):  \n",
        "  #Create new column for cleaned text\n",
        "  df['cleaned'] = df[text]\n",
        "\n",
        "  #Lower case all text\n",
        "  df['cleaned'] = df['cleaned'].str.lower()\n",
        "\n",
        "  #Clean URLs\n",
        "  df['cleaned'] = df['cleaned'].str.replace('http\\S+|www.\\S+', '', case=False)\n",
        "\n",
        "  #Remove accents from text\n",
        "  #df['cleaned'] = df['cleaned'].apply(remove_accents)\n",
        "\n",
        "  #Remove numbers and punctuation from text\n",
        "  df['cleaned'] = df['cleaned'].apply(remove_nonletters)\n",
        "  \n",
        "  #Tokenize\n",
        "  df['cleaned'] = df['cleaned'].apply(tweet_tokenization)\n",
        "\n",
        "  #Remove stopwords\n",
        "  #df['cleaned'] = df['cleaned'].apply(remove_stopwords)\n",
        "  \n",
        "  #Remove short words\n",
        "  df['cleaned'] = df['cleaned'].apply(remove_shortwords)\n",
        "\n",
        "  #Stemming - can decide to use or not\n",
        "  #df['cleaned'] = df['cleaned'].apply(remove_stemmer)\n",
        "\n",
        "  #Convert tokens back to string\n",
        "  df['cleaned'] = df['cleaned'].apply(token_to_string)\n"
      ],
      "execution_count": 3,
      "outputs": [
        {
          "output_type": "stream",
          "text": [
            "Collecting unidecode\n",
            "\u001b[?25l  Downloading https://files.pythonhosted.org/packages/d0/42/d9edfed04228bacea2d824904cae367ee9efd05e6cce7ceaaedd0b0ad964/Unidecode-1.1.1-py2.py3-none-any.whl (238kB)\n",
            "\r\u001b[K     |█▍                              | 10kB 17.5MB/s eta 0:00:01\r\u001b[K     |██▊                             | 20kB 23.9MB/s eta 0:00:01\r\u001b[K     |████▏                           | 30kB 27.6MB/s eta 0:00:01\r\u001b[K     |█████▌                          | 40kB 21.5MB/s eta 0:00:01\r\u001b[K     |██████▉                         | 51kB 16.5MB/s eta 0:00:01\r\u001b[K     |████████▎                       | 61kB 18.3MB/s eta 0:00:01\r\u001b[K     |█████████▋                      | 71kB 12.3MB/s eta 0:00:01\r\u001b[K     |███████████                     | 81kB 12.3MB/s eta 0:00:01\r\u001b[K     |████████████▍                   | 92kB 12.3MB/s eta 0:00:01\r\u001b[K     |█████████████▊                  | 102kB 12.3MB/s eta 0:00:01\r\u001b[K     |███████████████▏                | 112kB 12.3MB/s eta 0:00:01\r\u001b[K     |████████████████▌               | 122kB 12.3MB/s eta 0:00:01\r\u001b[K     |█████████████████▉              | 133kB 12.3MB/s eta 0:00:01\r\u001b[K     |███████████████████▎            | 143kB 12.3MB/s eta 0:00:01\r\u001b[K     |████████████████████▋           | 153kB 12.3MB/s eta 0:00:01\r\u001b[K     |██████████████████████          | 163kB 12.3MB/s eta 0:00:01\r\u001b[K     |███████████████████████▍        | 174kB 12.3MB/s eta 0:00:01\r\u001b[K     |████████████████████████▊       | 184kB 12.3MB/s eta 0:00:01\r\u001b[K     |██████████████████████████▏     | 194kB 12.3MB/s eta 0:00:01\r\u001b[K     |███████████████████████████▌    | 204kB 12.3MB/s eta 0:00:01\r\u001b[K     |████████████████████████████▉   | 215kB 12.3MB/s eta 0:00:01\r\u001b[K     |██████████████████████████████▎ | 225kB 12.3MB/s eta 0:00:01\r\u001b[K     |███████████████████████████████▋| 235kB 12.3MB/s eta 0:00:01\r\u001b[K     |████████████████████████████████| 245kB 12.3MB/s \n",
            "\u001b[?25hInstalling collected packages: unidecode\n",
            "Successfully installed unidecode-1.1.1\n",
            "[nltk_data] Downloading package stopwords to /root/nltk_data...\n",
            "[nltk_data]   Unzipping corpora/stopwords.zip.\n"
          ],
          "name": "stdout"
        }
      ]
    },
    {
      "cell_type": "code",
      "metadata": {
        "id": "ahL3k7O7XGZ-"
      },
      "source": [
        "#preprocess all the datasets for all 3 games\n",
        "process_text(fg_df, 'text')\n",
        "#len(fg_df['cleaned'][11]) < 2\n",
        "process_text(csgo_df, 'text')\n",
        "process_text(pubg_df, 'text')"
      ],
      "execution_count": 4,
      "outputs": []
    },
    {
      "cell_type": "code",
      "metadata": {
        "id": "agbZIEqVXgVQ"
      },
      "source": [
        "from nltk.tokenize import RegexpTokenizer\n",
        "def remove_blankrow(df,column):\n",
        "  tokenizer = RegexpTokenizer(r'\\w+')\n",
        "  df['lens'] =[len(tokenizer.tokenize(utterance)) for utterance in df[column]]\n",
        "  df_clean=df[df['lens'] !=0]\n",
        "  return df_clean"
      ],
      "execution_count": 5,
      "outputs": []
    },
    {
      "cell_type": "code",
      "metadata": {
        "id": "hGcw90zsfwm1"
      },
      "source": [
        "#remove emoji \n",
        "def remove_emoji(df,column):\n",
        "    df[column] = df[column].str.replace(r'[^\\x00-\\x7F]+', '')\n",
        "    return df\n"
      ],
      "execution_count": 6,
      "outputs": []
    },
    {
      "cell_type": "code",
      "metadata": {
        "id": "gZFpy-6mi4AD",
        "colab": {
          "base_uri": "https://localhost:8080/"
        },
        "outputId": "699b4c0b-5f32-45ad-aaad-0ed322f9aa4c"
      },
      "source": [
        "#from google.colab import drive\n",
        "#drive.mount('drive')\n",
        "fg_df_text=remove_blankrow(fg_df,'cleaned')[\"cleaned\"]\n",
        "\n",
        "csgo_df_text=remove_blankrow(csgo_df,'cleaned')[\"cleaned\"]\n",
        "pubg_df_text=remove_blankrow(pubg_df,'cleaned')[\"cleaned\"]\n",
        "pubg_df_text.shape\n"
      ],
      "execution_count": 7,
      "outputs": [
        {
          "output_type": "execute_result",
          "data": {
            "text/plain": [
              "(226783,)"
            ]
          },
          "metadata": {
            "tags": []
          },
          "execution_count": 7
        }
      ]
    },
    {
      "cell_type": "code",
      "metadata": {
        "id": "JJw9EPD5zoTw"
      },
      "source": [
        "## Aspect extraction EMbedding_gensim"
      ],
      "execution_count": 8,
      "outputs": []
    },
    {
      "cell_type": "code",
      "metadata": {
        "id": "gyJcxfuQqtC2"
      },
      "source": [
        "\n",
        "\n",
        "%matplotlib inline\n",
        "\n",
        "import nltk.data;\n",
        "\n",
        "from gensim.models import word2vec;\n",
        "\n",
        "from sklearn.cluster import KMeans;\n",
        "from sklearn.neighbors import KDTree;\n",
        "\n",
        "import pandas as pd;\n",
        "import numpy as np;\n",
        "\n",
        "import os;\n",
        "import re;\n",
        "import logging;\n",
        "import sqlite3;\n",
        "import time;\n",
        "import sys;\n",
        "import multiprocessing;\n",
        "from wordcloud import WordCloud, ImageColorGenerator\n",
        "import matplotlib.pyplot as plt;\n",
        "from itertools import cycle;\n",
        "\n"
      ],
      "execution_count": 9,
      "outputs": []
    },
    {
      "cell_type": "code",
      "metadata": {
        "id": "HbUmlFlAqyxi",
        "colab": {
          "base_uri": "https://localhost:8080/"
        },
        "outputId": "311175eb-ea35-4e59-959e-bc8f64a251bd"
      },
      "source": [
        "\n",
        "nltk.download('punkt')\n",
        "tokenizer = nltk.data.load('tokenizers/punkt/english.pickle');\n",
        "\n"
      ],
      "execution_count": 10,
      "outputs": [
        {
          "output_type": "stream",
          "text": [
            "[nltk_data] Downloading package punkt to /root/nltk_data...\n",
            "[nltk_data]   Unzipping tokenizers/punkt.zip.\n"
          ],
          "name": "stdout"
        }
      ]
    },
    {
      "cell_type": "code",
      "metadata": {
        "id": "Z8h_4MjV3OyC"
      },
      "source": [
        "#tokenize text\n",
        "fg_df_text_tokenized=fg_df_text.apply(tweet_tokenization)"
      ],
      "execution_count": 11,
      "outputs": []
    },
    {
      "cell_type": "code",
      "metadata": {
        "id": "FVBmA2g6qy_i",
        "colab": {
          "base_uri": "https://localhost:8080/"
        },
        "outputId": "6f67d35b-b885-48f5-c86f-f8df55814c39"
      },
      "source": [
        "start = time.time();\n",
        "\n",
        "#Set the logging format to get some basic updates.\n",
        "logging.basicConfig(format='%(asctime)s : %(levelname)s : %(message)s',\\\n",
        "    level=logging.INFO)\n",
        "\n",
        "# Set values for various parameters\n",
        "num_features = 100;    # Dimensionality of the hidden layer representation\n",
        "min_word_count = 4;   # Minimum word count to keep a word in the vocabulary\n",
        "num_workers = multiprocessing.cpu_count();       # Number of threads to run in parallel set to total number of cpus.\n",
        "context = 5          # Context window size (on each side)                                                       \n",
        "downsampling = 1e-3   # Downsample setting for frequent words\n",
        "\n",
        "# Initialize and train the model. \n",
        "#The LineSentence object allows us to pass in a file name directly as input to Word2Vec,\n",
        "#instead of having to read it into memory first.\n",
        "\n",
        "print(\"Training model...\");\n",
        "model = word2vec.Word2Vec(fg_df_text_tokenized, workers=num_workers, \\\n",
        "            size=num_features, min_count = min_word_count, \\\n",
        "            window = context, sample = downsampling);\n",
        "\n",
        "# We don't plan on training the model any further, so calling \n",
        "# init_sims will make the model more memory efficient by normalizing the vectors in-place.\n",
        "model.init_sims(replace=True);\n",
        "\n",
        "# Save the model\n",
        "model_name = \"model_full_game\";\n",
        "model.save(model_name);\n",
        "\n",
        "print('Total time: ' + str((time.time() - start)) + ' secs')"
      ],
      "execution_count": 12,
      "outputs": [
        {
          "output_type": "stream",
          "text": [
            "2020-11-23 08:21:45,973 : INFO : collecting all words and their counts\n",
            "2020-11-23 08:21:45,974 : INFO : PROGRESS: at sentence #0, processed 0 words, keeping 0 word types\n",
            "2020-11-23 08:21:46,020 : INFO : PROGRESS: at sentence #10000, processed 189986 words, keeping 10008 word types\n",
            "2020-11-23 08:21:46,061 : INFO : PROGRESS: at sentence #20000, processed 352595 words, keeping 14872 word types\n",
            "2020-11-23 08:21:46,097 : INFO : PROGRESS: at sentence #30000, processed 501734 words, keeping 18210 word types\n",
            "2020-11-23 08:21:46,140 : INFO : PROGRESS: at sentence #40000, processed 664869 words, keeping 21477 word types\n"
          ],
          "name": "stderr"
        },
        {
          "output_type": "stream",
          "text": [
            "Training model...\n"
          ],
          "name": "stdout"
        },
        {
          "output_type": "stream",
          "text": [
            "2020-11-23 08:21:46,185 : INFO : PROGRESS: at sentence #50000, processed 850834 words, keeping 24443 word types\n",
            "2020-11-23 08:21:46,238 : INFO : PROGRESS: at sentence #60000, processed 1059558 words, keeping 27216 word types\n",
            "2020-11-23 08:21:46,301 : INFO : PROGRESS: at sentence #70000, processed 1344663 words, keeping 30210 word types\n",
            "2020-11-23 08:21:46,361 : INFO : PROGRESS: at sentence #80000, processed 1603160 words, keeping 33061 word types\n",
            "2020-11-23 08:21:46,397 : INFO : collected 34952 word types from a corpus of 1748803 raw words and 87847 sentences\n",
            "2020-11-23 08:21:46,398 : INFO : Loading a fresh vocabulary\n",
            "2020-11-23 08:21:46,429 : INFO : effective_min_count=4 retains 8887 unique words (25% of original 34952, drops 26065)\n",
            "2020-11-23 08:21:46,430 : INFO : effective_min_count=4 leaves 1715203 word corpus (98% of original 1748803, drops 33600)\n",
            "2020-11-23 08:21:46,465 : INFO : deleting the raw counts dictionary of 34952 items\n",
            "2020-11-23 08:21:46,468 : INFO : sample=0.001 downsamples 57 most-common words\n",
            "2020-11-23 08:21:46,469 : INFO : downsampling leaves estimated 1224002 word corpus (71.4% of prior 1715203)\n",
            "2020-11-23 08:21:46,501 : INFO : estimated required memory for 8887 words and 100 dimensions: 11553100 bytes\n",
            "2020-11-23 08:21:46,502 : INFO : resetting layer weights\n",
            "2020-11-23 08:21:48,282 : INFO : training model with 2 workers on 8887 vocabulary and 100 features, using sg=0 hs=0 sample=0.001 negative=5 window=5\n",
            "2020-11-23 08:21:49,303 : INFO : EPOCH 1 - PROGRESS: at 57.18% examples, 586553 words/s, in_qsize 3, out_qsize 0\n",
            "2020-11-23 08:21:50,303 : INFO : EPOCH 1 - PROGRESS: at 95.63% examples, 580094 words/s, in_qsize 3, out_qsize 0\n",
            "2020-11-23 08:21:50,383 : INFO : worker thread finished; awaiting finish of 1 more threads\n",
            "2020-11-23 08:21:50,392 : INFO : worker thread finished; awaiting finish of 0 more threads\n",
            "2020-11-23 08:21:50,393 : INFO : EPOCH - 1 : training on 1748803 raw words (1224357 effective words) took 2.1s, 581980 effective words/s\n",
            "2020-11-23 08:21:51,411 : INFO : EPOCH 2 - PROGRESS: at 55.98% examples, 574466 words/s, in_qsize 3, out_qsize 0\n",
            "2020-11-23 08:21:52,419 : INFO : EPOCH 2 - PROGRESS: at 97.60% examples, 588826 words/s, in_qsize 3, out_qsize 0\n",
            "2020-11-23 08:21:52,464 : INFO : worker thread finished; awaiting finish of 1 more threads\n",
            "2020-11-23 08:21:52,469 : INFO : worker thread finished; awaiting finish of 0 more threads\n",
            "2020-11-23 08:21:52,471 : INFO : EPOCH - 2 : training on 1748803 raw words (1223242 effective words) took 2.1s, 590987 effective words/s\n",
            "2020-11-23 08:21:53,492 : INFO : EPOCH 3 - PROGRESS: at 55.45% examples, 566933 words/s, in_qsize 3, out_qsize 0\n",
            "2020-11-23 08:21:54,498 : INFO : EPOCH 3 - PROGRESS: at 96.91% examples, 585774 words/s, in_qsize 3, out_qsize 0\n",
            "2020-11-23 08:21:54,550 : INFO : worker thread finished; awaiting finish of 1 more threads\n",
            "2020-11-23 08:21:54,563 : INFO : worker thread finished; awaiting finish of 0 more threads\n",
            "2020-11-23 08:21:54,564 : INFO : EPOCH - 3 : training on 1748803 raw words (1224020 effective words) took 2.1s, 587560 effective words/s\n",
            "2020-11-23 08:21:55,574 : INFO : EPOCH 4 - PROGRESS: at 55.98% examples, 578879 words/s, in_qsize 3, out_qsize 0\n",
            "2020-11-23 08:21:56,577 : INFO : EPOCH 4 - PROGRESS: at 96.91% examples, 589572 words/s, in_qsize 3, out_qsize 0\n",
            "2020-11-23 08:21:56,637 : INFO : worker thread finished; awaiting finish of 1 more threads\n",
            "2020-11-23 08:21:56,643 : INFO : worker thread finished; awaiting finish of 0 more threads\n",
            "2020-11-23 08:21:56,644 : INFO : EPOCH - 4 : training on 1748803 raw words (1223872 effective words) took 2.1s, 590945 effective words/s\n",
            "2020-11-23 08:21:57,656 : INFO : EPOCH 5 - PROGRESS: at 56.64% examples, 584498 words/s, in_qsize 3, out_qsize 0\n",
            "2020-11-23 08:21:58,662 : INFO : EPOCH 5 - PROGRESS: at 98.11% examples, 594916 words/s, in_qsize 3, out_qsize 0\n",
            "2020-11-23 08:21:58,700 : INFO : worker thread finished; awaiting finish of 1 more threads\n",
            "2020-11-23 08:21:58,706 : INFO : worker thread finished; awaiting finish of 0 more threads\n",
            "2020-11-23 08:21:58,706 : INFO : EPOCH - 5 : training on 1748803 raw words (1224346 effective words) took 2.1s, 595789 effective words/s\n",
            "2020-11-23 08:21:58,707 : INFO : training on a 8744015 raw words (6119837 effective words) took 10.4s, 587048 effective words/s\n",
            "2020-11-23 08:21:58,709 : INFO : precomputing L2-norms of word weight vectors\n",
            "2020-11-23 08:21:58,792 : INFO : saving Word2Vec object under model_full_reddit, separately None\n",
            "2020-11-23 08:21:58,793 : INFO : not storing attribute vectors_norm\n",
            "2020-11-23 08:21:58,796 : INFO : not storing attribute cum_table\n",
            "2020-11-23 08:21:58,910 : INFO : saved model_full_reddit\n"
          ],
          "name": "stderr"
        },
        {
          "output_type": "stream",
          "text": [
            "Total time: 12.940184116363525 secs\n"
          ],
          "name": "stdout"
        }
      ]
    },
    {
      "cell_type": "code",
      "metadata": {
        "id": "zfeL3uu6qzCK",
        "colab": {
          "base_uri": "https://localhost:8080/"
        },
        "outputId": "60aaa6e9-e389-4255-e319-5cc456962333"
      },
      "source": [
        "model = word2vec.Word2Vec.load('model_full_game')"
      ],
      "execution_count": 13,
      "outputs": [
        {
          "output_type": "stream",
          "text": [
            "2020-11-23 08:21:58,920 : INFO : loading Word2Vec object from model_full_reddit\n",
            "2020-11-23 08:21:58,998 : INFO : loading wv recursively from model_full_reddit.wv.* with mmap=None\n",
            "2020-11-23 08:21:59,001 : INFO : setting ignored attribute vectors_norm to None\n",
            "2020-11-23 08:21:59,001 : INFO : loading vocabulary recursively from model_full_reddit.vocabulary.* with mmap=None\n",
            "2020-11-23 08:21:59,002 : INFO : loading trainables recursively from model_full_reddit.trainables.* with mmap=None\n",
            "2020-11-23 08:21:59,003 : INFO : setting ignored attribute cum_table to None\n",
            "2020-11-23 08:21:59,004 : INFO : loaded model_full_reddit\n"
          ],
          "name": "stderr"
        }
      ]
    },
    {
      "cell_type": "code",
      "metadata": {
        "id": "vv77wnui0twm",
        "colab": {
          "base_uri": "https://localhost:8080/"
        },
        "outputId": "a365070e-38b2-462d-f524-84ab4f2aa53d"
      },
      "source": [
        "model.wv['design']"
      ],
      "execution_count": 14,
      "outputs": [
        {
          "output_type": "execute_result",
          "data": {
            "text/plain": [
              "array([-0.11221244, -0.01766705, -0.09950733,  0.03870561, -0.16421139,\n",
              "        0.03472774, -0.01649612,  0.0651589 , -0.0534026 , -0.01074089,\n",
              "       -0.0241222 ,  0.02076565,  0.24755235, -0.24614201, -0.06345098,\n",
              "        0.06149568, -0.09018379, -0.01126974, -0.0790882 ,  0.12186608,\n",
              "       -0.08162413, -0.05137058,  0.01044458,  0.03913459,  0.08740164,\n",
              "        0.01547696,  0.06196581, -0.0971428 , -0.15821289, -0.06514239,\n",
              "       -0.02495406, -0.10925052, -0.11698469,  0.14460659,  0.16169348,\n",
              "        0.1273071 , -0.00089664,  0.04933714, -0.04934285,  0.10221711,\n",
              "       -0.12017918, -0.00543893, -0.02456887,  0.12800756, -0.03612161,\n",
              "       -0.05192678, -0.0982853 , -0.03179169,  0.07627809,  0.08687243,\n",
              "        0.09346885,  0.00472767, -0.06189027,  0.09097121,  0.29071504,\n",
              "        0.25350612,  0.01305677, -0.14985001, -0.01115971, -0.04318813,\n",
              "        0.08024905, -0.17317   ,  0.02818113,  0.19016728, -0.07394453,\n",
              "       -0.08836256,  0.08831006, -0.00589766,  0.01451341, -0.02923923,\n",
              "        0.0082581 ,  0.04179823,  0.14892066, -0.0940401 , -0.00029574,\n",
              "       -0.03339335, -0.0258863 ,  0.0162201 ,  0.07219341, -0.00107964,\n",
              "        0.09670194, -0.13772394, -0.03766241,  0.05227662,  0.15877607,\n",
              "        0.09919459, -0.03543779, -0.16748123, -0.09795524, -0.10779493,\n",
              "        0.08328477,  0.02870045, -0.007987  , -0.08309251, -0.19425333,\n",
              "        0.15350117, -0.03863713,  0.0389046 ,  0.1625306 , -0.02969233],\n",
              "      dtype=float32)"
            ]
          },
          "metadata": {
            "tags": []
          },
          "execution_count": 14
        }
      ]
    },
    {
      "cell_type": "code",
      "metadata": {
        "id": "6ag4wbIdqzEd",
        "colab": {
          "base_uri": "https://localhost:8080/"
        },
        "outputId": "1598672a-740c-45e0-91aa-d284561aaa75"
      },
      "source": [
        "Z = model.wv.syn0"
      ],
      "execution_count": 15,
      "outputs": [
        {
          "output_type": "stream",
          "text": [
            "/usr/local/lib/python3.6/dist-packages/ipykernel_launcher.py:1: DeprecationWarning: Call to deprecated `syn0` (Attribute will be removed in 4.0.0, use self.wv.vectors instead).\n",
            "  \"\"\"Entry point for launching an IPython kernel.\n"
          ],
          "name": "stderr"
        }
      ]
    },
    {
      "cell_type": "code",
      "metadata": {
        "id": "uH20L6WJx6yW",
        "colab": {
          "base_uri": "https://localhost:8080/"
        },
        "outputId": "089125be-d3ef-4223-d6e8-3ac7f679ec88"
      },
      "source": [
        "print([model.wv.index2word[i] for i in range(50)])"
      ],
      "execution_count": 16,
      "outputs": [
        {
          "output_type": "stream",
          "text": [
            "['the', 'game', 'and', 'to', 'it', 'fun', 'is', 'of', 'you', 'this', 'but', 'in', 'for', 'with', 'that', 'are', 'good', 'play', 'so', 'be', 'have', 'very', 'can', 'not', 'games', 'on', 'if', 'get', 'just', 'its', 'like', 'they', 'fall', 'or', 'there', 'as', 'friends', 'more', 'my', 'really', 'at', 'great', 'your', 'team', 'time', 'all', 'will', 'me', 'when', 'some']\n"
          ],
          "name": "stdout"
        }
      ]
    },
    {
      "cell_type": "code",
      "metadata": {
        "id": "Oa7A7j8zqzKu",
        "colab": {
          "base_uri": "https://localhost:8080/"
        },
        "outputId": "3b18b336-2cb5-4055-c5fe-e92e35f022ab"
      },
      "source": [
        "print(Z[0].shape)\n",
        "Z[0]"
      ],
      "execution_count": 17,
      "outputs": [
        {
          "output_type": "stream",
          "text": [
            "(100,)\n"
          ],
          "name": "stdout"
        },
        {
          "output_type": "execute_result",
          "data": {
            "text/plain": [
              "array([-0.17985527,  0.04030327,  0.00077157,  0.11578478,  0.10162291,\n",
              "       -0.16226715, -0.1269763 , -0.01729093, -0.06791022,  0.23515765,\n",
              "       -0.04606807,  0.06771375, -0.06716491, -0.16378815,  0.00990064,\n",
              "       -0.09257878,  0.05600245,  0.04332985, -0.03666405,  0.08726836,\n",
              "       -0.28871801, -0.15645383,  0.01817139,  0.00401508,  0.07676031,\n",
              "        0.10959607, -0.02265932,  0.12752819,  0.15494683,  0.07112863,\n",
              "        0.12619472,  0.04155644,  0.02854471,  0.04622586,  0.03585308,\n",
              "       -0.05584277,  0.00431257, -0.02221479, -0.01507474,  0.13648742,\n",
              "        0.06432763, -0.05360305,  0.06626067, -0.06787454,  0.09178789,\n",
              "       -0.08876418,  0.11996654,  0.04962562, -0.05433991, -0.03339084,\n",
              "       -0.04255196,  0.02270235,  0.2037103 , -0.10687074, -0.13083555,\n",
              "        0.01176363,  0.1243393 , -0.05805859, -0.00311166, -0.14277796,\n",
              "        0.1928563 ,  0.06840007,  0.00835887,  0.124038  ,  0.0921955 ,\n",
              "        0.00557869,  0.08242437, -0.04084426,  0.1296629 ,  0.00083858,\n",
              "        0.0222366 ,  0.04724868, -0.08875881, -0.06099519,  0.02224312,\n",
              "       -0.05010938, -0.1804464 ,  0.01879852,  0.09491926, -0.05256468,\n",
              "       -0.13392408, -0.04844235, -0.09119315,  0.02056706,  0.1472913 ,\n",
              "       -0.16931327, -0.11336683, -0.11696708, -0.19742547,  0.01647485,\n",
              "        0.03997146, -0.04444529,  0.1708418 , -0.04055326,  0.06942204,\n",
              "        0.16355452, -0.1343085 ,  0.08267871, -0.00155129, -0.0922251 ],\n",
              "      dtype=float32)"
            ]
          },
          "metadata": {
            "tags": []
          },
          "execution_count": 17
        }
      ]
    },
    {
      "cell_type": "code",
      "metadata": {
        "id": "6OTQR2cvukhf"
      },
      "source": [
        "\n",
        "\n",
        "def clustering_on_wordvecs(word_vectors, num_clusters):\n",
        "    # Initalize a k-means object and use it to extract centroids\n",
        "    kmeans_clustering = KMeans(n_clusters = num_clusters, init='k-means++');\n",
        "    idx = kmeans_clustering.fit_predict(word_vectors);\n",
        "    \n",
        "    return kmeans_clustering.cluster_centers_, idx;\n",
        "\n"
      ],
      "execution_count": 18,
      "outputs": []
    },
    {
      "cell_type": "code",
      "metadata": {
        "id": "SipDYtCMunOK",
        "colab": {
          "base_uri": "https://localhost:8080/"
        },
        "outputId": "67d089f6-ce8c-4200-df53-8c4f7020fd94"
      },
      "source": [
        "start = time.time();\n",
        "centers, clusters = clustering_on_wordvecs(Z, 10);\n",
        "print('Total time: ' + str((time.time() - start)) + ' secs')"
      ],
      "execution_count": 19,
      "outputs": [
        {
          "output_type": "stream",
          "text": [
            "Total time: 3.288970470428467 secs\n"
          ],
          "name": "stdout"
        }
      ]
    },
    {
      "cell_type": "code",
      "metadata": {
        "id": "VkPXsMr3unU2",
        "colab": {
          "base_uri": "https://localhost:8080/"
        },
        "outputId": "8ecf98b4-710a-4a1a-8bdf-c801af4d1a08"
      },
      "source": [
        "start = time.time();\n",
        "centroid_map = dict(zip(model.wv.index2word, clusters));\n",
        "print('Total time: ' + str((time.time() - start)) + ' secs')"
      ],
      "execution_count": 20,
      "outputs": [
        {
          "output_type": "stream",
          "text": [
            "Total time: 0.0019195079803466797 secs\n"
          ],
          "name": "stdout"
        }
      ]
    },
    {
      "cell_type": "code",
      "metadata": {
        "id": "Eiit-DJMunXf"
      },
      "source": [
        "\n",
        "\n",
        "def get_top_words(index2word, k, centers, wordvecs):\n",
        "    tree = KDTree(wordvecs);\n",
        "\n",
        "    #Closest points for each Cluster center is used to query the closest 20 points to it.\n",
        "    closest_points = [tree.query(np.reshape(x, (1, -1)), k=k) for x in centers];\n",
        "    closest_words_idxs = [x[1] for x in closest_points];\n",
        "\n",
        "    #Word Index is queried for each position in the above array, and added to a Dictionary.\n",
        "    closest_words = {};\n",
        "    for i in range(0, len(closest_words_idxs)):\n",
        "        closest_words['Cluster #' + str(i+1).zfill(2)] = [index2word[j] for j in closest_words_idxs[i][0]]\n",
        "\n",
        "    #A DataFrame is generated from the dictionary.\n",
        "    df = pd.DataFrame(closest_words);\n",
        "    df.index = df.index+1\n",
        "\n",
        "    return df;\n",
        "\n"
      ],
      "execution_count": 21,
      "outputs": []
    },
    {
      "cell_type": "code",
      "metadata": {
        "id": "Om35QvAhuuVQ"
      },
      "source": [
        "pd.set_option('display.max_columns', None)\n",
        "pd.set_option('display.max_rows', None)"
      ],
      "execution_count": 22,
      "outputs": []
    },
    {
      "cell_type": "code",
      "metadata": {
        "id": "4XO4vd3_uuXy"
      },
      "source": [
        "top_words = get_top_words(model.wv.index2word, 10, centers, Z)"
      ],
      "execution_count": 23,
      "outputs": []
    },
    {
      "cell_type": "code",
      "metadata": {
        "id": "WZ2jtnI-uuaX",
        "colab": {
          "base_uri": "https://localhost:8080/",
          "height": 380
        },
        "outputId": "9f5b7436-41bd-4cd8-c6ae-6b3c1e32dcc6"
      },
      "source": [
        "top_words"
      ],
      "execution_count": 24,
      "outputs": [
        {
          "output_type": "execute_result",
          "data": {
            "text/html": [
              "<div>\n",
              "<style scoped>\n",
              "    .dataframe tbody tr th:only-of-type {\n",
              "        vertical-align: middle;\n",
              "    }\n",
              "\n",
              "    .dataframe tbody tr th {\n",
              "        vertical-align: top;\n",
              "    }\n",
              "\n",
              "    .dataframe thead th {\n",
              "        text-align: right;\n",
              "    }\n",
              "</style>\n",
              "<table border=\"1\" class=\"dataframe\">\n",
              "  <thead>\n",
              "    <tr style=\"text-align: right;\">\n",
              "      <th></th>\n",
              "      <th>Cluster #01</th>\n",
              "      <th>Cluster #02</th>\n",
              "      <th>Cluster #03</th>\n",
              "      <th>Cluster #04</th>\n",
              "      <th>Cluster #05</th>\n",
              "      <th>Cluster #06</th>\n",
              "      <th>Cluster #07</th>\n",
              "      <th>Cluster #08</th>\n",
              "      <th>Cluster #09</th>\n",
              "      <th>Cluster #10</th>\n",
              "    </tr>\n",
              "  </thead>\n",
              "  <tbody>\n",
              "    <tr>\n",
              "      <th>1</th>\n",
              "      <td>upbeat</td>\n",
              "      <td>sto</td>\n",
              "      <td>directly</td>\n",
              "      <td>mantap</td>\n",
              "      <td>lf</td>\n",
              "      <td>huh</td>\n",
              "      <td>textures</td>\n",
              "      <td>outages</td>\n",
              "      <td>finals</td>\n",
              "      <td>bem</td>\n",
              "    </tr>\n",
              "    <tr>\n",
              "      <th>2</th>\n",
              "      <td>whimsical</td>\n",
              "      <td>igra</td>\n",
              "      <td>hoop</td>\n",
              "      <td>drip</td>\n",
              "      <td>mortal</td>\n",
              "      <td>jesus</td>\n",
              "      <td>themes</td>\n",
              "      <td>disaster</td>\n",
              "      <td>nd</td>\n",
              "      <td>horas</td>\n",
              "    </tr>\n",
              "    <tr>\n",
              "      <th>3</th>\n",
              "      <td>visually</td>\n",
              "      <td>oi</td>\n",
              "      <td>rings</td>\n",
              "      <td>merda</td>\n",
              "      <td>tears</td>\n",
              "      <td>scared</td>\n",
              "      <td>spec</td>\n",
              "      <td>reduced</td>\n",
              "      <td>starting</td>\n",
              "      <td>pasar</td>\n",
              "    </tr>\n",
              "    <tr>\n",
              "      <th>4</th>\n",
              "      <td>cheerful</td>\n",
              "      <td>geam</td>\n",
              "      <td>blocking</td>\n",
              "      <td>agh</td>\n",
              "      <td>fist</td>\n",
              "      <td>smell</td>\n",
              "      <td>gen</td>\n",
              "      <td>horrendous</td>\n",
              "      <td>qualifying</td>\n",
              "      <td>nunca</td>\n",
              "    </tr>\n",
              "    <tr>\n",
              "      <th>5</th>\n",
              "      <td>aesthetically</td>\n",
              "      <td>mantap</td>\n",
              "      <td>hexagon</td>\n",
              "      <td>nhu</td>\n",
              "      <td>peen</td>\n",
              "      <td>ceo</td>\n",
              "      <td>weekly</td>\n",
              "      <td>regarding</td>\n",
              "      <td>start</td>\n",
              "      <td>pena</td>\n",
              "    </tr>\n",
              "    <tr>\n",
              "      <th>6</th>\n",
              "      <td>energetic</td>\n",
              "      <td>anjing</td>\n",
              "      <td>shoved</td>\n",
              "      <td>fd</td>\n",
              "      <td>windmills</td>\n",
              "      <td>vic</td>\n",
              "      <td>odeio</td>\n",
              "      <td>china</td>\n",
              "      <td>immediately</td>\n",
              "      <td>partida</td>\n",
              "    </tr>\n",
              "    <tr>\n",
              "      <th>7</th>\n",
              "      <td>graphic</td>\n",
              "      <td>vf</td>\n",
              "      <td>spinning</td>\n",
              "      <td>fune</td>\n",
              "      <td>ex</td>\n",
              "      <td>jk</td>\n",
              "      <td>robust</td>\n",
              "      <td>patching</td>\n",
              "      <td>later</td>\n",
              "      <td>ich</td>\n",
              "    </tr>\n",
              "    <tr>\n",
              "      <th>8</th>\n",
              "      <td>artstyle</td>\n",
              "      <td>chido</td>\n",
              "      <td>tile</td>\n",
              "      <td>bing</td>\n",
              "      <td>slamming</td>\n",
              "      <td>ro</td>\n",
              "      <td>layer</td>\n",
              "      <td>asia</td>\n",
              "      <td>round</td>\n",
              "      <td>sa</td>\n",
              "    </tr>\n",
              "    <tr>\n",
              "      <th>9</th>\n",
              "      <td>cartoonish</td>\n",
              "      <td>lah</td>\n",
              "      <td>beam</td>\n",
              "      <td>gravitationally</td>\n",
              "      <td>collective</td>\n",
              "      <td>murdering</td>\n",
              "      <td>mandatory</td>\n",
              "      <td>severe</td>\n",
              "      <td>disconnected</td>\n",
              "      <td>ganhar</td>\n",
              "    </tr>\n",
              "    <tr>\n",
              "      <th>10</th>\n",
              "      <td>aesthetics</td>\n",
              "      <td>fanny</td>\n",
              "      <td>dodge</td>\n",
              "      <td>van</td>\n",
              "      <td>agh</td>\n",
              "      <td>amirite</td>\n",
              "      <td>generation</td>\n",
              "      <td>compensation</td>\n",
              "      <td>second</td>\n",
              "      <td>vez</td>\n",
              "    </tr>\n",
              "  </tbody>\n",
              "</table>\n",
              "</div>"
            ],
            "text/plain": [
              "      Cluster #01 Cluster #02 Cluster #03      Cluster #04 Cluster #05  \\\n",
              "1          upbeat         sto    directly           mantap          lf   \n",
              "2       whimsical        igra        hoop             drip      mortal   \n",
              "3        visually          oi       rings            merda       tears   \n",
              "4        cheerful        geam    blocking              agh        fist   \n",
              "5   aesthetically      mantap     hexagon              nhu        peen   \n",
              "6       energetic      anjing      shoved               fd   windmills   \n",
              "7         graphic          vf    spinning             fune          ex   \n",
              "8        artstyle       chido        tile             bing    slamming   \n",
              "9      cartoonish         lah        beam  gravitationally  collective   \n",
              "10     aesthetics       fanny       dodge              van         agh   \n",
              "\n",
              "   Cluster #06 Cluster #07   Cluster #08   Cluster #09 Cluster #10  \n",
              "1          huh    textures       outages        finals         bem  \n",
              "2        jesus      themes      disaster            nd       horas  \n",
              "3       scared        spec       reduced      starting       pasar  \n",
              "4        smell         gen    horrendous    qualifying       nunca  \n",
              "5          ceo      weekly     regarding         start        pena  \n",
              "6          vic       odeio         china   immediately     partida  \n",
              "7           jk      robust      patching         later         ich  \n",
              "8           ro       layer          asia         round          sa  \n",
              "9    murdering   mandatory        severe  disconnected      ganhar  \n",
              "10     amirite  generation  compensation        second         vez  "
            ]
          },
          "metadata": {
            "tags": []
          },
          "execution_count": 24
        }
      ]
    },
    {
      "cell_type": "code",
      "metadata": {
        "id": "gYqiOthZ__9x"
      },
      "source": [
        "def get_word_table(table, key, sim_key='similarity', show_sim = True):\n",
        "    if show_sim == True:\n",
        "        return pd.DataFrame(table, columns=[key, sim_key])\n",
        "    else:\n",
        "        return pd.DataFrame(table, columns=[key, sim_key])[key]\n",
        "\n",
        "\n"
      ],
      "execution_count": 25,
      "outputs": []
    },
    {
      "cell_type": "code",
      "metadata": {
        "id": "hvX9Y8YZuufd",
        "colab": {
          "base_uri": "https://localhost:8080/"
        },
        "outputId": "24404ecf-7a6a-4c56-d3e7-1c6c0dec08ab"
      },
      "source": [
        "keys = ['game', 'design', 'tactic', 'money', 'time','character','feeling','community' ]\n",
        "tables = []\n",
        "for key in keys:\n",
        "    tables.append(get_word_table(model.wv.similar_by_word(key,topn=50), key, show_sim=False))\n",
        "    "
      ],
      "execution_count": 31,
      "outputs": [
        {
          "output_type": "stream",
          "text": [
            "/usr/local/lib/python3.6/dist-packages/gensim/matutils.py:737: FutureWarning: Conversion of the second argument of issubdtype from `int` to `np.signedinteger` is deprecated. In future, it will be treated as `np.int64 == np.dtype(int).type`.\n",
            "  if np.issubdtype(vec.dtype, np.int):\n"
          ],
          "name": "stderr"
        }
      ]
    },
    {
      "cell_type": "code",
      "metadata": {
        "id": "re9piI-2vV3B",
        "colab": {
          "base_uri": "https://localhost:8080/",
          "height": 1000
        },
        "outputId": "ce7aa6b4-0b67-4e42-905d-efc5688f46f0"
      },
      "source": [
        "#aspect extraction and aspect terms\n",
        "pd.concat(tables, axis=1)"
      ],
      "execution_count": 32,
      "outputs": [
        {
          "output_type": "execute_result",
          "data": {
            "text/html": [
              "<div>\n",
              "<style scoped>\n",
              "    .dataframe tbody tr th:only-of-type {\n",
              "        vertical-align: middle;\n",
              "    }\n",
              "\n",
              "    .dataframe tbody tr th {\n",
              "        vertical-align: top;\n",
              "    }\n",
              "\n",
              "    .dataframe thead th {\n",
              "        text-align: right;\n",
              "    }\n",
              "</style>\n",
              "<table border=\"1\" class=\"dataframe\">\n",
              "  <thead>\n",
              "    <tr style=\"text-align: right;\">\n",
              "      <th></th>\n",
              "      <th>game</th>\n",
              "      <th>design</th>\n",
              "      <th>tactic</th>\n",
              "      <th>money</th>\n",
              "      <th>time</th>\n",
              "      <th>character</th>\n",
              "      <th>feeling</th>\n",
              "      <th>community</th>\n",
              "    </tr>\n",
              "  </thead>\n",
              "  <tbody>\n",
              "    <tr>\n",
              "      <th>0</th>\n",
              "      <td>experience</td>\n",
              "      <td>sound</td>\n",
              "      <td>dominate</td>\n",
              "      <td>moneys</td>\n",
              "      <td>minute</td>\n",
              "      <td>avatar</td>\n",
              "      <td>felt</td>\n",
              "      <td>developer</td>\n",
              "    </tr>\n",
              "    <tr>\n",
              "      <th>1</th>\n",
              "      <td>it</td>\n",
              "      <td>effects</td>\n",
              "      <td>nest</td>\n",
              "      <td>bucks</td>\n",
              "      <td>minutes</td>\n",
              "      <td>opponents</td>\n",
              "      <td>feels</td>\n",
              "      <td>feedback</td>\n",
              "    </tr>\n",
              "    <tr>\n",
              "      <th>2</th>\n",
              "      <td>match</td>\n",
              "      <td>aesthetic</td>\n",
              "      <td>rewrite</td>\n",
              "      <td>purchase</td>\n",
              "      <td>day</td>\n",
              "      <td>skills</td>\n",
              "      <td>rush</td>\n",
              "      <td>developers</td>\n",
              "    </tr>\n",
              "    <tr>\n",
              "      <th>3</th>\n",
              "      <td>games</td>\n",
              "      <td>music</td>\n",
              "      <td>groan</td>\n",
              "      <td>dollars</td>\n",
              "      <td>round</td>\n",
              "      <td>weight</td>\n",
              "      <td>excitement</td>\n",
              "      <td>mediatonic</td>\n",
              "    </tr>\n",
              "    <tr>\n",
              "      <th>4</th>\n",
              "      <td>round</td>\n",
              "      <td>artstyle</td>\n",
              "      <td>spread</td>\n",
              "      <td>euros</td>\n",
              "      <td>match</td>\n",
              "      <td>face</td>\n",
              "      <td>accomplishment</td>\n",
              "      <td>playerbase</td>\n",
              "    </tr>\n",
              "    <tr>\n",
              "      <th>5</th>\n",
              "      <td>honestly</td>\n",
              "      <td>visuals</td>\n",
              "      <td>reveal</td>\n",
              "      <td>euro</td>\n",
              "      <td>night</td>\n",
              "      <td>seat</td>\n",
              "      <td>tired</td>\n",
              "      <td>devs</td>\n",
              "    </tr>\n",
              "    <tr>\n",
              "      <th>6</th>\n",
              "      <td>fun</td>\n",
              "      <td>art</td>\n",
              "      <td>decrease</td>\n",
              "      <td>cash</td>\n",
              "      <td>times</td>\n",
              "      <td>head</td>\n",
              "      <td>satisfaction</td>\n",
              "      <td>fixing</td>\n",
              "    </tr>\n",
              "    <tr>\n",
              "      <th>7</th>\n",
              "      <td>day</td>\n",
              "      <td>aesthetics</td>\n",
              "      <td>asdf</td>\n",
              "      <td>buying</td>\n",
              "      <td>second</td>\n",
              "      <td>demise</td>\n",
              "      <td>winning</td>\n",
              "      <td>support</td>\n",
              "    </tr>\n",
              "    <tr>\n",
              "      <th>8</th>\n",
              "      <td>however</td>\n",
              "      <td>vibrant</td>\n",
              "      <td>kiddies</td>\n",
              "      <td>computer</td>\n",
              "      <td>hours</td>\n",
              "      <td>movement</td>\n",
              "      <td>adrenaline</td>\n",
              "      <td>company</td>\n",
              "    </tr>\n",
              "    <tr>\n",
              "      <th>9</th>\n",
              "      <td>thing</td>\n",
              "      <td>soundtrack</td>\n",
              "      <td>intermittent</td>\n",
              "      <td>spending</td>\n",
              "      <td>session</td>\n",
              "      <td>blood</td>\n",
              "      <td>rewarding</td>\n",
              "      <td>creators</td>\n",
              "    </tr>\n",
              "    <tr>\n",
              "      <th>10</th>\n",
              "      <td>everything</td>\n",
              "      <td>catchy</td>\n",
              "      <td>established</td>\n",
              "      <td>paying</td>\n",
              "      <td>start</td>\n",
              "      <td>customize</td>\n",
              "      <td>bored</td>\n",
              "      <td>expand</td>\n",
              "    </tr>\n",
              "    <tr>\n",
              "      <th>11</th>\n",
              "      <td>hype</td>\n",
              "      <td>colors</td>\n",
              "      <td>brutally</td>\n",
              "      <td>spare</td>\n",
              "      <td>hour</td>\n",
              "      <td>camera</td>\n",
              "      <td>crown</td>\n",
              "      <td>features</td>\n",
              "    </tr>\n",
              "    <tr>\n",
              "      <th>12</th>\n",
              "      <td>point</td>\n",
              "      <td>execution</td>\n",
              "      <td>populate</td>\n",
              "      <td>buy</td>\n",
              "      <td>term</td>\n",
              "      <td>characters</td>\n",
              "      <td>thrill</td>\n",
              "      <td>user</td>\n",
              "    </tr>\n",
              "    <tr>\n",
              "      <th>13</th>\n",
              "      <td>absolutely</td>\n",
              "      <td>graphics</td>\n",
              "      <td>prevents</td>\n",
              "      <td>price</td>\n",
              "      <td>matches</td>\n",
              "      <td>legs</td>\n",
              "      <td>annoyed</td>\n",
              "      <td>improving</td>\n",
              "    </tr>\n",
              "    <tr>\n",
              "      <th>14</th>\n",
              "      <td>month</td>\n",
              "      <td>designs</td>\n",
              "      <td>mandatory</td>\n",
              "      <td>quid</td>\n",
              "      <td>chance</td>\n",
              "      <td>body</td>\n",
              "      <td>feel</td>\n",
              "      <td>active</td>\n",
              "    </tr>\n",
              "    <tr>\n",
              "      <th>15</th>\n",
              "      <td>personally</td>\n",
              "      <td>upbeat</td>\n",
              "      <td>aka</td>\n",
              "      <td>purchased</td>\n",
              "      <td>penny</td>\n",
              "      <td>position</td>\n",
              "      <td>nature</td>\n",
              "      <td>twitter</td>\n",
              "    </tr>\n",
              "    <tr>\n",
              "      <th>16</th>\n",
              "      <td>fact</td>\n",
              "      <td>cartoony</td>\n",
              "      <td>acknowledging</td>\n",
              "      <td>elsewhere</td>\n",
              "      <td>lobby</td>\n",
              "      <td>adrenaline</td>\n",
              "      <td>wins</td>\n",
              "      <td>crossplay</td>\n",
              "    </tr>\n",
              "    <tr>\n",
              "      <th>17</th>\n",
              "      <td>lobby</td>\n",
              "      <td>pleasing</td>\n",
              "      <td>lesser</td>\n",
              "      <td>sell</td>\n",
              "      <td>rounds</td>\n",
              "      <td>heart</td>\n",
              "      <td>dopamine</td>\n",
              "      <td>studio</td>\n",
              "    </tr>\n",
              "    <tr>\n",
              "      <th>18</th>\n",
              "      <td>gameplay</td>\n",
              "      <td>quirky</td>\n",
              "      <td>prominent</td>\n",
              "      <td>burn</td>\n",
              "      <td>point</td>\n",
              "      <td>dive</td>\n",
              "      <td>takeshi</td>\n",
              "      <td>increase</td>\n",
              "    </tr>\n",
              "    <tr>\n",
              "      <th>19</th>\n",
              "      <td>promise</td>\n",
              "      <td>wacky</td>\n",
              "      <td>inspires</td>\n",
              "      <td>paid</td>\n",
              "      <td>stage</td>\n",
              "      <td>pattern</td>\n",
              "      <td>frustrated</td>\n",
              "      <td>addressing</td>\n",
              "    </tr>\n",
              "    <tr>\n",
              "      <th>20</th>\n",
              "      <td>problem</td>\n",
              "      <td>colours</td>\n",
              "      <td>inspire</td>\n",
              "      <td>wallet</td>\n",
              "      <td>mins</td>\n",
              "      <td>color</td>\n",
              "      <td>losing</td>\n",
              "      <td>communication</td>\n",
              "    </tr>\n",
              "    <tr>\n",
              "      <th>21</th>\n",
              "      <td>concept</td>\n",
              "      <td>mechanics</td>\n",
              "      <td>submit</td>\n",
              "      <td>refund</td>\n",
              "      <td>once</td>\n",
              "      <td>landing</td>\n",
              "      <td>show</td>\n",
              "      <td>communicative</td>\n",
              "    </tr>\n",
              "    <tr>\n",
              "      <th>22</th>\n",
              "      <td>week</td>\n",
              "      <td>simplistic</td>\n",
              "      <td>bridge</td>\n",
              "      <td>life</td>\n",
              "      <td>haul</td>\n",
              "      <td>customise</td>\n",
              "      <td>round</td>\n",
              "      <td>suggestions</td>\n",
              "    </tr>\n",
              "    <tr>\n",
              "      <th>23</th>\n",
              "      <td>fixed</td>\n",
              "      <td>charming</td>\n",
              "      <td>widespread</td>\n",
              "      <td>attention</td>\n",
              "      <td>nearly</td>\n",
              "      <td>decorate</td>\n",
              "      <td>chance</td>\n",
              "      <td>communicating</td>\n",
              "    </tr>\n",
              "    <tr>\n",
              "      <th>24</th>\n",
              "      <td>penny</td>\n",
              "      <td>movement</td>\n",
              "      <td>lies</td>\n",
              "      <td>sale</td>\n",
              "      <td>money</td>\n",
              "      <td>teeth</td>\n",
              "      <td>odds</td>\n",
              "      <td>official</td>\n",
              "    </tr>\n",
              "    <tr>\n",
              "      <th>25</th>\n",
              "      <td>originality</td>\n",
              "      <td>cutesy</td>\n",
              "      <td>central</td>\n",
              "      <td>cent</td>\n",
              "      <td>min</td>\n",
              "      <td>patterns</td>\n",
              "      <td>worried</td>\n",
              "      <td>success</td>\n",
              "    </tr>\n",
              "    <tr>\n",
              "      <th>26</th>\n",
              "      <td>its</td>\n",
              "      <td>creative</td>\n",
              "      <td>taunting</td>\n",
              "      <td>eur</td>\n",
              "      <td>morning</td>\n",
              "      <td>moving</td>\n",
              "      <td>losses</td>\n",
              "      <td>workshop</td>\n",
              "    </tr>\n",
              "    <tr>\n",
              "      <th>27</th>\n",
              "      <td>season</td>\n",
              "      <td>bright</td>\n",
              "      <td>anonymity</td>\n",
              "      <td>pocket</td>\n",
              "      <td>week</td>\n",
              "      <td>models</td>\n",
              "      <td>victory</td>\n",
              "      <td>longevity</td>\n",
              "    </tr>\n",
              "    <tr>\n",
              "      <th>28</th>\n",
              "      <td>matches</td>\n",
              "      <td>characters</td>\n",
              "      <td>decline</td>\n",
              "      <td>edition</td>\n",
              "      <td>moment</td>\n",
              "      <td>enemies</td>\n",
              "      <td>watching</td>\n",
              "      <td>continuing</td>\n",
              "    </tr>\n",
              "    <tr>\n",
              "      <th>29</th>\n",
              "      <td>idea</td>\n",
              "      <td>physics</td>\n",
              "      <td>renders</td>\n",
              "      <td>kudos</td>\n",
              "      <td>almost</td>\n",
              "      <td>jellybean</td>\n",
              "      <td>sounds</td>\n",
              "      <td>popularity</td>\n",
              "    </tr>\n",
              "    <tr>\n",
              "      <th>30</th>\n",
              "      <td>time</td>\n",
              "      <td>visual</td>\n",
              "      <td>scores</td>\n",
              "      <td>hype</td>\n",
              "      <td>points</td>\n",
              "      <td>fate</td>\n",
              "      <td>xp</td>\n",
              "      <td>veto</td>\n",
              "    </tr>\n",
              "    <tr>\n",
              "      <th>31</th>\n",
              "      <td>content</td>\n",
              "      <td>animations</td>\n",
              "      <td>kiddie</td>\n",
              "      <td>spend</td>\n",
              "      <td>days</td>\n",
              "      <td>reactions</td>\n",
              "      <td>shooters</td>\n",
              "      <td>fixes</td>\n",
              "    </tr>\n",
              "    <tr>\n",
              "      <th>32</th>\n",
              "      <td>really</td>\n",
              "      <td>gameplay</td>\n",
              "      <td>script</td>\n",
              "      <td>credit</td>\n",
              "      <td>laugh</td>\n",
              "      <td>actions</td>\n",
              "      <td>hang</td>\n",
              "      <td>dealt</td>\n",
              "    </tr>\n",
              "    <tr>\n",
              "      <th>33</th>\n",
              "      <td>minute</td>\n",
              "      <td>colorful</td>\n",
              "      <td>basics</td>\n",
              "      <td>collectors</td>\n",
              "      <td>enjoyment</td>\n",
              "      <td>stumble</td>\n",
              "      <td>rounds</td>\n",
              "      <td>ideas</td>\n",
              "    </tr>\n",
              "    <tr>\n",
              "      <th>34</th>\n",
              "      <td>beta</td>\n",
              "      <td>pros</td>\n",
              "      <td>brainlet</td>\n",
              "      <td>dollar</td>\n",
              "      <td>cent</td>\n",
              "      <td>animations</td>\n",
              "      <td>giggle</td>\n",
              "      <td>updates</td>\n",
              "    </tr>\n",
              "    <tr>\n",
              "      <th>35</th>\n",
              "      <td>playerbase</td>\n",
              "      <td>simplicity</td>\n",
              "      <td>unbelievable</td>\n",
              "      <td>usd</td>\n",
              "      <td>likely</td>\n",
              "      <td>dreams</td>\n",
              "      <td>crowns</td>\n",
              "      <td>future</td>\n",
              "    </tr>\n",
              "    <tr>\n",
              "      <th>36</th>\n",
              "      <td>hours</td>\n",
              "      <td>concept</td>\n",
              "      <td>pitch</td>\n",
              "      <td>pc</td>\n",
              "      <td>way</td>\n",
              "      <td>toes</td>\n",
              "      <td>getting</td>\n",
              "      <td>changes</td>\n",
              "    </tr>\n",
              "    <tr>\n",
              "      <th>37</th>\n",
              "      <td>days</td>\n",
              "      <td>visually</td>\n",
              "      <td>solutions</td>\n",
              "      <td>purchasing</td>\n",
              "      <td>month</td>\n",
              "      <td>eyes</td>\n",
              "      <td>loseing</td>\n",
              "      <td>improve</td>\n",
              "    </tr>\n",
              "    <tr>\n",
              "      <th>38</th>\n",
              "      <td>something</td>\n",
              "      <td>premise</td>\n",
              "      <td>witnessed</td>\n",
              "      <td>spent</td>\n",
              "      <td>end</td>\n",
              "      <td>doom</td>\n",
              "      <td>jacked</td>\n",
              "      <td>improvements</td>\n",
              "    </tr>\n",
              "    <tr>\n",
              "      <th>39</th>\n",
              "      <td>sense</td>\n",
              "      <td>layout</td>\n",
              "      <td>algorithms</td>\n",
              "      <td>requested</td>\n",
              "      <td>while</td>\n",
              "      <td>trip</td>\n",
              "      <td>challenge</td>\n",
              "      <td>dev</td>\n",
              "    </tr>\n",
              "    <tr>\n",
              "      <th>40</th>\n",
              "      <td>actually</td>\n",
              "      <td>clunky</td>\n",
              "      <td>dread</td>\n",
              "      <td>buddies</td>\n",
              "      <td>screen</td>\n",
              "      <td>chances</td>\n",
              "      <td>dub</td>\n",
              "      <td>created</td>\n",
              "    </tr>\n",
              "    <tr>\n",
              "      <th>41</th>\n",
              "      <td>potential</td>\n",
              "      <td>color</td>\n",
              "      <td>efficient</td>\n",
              "      <td>library</td>\n",
              "      <td>least</td>\n",
              "      <td>puzzles</td>\n",
              "      <td>joy</td>\n",
              "      <td>solution</td>\n",
              "    </tr>\n",
              "    <tr>\n",
              "      <th>42</th>\n",
              "      <td>stage</td>\n",
              "      <td>colourful</td>\n",
              "      <td>seasaws</td>\n",
              "      <td>pay</td>\n",
              "      <td>myself</td>\n",
              "      <td>diving</td>\n",
              "      <td>wears</td>\n",
              "      <td>usernames</td>\n",
              "    </tr>\n",
              "    <tr>\n",
              "      <th>43</th>\n",
              "      <td>issue</td>\n",
              "      <td>adorable</td>\n",
              "      <td>estimate</td>\n",
              "      <td>xp</td>\n",
              "      <td>seconds</td>\n",
              "      <td>goals</td>\n",
              "      <td>seconds</td>\n",
              "      <td>develop</td>\n",
              "    </tr>\n",
              "    <tr>\n",
              "      <th>44</th>\n",
              "      <td>state</td>\n",
              "      <td>style</td>\n",
              "      <td>shadow</td>\n",
              "      <td>ps</td>\n",
              "      <td>sessions</td>\n",
              "      <td>jumps</td>\n",
              "      <td>journey</td>\n",
              "      <td>voting</td>\n",
              "    </tr>\n",
              "    <tr>\n",
              "      <th>45</th>\n",
              "      <td>wait</td>\n",
              "      <td>doll</td>\n",
              "      <td>abysmal</td>\n",
              "      <td>dlc</td>\n",
              "      <td>place</td>\n",
              "      <td>objects</td>\n",
              "      <td>drunk</td>\n",
              "      <td>comments</td>\n",
              "    </tr>\n",
              "    <tr>\n",
              "      <th>46</th>\n",
              "      <td>boring</td>\n",
              "      <td>ui</td>\n",
              "      <td>pose</td>\n",
              "      <td>windows</td>\n",
              "      <td>bursts</td>\n",
              "      <td>obstacles</td>\n",
              "      <td>smiling</td>\n",
              "      <td>scale</td>\n",
              "    </tr>\n",
              "    <tr>\n",
              "      <th>47</th>\n",
              "      <td>hour</td>\n",
              "      <td>creativity</td>\n",
              "      <td>dosent</td>\n",
              "      <td>penny</td>\n",
              "      <td>mercy</td>\n",
              "      <td>track</td>\n",
              "      <td>emotion</td>\n",
              "      <td>actively</td>\n",
              "    </tr>\n",
              "    <tr>\n",
              "      <th>48</th>\n",
              "      <td>developer</td>\n",
              "      <td>randomness</td>\n",
              "      <td>countdown</td>\n",
              "      <td>microtransactions</td>\n",
              "      <td>experience</td>\n",
              "      <td>buttons</td>\n",
              "      <td>sweet</td>\n",
              "      <td>limitless</td>\n",
              "    </tr>\n",
              "    <tr>\n",
              "      <th>49</th>\n",
              "      <td>but</td>\n",
              "      <td>theme</td>\n",
              "      <td>commend</td>\n",
              "      <td>coins</td>\n",
              "      <td>expense</td>\n",
              "      <td>customizing</td>\n",
              "      <td>satisfying</td>\n",
              "      <td>address</td>\n",
              "    </tr>\n",
              "  </tbody>\n",
              "</table>\n",
              "</div>"
            ],
            "text/plain": [
              "           game      design         tactic              money        time  \\\n",
              "0    experience       sound       dominate             moneys      minute   \n",
              "1            it     effects           nest              bucks     minutes   \n",
              "2         match   aesthetic        rewrite           purchase         day   \n",
              "3         games       music          groan            dollars       round   \n",
              "4         round    artstyle         spread              euros       match   \n",
              "5      honestly     visuals         reveal               euro       night   \n",
              "6           fun         art       decrease               cash       times   \n",
              "7           day  aesthetics           asdf             buying      second   \n",
              "8       however     vibrant        kiddies           computer       hours   \n",
              "9         thing  soundtrack   intermittent           spending     session   \n",
              "10   everything      catchy    established             paying       start   \n",
              "11         hype      colors       brutally              spare        hour   \n",
              "12        point   execution       populate                buy        term   \n",
              "13   absolutely    graphics       prevents              price     matches   \n",
              "14        month     designs      mandatory               quid      chance   \n",
              "15   personally      upbeat            aka          purchased       penny   \n",
              "16         fact    cartoony  acknowledging          elsewhere       lobby   \n",
              "17        lobby    pleasing         lesser               sell      rounds   \n",
              "18     gameplay      quirky      prominent               burn       point   \n",
              "19      promise       wacky       inspires               paid       stage   \n",
              "20      problem     colours        inspire             wallet        mins   \n",
              "21      concept   mechanics         submit             refund        once   \n",
              "22         week  simplistic         bridge               life        haul   \n",
              "23        fixed    charming     widespread          attention      nearly   \n",
              "24        penny    movement           lies               sale       money   \n",
              "25  originality      cutesy        central               cent         min   \n",
              "26          its    creative       taunting                eur     morning   \n",
              "27       season      bright      anonymity             pocket        week   \n",
              "28      matches  characters        decline            edition      moment   \n",
              "29         idea     physics        renders              kudos      almost   \n",
              "30         time      visual         scores               hype      points   \n",
              "31      content  animations         kiddie              spend        days   \n",
              "32       really    gameplay         script             credit       laugh   \n",
              "33       minute    colorful         basics         collectors   enjoyment   \n",
              "34         beta        pros       brainlet             dollar        cent   \n",
              "35   playerbase  simplicity   unbelievable                usd      likely   \n",
              "36        hours     concept          pitch                 pc         way   \n",
              "37         days    visually      solutions         purchasing       month   \n",
              "38    something     premise      witnessed              spent         end   \n",
              "39        sense      layout     algorithms          requested       while   \n",
              "40     actually      clunky          dread            buddies      screen   \n",
              "41    potential       color      efficient            library       least   \n",
              "42        stage   colourful        seasaws                pay      myself   \n",
              "43        issue    adorable       estimate                 xp     seconds   \n",
              "44        state       style         shadow                 ps    sessions   \n",
              "45         wait        doll        abysmal                dlc       place   \n",
              "46       boring          ui           pose            windows      bursts   \n",
              "47         hour  creativity         dosent              penny       mercy   \n",
              "48    developer  randomness      countdown  microtransactions  experience   \n",
              "49          but       theme        commend              coins     expense   \n",
              "\n",
              "      character         feeling      community  \n",
              "0        avatar            felt      developer  \n",
              "1     opponents           feels       feedback  \n",
              "2        skills            rush     developers  \n",
              "3        weight      excitement     mediatonic  \n",
              "4          face  accomplishment     playerbase  \n",
              "5          seat           tired           devs  \n",
              "6          head    satisfaction         fixing  \n",
              "7        demise         winning        support  \n",
              "8      movement      adrenaline        company  \n",
              "9         blood       rewarding       creators  \n",
              "10    customize           bored         expand  \n",
              "11       camera           crown       features  \n",
              "12   characters          thrill           user  \n",
              "13         legs         annoyed      improving  \n",
              "14         body            feel         active  \n",
              "15     position          nature        twitter  \n",
              "16   adrenaline            wins      crossplay  \n",
              "17        heart        dopamine         studio  \n",
              "18         dive         takeshi       increase  \n",
              "19      pattern      frustrated     addressing  \n",
              "20        color          losing  communication  \n",
              "21      landing            show  communicative  \n",
              "22    customise           round    suggestions  \n",
              "23     decorate          chance  communicating  \n",
              "24        teeth            odds       official  \n",
              "25     patterns         worried        success  \n",
              "26       moving          losses       workshop  \n",
              "27       models         victory      longevity  \n",
              "28      enemies        watching     continuing  \n",
              "29    jellybean          sounds     popularity  \n",
              "30         fate              xp           veto  \n",
              "31    reactions        shooters          fixes  \n",
              "32      actions            hang          dealt  \n",
              "33      stumble          rounds          ideas  \n",
              "34   animations          giggle        updates  \n",
              "35       dreams          crowns         future  \n",
              "36         toes         getting        changes  \n",
              "37         eyes         loseing        improve  \n",
              "38         doom          jacked   improvements  \n",
              "39         trip       challenge            dev  \n",
              "40      chances             dub        created  \n",
              "41      puzzles             joy       solution  \n",
              "42       diving           wears      usernames  \n",
              "43        goals         seconds        develop  \n",
              "44        jumps         journey         voting  \n",
              "45      objects           drunk       comments  \n",
              "46    obstacles         smiling          scale  \n",
              "47        track         emotion       actively  \n",
              "48      buttons           sweet      limitless  \n",
              "49  customizing      satisfying        address  "
            ]
          },
          "metadata": {
            "tags": []
          },
          "execution_count": 32
        }
      ]
    },
    {
      "cell_type": "code",
      "metadata": {
        "id": "IYWDV2afvV8R"
      },
      "source": [
        ""
      ],
      "execution_count": 27,
      "outputs": []
    },
    {
      "cell_type": "code",
      "metadata": {
        "id": "dqMBELPevV_L"
      },
      "source": [
        ""
      ],
      "execution_count": 27,
      "outputs": []
    },
    {
      "cell_type": "code",
      "metadata": {
        "id": "p-P9POyPvWB7"
      },
      "source": [
        ""
      ],
      "execution_count": 27,
      "outputs": []
    },
    {
      "cell_type": "code",
      "metadata": {
        "id": "JYncrCCIvWFU"
      },
      "source": [
        ""
      ],
      "execution_count": 27,
      "outputs": []
    },
    {
      "cell_type": "code",
      "metadata": {
        "id": "RfZ84lRZez8x"
      },
      "source": [
        "#Aspect extraction of Game Reviews\n",
        "##CAT: https://github.com/clips/cat\n",
        "\n",
        "#works, results to be uploaded to repo, but the results are not reliable\n",
        "\n",
        "#Steps:TBD"
      ],
      "execution_count": 28,
      "outputs": []
    },
    {
      "cell_type": "code",
      "metadata": {
        "id": "9NCS1MFuGhNR"
      },
      "source": [
        "#labels: game, design, tactic, time, money,character,feeling, community"
      ],
      "execution_count": 29,
      "outputs": []
    },
    {
      "cell_type": "code",
      "metadata": {
        "id": "V-DkvQaLVYjk"
      },
      "source": [
        "# calculate sentiment score for each review"
      ],
      "execution_count": 59,
      "outputs": []
    },
    {
      "cell_type": "code",
      "metadata": {
        "colab": {
          "base_uri": "https://localhost:8080/"
        },
        "id": "uFaubqdGMfC8",
        "outputId": "7a6efef6-f619-4d1f-8337-1fd87e075ab5"
      },
      "source": [
        "!pip install vaderSentiment"
      ],
      "execution_count": 60,
      "outputs": [
        {
          "output_type": "stream",
          "text": [
            "Collecting vaderSentiment\n",
            "\u001b[?25l  Downloading https://files.pythonhosted.org/packages/76/fc/310e16254683c1ed35eeb97386986d6c00bc29df17ce280aed64d55537e9/vaderSentiment-3.3.2-py2.py3-none-any.whl (125kB)\n",
            "\r\u001b[K     |██▋                             | 10kB 17.7MB/s eta 0:00:01\r\u001b[K     |█████▏                          | 20kB 22.9MB/s eta 0:00:01\r\u001b[K     |███████▉                        | 30kB 26.5MB/s eta 0:00:01\r\u001b[K     |██████████▍                     | 40kB 20.2MB/s eta 0:00:01\r\u001b[K     |█████████████                   | 51kB 15.5MB/s eta 0:00:01\r\u001b[K     |███████████████▋                | 61kB 17.4MB/s eta 0:00:01\r\u001b[K     |██████████████████▏             | 71kB 15.7MB/s eta 0:00:01\r\u001b[K     |████████████████████▉           | 81kB 13.8MB/s eta 0:00:01\r\u001b[K     |███████████████████████▍        | 92kB 14.0MB/s eta 0:00:01\r\u001b[K     |██████████████████████████      | 102kB 12.5MB/s eta 0:00:01\r\u001b[K     |████████████████████████████▋   | 112kB 12.5MB/s eta 0:00:01\r\u001b[K     |███████████████████████████████▏| 122kB 12.5MB/s eta 0:00:01\r\u001b[K     |████████████████████████████████| 133kB 12.5MB/s \n",
            "\u001b[?25hRequirement already satisfied: requests in /usr/local/lib/python3.6/dist-packages (from vaderSentiment) (2.23.0)\n",
            "Requirement already satisfied: chardet<4,>=3.0.2 in /usr/local/lib/python3.6/dist-packages (from requests->vaderSentiment) (3.0.4)\n",
            "Requirement already satisfied: urllib3!=1.25.0,!=1.25.1,<1.26,>=1.21.1 in /usr/local/lib/python3.6/dist-packages (from requests->vaderSentiment) (1.24.3)\n",
            "Requirement already satisfied: certifi>=2017.4.17 in /usr/local/lib/python3.6/dist-packages (from requests->vaderSentiment) (2020.6.20)\n",
            "Requirement already satisfied: idna<3,>=2.5 in /usr/local/lib/python3.6/dist-packages (from requests->vaderSentiment) (2.10)\n",
            "Installing collected packages: vaderSentiment\n",
            "Successfully installed vaderSentiment-3.3.2\n"
          ],
          "name": "stdout"
        }
      ]
    },
    {
      "cell_type": "code",
      "metadata": {
        "id": "J7uBtpT6UzUB"
      },
      "source": [
        "from vaderSentiment.vaderSentiment import SentimentIntensityAnalyzer "
      ],
      "execution_count": 61,
      "outputs": []
    },
    {
      "cell_type": "code",
      "metadata": {
        "id": "9Ku2rM33U20k"
      },
      "source": [
        "def sentiment_analyzer(data):\n",
        "  analyser = SentimentIntensityAnalyzer()\n",
        "\n",
        "  sentiment_score_list = []\n",
        "  sentiment_label_list = []\n",
        "\n",
        "\n",
        "\n",
        "  for i in data.values.tolist():\n",
        "    #print(i)\n",
        "    #if type(i) == \"float\":\n",
        "    #  continue\n",
        "      sentiment_score = analyser.polarity_scores(i)\n",
        "\n",
        "      if sentiment_score['compound'] >= 0.05:\n",
        "          sentiment_score_list.append(sentiment_score['compound'])\n",
        "          sentiment_label_list.append('Positive')\n",
        "      elif sentiment_score['compound'] > -0.05 and sentiment_score['compound'] < 0.05:\n",
        "          sentiment_score_list.append(sentiment_score['compound'])\n",
        "          sentiment_label_list.append('Neutral')\n",
        "      elif sentiment_score['compound'] <= -0.05:\n",
        "          sentiment_score_list.append(sentiment_score['compound'])\n",
        "          sentiment_label_list.append('Negative')\n",
        "  data=pd.DataFrame(data)\n",
        "  data['sentiment'] = sentiment_label_list\n",
        "  data['sentiment score'] = sentiment_score_list\n",
        "\n",
        "  return data\n"
      ],
      "execution_count": 78,
      "outputs": []
    },
    {
      "cell_type": "code",
      "metadata": {
        "id": "wyLTwtSpVyjq"
      },
      "source": [
        "fg_df_text=sentiment_analyzer(fg_df_text)\n",
        "csgo_df_text=sentiment_analyzer(csgo_df_text)"
      ],
      "execution_count": 79,
      "outputs": []
    },
    {
      "cell_type": "code",
      "metadata": {
        "id": "n3JRY6vGU-Of"
      },
      "source": [
        "def plot_sentiment(data):\n",
        "\n",
        "  import seaborn as sns\n",
        "  ax = sns.countplot(x=\"sentiment\",data=data)\n"
      ],
      "execution_count": 82,
      "outputs": []
    },
    {
      "cell_type": "code",
      "metadata": {
        "colab": {
          "base_uri": "https://localhost:8080/",
          "height": 279
        },
        "id": "3x2XcXZJWR2m",
        "outputId": "47582dca-3650-46f3-ef9b-a05ca1069822"
      },
      "source": [
        "plot_sentiment(fg_df_text)"
      ],
      "execution_count": 83,
      "outputs": [
        {
          "output_type": "display_data",
          "data": {
            "image/png": "[encoded data removed]",
            "text/plain": [
              "<Figure size 432x288 with 1 Axes>"
            ]
          },
          "metadata": {
            "tags": [],
            "needs_background": "light"
          }
        }
      ]
    },
    {
      "cell_type": "code",
      "metadata": {
        "colab": {
          "base_uri": "https://localhost:8080/",
          "height": 279
        },
        "id": "1E_Ff5eLWR5s",
        "outputId": "c1deef77-c22a-4777-fe6f-c6d9b0ca761d"
      },
      "source": [
        "plot_sentiment(csgo_df_text)"
      ],
      "execution_count": 84,
      "outputs": [
        {
          "output_type": "display_data",
          "data": {
            "image/png": "[encoded data removed]",
            "text/plain": [
              "<Figure size 432x288 with 1 Axes>"
            ]
          },
          "metadata": {
            "tags": [],
            "needs_background": "light"
          }
        }
      ]
    },
    {
      "cell_type": "code",
      "metadata": {
        "id": "k4E6hSBKNgrh"
      },
      "source": [
        "#extract aspect and words in reviews "
      ],
      "execution_count": null,
      "outputs": []
    },
    {
      "cell_type": "code",
      "metadata": {
        "colab": {
          "base_uri": "https://localhost:8080/"
        },
        "id": "wR4jBt_3N2e6",
        "outputId": "fa165d09-8bc1-4bbf-d6ad-2c990c6f82f2"
      },
      "source": [
        "!pip install stanza"
      ],
      "execution_count": 42,
      "outputs": [
        {
          "output_type": "stream",
          "text": [
            "Collecting stanza\n",
            "\u001b[?25l  Downloading https://files.pythonhosted.org/packages/e7/8b/3a9e7a8d8cb14ad6afffc3983b7a7322a3a24d94ebc978a70746fcffc085/stanza-1.1.1-py3-none-any.whl (227kB)\n",
            "\r\u001b[K     |█▍                              | 10kB 16.4MB/s eta 0:00:01\r\u001b[K     |██▉                             | 20kB 22.5MB/s eta 0:00:01\r\u001b[K     |████▎                           | 30kB 21.2MB/s eta 0:00:01\r\u001b[K     |█████▊                          | 40kB 12.3MB/s eta 0:00:01\r\u001b[K     |███████▏                        | 51kB 11.8MB/s eta 0:00:01\r\u001b[K     |████████▋                       | 61kB 13.0MB/s eta 0:00:01\r\u001b[K     |██████████                      | 71kB 11.4MB/s eta 0:00:01\r\u001b[K     |███████████▌                    | 81kB 11.2MB/s eta 0:00:01\r\u001b[K     |█████████████                   | 92kB 10.5MB/s eta 0:00:01\r\u001b[K     |██████████████▍                 | 102kB 10.7MB/s eta 0:00:01\r\u001b[K     |███████████████▉                | 112kB 10.7MB/s eta 0:00:01\r\u001b[K     |█████████████████▎              | 122kB 10.7MB/s eta 0:00:01\r\u001b[K     |██████████████████▊             | 133kB 10.7MB/s eta 0:00:01\r\u001b[K     |████████████████████▏           | 143kB 10.7MB/s eta 0:00:01\r\u001b[K     |█████████████████████▋          | 153kB 10.7MB/s eta 0:00:01\r\u001b[K     |███████████████████████         | 163kB 10.7MB/s eta 0:00:01\r\u001b[K     |████████████████████████▌       | 174kB 10.7MB/s eta 0:00:01\r\u001b[K     |██████████████████████████      | 184kB 10.7MB/s eta 0:00:01\r\u001b[K     |███████████████████████████▍    | 194kB 10.7MB/s eta 0:00:01\r\u001b[K     |████████████████████████████▉   | 204kB 10.7MB/s eta 0:00:01\r\u001b[K     |██████████████████████████████▎ | 215kB 10.7MB/s eta 0:00:01\r\u001b[K     |███████████████████████████████▊| 225kB 10.7MB/s eta 0:00:01\r\u001b[K     |████████████████████████████████| 235kB 10.7MB/s \n",
            "\u001b[?25hRequirement already satisfied: requests in /usr/local/lib/python3.6/dist-packages (from stanza) (2.23.0)\n",
            "Requirement already satisfied: torch>=1.3.0 in /usr/local/lib/python3.6/dist-packages (from stanza) (1.7.0+cu101)\n",
            "Requirement already satisfied: tqdm in /usr/local/lib/python3.6/dist-packages (from stanza) (4.41.1)\n",
            "Requirement already satisfied: protobuf in /usr/local/lib/python3.6/dist-packages (from stanza) (3.12.4)\n",
            "Requirement already satisfied: numpy in /usr/local/lib/python3.6/dist-packages (from stanza) (1.18.5)\n",
            "Requirement already satisfied: idna<3,>=2.5 in /usr/local/lib/python3.6/dist-packages (from requests->stanza) (2.10)\n",
            "Requirement already satisfied: certifi>=2017.4.17 in /usr/local/lib/python3.6/dist-packages (from requests->stanza) (2020.6.20)\n",
            "Requirement already satisfied: urllib3!=1.25.0,!=1.25.1,<1.26,>=1.21.1 in /usr/local/lib/python3.6/dist-packages (from requests->stanza) (1.24.3)\n",
            "Requirement already satisfied: chardet<4,>=3.0.2 in /usr/local/lib/python3.6/dist-packages (from requests->stanza) (3.0.4)\n",
            "Requirement already satisfied: dataclasses in /usr/local/lib/python3.6/dist-packages (from torch>=1.3.0->stanza) (0.7)\n",
            "Requirement already satisfied: typing-extensions in /usr/local/lib/python3.6/dist-packages (from torch>=1.3.0->stanza) (3.7.4.3)\n",
            "Requirement already satisfied: future in /usr/local/lib/python3.6/dist-packages (from torch>=1.3.0->stanza) (0.16.0)\n",
            "Requirement already satisfied: six>=1.9 in /usr/local/lib/python3.6/dist-packages (from protobuf->stanza) (1.15.0)\n",
            "Requirement already satisfied: setuptools in /usr/local/lib/python3.6/dist-packages (from protobuf->stanza) (50.3.2)\n",
            "Installing collected packages: stanza\n",
            "Successfully installed stanza-1.1.1\n"
          ],
          "name": "stdout"
        }
      ]
    },
    {
      "cell_type": "code",
      "metadata": {
        "colab": {
          "base_uri": "https://localhost:8080/"
        },
        "id": "caq3RuZhMe-r",
        "outputId": "e307a01c-6f32-42c7-f569-abe393499129"
      },
      "source": [
        "import pandas as pd\n",
        "import numpy as np\n",
        "import nltk\n",
        "from nltk.corpus import stopwords\n",
        "from nltk.corpus import wordnet\n",
        "from nltk.tokenize import word_tokenize, sent_tokenize\n",
        "from nltk.stem.wordnet import WordNetLemmatizer \n",
        "import stanza\n",
        "\n",
        "# Make sure you have downloaded the StanfordNLP English model and other essential tools using,\n",
        "stanza.download('en')\n",
        "nltk.download('stopwords')\n",
        "nltk.download('punkt')\n",
        "nltk.download('averaged_perceptron_tagger')\n",
        "\n"
      ],
      "execution_count": 46,
      "outputs": [
        {
          "output_type": "stream",
          "text": [
            "Downloading https://raw.githubusercontent.com/stanfordnlp/stanza-resources/master/resources_1.1.0.json: 122kB [00:00, 21.4MB/s]                    \n",
            "2020-11-23 08:44:27,813 : INFO : Downloading default packages for language: en (English)...\n",
            "Downloading http://nlp.stanford.edu/software/stanza/1.1.0/en/default.zip: 100%|██████████| 428M/428M [03:36<00:00, 1.98MB/s]\n",
            "2020-11-23 08:48:12,648 : INFO : Finished downloading models and saved to /root/stanza_resources.\n"
          ],
          "name": "stderr"
        },
        {
          "output_type": "stream",
          "text": [
            "[nltk_data] Downloading package stopwords to /root/nltk_data...\n",
            "[nltk_data]   Package stopwords is already up-to-date!\n",
            "[nltk_data] Downloading package punkt to /root/nltk_data...\n",
            "[nltk_data]   Package punkt is already up-to-date!\n",
            "[nltk_data] Downloading package averaged_perceptron_tagger to\n",
            "[nltk_data]     /root/nltk_data...\n",
            "[nltk_data]   Package averaged_perceptron_tagger is already up-to-\n",
            "[nltk_data]       date!\n"
          ],
          "name": "stdout"
        },
        {
          "output_type": "execute_result",
          "data": {
            "text/plain": [
              "True"
            ]
          },
          "metadata": {
            "tags": []
          },
          "execution_count": 46
        }
      ]
    },
    {
      "cell_type": "code",
      "metadata": {
        "colab": {
          "base_uri": "https://localhost:8080/"
        },
        "id": "Fwug--utQSGV",
        "outputId": "0d37ce9e-f100-4486-b8c9-8469c9890f83"
      },
      "source": [
        "nlp = stanza.Pipeline()\n",
        "\n",
        "\n",
        "\n"
      ],
      "execution_count": 47,
      "outputs": [
        {
          "output_type": "stream",
          "text": [
            "2020-11-23 08:48:23,556 : INFO : Loading these models for language: en (English):\n",
            "=========================\n",
            "| Processor | Package   |\n",
            "-------------------------\n",
            "| tokenize  | ewt       |\n",
            "| pos       | ewt       |\n",
            "| lemma     | ewt       |\n",
            "| depparse  | ewt       |\n",
            "| sentiment | sstplus   |\n",
            "| ner       | ontonotes |\n",
            "=========================\n",
            "\n",
            "2020-11-23 08:48:23,559 : INFO : Use device: cpu\n",
            "2020-11-23 08:48:23,561 : INFO : Loading: tokenize\n",
            "2020-11-23 08:48:23,644 : INFO : Loading: pos\n",
            "2020-11-23 08:48:24,782 : INFO : Loading: lemma\n",
            "2020-11-23 08:48:24,822 : INFO : Loading: depparse\n",
            "2020-11-23 08:48:26,035 : INFO : Loading: sentiment\n",
            "2020-11-23 08:48:27,387 : INFO : Loading: ner\n",
            "2020-11-23 08:48:28,109 : INFO : Done loading processors!\n"
          ],
          "name": "stderr"
        }
      ]
    },
    {
      "cell_type": "code",
      "metadata": {
        "colab": {
          "base_uri": "https://localhost:8080/",
          "height": 1000
        },
        "id": "mOXafWiLPftn",
        "outputId": "6fd80944-7cc4-44b4-cf90-1c89d50e7349"
      },
      "source": [
        "def aspect_sentiment_analysis(txt, stop_words, nlp):\n",
        "    \n",
        "    #txt = txt.lower() # LowerCasing the given Text\n",
        "    #sentList = nltk.sent_tokenize(txt) # Splitting the text into sentences\n",
        "    sentList = txt\n",
        "\n",
        "    fcluster = []\n",
        "    totalfeatureList = []\n",
        "    finalcluster = []\n",
        "    dic = {}\n",
        "\n",
        "    for line in sentList:\n",
        "        newtaggedList = []\n",
        "        txt_list = nltk.word_tokenize(line) # Splitting up into words\n",
        "        #txt_list = line.split(\" \")\n",
        "        taggedList = nltk.pos_tag(txt_list) # Doing Part-of-Speech Tagging to each word\n",
        "\n",
        "        newwordList = []\n",
        "        flag = 0\n",
        "        for i in range(0,len(taggedList)-1):\n",
        "            if(taggedList[i][1]==\"NN\" and taggedList[i+1][1]==\"NN\"): # If two consecutive words are Nouns then they are joined together\n",
        "                newwordList.append(taggedList[i][0]+taggedList[i+1][0])\n",
        "                flag=1\n",
        "            else:\n",
        "                if(flag==1):\n",
        "                    flag=0\n",
        "                    continue\n",
        "                newwordList.append(taggedList[i][0])\n",
        "                if(i==len(taggedList)-2):\n",
        "                    newwordList.append(taggedList[i+1][0])\n",
        "\n",
        "        finaltxt = ' '.join(word for word in newwordList) \n",
        "        new_txt_list = nltk.word_tokenize(finaltxt)\n",
        "        wordsList = [w for w in new_txt_list if not w in stop_words]\n",
        "        taggedList = nltk.pos_tag(wordsList)\n",
        "\n",
        "        doc = nlp(finaltxt) # Object of Stanford NLP Pipeleine\n",
        "        print(doc)\n",
        "        # Getting the dependency relations betwen the words\n",
        "        dep_node = []\n",
        "        for dep_edge in doc.sentences[0].dependencies:\n",
        "            print(\"deep: \", type(dep_edge[0]))\n",
        "            dep_node.append([dep_edge[2].text, dep_edge[0].index, dep_edge[1]])\n",
        "\n",
        "        # Coverting it into appropriate format\n",
        "        for i in range(0, len(dep_node)):\n",
        "            if (int(dep_node[i][1]) != 0):\n",
        "                dep_node[i][1] = newwordList[(int(dep_node[i][1]) - 1)]\n",
        "\n",
        "        featureList = []\n",
        "        categories = []\n",
        "        for i in taggedList:\n",
        "            if(i[1]=='JJ' or i[1]=='NN' or i[1]=='JJR' or i[1]=='NNS' or i[1]=='RB'):\n",
        "                featureList.append(list(i)) # For features for each sentence\n",
        "                totalfeatureList.append(list(i)) # Stores the features of all the sentences in the text\n",
        "                categories.append(i[0])\n",
        "\n",
        "        for i in featureList:\n",
        "            filist = []\n",
        "            for j in dep_node:\n",
        "                if((j[0]==i[0] or j[1]==i[0]) and (j[2] in [\"nsubj\", \"acl:relcl\", \"obj\", \"dobj\", \"agent\", \"advmod\", \"amod\", \"neg\", \"prep_of\", \"acomp\", \"xcomp\", \"compound\"])):\n",
        "                    if(j[0]==i[0]):\n",
        "                        filist.append(j[1])\n",
        "                    else:\n",
        "                        filist.append(j[0])\n",
        "            fcluster.append([i[0], filist])\n",
        "            \n",
        "    for i in totalfeatureList:\n",
        "        dic[i[0]] = i[1]\n",
        "    \n",
        "    for i in fcluster:\n",
        "        if(dic[i[0]]==\"NN\"):\n",
        "            finalcluster.append(i)\n",
        "        \n",
        "    return(finalcluster)\n",
        "\n",
        "nlp = stanza.Pipeline()\n",
        "stop_words = set(stopwords.words('english'))\n",
        "txt = fg_df_text#\n",
        "\n",
        "print(aspect_sentiment_analysis(txt, stop_words, nlp))"
      ],
      "execution_count": 58,
      "outputs": [
        {
          "output_type": "stream",
          "text": [
            "2020-11-23 08:57:07,785 : INFO : Loading these models for language: en (English):\n",
            "=========================\n",
            "| Processor | Package   |\n",
            "-------------------------\n",
            "| tokenize  | ewt       |\n",
            "| pos       | ewt       |\n",
            "| lemma     | ewt       |\n",
            "| depparse  | ewt       |\n",
            "| sentiment | sstplus   |\n",
            "| ner       | ontonotes |\n",
            "=========================\n",
            "\n",
            "2020-11-23 08:57:07,786 : INFO : Use device: cpu\n",
            "2020-11-23 08:57:07,787 : INFO : Loading: tokenize\n",
            "2020-11-23 08:57:07,798 : INFO : Loading: pos\n",
            "2020-11-23 08:57:08,841 : INFO : Loading: lemma\n",
            "2020-11-23 08:57:08,875 : INFO : Loading: depparse\n",
            "2020-11-23 08:57:10,080 : INFO : Loading: sentiment\n",
            "2020-11-23 08:57:11,360 : INFO : Loading: ner\n",
            "2020-11-23 08:57:12,061 : INFO : Done loading processors!\n"
          ],
          "name": "stderr"
        },
        {
          "output_type": "stream",
          "text": [
            "[\n",
            "  [\n",
            "    {\n",
            "      \"id\": 1,\n",
            "      \"text\": \"ow\",\n",
            "      \"lemma\": \"ow\",\n",
            "      \"upos\": \"INTJ\",\n",
            "      \"xpos\": \"UH\",\n",
            "      \"head\": 2,\n",
            "      \"deprel\": \"discourse\",\n",
            "      \"misc\": \"start_char=0|end_char=2\",\n",
            "      \"ner\": \"O\"\n",
            "    },\n",
            "    {\n",
            "      \"id\": 2,\n",
            "      \"text\": \"fell\",\n",
            "      \"lemma\": \"fall\",\n",
            "      \"upos\": \"VERB\",\n",
            "      \"xpos\": \"VBD\",\n",
            "      \"feats\": \"Mood=Ind|Tense=Past|VerbForm=Fin\",\n",
            "      \"head\": 0,\n",
            "      \"deprel\": \"root\",\n",
            "      \"misc\": \"start_char=3|end_char=7\",\n",
            "      \"ner\": \"O\"\n",
            "    },\n",
            "    {\n",
            "      \"id\": 3,\n",
            "      \"text\": \"that\",\n",
            "      \"lemma\": \"that\",\n",
            "      \"upos\": \"PRON\",\n",
            "      \"xpos\": \"DT\",\n",
            "      \"feats\": \"Number=Sing|PronType=Dem\",\n",
            "      \"head\": 6,\n",
            "      \"deprel\": \"nsubj\",\n",
            "      \"misc\": \"start_char=8|end_char=12\",\n",
            "      \"ner\": \"O\"\n",
            "    },\n",
            "    {\n",
            "      \"id\": 4,\n",
            "      \"text\": \"s\",\n",
            "      \"lemma\": \"be\",\n",
            "      \"upos\": \"AUX\",\n",
            "      \"xpos\": \"VBZ\",\n",
            "      \"feats\": \"Mood=Ind|Number=Sing|Person=3|Tense=Pres|VerbForm=Fin\",\n",
            "      \"head\": 6,\n",
            "      \"deprel\": \"cop\",\n",
            "      \"misc\": \"start_char=12|end_char=13\",\n",
            "      \"ner\": \"O\"\n",
            "    },\n",
            "    {\n",
            "      \"id\": 5,\n",
            "      \"text\": \"sad\",\n",
            "      \"lemma\": \"sad\",\n",
            "      \"upos\": \"ADJ\",\n",
            "      \"xpos\": \"JJ\",\n",
            "      \"feats\": \"Degree=Pos\",\n",
            "      \"head\": 6,\n",
            "      \"deprel\": \"amod\",\n",
            "      \"misc\": \"start_char=14|end_char=17\",\n",
            "      \"ner\": \"O\"\n",
            "    },\n",
            "    {\n",
            "      \"id\": 6,\n",
            "      \"text\": \"facebtwincase\",\n",
            "      \"lemma\": \"facebtwincase\",\n",
            "      \"upos\": \"ADJ\",\n",
            "      \"xpos\": \"JJ\",\n",
            "      \"feats\": \"Degree=Pos\",\n",
            "      \"head\": 2,\n",
            "      \"deprel\": \"ccomp\",\n",
            "      \"misc\": \"start_char=18|end_char=31\",\n",
            "      \"ner\": \"O\"\n",
            "    },\n",
            "    {\n",
            "      \"id\": 7,\n",
            "      \"text\": \"you\",\n",
            "      \"lemma\": \"you\",\n",
            "      \"upos\": \"PRON\",\n",
            "      \"xpos\": \"PRP\",\n",
            "      \"feats\": \"Case=Nom|Person=2|PronType=Prs\",\n",
            "      \"head\": 10,\n",
            "      \"deprel\": \"nsubj\",\n",
            "      \"misc\": \"start_char=32|end_char=35\",\n",
            "      \"ner\": \"O\"\n",
            "    },\n",
            "    {\n",
            "      \"id\": 8,\n",
            "      \"text\": \"did\",\n",
            "      \"lemma\": \"do\",\n",
            "      \"upos\": \"AUX\",\n",
            "      \"xpos\": \"VBD\",\n",
            "      \"feats\": \"Mood=Ind|Tense=Past|VerbForm=Fin\",\n",
            "      \"head\": 10,\n",
            "      \"deprel\": \"aux\",\n",
            "      \"misc\": \"start_char=36|end_char=39\",\n",
            "      \"ner\": \"O\"\n",
            "    },\n",
            "    {\n",
            "      \"id\": 9,\n",
            "      \"text\": \"nt\",\n",
            "      \"lemma\": \"not\",\n",
            "      \"upos\": \"PART\",\n",
            "      \"xpos\": \"RB\",\n",
            "      \"head\": 10,\n",
            "      \"deprel\": \"advmod\",\n",
            "      \"misc\": \"start_char=39|end_char=41\",\n",
            "      \"ner\": \"O\"\n",
            "    },\n",
            "    {\n",
            "      \"id\": 10,\n",
            "      \"text\": \"kno\",\n",
            "      \"lemma\": \"kno\",\n",
            "      \"upos\": \"VERB\",\n",
            "      \"xpos\": \"VB\",\n",
            "      \"feats\": \"VerbForm=Inf\",\n",
            "      \"head\": 2,\n",
            "      \"deprel\": \"parataxis\",\n",
            "      \"misc\": \"start_char=42|end_char=45\",\n",
            "      \"ner\": \"O\"\n",
            "    },\n",
            "    {\n",
            "      \"id\": 11,\n",
            "      \"text\": \"whelp\",\n",
            "      \"lemma\": \"whelp\",\n",
            "      \"upos\": \"NOUN\",\n",
            "      \"xpos\": \"NN\",\n",
            "      \"feats\": \"Number=Sing\",\n",
            "      \"head\": 10,\n",
            "      \"deprel\": \"obj\",\n",
            "      \"misc\": \"start_char=46|end_char=51\",\n",
            "      \"ner\": \"O\"\n",
            "    }\n",
            "  ]\n",
            "]\n",
            "deep:  <class 'stanza.models.common.doc.Word'>\n"
          ],
          "name": "stdout"
        },
        {
          "output_type": "error",
          "ename": "AttributeError",
          "evalue": "ignored",
          "traceback": [
            "\u001b[0;31m---------------------------------------------------------------------------\u001b[0m",
            "\u001b[0;31mAttributeError\u001b[0m                            Traceback (most recent call last)",
            "\u001b[0;32m<ipython-input-58-35735253e83a>\u001b[0m in \u001b[0;36m<module>\u001b[0;34m()\u001b[0m\n\u001b[1;32m     79\u001b[0m \u001b[0mtxt\u001b[0m \u001b[0;34m=\u001b[0m \u001b[0mfg_df_text\u001b[0m\u001b[0;31m#\u001b[0m\u001b[0;34m\u001b[0m\u001b[0;34m\u001b[0m\u001b[0m\n\u001b[1;32m     80\u001b[0m \u001b[0;34m\u001b[0m\u001b[0m\n\u001b[0;32m---> 81\u001b[0;31m \u001b[0mprint\u001b[0m\u001b[0;34m(\u001b[0m\u001b[0maspect_sentiment_analysis\u001b[0m\u001b[0;34m(\u001b[0m\u001b[0mtxt\u001b[0m\u001b[0;34m,\u001b[0m \u001b[0mstop_words\u001b[0m\u001b[0;34m,\u001b[0m \u001b[0mnlp\u001b[0m\u001b[0;34m)\u001b[0m\u001b[0;34m)\u001b[0m\u001b[0;34m\u001b[0m\u001b[0;34m\u001b[0m\u001b[0m\n\u001b[0m",
            "\u001b[0;32m<ipython-input-58-35735253e83a>\u001b[0m in \u001b[0;36maspect_sentiment_analysis\u001b[0;34m(txt, stop_words, nlp)\u001b[0m\n\u001b[1;32m     41\u001b[0m         \u001b[0;32mfor\u001b[0m \u001b[0mdep_edge\u001b[0m \u001b[0;32min\u001b[0m \u001b[0mdoc\u001b[0m\u001b[0;34m.\u001b[0m\u001b[0msentences\u001b[0m\u001b[0;34m[\u001b[0m\u001b[0;36m0\u001b[0m\u001b[0;34m]\u001b[0m\u001b[0;34m.\u001b[0m\u001b[0mdependencies\u001b[0m\u001b[0;34m:\u001b[0m\u001b[0;34m\u001b[0m\u001b[0;34m\u001b[0m\u001b[0m\n\u001b[1;32m     42\u001b[0m             \u001b[0mprint\u001b[0m\u001b[0;34m(\u001b[0m\u001b[0;34m\"deep: \"\u001b[0m\u001b[0;34m,\u001b[0m \u001b[0mtype\u001b[0m\u001b[0;34m(\u001b[0m\u001b[0mdep_edge\u001b[0m\u001b[0;34m[\u001b[0m\u001b[0;36m0\u001b[0m\u001b[0;34m]\u001b[0m\u001b[0;34m)\u001b[0m\u001b[0;34m)\u001b[0m\u001b[0;34m\u001b[0m\u001b[0;34m\u001b[0m\u001b[0m\n\u001b[0;32m---> 43\u001b[0;31m             \u001b[0mdep_node\u001b[0m\u001b[0;34m.\u001b[0m\u001b[0mappend\u001b[0m\u001b[0;34m(\u001b[0m\u001b[0;34m[\u001b[0m\u001b[0mdep_edge\u001b[0m\u001b[0;34m[\u001b[0m\u001b[0;36m2\u001b[0m\u001b[0;34m]\u001b[0m\u001b[0;34m.\u001b[0m\u001b[0mtext\u001b[0m\u001b[0;34m,\u001b[0m \u001b[0mdep_edge\u001b[0m\u001b[0;34m[\u001b[0m\u001b[0;36m0\u001b[0m\u001b[0;34m]\u001b[0m\u001b[0;34m.\u001b[0m\u001b[0mindex\u001b[0m\u001b[0;34m,\u001b[0m \u001b[0mdep_edge\u001b[0m\u001b[0;34m[\u001b[0m\u001b[0;36m1\u001b[0m\u001b[0;34m]\u001b[0m\u001b[0;34m]\u001b[0m\u001b[0;34m)\u001b[0m\u001b[0;34m\u001b[0m\u001b[0;34m\u001b[0m\u001b[0m\n\u001b[0m\u001b[1;32m     44\u001b[0m \u001b[0;34m\u001b[0m\u001b[0m\n\u001b[1;32m     45\u001b[0m         \u001b[0;31m# Coverting it into appropriate format\u001b[0m\u001b[0;34m\u001b[0m\u001b[0;34m\u001b[0m\u001b[0;34m\u001b[0m\u001b[0m\n",
            "\u001b[0;31mAttributeError\u001b[0m: 'Word' object has no attribute 'index'"
          ]
        }
      ]
    },
    {
      "cell_type": "markdown",
      "metadata": {
        "id": "9dp5kIiCh1Zp"
      },
      "source": [
        ""
      ]
    }
  ]
}