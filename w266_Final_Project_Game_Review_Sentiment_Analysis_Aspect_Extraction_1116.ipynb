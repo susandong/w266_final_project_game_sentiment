{
  "nbformat": 4,
  "nbformat_minor": 0,
  "metadata": {
    "colab": {
      "name": "w266_Final Project_Game Review Sentiment Analysis_Aspect_Extraction_1116.ipynb",
      "provenance": [],
      "collapsed_sections": [],
      "include_colab_link": true
    },
    "kernelspec": {
      "display_name": "Python 3",
      "name": "python3"
    }
  },
  "cells": [
    {
      "cell_type": "markdown",
      "metadata": {
        "id": "view-in-github",
        "colab_type": "text"
      },
      "source": [
        "<a href=\"https://colab.research.google.com/github/susandong/w266_final_project_game_sentiment/blob/master/w266_Final_Project_Game_Review_Sentiment_Analysis_Aspect_Extraction_1116.ipynb\" target=\"_parent\"><img src=\"https://colab.research.google.com/assets/colab-badge.svg\" alt=\"Open In Colab\"/></a>"
      ]
    },
    {
      "cell_type": "markdown",
      "metadata": {
        "id": "DrstJ8hJNJmO"
      },
      "source": [
        "# Final Project: Game Review Sentiment Analysis Aspect Extraction\n",
        "\n",
        "* Can we use sentiment analysis score to predict the active user base for video games over time\n",
        "\n",
        "## Dataset: \n",
        "* Game Review: twitter/reddit/discord/steam reviews\n",
        "* active user base: steam\n",
        "\n",
        "## Algorithm: \n",
        "* Baseline(logistic Regression); \n",
        "* Transformer(Elmo/Bert)\n"
      ]
    },
    {
      "cell_type": "code",
      "metadata": {
        "id": "yW01NUndQd3C"
      },
      "source": [
        "#Load libraries\n",
        "import pandas as pd\n",
        "import nltk\n",
        "import numpy as np\n",
        "import matplotlib.pyplot as plt\n",
        "import seaborn as sns"
      ],
      "execution_count": 2,
      "outputs": []
    },
    {
      "cell_type": "code",
      "metadata": {
        "id": "kFboN7cwMM6V"
      },
      "source": [
        "\"\"\" Download Data: There are 4 games with review data\n",
        "Fall Guys (fg)\n",
        "PlayerUnknown Battlegrounds (pubg)\n",
        "Dota 2 (dota2)\n",
        "Counterstrike Source: Go (csgo)\n",
        "\n",
        "Review data has the following columns:\n",
        "app: ID for the game\n",
        "useful: how many users voted the review as useful\n",
        "funny: how many users voted the review as funny\n",
        "username: username of the person who wrote the review\n",
        "games_owned: how many games the reviewer owns on Steam\n",
        "num_reviews: how many reviews the reviewer has written on Steam\n",
        "recommend: 1 for recommend (thumbs up), -1 for do not recommend (thumbs down)\n",
        "hours_played: number of hours the reviewer played before writing the review\n",
        "date: date review was written\n",
        "text: text of the review\n",
        "\"\"\"\n",
        "#Fall Guys\n",
        "fg_url = 'https://raw.githubusercontent.com/susandong/w266_final_project_game_sentiment/master/data/fallguys_reviews.csv'\n",
        "fg_df = pd.read_csv(fg_url, error_bad_lines=False)\n",
        "fg_df = fg_df.dropna()\n",
        "\n",
        "#CS: Go\n",
        "csgo_url = 'https://raw.githubusercontent.com/susandong/w266_final_project_game_sentiment/master/data/csgo_reviews.csv'\n",
        "csgo_df = pd.read_csv(csgo_url, error_bad_lines=False)\n",
        "csgo_df = csgo_df.dropna()\n",
        "\n",
        "#PUBG\n",
        "pubg_url = 'https://raw.githubusercontent.com/susandong/w266_final_project_game_sentiment/master/data/pubg_reviews.csv'\n",
        "pubg_df = pd.read_csv(pubg_url, error_bad_lines=False)\n",
        "pubg_df = pubg_df.dropna()\n",
        "\n",
        "#dota2_url = 'https://raw.githubusercontent.com/susandong/w266_final_project_game_sentiment/master/data/dota2_reviews.csv'\n",
        "#dota2_df = pd.read_csv(dota2_url, error_bad_lines=False)\n",
        "#player_url = 'https://raw.githubusercontent.com/susandong/w266_final_project_game_sentiment/master/data/PlayerCountData.csv'\n",
        "#player_df = pd.read_csv(player_url, error_bad_lines=False)"
      ],
      "execution_count": 3,
      "outputs": []
    },
    {
      "cell_type": "code",
      "metadata": {
        "id": "Fq_wR2DmOp7T",
        "colab": {
          "base_uri": "https://localhost:8080/"
        },
        "outputId": "75eaf9d6-5b8c-4eea-a0ac-f36fcda68f45"
      },
      "source": [
        "# Data Preprocessing\n",
        "!pip install unidecode\n",
        "import unidecode\n",
        "import re\n",
        "from nltk.tokenize import TweetTokenizer\n",
        "from nltk.corpus import stopwords\n",
        "from nltk.stem import PorterStemmer\n",
        "#from nltk.stem import WordNetLemmatizer\n",
        "nltk.download('stopwords')\n",
        "\n",
        "tknzr = TweetTokenizer()\n",
        "stop_words = set(stopwords.words('english'))\n",
        "stemmer = PorterStemmer()\n",
        "#lemma = WordNetLemmatizer()\n",
        "\n",
        "#Convert accented characters\n",
        "def remove_accents(text):\n",
        "  try:\n",
        "    text = unidecode.unidecode(text)\n",
        "  except:\n",
        "    pass\n",
        "  return text\n",
        "\n",
        "#Remove digits and punctuation\n",
        "def remove_nonletters(text):\n",
        "  try:\n",
        "    #Remove digits AND punctuation\n",
        "    text = re.sub('[^a-zA-Z]', ' ', text)\n",
        "    \n",
        "    #Remove just digits that are by themselves\n",
        "    #text = re.sub('^\\d+\\s|\\s\\d+\\s|\\s\\d+$', ' ', text)\n",
        "  except:\n",
        "    pass\n",
        "  return text\n",
        "\n",
        "\n",
        "#Use Tweet Tokenizer for some built-in emoji support\n",
        "def tweet_tokenization(text):\n",
        "  try:\n",
        "    return tknzr.tokenize(text)\n",
        "  except:\n",
        "    pass\n",
        "\n",
        "def remove_stopwords(token):\n",
        "  try:\n",
        "    return [item for item in token if item not in stop_words]\n",
        "  except:\n",
        "    pass\n",
        "\n",
        "def remove_stemmer(token):\n",
        "  try:\n",
        "    return [stemmer.stem(i) for i in token]\n",
        "  except:\n",
        "    pass\n",
        "\n",
        "def remove_lemmatizer(token):\n",
        "  try:\n",
        "    return [lemma.lemmatize(word=w, pow='v') for w in token]\n",
        "  except:\n",
        "    pass\n",
        "  \n",
        "def remove_shortwords(token):\n",
        "  try:\n",
        "    return [i for i in token if len(i) > 1]\n",
        "  except:\n",
        "    pass\n",
        "\n",
        "def token_to_string(listTokens):\n",
        "  return ' '.join(listTokens)\n",
        "\n",
        "#Process text from dataframe. df = dataframe to clean, text = name of column with text\n",
        "def process_text(df, text):  \n",
        "  #Create new column for cleaned text\n",
        "  df['cleaned'] = df[text]\n",
        "\n",
        "  #Lower case all text\n",
        "  df['cleaned'] = df['cleaned'].str.lower()\n",
        "\n",
        "  #Clean URLs\n",
        "  df['cleaned'] = df['cleaned'].str.replace('http\\S+|www.\\S+', '', case=False)\n",
        "\n",
        "  #Remove accents from text\n",
        "  #df['cleaned'] = df['cleaned'].apply(remove_accents)\n",
        "\n",
        "  #Remove numbers and punctuation from text\n",
        "  df['cleaned'] = df['cleaned'].apply(remove_nonletters)\n",
        "  \n",
        "  #Tokenize\n",
        "  df['cleaned'] = df['cleaned'].apply(tweet_tokenization)\n",
        "\n",
        "  #Remove stopwords\n",
        "  #df['cleaned'] = df['cleaned'].apply(remove_stopwords)\n",
        "  \n",
        "  #Remove short words\n",
        "  df['cleaned'] = df['cleaned'].apply(remove_shortwords)\n",
        "\n",
        "  #Stemming - can decide to use or not\n",
        "  #df['cleaned'] = df['cleaned'].apply(remove_stemmer)\n",
        "\n",
        "  #Convert tokens back to string\n",
        "  df['cleaned'] = df['cleaned'].apply(token_to_string)\n"
      ],
      "execution_count": 4,
      "outputs": [
        {
          "output_type": "stream",
          "text": [
            "Collecting unidecode\n",
            "\u001b[?25l  Downloading https://files.pythonhosted.org/packages/d0/42/d9edfed04228bacea2d824904cae367ee9efd05e6cce7ceaaedd0b0ad964/Unidecode-1.1.1-py2.py3-none-any.whl (238kB)\n",
            "\r\u001b[K     |█▍                              | 10kB 14.6MB/s eta 0:00:01\r\u001b[K     |██▊                             | 20kB 19.6MB/s eta 0:00:01\r\u001b[K     |████▏                           | 30kB 12.6MB/s eta 0:00:01\r\u001b[K     |█████▌                          | 40kB 9.2MB/s eta 0:00:01\r\u001b[K     |██████▉                         | 51kB 4.4MB/s eta 0:00:01\r\u001b[K     |████████▎                       | 61kB 5.0MB/s eta 0:00:01\r\u001b[K     |█████████▋                      | 71kB 4.8MB/s eta 0:00:01\r\u001b[K     |███████████                     | 81kB 5.3MB/s eta 0:00:01\r\u001b[K     |████████████▍                   | 92kB 5.6MB/s eta 0:00:01\r\u001b[K     |█████████████▊                  | 102kB 4.3MB/s eta 0:00:01\r\u001b[K     |███████████████▏                | 112kB 4.3MB/s eta 0:00:01\r\u001b[K     |████████████████▌               | 122kB 4.3MB/s eta 0:00:01\r\u001b[K     |█████████████████▉              | 133kB 4.3MB/s eta 0:00:01\r\u001b[K     |███████████████████▎            | 143kB 4.3MB/s eta 0:00:01\r\u001b[K     |████████████████████▋           | 153kB 4.3MB/s eta 0:00:01\r\u001b[K     |██████████████████████          | 163kB 4.3MB/s eta 0:00:01\r\u001b[K     |███████████████████████▍        | 174kB 4.3MB/s eta 0:00:01\r\u001b[K     |████████████████████████▊       | 184kB 4.3MB/s eta 0:00:01\r\u001b[K     |██████████████████████████▏     | 194kB 4.3MB/s eta 0:00:01\r\u001b[K     |███████████████████████████▌    | 204kB 4.3MB/s eta 0:00:01\r\u001b[K     |████████████████████████████▉   | 215kB 4.3MB/s eta 0:00:01\r\u001b[K     |██████████████████████████████▎ | 225kB 4.3MB/s eta 0:00:01\r\u001b[K     |███████████████████████████████▋| 235kB 4.3MB/s eta 0:00:01\r\u001b[K     |████████████████████████████████| 245kB 4.3MB/s \n",
            "\u001b[?25hInstalling collected packages: unidecode\n",
            "Successfully installed unidecode-1.1.1\n",
            "[nltk_data] Downloading package stopwords to /root/nltk_data...\n",
            "[nltk_data]   Unzipping corpora/stopwords.zip.\n"
          ],
          "name": "stdout"
        }
      ]
    },
    {
      "cell_type": "code",
      "metadata": {
        "id": "ahL3k7O7XGZ-"
      },
      "source": [
        "#preprocess all the datasets for all 3 games\n",
        "process_text(fg_df, 'text')\n",
        "#len(fg_df['cleaned'][11]) < 2\n",
        "process_text(csgo_df, 'text')\n",
        "process_text(pubg_df, 'text')"
      ],
      "execution_count": 5,
      "outputs": []
    },
    {
      "cell_type": "code",
      "metadata": {
        "id": "agbZIEqVXgVQ"
      },
      "source": [
        "from nltk.tokenize import RegexpTokenizer\n",
        "def remove_blankrow(df,column):\n",
        "  tokenizer = RegexpTokenizer(r'\\w+')\n",
        "  df['lens'] =[len(tokenizer.tokenize(utterance)) for utterance in df[column]]\n",
        "  df_clean=df[df['lens'] !=0]\n",
        "  return df_clean"
      ],
      "execution_count": 6,
      "outputs": []
    },
    {
      "cell_type": "code",
      "metadata": {
        "id": "hGcw90zsfwm1"
      },
      "source": [
        "#remove emoji \n",
        "def remove_emoji(df,column):\n",
        "    df[column] = df[column].str.replace(r'[^\\x00-\\x7F]+', '')\n",
        "    return df\n"
      ],
      "execution_count": 7,
      "outputs": []
    },
    {
      "cell_type": "code",
      "metadata": {
        "id": "gZFpy-6mi4AD",
        "colab": {
          "base_uri": "https://localhost:8080/"
        },
        "outputId": "d4de2e4c-ae12-4c1f-871c-0c995b607de1"
      },
      "source": [
        "#from google.colab import drive\n",
        "#drive.mount('drive')\n",
        "fg_df_text=remove_blankrow(fg_df,'cleaned')[\"cleaned\"]\n",
        "\n",
        "csgo_df_text=remove_blankrow(csgo_df,'cleaned')[\"cleaned\"]\n",
        "pubg_df_text=remove_blankrow(pubg_df,'cleaned')[\"cleaned\"]\n",
        "pubg_df_text.shape\n"
      ],
      "execution_count": 8,
      "outputs": [
        {
          "output_type": "execute_result",
          "data": {
            "text/plain": [
              "(226783,)"
            ]
          },
          "metadata": {
            "tags": []
          },
          "execution_count": 8
        }
      ]
    },
    {
      "cell_type": "code",
      "metadata": {
        "id": "JJw9EPD5zoTw"
      },
      "source": [
        "## Aspect extraction EMbedding_gensim"
      ],
      "execution_count": 9,
      "outputs": []
    },
    {
      "cell_type": "code",
      "metadata": {
        "id": "gyJcxfuQqtC2"
      },
      "source": [
        "\n",
        "\n",
        "%matplotlib inline\n",
        "\n",
        "import nltk.data;\n",
        "\n",
        "from gensim.models import word2vec;\n",
        "\n",
        "from sklearn.cluster import KMeans;\n",
        "from sklearn.neighbors import KDTree;\n",
        "\n",
        "import pandas as pd;\n",
        "import numpy as np;\n",
        "\n",
        "import os;\n",
        "import re;\n",
        "import logging;\n",
        "import sqlite3;\n",
        "import time;\n",
        "import sys;\n",
        "import multiprocessing;\n",
        "from wordcloud import WordCloud, ImageColorGenerator\n",
        "import matplotlib.pyplot as plt;\n",
        "from itertools import cycle;\n",
        "\n"
      ],
      "execution_count": 10,
      "outputs": []
    },
    {
      "cell_type": "code",
      "metadata": {
        "id": "HbUmlFlAqyxi",
        "colab": {
          "base_uri": "https://localhost:8080/"
        },
        "outputId": "683c2ca8-eb20-4130-9ead-26ceb8ef81c9"
      },
      "source": [
        "\n",
        "nltk.download('punkt')\n",
        "tokenizer = nltk.data.load('tokenizers/punkt/english.pickle');\n",
        "\n"
      ],
      "execution_count": 11,
      "outputs": [
        {
          "output_type": "stream",
          "text": [
            "[nltk_data] Downloading package punkt to /root/nltk_data...\n",
            "[nltk_data]   Unzipping tokenizers/punkt.zip.\n"
          ],
          "name": "stdout"
        }
      ]
    },
    {
      "cell_type": "code",
      "metadata": {
        "id": "Z8h_4MjV3OyC"
      },
      "source": [
        "#tokenize text\n",
        "fg_df_text_tokenized=fg_df_text.apply(tweet_tokenization)"
      ],
      "execution_count": 12,
      "outputs": []
    },
    {
      "cell_type": "code",
      "metadata": {
        "id": "FVBmA2g6qy_i",
        "colab": {
          "base_uri": "https://localhost:8080/"
        },
        "outputId": "46029c17-2cc8-4890-c6af-2f1b0eac5aaa"
      },
      "source": [
        "start = time.time();\n",
        "\n",
        "#Set the logging format to get some basic updates.\n",
        "logging.basicConfig(format='%(asctime)s : %(levelname)s : %(message)s',\\\n",
        "    level=logging.INFO)\n",
        "\n",
        "# Set values for various parameters\n",
        "num_features = 100;    # Dimensionality of the hidden layer representation\n",
        "min_word_count = 4;   # Minimum word count to keep a word in the vocabulary\n",
        "num_workers = multiprocessing.cpu_count();       # Number of threads to run in parallel set to total number of cpus.\n",
        "context = 5          # Context window size (on each side)                                                       \n",
        "downsampling = 1e-3   # Downsample setting for frequent words\n",
        "\n",
        "# Initialize and train the model. \n",
        "#The LineSentence object allows us to pass in a file name directly as input to Word2Vec,\n",
        "#instead of having to read it into memory first.\n",
        "\n",
        "print(\"Training model...\");\n",
        "model = word2vec.Word2Vec(fg_df_text_tokenized, workers=num_workers, \\\n",
        "            size=num_features, min_count = min_word_count, \\\n",
        "            window = context, sample = downsampling);\n",
        "\n",
        "# We don't plan on training the model any further, so calling \n",
        "# init_sims will make the model more memory efficient by normalizing the vectors in-place.\n",
        "model.init_sims(replace=True);\n",
        "\n",
        "# Save the model\n",
        "model_name = \"model_full_game\";\n",
        "model.save(model_name);\n",
        "\n",
        "print('Total time: ' + str((time.time() - start)) + ' secs')"
      ],
      "execution_count": 13,
      "outputs": [
        {
          "output_type": "stream",
          "text": [
            "2020-11-29 05:50:00,959 : INFO : collecting all words and their counts\n",
            "2020-11-29 05:50:00,960 : INFO : PROGRESS: at sentence #0, processed 0 words, keeping 0 word types\n",
            "2020-11-29 05:50:01,012 : INFO : PROGRESS: at sentence #10000, processed 189986 words, keeping 10008 word types\n",
            "2020-11-29 05:50:01,056 : INFO : PROGRESS: at sentence #20000, processed 352595 words, keeping 14872 word types\n",
            "2020-11-29 05:50:01,097 : INFO : PROGRESS: at sentence #30000, processed 501734 words, keeping 18210 word types\n",
            "2020-11-29 05:50:01,138 : INFO : PROGRESS: at sentence #40000, processed 664869 words, keeping 21477 word types\n"
          ],
          "name": "stderr"
        },
        {
          "output_type": "stream",
          "text": [
            "Training model...\n"
          ],
          "name": "stdout"
        },
        {
          "output_type": "stream",
          "text": [
            "2020-11-29 05:50:01,187 : INFO : PROGRESS: at sentence #50000, processed 850834 words, keeping 24443 word types\n",
            "2020-11-29 05:50:01,239 : INFO : PROGRESS: at sentence #60000, processed 1059558 words, keeping 27216 word types\n",
            "2020-11-29 05:50:01,307 : INFO : PROGRESS: at sentence #70000, processed 1344663 words, keeping 30210 word types\n",
            "2020-11-29 05:50:01,369 : INFO : PROGRESS: at sentence #80000, processed 1603160 words, keeping 33061 word types\n",
            "2020-11-29 05:50:01,406 : INFO : collected 34952 word types from a corpus of 1748803 raw words and 87847 sentences\n",
            "2020-11-29 05:50:01,406 : INFO : Loading a fresh vocabulary\n",
            "2020-11-29 05:50:01,439 : INFO : effective_min_count=4 retains 8887 unique words (25% of original 34952, drops 26065)\n",
            "2020-11-29 05:50:01,440 : INFO : effective_min_count=4 leaves 1715203 word corpus (98% of original 1748803, drops 33600)\n",
            "2020-11-29 05:50:01,475 : INFO : deleting the raw counts dictionary of 34952 items\n",
            "2020-11-29 05:50:01,478 : INFO : sample=0.001 downsamples 57 most-common words\n",
            "2020-11-29 05:50:01,482 : INFO : downsampling leaves estimated 1224002 word corpus (71.4% of prior 1715203)\n",
            "2020-11-29 05:50:01,517 : INFO : estimated required memory for 8887 words and 100 dimensions: 11553100 bytes\n",
            "2020-11-29 05:50:01,518 : INFO : resetting layer weights\n",
            "2020-11-29 05:50:03,295 : INFO : training model with 2 workers on 8887 vocabulary and 100 features, using sg=0 hs=0 sample=0.001 negative=5 window=5\n",
            "2020-11-29 05:50:04,310 : INFO : EPOCH 1 - PROGRESS: at 54.94% examples, 562928 words/s, in_qsize 3, out_qsize 0\n",
            "2020-11-29 05:50:05,313 : INFO : EPOCH 1 - PROGRESS: at 93.73% examples, 570882 words/s, in_qsize 3, out_qsize 0\n",
            "2020-11-29 05:50:05,429 : INFO : worker thread finished; awaiting finish of 1 more threads\n",
            "2020-11-29 05:50:05,438 : INFO : worker thread finished; awaiting finish of 0 more threads\n",
            "2020-11-29 05:50:05,439 : INFO : EPOCH - 1 : training on 1748803 raw words (1224121 effective words) took 2.1s, 573156 effective words/s\n",
            "2020-11-29 05:50:06,456 : INFO : EPOCH 2 - PROGRESS: at 54.94% examples, 560554 words/s, in_qsize 3, out_qsize 0\n",
            "2020-11-29 05:50:07,468 : INFO : EPOCH 2 - PROGRESS: at 93.73% examples, 567171 words/s, in_qsize 4, out_qsize 0\n",
            "2020-11-29 05:50:07,584 : INFO : worker thread finished; awaiting finish of 1 more threads\n",
            "2020-11-29 05:50:07,592 : INFO : worker thread finished; awaiting finish of 0 more threads\n",
            "2020-11-29 05:50:07,593 : INFO : EPOCH - 2 : training on 1748803 raw words (1223144 effective words) took 2.1s, 569734 effective words/s\n",
            "2020-11-29 05:50:08,603 : INFO : EPOCH 3 - PROGRESS: at 53.89% examples, 552059 words/s, in_qsize 3, out_qsize 0\n",
            "2020-11-29 05:50:09,617 : INFO : EPOCH 3 - PROGRESS: at 91.72% examples, 559076 words/s, in_qsize 3, out_qsize 0\n",
            "2020-11-29 05:50:09,766 : INFO : worker thread finished; awaiting finish of 1 more threads\n",
            "2020-11-29 05:50:09,780 : INFO : worker thread finished; awaiting finish of 0 more threads\n",
            "2020-11-29 05:50:09,781 : INFO : EPOCH - 3 : training on 1748803 raw words (1223955 effective words) took 2.2s, 561615 effective words/s\n",
            "2020-11-29 05:50:10,798 : INFO : EPOCH 4 - PROGRESS: at 54.94% examples, 561939 words/s, in_qsize 3, out_qsize 0\n",
            "2020-11-29 05:50:11,803 : INFO : EPOCH 4 - PROGRESS: at 93.24% examples, 566575 words/s, in_qsize 3, out_qsize 0\n",
            "2020-11-29 05:50:11,925 : INFO : worker thread finished; awaiting finish of 1 more threads\n",
            "2020-11-29 05:50:11,943 : INFO : worker thread finished; awaiting finish of 0 more threads\n",
            "2020-11-29 05:50:11,944 : INFO : EPOCH - 4 : training on 1748803 raw words (1223997 effective words) took 2.2s, 568260 effective words/s\n",
            "2020-11-29 05:50:12,954 : INFO : EPOCH 5 - PROGRESS: at 54.94% examples, 566284 words/s, in_qsize 3, out_qsize 0\n",
            "2020-11-29 05:50:13,955 : INFO : EPOCH 5 - PROGRESS: at 93.73% examples, 573285 words/s, in_qsize 3, out_qsize 0\n",
            "2020-11-29 05:50:14,080 : INFO : worker thread finished; awaiting finish of 1 more threads\n",
            "2020-11-29 05:50:14,092 : INFO : worker thread finished; awaiting finish of 0 more threads\n",
            "2020-11-29 05:50:14,093 : INFO : EPOCH - 5 : training on 1748803 raw words (1224081 effective words) took 2.1s, 571989 effective words/s\n",
            "2020-11-29 05:50:14,095 : INFO : training on a 8744015 raw words (6119298 effective words) took 10.8s, 566655 effective words/s\n",
            "2020-11-29 05:50:14,096 : INFO : precomputing L2-norms of word weight vectors\n",
            "2020-11-29 05:50:14,186 : INFO : saving Word2Vec object under model_full_game, separately None\n",
            "2020-11-29 05:50:14,187 : INFO : not storing attribute vectors_norm\n",
            "2020-11-29 05:50:14,194 : INFO : not storing attribute cum_table\n",
            "2020-11-29 05:50:14,308 : INFO : saved model_full_game\n"
          ],
          "name": "stderr"
        },
        {
          "output_type": "stream",
          "text": [
            "Total time: 13.350516557693481 secs\n"
          ],
          "name": "stdout"
        }
      ]
    },
    {
      "cell_type": "code",
      "metadata": {
        "id": "zfeL3uu6qzCK",
        "colab": {
          "base_uri": "https://localhost:8080/"
        },
        "outputId": "b36a7ffc-28c3-4cbf-f558-2a3ee0a6a4d5"
      },
      "source": [
        "model = word2vec.Word2Vec.load('model_full_game')"
      ],
      "execution_count": 14,
      "outputs": [
        {
          "output_type": "stream",
          "text": [
            "2020-11-29 05:50:14,320 : INFO : loading Word2Vec object from model_full_game\n",
            "2020-11-29 05:50:14,396 : INFO : loading wv recursively from model_full_game.wv.* with mmap=None\n",
            "2020-11-29 05:50:14,397 : INFO : setting ignored attribute vectors_norm to None\n",
            "2020-11-29 05:50:14,398 : INFO : loading vocabulary recursively from model_full_game.vocabulary.* with mmap=None\n",
            "2020-11-29 05:50:14,399 : INFO : loading trainables recursively from model_full_game.trainables.* with mmap=None\n",
            "2020-11-29 05:50:14,400 : INFO : setting ignored attribute cum_table to None\n",
            "2020-11-29 05:50:14,401 : INFO : loaded model_full_game\n"
          ],
          "name": "stderr"
        }
      ]
    },
    {
      "cell_type": "code",
      "metadata": {
        "id": "vv77wnui0twm",
        "colab": {
          "base_uri": "https://localhost:8080/"
        },
        "outputId": "8af06260-bc7d-458e-df75-3087b8e8bc8f"
      },
      "source": [
        "model.wv['design']"
      ],
      "execution_count": 15,
      "outputs": [
        {
          "output_type": "execute_result",
          "data": {
            "text/plain": [
              "array([-0.10584325, -0.09538274, -0.05979867,  0.06099617,  0.18323947,\n",
              "        0.1093502 , -0.08313678,  0.06765286,  0.07784391,  0.12691097,\n",
              "        0.09322148,  0.08170649,  0.0446538 ,  0.02962257, -0.0155489 ,\n",
              "       -0.02024694,  0.00493436,  0.12474148,  0.06697417,  0.09071377,\n",
              "        0.10853908, -0.12018716,  0.03786661,  0.02254445, -0.23670223,\n",
              "        0.01914528,  0.03122795,  0.00402187, -0.047045  , -0.08084609,\n",
              "       -0.0991611 ,  0.0969796 ,  0.04103716, -0.06436314, -0.0630755 ,\n",
              "        0.21594357,  0.12493872,  0.00565862,  0.0129148 ,  0.09321088,\n",
              "        0.03638796, -0.02882029,  0.00775464,  0.2887498 , -0.22497265,\n",
              "        0.05525721, -0.03632579, -0.04719158, -0.0008234 ,  0.17141913,\n",
              "       -0.11830351, -0.04366882,  0.1197611 , -0.00640538,  0.13198225,\n",
              "        0.15793103,  0.00841627, -0.15433504,  0.17512825, -0.07479919,\n",
              "       -0.02683881,  0.12545606, -0.13223739, -0.13054943, -0.0712182 ,\n",
              "       -0.19615543, -0.1865646 ,  0.00167883,  0.02170755, -0.08852782,\n",
              "        0.09404421, -0.02174966, -0.00879936, -0.11950037, -0.05636363,\n",
              "        0.04851097,  0.06696689, -0.08700084, -0.04206135,  0.06526271,\n",
              "       -0.0650786 , -0.01446947,  0.06270844, -0.031129  ,  0.20952559,\n",
              "       -0.05155858,  0.17419174,  0.12540878, -0.0409254 , -0.12569274,\n",
              "       -0.01186249, -0.03426284, -0.12542461,  0.0136804 ,  0.09797453,\n",
              "        0.04610701, -0.03959209, -0.04134381, -0.0104687 ,  0.09910653],\n",
              "      dtype=float32)"
            ]
          },
          "metadata": {
            "tags": []
          },
          "execution_count": 15
        }
      ]
    },
    {
      "cell_type": "code",
      "metadata": {
        "id": "6ag4wbIdqzEd",
        "colab": {
          "base_uri": "https://localhost:8080/"
        },
        "outputId": "5ff63023-5b25-4fd8-8c6b-7e1b928a96ec"
      },
      "source": [
        "Z = model.wv.syn0"
      ],
      "execution_count": 16,
      "outputs": [
        {
          "output_type": "stream",
          "text": [
            "/usr/local/lib/python3.6/dist-packages/ipykernel_launcher.py:1: DeprecationWarning: Call to deprecated `syn0` (Attribute will be removed in 4.0.0, use self.wv.vectors instead).\n",
            "  \"\"\"Entry point for launching an IPython kernel.\n"
          ],
          "name": "stderr"
        }
      ]
    },
    {
      "cell_type": "code",
      "metadata": {
        "id": "uH20L6WJx6yW",
        "colab": {
          "base_uri": "https://localhost:8080/"
        },
        "outputId": "d08a748f-9d92-4667-a89a-1c30a0c5bc78"
      },
      "source": [
        "print([model.wv.index2word[i] for i in range(50)])"
      ],
      "execution_count": 17,
      "outputs": [
        {
          "output_type": "stream",
          "text": [
            "['the', 'game', 'and', 'to', 'it', 'fun', 'is', 'of', 'you', 'this', 'but', 'in', 'for', 'with', 'that', 'are', 'good', 'play', 'so', 'be', 'have', 'very', 'can', 'not', 'games', 'on', 'if', 'get', 'just', 'its', 'like', 'they', 'fall', 'or', 'there', 'as', 'friends', 'more', 'my', 'really', 'at', 'great', 'your', 'team', 'time', 'all', 'will', 'me', 'when', 'some']\n"
          ],
          "name": "stdout"
        }
      ]
    },
    {
      "cell_type": "code",
      "metadata": {
        "id": "Oa7A7j8zqzKu",
        "colab": {
          "base_uri": "https://localhost:8080/"
        },
        "outputId": "d498bf5b-4349-4e44-81b1-3b969875c1eb"
      },
      "source": [
        "print(Z[0].shape)\n",
        "Z[0]"
      ],
      "execution_count": 18,
      "outputs": [
        {
          "output_type": "stream",
          "text": [
            "(100,)\n"
          ],
          "name": "stdout"
        },
        {
          "output_type": "execute_result",
          "data": {
            "text/plain": [
              "array([ 0.13926423,  0.14526838, -0.19462258, -0.08039135, -0.00389263,\n",
              "        0.07382038, -0.01747551, -0.05078755,  0.05319919,  0.00651504,\n",
              "        0.10834918,  0.03498798, -0.1763962 ,  0.03514003,  0.09073476,\n",
              "       -0.23078899, -0.13693854, -0.15263681, -0.13347918, -0.15670481,\n",
              "        0.15297556,  0.07155864,  0.00050235, -0.1261494 , -0.1349383 ,\n",
              "        0.07037853, -0.0520809 , -0.01181509,  0.24563342,  0.07735648,\n",
              "        0.03791201,  0.12202867,  0.13651404,  0.04260164,  0.00175448,\n",
              "       -0.0099279 ,  0.04925512,  0.12926649,  0.05825219,  0.00587014,\n",
              "       -0.14505854, -0.10637454, -0.02131329, -0.03683462, -0.01489077,\n",
              "       -0.1460858 , -0.13788208, -0.27546173,  0.14100422,  0.12726422,\n",
              "        0.14145721,  0.06798173,  0.06497756,  0.11602539, -0.11412735,\n",
              "        0.01375057,  0.10932186, -0.06366911,  0.07905304, -0.12955435,\n",
              "       -0.12448207,  0.0416648 ,  0.05227321, -0.16357714, -0.11345833,\n",
              "       -0.01939654, -0.07904408,  0.0396998 , -0.07637183, -0.18037142,\n",
              "        0.05600669,  0.04735755, -0.12453538,  0.00821035,  0.01250872,\n",
              "       -0.00733384,  0.03462227,  0.03345836,  0.00124503,  0.01102836,\n",
              "       -0.08552294,  0.1178957 , -0.05130243,  0.01876288, -0.07717665,\n",
              "        0.18303089,  0.1224639 ,  0.00453156,  0.07373118, -0.00596052,\n",
              "       -0.04591799, -0.05889928,  0.00056014, -0.0149135 ,  0.01283945,\n",
              "       -0.062437  , -0.03974433, -0.027909  , -0.09452858, -0.01236558],\n",
              "      dtype=float32)"
            ]
          },
          "metadata": {
            "tags": []
          },
          "execution_count": 18
        }
      ]
    },
    {
      "cell_type": "code",
      "metadata": {
        "id": "6OTQR2cvukhf"
      },
      "source": [
        "\n",
        "\n",
        "def clustering_on_wordvecs(word_vectors, num_clusters):\n",
        "    # Initalize a k-means object and use it to extract centroids\n",
        "    kmeans_clustering = KMeans(n_clusters = num_clusters, init='k-means++');\n",
        "    idx = kmeans_clustering.fit_predict(word_vectors);\n",
        "    \n",
        "    return kmeans_clustering.cluster_centers_, idx;\n",
        "\n"
      ],
      "execution_count": 19,
      "outputs": []
    },
    {
      "cell_type": "code",
      "metadata": {
        "id": "SipDYtCMunOK",
        "colab": {
          "base_uri": "https://localhost:8080/"
        },
        "outputId": "7bb8eec1-503c-4e33-cbcf-46aa91b504b9"
      },
      "source": [
        "start = time.time();\n",
        "centers, clusters = clustering_on_wordvecs(Z, 10);\n",
        "print('Total time: ' + str((time.time() - start)) + ' secs')"
      ],
      "execution_count": 20,
      "outputs": [
        {
          "output_type": "stream",
          "text": [
            "Total time: 4.150192499160767 secs\n"
          ],
          "name": "stdout"
        }
      ]
    },
    {
      "cell_type": "code",
      "metadata": {
        "id": "VkPXsMr3unU2",
        "colab": {
          "base_uri": "https://localhost:8080/"
        },
        "outputId": "fb61c61a-bd2e-4602-8f9c-d33fed4c6664"
      },
      "source": [
        "start = time.time();\n",
        "centroid_map = dict(zip(model.wv.index2word, clusters));\n",
        "print('Total time: ' + str((time.time() - start)) + ' secs')"
      ],
      "execution_count": 21,
      "outputs": [
        {
          "output_type": "stream",
          "text": [
            "Total time: 0.0019185543060302734 secs\n"
          ],
          "name": "stdout"
        }
      ]
    },
    {
      "cell_type": "code",
      "metadata": {
        "id": "Eiit-DJMunXf"
      },
      "source": [
        "\n",
        "\n",
        "def get_top_words(index2word, k, centers, wordvecs):\n",
        "    tree = KDTree(wordvecs);\n",
        "\n",
        "    #Closest points for each Cluster center is used to query the closest 20 points to it.\n",
        "    closest_points = [tree.query(np.reshape(x, (1, -1)), k=k) for x in centers];\n",
        "    closest_words_idxs = [x[1] for x in closest_points];\n",
        "\n",
        "    #Word Index is queried for each position in the above array, and added to a Dictionary.\n",
        "    closest_words = {};\n",
        "    for i in range(0, len(closest_words_idxs)):\n",
        "        closest_words['Cluster #' + str(i+1).zfill(2)] = [index2word[j] for j in closest_words_idxs[i][0]]\n",
        "\n",
        "    #A DataFrame is generated from the dictionary.\n",
        "    df = pd.DataFrame(closest_words);\n",
        "    df.index = df.index+1\n",
        "\n",
        "    return df;\n",
        "\n"
      ],
      "execution_count": 22,
      "outputs": []
    },
    {
      "cell_type": "code",
      "metadata": {
        "id": "Om35QvAhuuVQ"
      },
      "source": [
        "pd.set_option('display.max_columns', None)\n",
        "pd.set_option('display.max_rows', None)"
      ],
      "execution_count": 23,
      "outputs": []
    },
    {
      "cell_type": "code",
      "metadata": {
        "id": "4XO4vd3_uuXy"
      },
      "source": [
        "top_words = get_top_words(model.wv.index2word, 10, centers, Z)"
      ],
      "execution_count": 24,
      "outputs": []
    },
    {
      "cell_type": "code",
      "metadata": {
        "id": "WZ2jtnI-uuaX",
        "colab": {
          "base_uri": "https://localhost:8080/",
          "height": 400
        },
        "outputId": "097546cf-09d5-4c69-be4a-42bb5605a4fe"
      },
      "source": [
        "top_words"
      ],
      "execution_count": 25,
      "outputs": [
        {
          "output_type": "execute_result",
          "data": {
            "text/html": [
              "<div>\n",
              "<style scoped>\n",
              "    .dataframe tbody tr th:only-of-type {\n",
              "        vertical-align: middle;\n",
              "    }\n",
              "\n",
              "    .dataframe tbody tr th {\n",
              "        vertical-align: top;\n",
              "    }\n",
              "\n",
              "    .dataframe thead th {\n",
              "        text-align: right;\n",
              "    }\n",
              "</style>\n",
              "<table border=\"1\" class=\"dataframe\">\n",
              "  <thead>\n",
              "    <tr style=\"text-align: right;\">\n",
              "      <th></th>\n",
              "      <th>Cluster #01</th>\n",
              "      <th>Cluster #02</th>\n",
              "      <th>Cluster #03</th>\n",
              "      <th>Cluster #04</th>\n",
              "      <th>Cluster #05</th>\n",
              "      <th>Cluster #06</th>\n",
              "      <th>Cluster #07</th>\n",
              "      <th>Cluster #08</th>\n",
              "      <th>Cluster #09</th>\n",
              "      <th>Cluster #10</th>\n",
              "    </tr>\n",
              "  </thead>\n",
              "  <tbody>\n",
              "    <tr>\n",
              "      <th>1</th>\n",
              "      <td>pants</td>\n",
              "      <td>bem</td>\n",
              "      <td>inherent</td>\n",
              "      <td>designing</td>\n",
              "      <td>merda</td>\n",
              "      <td>directly</td>\n",
              "      <td>aesthetically</td>\n",
              "      <td>appear</td>\n",
              "      <td>igra</td>\n",
              "      <td>entitled</td>\n",
              "    </tr>\n",
              "    <tr>\n",
              "      <th>2</th>\n",
              "      <td>dads</td>\n",
              "      <td>ria</td>\n",
              "      <td>garry</td>\n",
              "      <td>pedos</td>\n",
              "      <td>caterinca</td>\n",
              "      <td>tile</td>\n",
              "      <td>visually</td>\n",
              "      <td>starting</td>\n",
              "      <td>mantap</td>\n",
              "      <td>scammed</td>\n",
              "    </tr>\n",
              "    <tr>\n",
              "      <th>3</th>\n",
              "      <td>kiss</td>\n",
              "      <td>joguei</td>\n",
              "      <td>leaderboard</td>\n",
              "      <td>notable</td>\n",
              "      <td>nm</td>\n",
              "      <td>beam</td>\n",
              "      <td>upbeat</td>\n",
              "      <td>finals</td>\n",
              "      <td>sranje</td>\n",
              "      <td>swell</td>\n",
              "    </tr>\n",
              "    <tr>\n",
              "      <th>4</th>\n",
              "      <td>property</td>\n",
              "      <td>horas</td>\n",
              "      <td>unite</td>\n",
              "      <td>az</td>\n",
              "      <td>bullet</td>\n",
              "      <td>dodge</td>\n",
              "      <td>wonderfully</td>\n",
              "      <td>disconnected</td>\n",
              "      <td>bikin</td>\n",
              "      <td>downloading</td>\n",
              "    </tr>\n",
              "    <tr>\n",
              "      <th>5</th>\n",
              "      <td>arm</td>\n",
              "      <td>nunca</td>\n",
              "      <td>combinations</td>\n",
              "      <td>ab</td>\n",
              "      <td>bing</td>\n",
              "      <td>ledge</td>\n",
              "      <td>playful</td>\n",
              "      <td>barely</td>\n",
              "      <td>dah</td>\n",
              "      <td>trending</td>\n",
              "    </tr>\n",
              "    <tr>\n",
              "      <th>6</th>\n",
              "      <td>daughters</td>\n",
              "      <td>tanto</td>\n",
              "      <td>palette</td>\n",
              "      <td>occurring</td>\n",
              "      <td>thingy</td>\n",
              "      <td>blocks</td>\n",
              "      <td>cheerful</td>\n",
              "      <td>previous</td>\n",
              "      <td>gravitationally</td>\n",
              "      <td>heaven</td>\n",
              "    </tr>\n",
              "    <tr>\n",
              "      <th>7</th>\n",
              "      <td>cat</td>\n",
              "      <td>ainda</td>\n",
              "      <td>contra</td>\n",
              "      <td>pata</td>\n",
              "      <td>tower</td>\n",
              "      <td>hovering</td>\n",
              "      <td>fantastically</td>\n",
              "      <td>later</td>\n",
              "      <td>fd</td>\n",
              "      <td>uhhh</td>\n",
              "    </tr>\n",
              "    <tr>\n",
              "      <th>8</th>\n",
              "      <td>tears</td>\n",
              "      <td>pasar</td>\n",
              "      <td>textures</td>\n",
              "      <td>ironically</td>\n",
              "      <td>gentlemen</td>\n",
              "      <td>shoved</td>\n",
              "      <td>thrilling</td>\n",
              "      <td>disconnect</td>\n",
              "      <td>oi</td>\n",
              "      <td>shortly</td>\n",
              "    </tr>\n",
              "    <tr>\n",
              "      <th>9</th>\n",
              "      <td>hairs</td>\n",
              "      <td>vai</td>\n",
              "      <td>generation</td>\n",
              "      <td>combating</td>\n",
              "      <td>unwanted</td>\n",
              "      <td>spawns</td>\n",
              "      <td>cutesy</td>\n",
              "      <td>finished</td>\n",
              "      <td>fune</td>\n",
              "      <td>lying</td>\n",
              "    </tr>\n",
              "    <tr>\n",
              "      <th>10</th>\n",
              "      <td>melt</td>\n",
              "      <td>aja</td>\n",
              "      <td>halloween</td>\n",
              "      <td>spotty</td>\n",
              "      <td>aa</td>\n",
              "      <td>walking</td>\n",
              "      <td>visuals</td>\n",
              "      <td>two</td>\n",
              "      <td>ld</td>\n",
              "      <td>goodbyenever</td>\n",
              "    </tr>\n",
              "  </tbody>\n",
              "</table>\n",
              "</div>"
            ],
            "text/plain": [
              "   Cluster #01 Cluster #02   Cluster #03 Cluster #04 Cluster #05 Cluster #06  \\\n",
              "1        pants         bem      inherent   designing       merda    directly   \n",
              "2         dads         ria         garry       pedos   caterinca        tile   \n",
              "3         kiss      joguei   leaderboard     notable          nm        beam   \n",
              "4     property       horas         unite          az      bullet       dodge   \n",
              "5          arm       nunca  combinations          ab        bing       ledge   \n",
              "6    daughters       tanto       palette   occurring      thingy      blocks   \n",
              "7          cat       ainda        contra        pata       tower    hovering   \n",
              "8        tears       pasar      textures  ironically   gentlemen      shoved   \n",
              "9        hairs         vai    generation   combating    unwanted      spawns   \n",
              "10        melt         aja     halloween      spotty          aa     walking   \n",
              "\n",
              "      Cluster #07   Cluster #08      Cluster #09   Cluster #10  \n",
              "1   aesthetically        appear             igra      entitled  \n",
              "2        visually      starting           mantap       scammed  \n",
              "3          upbeat        finals           sranje         swell  \n",
              "4     wonderfully  disconnected            bikin   downloading  \n",
              "5         playful        barely              dah      trending  \n",
              "6        cheerful      previous  gravitationally        heaven  \n",
              "7   fantastically         later               fd          uhhh  \n",
              "8       thrilling    disconnect               oi       shortly  \n",
              "9          cutesy      finished             fune         lying  \n",
              "10        visuals           two               ld  goodbyenever  "
            ]
          },
          "metadata": {
            "tags": []
          },
          "execution_count": 25
        }
      ]
    },
    {
      "cell_type": "code",
      "metadata": {
        "id": "gYqiOthZ__9x"
      },
      "source": [
        "def get_word_table(table, key, sim_key='similarity', show_sim = True):\n",
        "    if show_sim == True:\n",
        "        return pd.DataFrame(table, columns=[key, sim_key])\n",
        "    else:\n",
        "        return pd.DataFrame(table, columns=[key, sim_key])[key]\n",
        "\n",
        "\n"
      ],
      "execution_count": 26,
      "outputs": []
    },
    {
      "cell_type": "code",
      "metadata": {
        "id": "hvX9Y8YZuufd",
        "colab": {
          "base_uri": "https://localhost:8080/"
        },
        "outputId": "96b86087-90c0-46b4-80d6-3605142694c1"
      },
      "source": [
        "#keys = ['game', 'design', 'tactic', 'money', 'time','character','feeling','community' ]\n",
        "keys = ['design', 'tactic', 'money', 'time','community']\n",
        "tables = []\n",
        "for key in keys:\n",
        "    tables.append(get_word_table(model.wv.similar_by_word(key,topn=50), key, show_sim=False))\n",
        "    "
      ],
      "execution_count": 27,
      "outputs": [
        {
          "output_type": "stream",
          "text": [
            "2020-11-29 05:50:18,895 : INFO : precomputing L2-norms of word weight vectors\n",
            "/usr/local/lib/python3.6/dist-packages/gensim/matutils.py:737: FutureWarning: Conversion of the second argument of issubdtype from `int` to `np.signedinteger` is deprecated. In future, it will be treated as `np.int64 == np.dtype(int).type`.\n",
            "  if np.issubdtype(vec.dtype, np.int):\n"
          ],
          "name": "stderr"
        }
      ]
    },
    {
      "cell_type": "code",
      "metadata": {
        "id": "re9piI-2vV3B"
      },
      "source": [
        "#aspect extraction and aspect terms\n",
        "aspect_terms = pd.concat(tables, axis=1)"
      ],
      "execution_count": 41,
      "outputs": []
    },
    {
      "cell_type": "code",
      "metadata": {
        "id": "IYWDV2afvV8R"
      },
      "source": [
        "aspect_terms.to_json(\"aspect_terms.json\")"
      ],
      "execution_count": 43,
      "outputs": []
    },
    {
      "cell_type": "code",
      "metadata": {
        "id": "dqMBELPevV_L",
        "colab": {
          "base_uri": "https://localhost:8080/",
          "height": 363
        },
        "outputId": "c05ff79f-9eee-4e9b-d008-b45afea29b74"
      },
      "source": [
        "csgo_df_text.head(10)\n",
        "#labels {'time', 'tactic', 'design', 'money', 'community'}\n",
        "#           0        1          2         3        4"
      ],
      "execution_count": 44,
      "outputs": [
        {
          "output_type": "execute_result",
          "data": {
            "text/html": [
              "<div>\n",
              "<style scoped>\n",
              "    .dataframe tbody tr th:only-of-type {\n",
              "        vertical-align: middle;\n",
              "    }\n",
              "\n",
              "    .dataframe tbody tr th {\n",
              "        vertical-align: top;\n",
              "    }\n",
              "\n",
              "    .dataframe thead th {\n",
              "        text-align: right;\n",
              "    }\n",
              "</style>\n",
              "<table border=\"1\" class=\"dataframe\">\n",
              "  <thead>\n",
              "    <tr style=\"text-align: right;\">\n",
              "      <th></th>\n",
              "      <th>cleaned</th>\n",
              "      <th>sentiment</th>\n",
              "      <th>sentiment score</th>\n",
              "    </tr>\n",
              "  </thead>\n",
              "  <tbody>\n",
              "    <tr>\n",
              "      <th>0</th>\n",
              "      <td>nice</td>\n",
              "      <td>Positive</td>\n",
              "      <td>0.4215</td>\n",
              "    </tr>\n",
              "    <tr>\n",
              "      <th>1</th>\n",
              "      <td>ok game</td>\n",
              "      <td>Positive</td>\n",
              "      <td>0.2960</td>\n",
              "    </tr>\n",
              "    <tr>\n",
              "      <th>2</th>\n",
              "      <td>eish</td>\n",
              "      <td>Neutral</td>\n",
              "      <td>0.0000</td>\n",
              "    </tr>\n",
              "    <tr>\n",
              "      <th>3</th>\n",
              "      <td>cyka blyat rush don stop good for learning rus...</td>\n",
              "      <td>Positive</td>\n",
              "      <td>0.1779</td>\n",
              "    </tr>\n",
              "    <tr>\n",
              "      <th>4</th>\n",
              "      <td>gud game learn russian really quick very nice ...</td>\n",
              "      <td>Positive</td>\n",
              "      <td>0.7036</td>\n",
              "    </tr>\n",
              "    <tr>\n",
              "      <th>5</th>\n",
              "      <td>my favorite game</td>\n",
              "      <td>Positive</td>\n",
              "      <td>0.4588</td>\n",
              "    </tr>\n",
              "    <tr>\n",
              "      <th>6</th>\n",
              "      <td>well counter strike is the pathfinder of fps p...</td>\n",
              "      <td>Positive</td>\n",
              "      <td>0.4603</td>\n",
              "    </tr>\n",
              "    <tr>\n",
              "      <th>7</th>\n",
              "      <td>good product</td>\n",
              "      <td>Positive</td>\n",
              "      <td>0.4404</td>\n",
              "    </tr>\n",
              "    <tr>\n",
              "      <th>8</th>\n",
              "      <td>ye</td>\n",
              "      <td>Neutral</td>\n",
              "      <td>0.0000</td>\n",
              "    </tr>\n",
              "    <tr>\n",
              "      <th>9</th>\n",
              "      <td>gang</td>\n",
              "      <td>Neutral</td>\n",
              "      <td>0.0000</td>\n",
              "    </tr>\n",
              "  </tbody>\n",
              "</table>\n",
              "</div>"
            ],
            "text/plain": [
              "                                             cleaned sentiment  \\\n",
              "0                                               nice  Positive   \n",
              "1                                            ok game  Positive   \n",
              "2                                               eish   Neutral   \n",
              "3  cyka blyat rush don stop good for learning rus...  Positive   \n",
              "4  gud game learn russian really quick very nice ...  Positive   \n",
              "5                                   my favorite game  Positive   \n",
              "6  well counter strike is the pathfinder of fps p...  Positive   \n",
              "7                                       good product  Positive   \n",
              "8                                                 ye   Neutral   \n",
              "9                                               gang   Neutral   \n",
              "\n",
              "   sentiment score  \n",
              "0           0.4215  \n",
              "1           0.2960  \n",
              "2           0.0000  \n",
              "3           0.1779  \n",
              "4           0.7036  \n",
              "5           0.4588  \n",
              "6           0.4603  \n",
              "7           0.4404  \n",
              "8           0.0000  \n",
              "9           0.0000  "
            ]
          },
          "metadata": {
            "tags": []
          },
          "execution_count": 44
        }
      ]
    },
    {
      "cell_type": "code",
      "metadata": {
        "id": "hGsEPLxcmzSX"
      },
      "source": [
        "df_cs=pd.read_csv(\"/content/all_txt_csgo.txt\",header=None)"
      ],
      "execution_count": 106,
      "outputs": []
    },
    {
      "cell_type": "code",
      "metadata": {
        "id": "-Y9dyma75H39",
        "outputId": "9735d644-530c-4db9-a262-cbaa9354f528",
        "colab": {
          "base_uri": "https://localhost:8080/"
        }
      },
      "source": [
        "df_cs.shape"
      ],
      "execution_count": 107,
      "outputs": [
        {
          "output_type": "execute_result",
          "data": {
            "text/plain": [
              "(116799, 1)"
            ]
          },
          "metadata": {
            "tags": []
          },
          "execution_count": 107
        }
      ]
    },
    {
      "cell_type": "code",
      "metadata": {
        "id": "sEiLow-akELL"
      },
      "source": [
        "df_cs_final = df_cs[:108076]"
      ],
      "execution_count": 108,
      "outputs": []
    },
    {
      "cell_type": "code",
      "metadata": {
        "id": "Ans7e72sxTB7",
        "outputId": "750fa16a-f96e-4cfe-8aef-5bcdcb927ab5",
        "colab": {
          "base_uri": "https://localhost:8080/",
          "height": 206
        }
      },
      "source": [
        "df_cs_final.head()"
      ],
      "execution_count": 120,
      "outputs": [
        {
          "output_type": "execute_result",
          "data": {
            "text/html": [
              "<div>\n",
              "<style scoped>\n",
              "    .dataframe tbody tr th:only-of-type {\n",
              "        vertical-align: middle;\n",
              "    }\n",
              "\n",
              "    .dataframe tbody tr th {\n",
              "        vertical-align: top;\n",
              "    }\n",
              "\n",
              "    .dataframe thead th {\n",
              "        text-align: right;\n",
              "    }\n",
              "</style>\n",
              "<table border=\"1\" class=\"dataframe\">\n",
              "  <thead>\n",
              "    <tr style=\"text-align: right;\">\n",
              "      <th></th>\n",
              "      <th>0</th>\n",
              "      <th>sentiment</th>\n",
              "      <th>sentiment score</th>\n",
              "    </tr>\n",
              "  </thead>\n",
              "  <tbody>\n",
              "    <tr>\n",
              "      <th>0</th>\n",
              "      <td>ok game</td>\n",
              "      <td>Positive</td>\n",
              "      <td>0.2960</td>\n",
              "    </tr>\n",
              "    <tr>\n",
              "      <th>1</th>\n",
              "      <td>cyka blyat rush don stop good for learning rus...</td>\n",
              "      <td>Positive</td>\n",
              "      <td>0.1779</td>\n",
              "    </tr>\n",
              "    <tr>\n",
              "      <th>2</th>\n",
              "      <td>gud game learn russian really quick very nice ...</td>\n",
              "      <td>Positive</td>\n",
              "      <td>0.7036</td>\n",
              "    </tr>\n",
              "    <tr>\n",
              "      <th>3</th>\n",
              "      <td>my favorite game</td>\n",
              "      <td>Positive</td>\n",
              "      <td>0.4588</td>\n",
              "    </tr>\n",
              "    <tr>\n",
              "      <th>4</th>\n",
              "      <td>well counter strike is the pathfinder of fps p...</td>\n",
              "      <td>Positive</td>\n",
              "      <td>0.6249</td>\n",
              "    </tr>\n",
              "  </tbody>\n",
              "</table>\n",
              "</div>"
            ],
            "text/plain": [
              "                                                   0 sentiment  \\\n",
              "0                                            ok game  Positive   \n",
              "1  cyka blyat rush don stop good for learning rus...  Positive   \n",
              "2  gud game learn russian really quick very nice ...  Positive   \n",
              "3                                   my favorite game  Positive   \n",
              "4  well counter strike is the pathfinder of fps p...  Positive   \n",
              "\n",
              "   sentiment score  \n",
              "0           0.2960  \n",
              "1           0.1779  \n",
              "2           0.7036  \n",
              "3           0.4588  \n",
              "4           0.6249  "
            ]
          },
          "metadata": {
            "tags": []
          },
          "execution_count": 120
        }
      ]
    },
    {
      "cell_type": "code",
      "metadata": {
        "id": "JYncrCCIvWFU"
      },
      "source": [
        "df_pred_cs=pd.read_csv(\"/content/pred_result_csgo_final.txt\",header=None,sep='\\n')"
      ],
      "execution_count": 123,
      "outputs": []
    },
    {
      "cell_type": "code",
      "metadata": {
        "id": "YZKJ4m_e9Xhx",
        "outputId": "9d107013-6d73-49f4-c636-cc7c3ae10dba",
        "colab": {
          "base_uri": "https://localhost:8080/"
        }
      },
      "source": [
        "df_pred_cs.shape"
      ],
      "execution_count": 124,
      "outputs": [
        {
          "output_type": "execute_result",
          "data": {
            "text/plain": [
              "(116799, 1)"
            ]
          },
          "metadata": {
            "tags": []
          },
          "execution_count": 124
        }
      ]
    },
    {
      "cell_type": "code",
      "metadata": {
        "id": "S8l7AIa0wKeG"
      },
      "source": [
        "df_pred_cs_final = df_pred_cs[:108076]"
      ],
      "execution_count": 125,
      "outputs": []
    },
    {
      "cell_type": "code",
      "metadata": {
        "id": "vtw2-pSkxmJ-",
        "outputId": "62212ce6-7868-45a5-e31e-3de515a9181e",
        "colab": {
          "base_uri": "https://localhost:8080/",
          "height": 206
        }
      },
      "source": [
        "df_pred_cs_final.tail()"
      ],
      "execution_count": 126,
      "outputs": [
        {
          "output_type": "execute_result",
          "data": {
            "text/html": [
              "<div>\n",
              "<style scoped>\n",
              "    .dataframe tbody tr th:only-of-type {\n",
              "        vertical-align: middle;\n",
              "    }\n",
              "\n",
              "    .dataframe tbody tr th {\n",
              "        vertical-align: top;\n",
              "    }\n",
              "\n",
              "    .dataframe thead th {\n",
              "        text-align: right;\n",
              "    }\n",
              "</style>\n",
              "<table border=\"1\" class=\"dataframe\">\n",
              "  <thead>\n",
              "    <tr style=\"text-align: right;\">\n",
              "      <th></th>\n",
              "      <th>0</th>\n",
              "    </tr>\n",
              "  </thead>\n",
              "  <tbody>\n",
              "    <tr>\n",
              "      <th>108071</th>\n",
              "      <td>0</td>\n",
              "    </tr>\n",
              "    <tr>\n",
              "      <th>108072</th>\n",
              "      <td>4</td>\n",
              "    </tr>\n",
              "    <tr>\n",
              "      <th>108073</th>\n",
              "      <td>2</td>\n",
              "    </tr>\n",
              "    <tr>\n",
              "      <th>108074</th>\n",
              "      <td>1</td>\n",
              "    </tr>\n",
              "    <tr>\n",
              "      <th>108075</th>\n",
              "      <td>1</td>\n",
              "    </tr>\n",
              "  </tbody>\n",
              "</table>\n",
              "</div>"
            ],
            "text/plain": [
              "        0\n",
              "108071  0\n",
              "108072  4\n",
              "108073  2\n",
              "108074  1\n",
              "108075  1"
            ]
          },
          "metadata": {
            "tags": []
          },
          "execution_count": 126
        }
      ]
    },
    {
      "cell_type": "code",
      "metadata": {
        "id": "RfZ84lRZez8x"
      },
      "source": [
        "#Aspect extraction of Game Reviews\n",
        "##CAT: https://github.com/clips/cat\n",
        "\n",
        "#works, results to be uploaded to repo, but the results are not reliable\n",
        "\n",
        "#Steps:TBD"
      ],
      "execution_count": 29,
      "outputs": []
    },
    {
      "cell_type": "code",
      "metadata": {
        "id": "V-DkvQaLVYjk"
      },
      "source": [
        "# calculate sentiment score for each review"
      ],
      "execution_count": 31,
      "outputs": []
    },
    {
      "cell_type": "code",
      "metadata": {
        "colab": {
          "base_uri": "https://localhost:8080/"
        },
        "id": "uFaubqdGMfC8",
        "outputId": "98b19280-f57b-467f-b95b-0c0937547f8c"
      },
      "source": [
        "!pip install vaderSentiment"
      ],
      "execution_count": 32,
      "outputs": [
        {
          "output_type": "stream",
          "text": [
            "Collecting vaderSentiment\n",
            "\u001b[?25l  Downloading https://files.pythonhosted.org/packages/76/fc/310e16254683c1ed35eeb97386986d6c00bc29df17ce280aed64d55537e9/vaderSentiment-3.3.2-py2.py3-none-any.whl (125kB)\n",
            "\r\u001b[K     |██▋                             | 10kB 16.1MB/s eta 0:00:01\r\u001b[K     |█████▏                          | 20kB 21.7MB/s eta 0:00:01\r\u001b[K     |███████▉                        | 30kB 12.8MB/s eta 0:00:01\r\u001b[K     |██████████▍                     | 40kB 8.4MB/s eta 0:00:01\r\u001b[K     |█████████████                   | 51kB 4.0MB/s eta 0:00:01\r\u001b[K     |███████████████▋                | 61kB 4.4MB/s eta 0:00:01\r\u001b[K     |██████████████████▏             | 71kB 4.3MB/s eta 0:00:01\r\u001b[K     |████████████████████▉           | 81kB 4.7MB/s eta 0:00:01\r\u001b[K     |███████████████████████▍        | 92kB 4.8MB/s eta 0:00:01\r\u001b[K     |██████████████████████████      | 102kB 3.9MB/s eta 0:00:01\r\u001b[K     |████████████████████████████▋   | 112kB 3.9MB/s eta 0:00:01\r\u001b[K     |███████████████████████████████▏| 122kB 3.9MB/s eta 0:00:01\r\u001b[K     |████████████████████████████████| 133kB 3.9MB/s \n",
            "\u001b[?25hRequirement already satisfied: requests in /usr/local/lib/python3.6/dist-packages (from vaderSentiment) (2.23.0)\n",
            "Requirement already satisfied: certifi>=2017.4.17 in /usr/local/lib/python3.6/dist-packages (from requests->vaderSentiment) (2020.11.8)\n",
            "Requirement already satisfied: urllib3!=1.25.0,!=1.25.1,<1.26,>=1.21.1 in /usr/local/lib/python3.6/dist-packages (from requests->vaderSentiment) (1.24.3)\n",
            "Requirement already satisfied: chardet<4,>=3.0.2 in /usr/local/lib/python3.6/dist-packages (from requests->vaderSentiment) (3.0.4)\n",
            "Requirement already satisfied: idna<3,>=2.5 in /usr/local/lib/python3.6/dist-packages (from requests->vaderSentiment) (2.10)\n",
            "Installing collected packages: vaderSentiment\n",
            "Successfully installed vaderSentiment-3.3.2\n"
          ],
          "name": "stdout"
        }
      ]
    },
    {
      "cell_type": "code",
      "metadata": {
        "id": "J7uBtpT6UzUB"
      },
      "source": [
        "from vaderSentiment.vaderSentiment import SentimentIntensityAnalyzer "
      ],
      "execution_count": 33,
      "outputs": []
    },
    {
      "cell_type": "code",
      "metadata": {
        "id": "9Ku2rM33U20k"
      },
      "source": [
        "def sentiment_analyzer(data):\n",
        "  analyser = SentimentIntensityAnalyzer()\n",
        "\n",
        "  sentiment_score_list = []\n",
        "  sentiment_label_list = []\n",
        "\n",
        "\n",
        "\n",
        "  for i in data.values.tolist():\n",
        "    #if type(i) == \"float\":\n",
        "      #print(i)\n",
        "      #continue\n",
        "      sentiment_score = analyser.polarity_scores(i)\n",
        "\n",
        "      if sentiment_score['compound'] >= 0.05:\n",
        "          sentiment_score_list.append(sentiment_score['compound'])\n",
        "          sentiment_label_list.append('Positive')\n",
        "      elif sentiment_score['compound'] > -0.05 and sentiment_score['compound'] < 0.05:\n",
        "          sentiment_score_list.append(sentiment_score['compound'])\n",
        "          sentiment_label_list.append('Neutral')\n",
        "      elif sentiment_score['compound'] <= -0.05:\n",
        "          sentiment_score_list.append(sentiment_score['compound'])\n",
        "          sentiment_label_list.append('Negative')\n",
        "  data=pd.DataFrame(data)\n",
        "  data['sentiment'] = sentiment_label_list\n",
        "  data['sentiment score'] = sentiment_score_list\n",
        "\n",
        "  return data\n"
      ],
      "execution_count": 112,
      "outputs": []
    },
    {
      "cell_type": "code",
      "metadata": {
        "id": "i3qMIEeuynN2"
      },
      "source": [
        "#remove 'nan' from csgo_review\n",
        "#df_cs_final=df_cs_final[df_cs_final[:] != 'nan']"
      ],
      "execution_count": 101,
      "outputs": []
    },
    {
      "cell_type": "code",
      "metadata": {
        "id": "C8kD83an4SKb",
        "outputId": "24a38c56-4827-4218-9dae-647f6d0ba13b",
        "colab": {
          "base_uri": "https://localhost:8080/"
        }
      },
      "source": [
        "df_cs_final.shape"
      ],
      "execution_count": 110,
      "outputs": [
        {
          "output_type": "execute_result",
          "data": {
            "text/plain": [
              "(108076, 1)"
            ]
          },
          "metadata": {
            "tags": []
          },
          "execution_count": 110
        }
      ]
    },
    {
      "cell_type": "code",
      "metadata": {
        "id": "wyLTwtSpVyjq"
      },
      "source": [
        "#fg_df_text=sentiment_analyzer(fg_df_text)\n",
        "csgo_df_sentiment=sentiment_analyzer(df_cs_final)"
      ],
      "execution_count": 113,
      "outputs": []
    },
    {
      "cell_type": "code",
      "metadata": {
        "id": "MDr1UJg0-n1U"
      },
      "source": [
        "# use cat output to label each review with one aspect, merge with sentiment score to see the difference between genre/games"
      ],
      "execution_count": 40,
      "outputs": []
    },
    {
      "cell_type": "code",
      "metadata": {
        "id": "re9C6XBS_jOT"
      },
      "source": [
        "df_cs_final_aspect = pd.concat((csgo_df_sentiment,df_pred_cs_final),axis=1)"
      ],
      "execution_count": 137,
      "outputs": []
    },
    {
      "cell_type": "code",
      "metadata": {
        "id": "2SwAiWnr7rRT"
      },
      "source": [
        "df_cs_final_aspect=df_cs_final_aspect[:108076]"
      ],
      "execution_count": 138,
      "outputs": []
    },
    {
      "cell_type": "code",
      "metadata": {
        "id": "fry8194Y94Mr"
      },
      "source": [
        "df_cs_final_aspect.columns=['text','sentiment', 'sentiment score','aspect']"
      ],
      "execution_count": 139,
      "outputs": []
    },
    {
      "cell_type": "code",
      "metadata": {
        "id": "n3JRY6vGU-Of"
      },
      "source": [
        "def plot_sentiment_aspect(data):\n",
        "\n",
        "  import seaborn as sns\n",
        "  ax = sns.countplot(x=\"aspect\",hue = \"sentiment\",data=data)\n"
      ],
      "execution_count": 135,
      "outputs": []
    },
    {
      "cell_type": "code",
      "metadata": {
        "id": "9NCS1MFuGhNR"
      },
      "source": [
        "##labels {'time', 'tactic', 'design', 'money', 'community'}\n",
        "           0        1          2         3        4"
      ],
      "execution_count": 30,
      "outputs": []
    },
    {
      "cell_type": "code",
      "metadata": {
        "id": "6dLp3f4q-2gp",
        "outputId": "86a153b1-51d3-4b60-af62-7924b19343a6",
        "colab": {
          "base_uri": "https://localhost:8080/",
          "height": 279
        }
      },
      "source": [
        "plot_sentiment_aspect(df_cs_final_aspect)\n"
      ],
      "execution_count": 140,
      "outputs": [
        {
          "output_type": "display_data",
          "data": {
            "image/png": "[encoded data removed]",
            "text/plain": [
              "<Figure size 432x288 with 1 Axes>"
            ]
          },
          "metadata": {
            "tags": [],
            "needs_background": "light"
          }
        }
      ]
    }
  ]
}