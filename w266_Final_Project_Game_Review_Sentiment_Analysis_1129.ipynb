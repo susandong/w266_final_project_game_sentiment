{
  "nbformat": 4,
  "nbformat_minor": 0,
  "metadata": {
    "colab": {
      "name": "w266_Final_Project_Game_Review_Sentiment_Analysis_1129.ipynb",
      "provenance": [],
      "include_colab_link": true
    },
    "kernelspec": {
      "name": "python3",
      "display_name": "Python 3"
    },
    "accelerator": "GPU"
  },
  "cells": [
    {
      "cell_type": "markdown",
      "metadata": {
        "id": "view-in-github",
        "colab_type": "text"
      },
      "source": [
        "<a href=\"https://colab.research.google.com/github/vid-nath/w266_final_project_game_sentiment/blob/master/w266_Final_Project_Game_Review_Sentiment_Analysis_1129.ipynb\" target=\"_parent\"><img src=\"https://colab.research.google.com/assets/colab-badge.svg\" alt=\"Open In Colab\"/></a>"
      ]
    },
    {
      "cell_type": "markdown",
      "metadata": {
        "id": "DrstJ8hJNJmO"
      },
      "source": [
        "# Final Project: Game Review Sentiment Analysis Over Time\n",
        "## Research Question: \n",
        "* Can we use sentiment analysis score to predict the active user base for video games over time\n",
        "\n",
        "## Dataset: \n",
        "* Game Review: twitter/reddit/discord/steam reviews\n",
        "* active user base: steam\n",
        "\n",
        "## Algorithm: \n",
        "* Baseline(logistic Regression); \n",
        "* Transformer(Elmo/Bert)\n"
      ]
    },
    {
      "cell_type": "code",
      "metadata": {
        "id": "yW01NUndQd3C"
      },
      "source": [
        "#Load libraries\n",
        "import pandas as pd\n",
        "import nltk\n",
        "import numpy as np\n",
        "import matplotlib.pyplot as plt\n",
        "import seaborn as sns"
      ],
      "execution_count": 1,
      "outputs": []
    },
    {
      "cell_type": "code",
      "metadata": {
        "id": "kFboN7cwMM6V",
        "colab": {
          "base_uri": "https://localhost:8080/"
        },
        "outputId": "d7b2a53f-789f-4d4d-9854-3900adbeca4e"
      },
      "source": [
        "\"\"\" Download Data: There are 4 games with review data\n",
        "Fall Guys (fg)\n",
        "PlayerUnknown Battlegrounds (pubg)\n",
        "Dota 2 (dota2)\n",
        "Counterstrike Source: Go (csgo)\n",
        "\n",
        "Review data has the following columns:\n",
        "app: ID for the game\n",
        "useful: how many users voted the review as useful\n",
        "funny: how many users voted the review as funny\n",
        "username: username of the person who wrote the review\n",
        "games_owned: how many games the reviewer owns on Steam\n",
        "num_reviews: how many reviews the reviewer has written on Steam\n",
        "recommend: 1 for recommend (thumbs up), -1 for do not recommend (thumbs down)\n",
        "hours_played: number of hours the reviewer played before writing the review\n",
        "date: date review was written\n",
        "text: text of the review\n",
        "\"\"\"\n",
        "#Fall Guys\n",
        "fg_url = 'https://raw.githubusercontent.com/susandong/w266_final_project_game_sentiment/master/data/fallguys_reviews.csv'\n",
        "fg_df = pd.read_csv(fg_url, error_bad_lines=False)\n",
        "fg_df = fg_df.dropna()\n",
        "\n",
        "#CS: Go\n",
        "csgo_url = 'https://raw.githubusercontent.com/susandong/w266_final_project_game_sentiment/master/data/csgo_reviews.csv'\n",
        "csgo_df = pd.read_csv(csgo_url, error_bad_lines=False)\n",
        "csgo_df = csgo_df.dropna()\n",
        "\n",
        "#PUBG\n",
        "pubg_url = 'https://raw.githubusercontent.com/susandong/w266_final_project_game_sentiment/master/data/pubg_reviews.csv'\n",
        "pubg_df = pd.read_csv(pubg_url, error_bad_lines=False)\n",
        "pubg_df = pubg_df.dropna()\n",
        "\n",
        "#Communication games\n",
        "comm_url = 'https://raw.githubusercontent.com/susandong/w266_final_project_game_sentiment/master/data/comm_reviews.csv'\n",
        "comm_df = pd.read_csv(comm_url, error_bad_lines=False)\n",
        "comm_df = comm_df.dropna()\n",
        "\n",
        "#Sports games\n",
        "sports_url = 'https://raw.githubusercontent.com/susandong/w266_final_project_game_sentiment/master/data/sports_reviews.csv'\n",
        "sports_df = pd.read_csv(sports_url, error_bad_lines=False)\n",
        "sports_df = sports_df.dropna()\n",
        "\n",
        "#FPS games\n",
        "fps_url = 'https://raw.githubusercontent.com/susandong/w266_final_project_game_sentiment/master/data/fps_reviews.csv'\n",
        "fps_df = pd.read_csv(fps_url, error_bad_lines=False)\n",
        "fps_df = fps_df.dropna()"
      ],
      "execution_count": 2,
      "outputs": [
        {
          "output_type": "stream",
          "text": [
            "/usr/local/lib/python3.6/dist-packages/IPython/core/interactiveshell.py:2718: DtypeWarning: Columns (3,8,9) have mixed types.Specify dtype option on import or set low_memory=False.\n",
            "  interactivity=interactivity, compiler=compiler, result=result)\n"
          ],
          "name": "stderr"
        }
      ]
    },
    {
      "cell_type": "code",
      "metadata": {
        "id": "agbZIEqVXgVQ"
      },
      "source": [
        "from nltk.tokenize import RegexpTokenizer\n",
        "def remove_blankrow(df,column):\n",
        "  tokenizer = RegexpTokenizer(r'\\w+')\n",
        "  df['lens'] =[len(tokenizer.tokenize(utterance)) for utterance in df[column]]\n",
        "  df_clean=df[df['lens'] !=0]\n",
        "  return df_clean"
      ],
      "execution_count": 3,
      "outputs": []
    },
    {
      "cell_type": "code",
      "metadata": {
        "id": "Fq_wR2DmOp7T",
        "colab": {
          "base_uri": "https://localhost:8080/"
        },
        "outputId": "5069785c-58eb-4b5b-e329-ec34a8672a31"
      },
      "source": [
        "# Data Preprocessing\n",
        "!pip install unidecode\n",
        "import unidecode\n",
        "import re\n",
        "from nltk.tokenize import TweetTokenizer\n",
        "from nltk.corpus import stopwords\n",
        "from nltk.stem import PorterStemmer\n",
        "#from nltk.stem import WordNetLemmatizer\n",
        "nltk.download('stopwords')\n",
        "\n",
        "tknzr = TweetTokenizer()\n",
        "stop_words = set(stopwords.words('english'))\n",
        "stemmer = PorterStemmer()\n",
        "#lemma = WordNetLemmatizer()\n",
        "\n",
        "#Convert accented characters\n",
        "def remove_accents(text):\n",
        "  try:\n",
        "    text = unidecode.unidecode(text)\n",
        "  except:\n",
        "    pass\n",
        "  return text\n",
        "\n",
        "#Remove digits and punctuation\n",
        "def remove_nonletters(text):\n",
        "  try:\n",
        "    #Remove digits AND punctuation\n",
        "    text = re.sub('[^a-zA-Z]', ' ', text)\n",
        "    \n",
        "    #Remove just digits that are by themselves\n",
        "    #text = re.sub('^\\d+\\s|\\s\\d+\\s|\\s\\d+$', ' ', text)\n",
        "  except:\n",
        "    pass\n",
        "  return text\n",
        "\n",
        "\n",
        "#Use Tweet Tokenizer for some built-in emoji support\n",
        "def tweet_tokenization(text):\n",
        "  try:\n",
        "    return tknzr.tokenize(text)\n",
        "  except:\n",
        "    pass\n",
        "\n",
        "def remove_stopwords(token):\n",
        "  try:\n",
        "    return [item for item in token if item not in stop_words]\n",
        "  except:\n",
        "    pass\n",
        "\n",
        "def remove_stemmer(token):\n",
        "  try:\n",
        "    return [stemmer.stem(i) for i in token]\n",
        "  except:\n",
        "    pass\n",
        "\n",
        "def remove_lemmatizer(token):\n",
        "  try:\n",
        "    return [lemma.lemmatize(word=w, pow='v') for w in token]\n",
        "  except:\n",
        "    pass\n",
        "  \n",
        "def remove_shortwords(token):\n",
        "  try:\n",
        "    return [i for i in token if len(i) > 1]\n",
        "  except:\n",
        "    pass\n",
        "\n",
        "def token_to_string(listTokens):\n",
        "  return ' '.join(listTokens)\n",
        "\n",
        "#Process text from dataframe. df = dataframe to clean, text = name of column with text\n",
        "def process_text(df, text):  \n",
        "  #Create new column for cleaned text\n",
        "  df['cleaned'] = df[text]\n",
        "\n",
        "  #Lower case all text\n",
        "  df['cleaned'] = df['cleaned'].str.lower()\n",
        "\n",
        "  #Clean URLs\n",
        "  df['cleaned'] = df['cleaned'].str.replace('http\\S+|www.\\S+', '', case=False)\n",
        "\n",
        "  #Remove accents from text\n",
        "  #df['cleaned'] = df['cleaned'].apply(remove_accents)\n",
        "\n",
        "  #Remove numbers and punctuation from text\n",
        "  df['cleaned'] = df['cleaned'].apply(remove_nonletters)\n",
        "  \n",
        "  #Tokenize\n",
        "  df['cleaned'] = df['cleaned'].apply(tweet_tokenization)\n",
        "\n",
        "  #Remove stopwords\n",
        "  #df['cleaned'] = df['cleaned'].apply(remove_stopwords)\n",
        "  \n",
        "  #Remove short words\n",
        "  df['cleaned'] = df['cleaned'].apply(remove_shortwords)\n",
        "\n",
        "  #Stemming - can decide to use or not\n",
        "  #df['cleaned'] = df['cleaned'].apply(remove_stemmer)\n",
        "\n",
        "  #Convert tokens back to string\n",
        "  df['cleaned'] = df['cleaned'].apply(token_to_string)\n",
        "\n",
        "  #Remove blankrows\n",
        "  df = remove_blankrow(df, 'cleaned')\n",
        "\n",
        "  #Remove overly long reviews\n",
        "  df =df[df.lens<(df['lens'].quantile(0.90))]\n",
        "\n",
        "  #Change negative review from -1 to 0\n",
        "  df['recommend'] = df['recommend'].replace([-1],0)\n",
        "\n",
        "  #Use only recommend and cleaned columns\n",
        "  df = df[[\"recommend\",\"cleaned\"]]\n"
      ],
      "execution_count": 4,
      "outputs": [
        {
          "output_type": "stream",
          "text": [
            "Collecting unidecode\n",
            "\u001b[?25l  Downloading https://files.pythonhosted.org/packages/d0/42/d9edfed04228bacea2d824904cae367ee9efd05e6cce7ceaaedd0b0ad964/Unidecode-1.1.1-py2.py3-none-any.whl (238kB)\n",
            "\r\u001b[K     |█▍                              | 10kB 26.7MB/s eta 0:00:01\r\u001b[K     |██▊                             | 20kB 33.3MB/s eta 0:00:01\r\u001b[K     |████▏                           | 30kB 36.0MB/s eta 0:00:01\r\u001b[K     |█████▌                          | 40kB 32.0MB/s eta 0:00:01\r\u001b[K     |██████▉                         | 51kB 33.6MB/s eta 0:00:01\r\u001b[K     |████████▎                       | 61kB 36.2MB/s eta 0:00:01\r\u001b[K     |█████████▋                      | 71kB 25.2MB/s eta 0:00:01\r\u001b[K     |███████████                     | 81kB 23.8MB/s eta 0:00:01\r\u001b[K     |████████████▍                   | 92kB 25.3MB/s eta 0:00:01\r\u001b[K     |█████████████▊                  | 102kB 22.2MB/s eta 0:00:01\r\u001b[K     |███████████████▏                | 112kB 22.2MB/s eta 0:00:01\r\u001b[K     |████████████████▌               | 122kB 22.2MB/s eta 0:00:01\r\u001b[K     |█████████████████▉              | 133kB 22.2MB/s eta 0:00:01\r\u001b[K     |███████████████████▎            | 143kB 22.2MB/s eta 0:00:01\r\u001b[K     |████████████████████▋           | 153kB 22.2MB/s eta 0:00:01\r\u001b[K     |██████████████████████          | 163kB 22.2MB/s eta 0:00:01\r\u001b[K     |███████████████████████▍        | 174kB 22.2MB/s eta 0:00:01\r\u001b[K     |████████████████████████▊       | 184kB 22.2MB/s eta 0:00:01\r\u001b[K     |██████████████████████████▏     | 194kB 22.2MB/s eta 0:00:01\r\u001b[K     |███████████████████████████▌    | 204kB 22.2MB/s eta 0:00:01\r\u001b[K     |████████████████████████████▉   | 215kB 22.2MB/s eta 0:00:01\r\u001b[K     |██████████████████████████████▎ | 225kB 22.2MB/s eta 0:00:01\r\u001b[K     |███████████████████████████████▋| 235kB 22.2MB/s eta 0:00:01\r\u001b[K     |████████████████████████████████| 245kB 22.2MB/s \n",
            "\u001b[?25hInstalling collected packages: unidecode\n",
            "Successfully installed unidecode-1.1.1\n",
            "[nltk_data] Downloading package stopwords to /root/nltk_data...\n",
            "[nltk_data]   Unzipping corpora/stopwords.zip.\n"
          ],
          "name": "stdout"
        }
      ]
    },
    {
      "cell_type": "code",
      "metadata": {
        "id": "ahL3k7O7XGZ-"
      },
      "source": [
        "#preprocess all the datasets for all 3 games\n",
        "process_text(fg_df, 'text')\n",
        "process_text(csgo_df, 'text')\n",
        "process_text(pubg_df, 'text')\n",
        "process_text(comm_df, 'text')\n",
        "process_text(sports_df, 'text')\n",
        "process_text(fps_df, 'text')\n"
      ],
      "execution_count": 5,
      "outputs": []
    },
    {
      "cell_type": "code",
      "metadata": {
        "id": "yhA0HuzadSz_",
        "colab": {
          "base_uri": "https://localhost:8080/",
          "height": 570
        },
        "outputId": "c835b3ad-2f92-45c7-ca20-eb1f78c61b46"
      },
      "source": [
        "casual_df = pd.concat([fg_df, sports_df, comm_df])\n",
        "fps_all_df = pd.concat([csgo_df, pubg_df, fps_df])\n",
        "all_df = pd.concat([casual_df, fps_all_df])\n",
        "fps_all_df"
      ],
      "execution_count": 6,
      "outputs": [
        {
          "output_type": "execute_result",
          "data": {
            "text/html": [
              "<div>\n",
              "<style scoped>\n",
              "    .dataframe tbody tr th:only-of-type {\n",
              "        vertical-align: middle;\n",
              "    }\n",
              "\n",
              "    .dataframe tbody tr th {\n",
              "        vertical-align: top;\n",
              "    }\n",
              "\n",
              "    .dataframe thead th {\n",
              "        text-align: right;\n",
              "    }\n",
              "</style>\n",
              "<table border=\"1\" class=\"dataframe\">\n",
              "  <thead>\n",
              "    <tr style=\"text-align: right;\">\n",
              "      <th></th>\n",
              "      <th>app</th>\n",
              "      <th>useful</th>\n",
              "      <th>funny</th>\n",
              "      <th>username</th>\n",
              "      <th>games_owned</th>\n",
              "      <th>num_reviews</th>\n",
              "      <th>recommend</th>\n",
              "      <th>hours_played</th>\n",
              "      <th>date</th>\n",
              "      <th>text</th>\n",
              "      <th>cleaned</th>\n",
              "      <th>lens</th>\n",
              "    </tr>\n",
              "  </thead>\n",
              "  <tbody>\n",
              "    <tr>\n",
              "      <th>0</th>\n",
              "      <td>730.0</td>\n",
              "      <td>0.0</td>\n",
              "      <td>0.0</td>\n",
              "      <td>drkng</td>\n",
              "      <td>27.0</td>\n",
              "      <td>2.0</td>\n",
              "      <td>1.0</td>\n",
              "      <td>62.6</td>\n",
              "      <td>11 October, 2020</td>\n",
              "      <td>nice</td>\n",
              "      <td>nice</td>\n",
              "      <td>1</td>\n",
              "    </tr>\n",
              "    <tr>\n",
              "      <th>1</th>\n",
              "      <td>730.0</td>\n",
              "      <td>0.0</td>\n",
              "      <td>0.0</td>\n",
              "      <td>7.65612E+16</td>\n",
              "      <td>10.0</td>\n",
              "      <td>1.0</td>\n",
              "      <td>1.0</td>\n",
              "      <td>625.5</td>\n",
              "      <td>11 October, 2020</td>\n",
              "      <td>Ok game.</td>\n",
              "      <td>ok game</td>\n",
              "      <td>2</td>\n",
              "    </tr>\n",
              "    <tr>\n",
              "      <th>2</th>\n",
              "      <td>730.0</td>\n",
              "      <td>1.0</td>\n",
              "      <td>0.0</td>\n",
              "      <td>7.65612E+16</td>\n",
              "      <td>6.0</td>\n",
              "      <td>1.0</td>\n",
              "      <td>1.0</td>\n",
              "      <td>951.4</td>\n",
              "      <td>11 October, 2020</td>\n",
              "      <td>eish</td>\n",
              "      <td>eish</td>\n",
              "      <td>1</td>\n",
              "    </tr>\n",
              "    <tr>\n",
              "      <th>3</th>\n",
              "      <td>730.0</td>\n",
              "      <td>0.0</td>\n",
              "      <td>0.0</td>\n",
              "      <td>7.65612E+16</td>\n",
              "      <td>79.0</td>\n",
              "      <td>6.0</td>\n",
              "      <td>-1.0</td>\n",
              "      <td>474.8</td>\n",
              "      <td>11 October, 2020</td>\n",
              "      <td>Cyka blyat P90 rush B don't stop. Good for lea...</td>\n",
              "      <td>cyka blyat rush don stop good for learning rus...</td>\n",
              "      <td>9</td>\n",
              "    </tr>\n",
              "    <tr>\n",
              "      <th>4</th>\n",
              "      <td>730.0</td>\n",
              "      <td>0.0</td>\n",
              "      <td>0.0</td>\n",
              "      <td>_spectreh</td>\n",
              "      <td>45.0</td>\n",
              "      <td>3.0</td>\n",
              "      <td>1.0</td>\n",
              "      <td>49.1</td>\n",
              "      <td>11 October, 2020</td>\n",
              "      <td>gud game, learn russian really quick, very nic...</td>\n",
              "      <td>gud game learn russian really quick very nice ...</td>\n",
              "      <td>10</td>\n",
              "    </tr>\n",
              "    <tr>\n",
              "      <th>...</th>\n",
              "      <td>...</td>\n",
              "      <td>...</td>\n",
              "      <td>...</td>\n",
              "      <td>...</td>\n",
              "      <td>...</td>\n",
              "      <td>...</td>\n",
              "      <td>...</td>\n",
              "      <td>...</td>\n",
              "      <td>...</td>\n",
              "      <td>...</td>\n",
              "      <td>...</td>\n",
              "      <td>...</td>\n",
              "    </tr>\n",
              "    <tr>\n",
              "      <th>53698</th>\n",
              "      <td>359550.0</td>\n",
              "      <td>0.0</td>\n",
              "      <td>0.0</td>\n",
              "      <td>7.65612E+16</td>\n",
              "      <td>12.0</td>\n",
              "      <td>1.0</td>\n",
              "      <td>1.0</td>\n",
              "      <td>42.1</td>\n",
              "      <td>29 October, 2020</td>\n",
              "      <td>''Its Just Guud''</td>\n",
              "      <td>its just guud</td>\n",
              "      <td>3</td>\n",
              "    </tr>\n",
              "    <tr>\n",
              "      <th>53699</th>\n",
              "      <td>359550.0</td>\n",
              "      <td>1.0</td>\n",
              "      <td>0.0</td>\n",
              "      <td>7.65612E+16</td>\n",
              "      <td>22.0</td>\n",
              "      <td>4.0</td>\n",
              "      <td>-1.0</td>\n",
              "      <td>265.0</td>\n",
              "      <td>29 October, 2020</td>\n",
              "      <td>gay</td>\n",
              "      <td>gay</td>\n",
              "      <td>1</td>\n",
              "    </tr>\n",
              "    <tr>\n",
              "      <th>53700</th>\n",
              "      <td>359550.0</td>\n",
              "      <td>0.0</td>\n",
              "      <td>0.0</td>\n",
              "      <td>bath_tub</td>\n",
              "      <td>80.0</td>\n",
              "      <td>6.0</td>\n",
              "      <td>1.0</td>\n",
              "      <td>41.9</td>\n",
              "      <td>29 October, 2020</td>\n",
              "      <td>Ubisoft sucks</td>\n",
              "      <td>ubisoft sucks</td>\n",
              "      <td>2</td>\n",
              "    </tr>\n",
              "    <tr>\n",
              "      <th>53701</th>\n",
              "      <td>359550.0</td>\n",
              "      <td>0.0</td>\n",
              "      <td>0.0</td>\n",
              "      <td>7.65612E+16</td>\n",
              "      <td>3.0</td>\n",
              "      <td>1.0</td>\n",
              "      <td>1.0</td>\n",
              "      <td>95.0</td>\n",
              "      <td>29 October, 2020</td>\n",
              "      <td>best shooter in the market</td>\n",
              "      <td>best shooter in the market</td>\n",
              "      <td>5</td>\n",
              "    </tr>\n",
              "    <tr>\n",
              "      <th>53702</th>\n",
              "      <td>359550.0</td>\n",
              "      <td>0.0</td>\n",
              "      <td>0.0</td>\n",
              "      <td>7.65612E+16</td>\n",
              "      <td>2.0</td>\n",
              "      <td>1.0</td>\n",
              "      <td>1.0</td>\n",
              "      <td>83.9</td>\n",
              "      <td>29 October, 2020</td>\n",
              "      <td>immersive</td>\n",
              "      <td>immersive</td>\n",
              "      <td>1</td>\n",
              "    </tr>\n",
              "  </tbody>\n",
              "</table>\n",
              "<p>415938 rows × 12 columns</p>\n",
              "</div>"
            ],
            "text/plain": [
              "            app  ...  lens\n",
              "0         730.0  ...     1\n",
              "1         730.0  ...     2\n",
              "2         730.0  ...     1\n",
              "3         730.0  ...     9\n",
              "4         730.0  ...    10\n",
              "...         ...  ...   ...\n",
              "53698  359550.0  ...     3\n",
              "53699  359550.0  ...     1\n",
              "53700  359550.0  ...     2\n",
              "53701  359550.0  ...     5\n",
              "53702  359550.0  ...     1\n",
              "\n",
              "[415938 rows x 12 columns]"
            ]
          },
          "metadata": {
            "tags": []
          },
          "execution_count": 6
        }
      ]
    },
    {
      "cell_type": "code",
      "metadata": {
        "id": "lYO6zayauqLp",
        "colab": {
          "base_uri": "https://localhost:8080/",
          "height": 570
        },
        "outputId": "8237080a-ba2a-41de-afa5-494b7a26f6cc"
      },
      "source": [
        "#Remove the extremely long reviews\n",
        "casual_df = casual_df[casual_df.lens<(casual_df['lens'].quantile(0.90))]\n",
        "fps_all_df = fps_all_df[fps_all_df.lens<(fps_all_df['lens'].quantile(0.90))]\n",
        "all_df = all_df[all_df.lens<(all_df['lens'].quantile(0.90))]\n",
        "fps_all_df"
      ],
      "execution_count": 7,
      "outputs": [
        {
          "output_type": "execute_result",
          "data": {
            "text/html": [
              "<div>\n",
              "<style scoped>\n",
              "    .dataframe tbody tr th:only-of-type {\n",
              "        vertical-align: middle;\n",
              "    }\n",
              "\n",
              "    .dataframe tbody tr th {\n",
              "        vertical-align: top;\n",
              "    }\n",
              "\n",
              "    .dataframe thead th {\n",
              "        text-align: right;\n",
              "    }\n",
              "</style>\n",
              "<table border=\"1\" class=\"dataframe\">\n",
              "  <thead>\n",
              "    <tr style=\"text-align: right;\">\n",
              "      <th></th>\n",
              "      <th>app</th>\n",
              "      <th>useful</th>\n",
              "      <th>funny</th>\n",
              "      <th>username</th>\n",
              "      <th>games_owned</th>\n",
              "      <th>num_reviews</th>\n",
              "      <th>recommend</th>\n",
              "      <th>hours_played</th>\n",
              "      <th>date</th>\n",
              "      <th>text</th>\n",
              "      <th>cleaned</th>\n",
              "      <th>lens</th>\n",
              "    </tr>\n",
              "  </thead>\n",
              "  <tbody>\n",
              "    <tr>\n",
              "      <th>0</th>\n",
              "      <td>730.0</td>\n",
              "      <td>0.0</td>\n",
              "      <td>0.0</td>\n",
              "      <td>drkng</td>\n",
              "      <td>27.0</td>\n",
              "      <td>2.0</td>\n",
              "      <td>1.0</td>\n",
              "      <td>62.6</td>\n",
              "      <td>11 October, 2020</td>\n",
              "      <td>nice</td>\n",
              "      <td>nice</td>\n",
              "      <td>1</td>\n",
              "    </tr>\n",
              "    <tr>\n",
              "      <th>1</th>\n",
              "      <td>730.0</td>\n",
              "      <td>0.0</td>\n",
              "      <td>0.0</td>\n",
              "      <td>7.65612E+16</td>\n",
              "      <td>10.0</td>\n",
              "      <td>1.0</td>\n",
              "      <td>1.0</td>\n",
              "      <td>625.5</td>\n",
              "      <td>11 October, 2020</td>\n",
              "      <td>Ok game.</td>\n",
              "      <td>ok game</td>\n",
              "      <td>2</td>\n",
              "    </tr>\n",
              "    <tr>\n",
              "      <th>2</th>\n",
              "      <td>730.0</td>\n",
              "      <td>1.0</td>\n",
              "      <td>0.0</td>\n",
              "      <td>7.65612E+16</td>\n",
              "      <td>6.0</td>\n",
              "      <td>1.0</td>\n",
              "      <td>1.0</td>\n",
              "      <td>951.4</td>\n",
              "      <td>11 October, 2020</td>\n",
              "      <td>eish</td>\n",
              "      <td>eish</td>\n",
              "      <td>1</td>\n",
              "    </tr>\n",
              "    <tr>\n",
              "      <th>3</th>\n",
              "      <td>730.0</td>\n",
              "      <td>0.0</td>\n",
              "      <td>0.0</td>\n",
              "      <td>7.65612E+16</td>\n",
              "      <td>79.0</td>\n",
              "      <td>6.0</td>\n",
              "      <td>-1.0</td>\n",
              "      <td>474.8</td>\n",
              "      <td>11 October, 2020</td>\n",
              "      <td>Cyka blyat P90 rush B don't stop. Good for lea...</td>\n",
              "      <td>cyka blyat rush don stop good for learning rus...</td>\n",
              "      <td>9</td>\n",
              "    </tr>\n",
              "    <tr>\n",
              "      <th>4</th>\n",
              "      <td>730.0</td>\n",
              "      <td>0.0</td>\n",
              "      <td>0.0</td>\n",
              "      <td>_spectreh</td>\n",
              "      <td>45.0</td>\n",
              "      <td>3.0</td>\n",
              "      <td>1.0</td>\n",
              "      <td>49.1</td>\n",
              "      <td>11 October, 2020</td>\n",
              "      <td>gud game, learn russian really quick, very nic...</td>\n",
              "      <td>gud game learn russian really quick very nice ...</td>\n",
              "      <td>10</td>\n",
              "    </tr>\n",
              "    <tr>\n",
              "      <th>...</th>\n",
              "      <td>...</td>\n",
              "      <td>...</td>\n",
              "      <td>...</td>\n",
              "      <td>...</td>\n",
              "      <td>...</td>\n",
              "      <td>...</td>\n",
              "      <td>...</td>\n",
              "      <td>...</td>\n",
              "      <td>...</td>\n",
              "      <td>...</td>\n",
              "      <td>...</td>\n",
              "      <td>...</td>\n",
              "    </tr>\n",
              "    <tr>\n",
              "      <th>53698</th>\n",
              "      <td>359550.0</td>\n",
              "      <td>0.0</td>\n",
              "      <td>0.0</td>\n",
              "      <td>7.65612E+16</td>\n",
              "      <td>12.0</td>\n",
              "      <td>1.0</td>\n",
              "      <td>1.0</td>\n",
              "      <td>42.1</td>\n",
              "      <td>29 October, 2020</td>\n",
              "      <td>''Its Just Guud''</td>\n",
              "      <td>its just guud</td>\n",
              "      <td>3</td>\n",
              "    </tr>\n",
              "    <tr>\n",
              "      <th>53699</th>\n",
              "      <td>359550.0</td>\n",
              "      <td>1.0</td>\n",
              "      <td>0.0</td>\n",
              "      <td>7.65612E+16</td>\n",
              "      <td>22.0</td>\n",
              "      <td>4.0</td>\n",
              "      <td>-1.0</td>\n",
              "      <td>265.0</td>\n",
              "      <td>29 October, 2020</td>\n",
              "      <td>gay</td>\n",
              "      <td>gay</td>\n",
              "      <td>1</td>\n",
              "    </tr>\n",
              "    <tr>\n",
              "      <th>53700</th>\n",
              "      <td>359550.0</td>\n",
              "      <td>0.0</td>\n",
              "      <td>0.0</td>\n",
              "      <td>bath_tub</td>\n",
              "      <td>80.0</td>\n",
              "      <td>6.0</td>\n",
              "      <td>1.0</td>\n",
              "      <td>41.9</td>\n",
              "      <td>29 October, 2020</td>\n",
              "      <td>Ubisoft sucks</td>\n",
              "      <td>ubisoft sucks</td>\n",
              "      <td>2</td>\n",
              "    </tr>\n",
              "    <tr>\n",
              "      <th>53701</th>\n",
              "      <td>359550.0</td>\n",
              "      <td>0.0</td>\n",
              "      <td>0.0</td>\n",
              "      <td>7.65612E+16</td>\n",
              "      <td>3.0</td>\n",
              "      <td>1.0</td>\n",
              "      <td>1.0</td>\n",
              "      <td>95.0</td>\n",
              "      <td>29 October, 2020</td>\n",
              "      <td>best shooter in the market</td>\n",
              "      <td>best shooter in the market</td>\n",
              "      <td>5</td>\n",
              "    </tr>\n",
              "    <tr>\n",
              "      <th>53702</th>\n",
              "      <td>359550.0</td>\n",
              "      <td>0.0</td>\n",
              "      <td>0.0</td>\n",
              "      <td>7.65612E+16</td>\n",
              "      <td>2.0</td>\n",
              "      <td>1.0</td>\n",
              "      <td>1.0</td>\n",
              "      <td>83.9</td>\n",
              "      <td>29 October, 2020</td>\n",
              "      <td>immersive</td>\n",
              "      <td>immersive</td>\n",
              "      <td>1</td>\n",
              "    </tr>\n",
              "  </tbody>\n",
              "</table>\n",
              "<p>374266 rows × 12 columns</p>\n",
              "</div>"
            ],
            "text/plain": [
              "            app  ...  lens\n",
              "0         730.0  ...     1\n",
              "1         730.0  ...     2\n",
              "2         730.0  ...     1\n",
              "3         730.0  ...     9\n",
              "4         730.0  ...    10\n",
              "...         ...  ...   ...\n",
              "53698  359550.0  ...     3\n",
              "53699  359550.0  ...     1\n",
              "53700  359550.0  ...     2\n",
              "53701  359550.0  ...     5\n",
              "53702  359550.0  ...     1\n",
              "\n",
              "[374266 rows x 12 columns]"
            ]
          },
          "metadata": {
            "tags": []
          },
          "execution_count": 7
        }
      ]
    },
    {
      "cell_type": "code",
      "metadata": {
        "colab": {
          "base_uri": "https://localhost:8080/",
          "height": 284
        },
        "id": "yU1j8Pnnxf5I",
        "outputId": "d33b8186-f2be-44c0-c44f-605cde7f4083"
      },
      "source": [
        "# EDA on the datasets\n",
        "# Datasets are fps_clean_df, casual_clean_df, and all_clean_df\n",
        "# We can go over some of the EDA for each, but will focus on the all_df since it is all of the data\n",
        "all_df.describe()"
      ],
      "execution_count": 8,
      "outputs": [
        {
          "output_type": "execute_result",
          "data": {
            "text/html": [
              "<div>\n",
              "<style scoped>\n",
              "    .dataframe tbody tr th:only-of-type {\n",
              "        vertical-align: middle;\n",
              "    }\n",
              "\n",
              "    .dataframe tbody tr th {\n",
              "        vertical-align: top;\n",
              "    }\n",
              "\n",
              "    .dataframe thead th {\n",
              "        text-align: right;\n",
              "    }\n",
              "</style>\n",
              "<table border=\"1\" class=\"dataframe\">\n",
              "  <thead>\n",
              "    <tr style=\"text-align: right;\">\n",
              "      <th></th>\n",
              "      <th>app</th>\n",
              "      <th>useful</th>\n",
              "      <th>funny</th>\n",
              "      <th>games_owned</th>\n",
              "      <th>num_reviews</th>\n",
              "      <th>recommend</th>\n",
              "      <th>hours_played</th>\n",
              "      <th>lens</th>\n",
              "    </tr>\n",
              "  </thead>\n",
              "  <tbody>\n",
              "    <tr>\n",
              "      <th>count</th>\n",
              "      <td>5.537670e+05</td>\n",
              "      <td>553767.000000</td>\n",
              "      <td>553767.000000</td>\n",
              "      <td>553767.000000</td>\n",
              "      <td>553767.000000</td>\n",
              "      <td>553767.000000</td>\n",
              "      <td>553767.000000</td>\n",
              "      <td>553767.000000</td>\n",
              "    </tr>\n",
              "    <tr>\n",
              "      <th>mean</th>\n",
              "      <td>6.155699e+05</td>\n",
              "      <td>0.641634</td>\n",
              "      <td>0.222285</td>\n",
              "      <td>71.023313</td>\n",
              "      <td>5.209034</td>\n",
              "      <td>0.621025</td>\n",
              "      <td>223.640554</td>\n",
              "      <td>9.764070</td>\n",
              "    </tr>\n",
              "    <tr>\n",
              "      <th>std</th>\n",
              "      <td>3.899576e+05</td>\n",
              "      <td>10.646995</td>\n",
              "      <td>8.229924</td>\n",
              "      <td>112.075582</td>\n",
              "      <td>13.202121</td>\n",
              "      <td>0.783792</td>\n",
              "      <td>252.842202</td>\n",
              "      <td>11.799423</td>\n",
              "    </tr>\n",
              "    <tr>\n",
              "      <th>min</th>\n",
              "      <td>7.300000e+02</td>\n",
              "      <td>0.000000</td>\n",
              "      <td>0.000000</td>\n",
              "      <td>0.000000</td>\n",
              "      <td>1.000000</td>\n",
              "      <td>-1.000000</td>\n",
              "      <td>0.000000</td>\n",
              "      <td>0.000000</td>\n",
              "    </tr>\n",
              "    <tr>\n",
              "      <th>25%</th>\n",
              "      <td>5.780800e+05</td>\n",
              "      <td>0.000000</td>\n",
              "      <td>0.000000</td>\n",
              "      <td>8.000000</td>\n",
              "      <td>1.000000</td>\n",
              "      <td>1.000000</td>\n",
              "      <td>27.800000</td>\n",
              "      <td>2.000000</td>\n",
              "    </tr>\n",
              "    <tr>\n",
              "      <th>50%</th>\n",
              "      <td>5.780800e+05</td>\n",
              "      <td>0.000000</td>\n",
              "      <td>0.000000</td>\n",
              "      <td>29.000000</td>\n",
              "      <td>2.000000</td>\n",
              "      <td>1.000000</td>\n",
              "      <td>110.300000</td>\n",
              "      <td>5.000000</td>\n",
              "    </tr>\n",
              "    <tr>\n",
              "      <th>75%</th>\n",
              "      <td>9.453600e+05</td>\n",
              "      <td>0.000000</td>\n",
              "      <td>0.000000</td>\n",
              "      <td>84.000000</td>\n",
              "      <td>5.000000</td>\n",
              "      <td>1.000000</td>\n",
              "      <td>350.700000</td>\n",
              "      <td>13.000000</td>\n",
              "    </tr>\n",
              "    <tr>\n",
              "      <th>max</th>\n",
              "      <td>1.313860e+06</td>\n",
              "      <td>989.000000</td>\n",
              "      <td>972.000000</td>\n",
              "      <td>999.000000</td>\n",
              "      <td>4137.000000</td>\n",
              "      <td>1.000000</td>\n",
              "      <td>999.900000</td>\n",
              "      <td>54.000000</td>\n",
              "    </tr>\n",
              "  </tbody>\n",
              "</table>\n",
              "</div>"
            ],
            "text/plain": [
              "                app         useful  ...   hours_played           lens\n",
              "count  5.537670e+05  553767.000000  ...  553767.000000  553767.000000\n",
              "mean   6.155699e+05       0.641634  ...     223.640554       9.764070\n",
              "std    3.899576e+05      10.646995  ...     252.842202      11.799423\n",
              "min    7.300000e+02       0.000000  ...       0.000000       0.000000\n",
              "25%    5.780800e+05       0.000000  ...      27.800000       2.000000\n",
              "50%    5.780800e+05       0.000000  ...     110.300000       5.000000\n",
              "75%    9.453600e+05       0.000000  ...     350.700000      13.000000\n",
              "max    1.313860e+06     989.000000  ...     999.900000      54.000000\n",
              "\n",
              "[8 rows x 8 columns]"
            ]
          },
          "metadata": {
            "tags": []
          },
          "execution_count": 8
        }
      ]
    },
    {
      "cell_type": "code",
      "metadata": {
        "colab": {
          "base_uri": "https://localhost:8080/",
          "height": 284
        },
        "id": "0kU4tvHcxv8b",
        "outputId": "95117adf-7061-49d1-cf0c-41b64224de3d"
      },
      "source": [
        "casual_df.describe()"
      ],
      "execution_count": 9,
      "outputs": [
        {
          "output_type": "execute_result",
          "data": {
            "text/html": [
              "<div>\n",
              "<style scoped>\n",
              "    .dataframe tbody tr th:only-of-type {\n",
              "        vertical-align: middle;\n",
              "    }\n",
              "\n",
              "    .dataframe tbody tr th {\n",
              "        vertical-align: top;\n",
              "    }\n",
              "\n",
              "    .dataframe thead th {\n",
              "        text-align: right;\n",
              "    }\n",
              "</style>\n",
              "<table border=\"1\" class=\"dataframe\">\n",
              "  <thead>\n",
              "    <tr style=\"text-align: right;\">\n",
              "      <th></th>\n",
              "      <th>app</th>\n",
              "      <th>useful</th>\n",
              "      <th>funny</th>\n",
              "      <th>games_owned</th>\n",
              "      <th>num_reviews</th>\n",
              "      <th>recommend</th>\n",
              "      <th>hours_played</th>\n",
              "      <th>lens</th>\n",
              "    </tr>\n",
              "  </thead>\n",
              "  <tbody>\n",
              "    <tr>\n",
              "      <th>count</th>\n",
              "      <td>1.802660e+05</td>\n",
              "      <td>180266.000000</td>\n",
              "      <td>180266.000000</td>\n",
              "      <td>180266.000000</td>\n",
              "      <td>180266.000000</td>\n",
              "      <td>180266.000000</td>\n",
              "      <td>180266.000000</td>\n",
              "      <td>180266.000000</td>\n",
              "    </tr>\n",
              "    <tr>\n",
              "      <th>mean</th>\n",
              "      <td>9.770780e+05</td>\n",
              "      <td>0.500239</td>\n",
              "      <td>0.227175</td>\n",
              "      <td>65.154616</td>\n",
              "      <td>5.466744</td>\n",
              "      <td>0.835987</td>\n",
              "      <td>50.444379</td>\n",
              "      <td>8.920645</td>\n",
              "    </tr>\n",
              "    <tr>\n",
              "      <th>std</th>\n",
              "      <td>1.503317e+05</td>\n",
              "      <td>11.319846</td>\n",
              "      <td>9.274932</td>\n",
              "      <td>112.954599</td>\n",
              "      <td>12.457366</td>\n",
              "      <td>0.548751</td>\n",
              "      <td>95.933505</td>\n",
              "      <td>10.047635</td>\n",
              "    </tr>\n",
              "    <tr>\n",
              "      <th>min</th>\n",
              "      <td>7.396300e+05</td>\n",
              "      <td>0.000000</td>\n",
              "      <td>0.000000</td>\n",
              "      <td>0.000000</td>\n",
              "      <td>1.000000</td>\n",
              "      <td>-1.000000</td>\n",
              "      <td>0.100000</td>\n",
              "      <td>0.000000</td>\n",
              "    </tr>\n",
              "    <tr>\n",
              "      <th>25%</th>\n",
              "      <td>9.453600e+05</td>\n",
              "      <td>0.000000</td>\n",
              "      <td>0.000000</td>\n",
              "      <td>6.000000</td>\n",
              "      <td>1.000000</td>\n",
              "      <td>1.000000</td>\n",
              "      <td>12.600000</td>\n",
              "      <td>2.000000</td>\n",
              "    </tr>\n",
              "    <tr>\n",
              "      <th>50%</th>\n",
              "      <td>1.089350e+06</td>\n",
              "      <td>0.000000</td>\n",
              "      <td>0.000000</td>\n",
              "      <td>22.000000</td>\n",
              "      <td>2.000000</td>\n",
              "      <td>1.000000</td>\n",
              "      <td>24.500000</td>\n",
              "      <td>5.000000</td>\n",
              "    </tr>\n",
              "    <tr>\n",
              "      <th>75%</th>\n",
              "      <td>1.097150e+06</td>\n",
              "      <td>0.000000</td>\n",
              "      <td>0.000000</td>\n",
              "      <td>72.000000</td>\n",
              "      <td>5.000000</td>\n",
              "      <td>1.000000</td>\n",
              "      <td>48.200000</td>\n",
              "      <td>12.000000</td>\n",
              "    </tr>\n",
              "    <tr>\n",
              "      <th>max</th>\n",
              "      <td>1.313860e+06</td>\n",
              "      <td>987.000000</td>\n",
              "      <td>972.000000</td>\n",
              "      <td>999.000000</td>\n",
              "      <td>1038.000000</td>\n",
              "      <td>1.000000</td>\n",
              "      <td>999.900000</td>\n",
              "      <td>45.000000</td>\n",
              "    </tr>\n",
              "  </tbody>\n",
              "</table>\n",
              "</div>"
            ],
            "text/plain": [
              "                app         useful  ...   hours_played           lens\n",
              "count  1.802660e+05  180266.000000  ...  180266.000000  180266.000000\n",
              "mean   9.770780e+05       0.500239  ...      50.444379       8.920645\n",
              "std    1.503317e+05      11.319846  ...      95.933505      10.047635\n",
              "min    7.396300e+05       0.000000  ...       0.100000       0.000000\n",
              "25%    9.453600e+05       0.000000  ...      12.600000       2.000000\n",
              "50%    1.089350e+06       0.000000  ...      24.500000       5.000000\n",
              "75%    1.097150e+06       0.000000  ...      48.200000      12.000000\n",
              "max    1.313860e+06     987.000000  ...     999.900000      45.000000\n",
              "\n",
              "[8 rows x 8 columns]"
            ]
          },
          "metadata": {
            "tags": []
          },
          "execution_count": 9
        }
      ]
    },
    {
      "cell_type": "code",
      "metadata": {
        "colab": {
          "base_uri": "https://localhost:8080/",
          "height": 284
        },
        "id": "Mc-EhmNQx0CP",
        "outputId": "1822dbfe-db50-42cc-af23-5a37884c1bf0"
      },
      "source": [
        "fps_all_df.describe()"
      ],
      "execution_count": 10,
      "outputs": [
        {
          "output_type": "execute_result",
          "data": {
            "text/html": [
              "<div>\n",
              "<style scoped>\n",
              "    .dataframe tbody tr th:only-of-type {\n",
              "        vertical-align: middle;\n",
              "    }\n",
              "\n",
              "    .dataframe tbody tr th {\n",
              "        vertical-align: top;\n",
              "    }\n",
              "\n",
              "    .dataframe thead th {\n",
              "        text-align: right;\n",
              "    }\n",
              "</style>\n",
              "<table border=\"1\" class=\"dataframe\">\n",
              "  <thead>\n",
              "    <tr style=\"text-align: right;\">\n",
              "      <th></th>\n",
              "      <th>app</th>\n",
              "      <th>useful</th>\n",
              "      <th>funny</th>\n",
              "      <th>games_owned</th>\n",
              "      <th>num_reviews</th>\n",
              "      <th>recommend</th>\n",
              "      <th>hours_played</th>\n",
              "      <th>lens</th>\n",
              "    </tr>\n",
              "  </thead>\n",
              "  <tbody>\n",
              "    <tr>\n",
              "      <th>count</th>\n",
              "      <td>3.742660e+05</td>\n",
              "      <td>374266.000000</td>\n",
              "      <td>374266.000000</td>\n",
              "      <td>374266.000000</td>\n",
              "      <td>374266.000000</td>\n",
              "      <td>374266.000000</td>\n",
              "      <td>374266.000000</td>\n",
              "      <td>374266.000000</td>\n",
              "    </tr>\n",
              "    <tr>\n",
              "      <th>mean</th>\n",
              "      <td>4.375493e+05</td>\n",
              "      <td>0.702078</td>\n",
              "      <td>0.218061</td>\n",
              "      <td>73.915242</td>\n",
              "      <td>5.085167</td>\n",
              "      <td>0.510514</td>\n",
              "      <td>309.795535</td>\n",
              "      <td>10.347977</td>\n",
              "    </tr>\n",
              "    <tr>\n",
              "      <th>std</th>\n",
              "      <td>3.445942e+05</td>\n",
              "      <td>9.821998</td>\n",
              "      <td>7.568190</td>\n",
              "      <td>111.299990</td>\n",
              "      <td>13.502586</td>\n",
              "      <td>0.859871</td>\n",
              "      <td>262.216057</td>\n",
              "      <td>12.974513</td>\n",
              "    </tr>\n",
              "    <tr>\n",
              "      <th>min</th>\n",
              "      <td>7.300000e+02</td>\n",
              "      <td>0.000000</td>\n",
              "      <td>0.000000</td>\n",
              "      <td>0.000000</td>\n",
              "      <td>1.000000</td>\n",
              "      <td>-1.000000</td>\n",
              "      <td>0.000000</td>\n",
              "      <td>0.000000</td>\n",
              "    </tr>\n",
              "    <tr>\n",
              "      <th>25%</th>\n",
              "      <td>7.300000e+02</td>\n",
              "      <td>0.000000</td>\n",
              "      <td>0.000000</td>\n",
              "      <td>10.000000</td>\n",
              "      <td>1.000000</td>\n",
              "      <td>1.000000</td>\n",
              "      <td>89.700000</td>\n",
              "      <td>2.000000</td>\n",
              "    </tr>\n",
              "    <tr>\n",
              "      <th>50%</th>\n",
              "      <td>5.780800e+05</td>\n",
              "      <td>0.000000</td>\n",
              "      <td>0.000000</td>\n",
              "      <td>34.000000</td>\n",
              "      <td>2.000000</td>\n",
              "      <td>1.000000</td>\n",
              "      <td>238.400000</td>\n",
              "      <td>5.000000</td>\n",
              "    </tr>\n",
              "    <tr>\n",
              "      <th>75%</th>\n",
              "      <td>5.780800e+05</td>\n",
              "      <td>1.000000</td>\n",
              "      <td>0.000000</td>\n",
              "      <td>89.000000</td>\n",
              "      <td>5.000000</td>\n",
              "      <td>1.000000</td>\n",
              "      <td>476.100000</td>\n",
              "      <td>14.000000</td>\n",
              "    </tr>\n",
              "    <tr>\n",
              "      <th>max</th>\n",
              "      <td>1.085660e+06</td>\n",
              "      <td>989.000000</td>\n",
              "      <td>952.000000</td>\n",
              "      <td>999.000000</td>\n",
              "      <td>4137.000000</td>\n",
              "      <td>1.000000</td>\n",
              "      <td>999.900000</td>\n",
              "      <td>60.000000</td>\n",
              "    </tr>\n",
              "  </tbody>\n",
              "</table>\n",
              "</div>"
            ],
            "text/plain": [
              "                app         useful  ...   hours_played           lens\n",
              "count  3.742660e+05  374266.000000  ...  374266.000000  374266.000000\n",
              "mean   4.375493e+05       0.702078  ...     309.795535      10.347977\n",
              "std    3.445942e+05       9.821998  ...     262.216057      12.974513\n",
              "min    7.300000e+02       0.000000  ...       0.000000       0.000000\n",
              "25%    7.300000e+02       0.000000  ...      89.700000       2.000000\n",
              "50%    5.780800e+05       0.000000  ...     238.400000       5.000000\n",
              "75%    5.780800e+05       1.000000  ...     476.100000      14.000000\n",
              "max    1.085660e+06     989.000000  ...     999.900000      60.000000\n",
              "\n",
              "[8 rows x 8 columns]"
            ]
          },
          "metadata": {
            "tags": []
          },
          "execution_count": 10
        }
      ]
    },
    {
      "cell_type": "code",
      "metadata": {
        "colab": {
          "base_uri": "https://localhost:8080/",
          "height": 282
        },
        "id": "ofQTju9eKopl",
        "outputId": "e760e06a-9a1d-4a6c-ffcc-6906c7507d32"
      },
      "source": [
        "fps_all_df.lens.plot.box(vert = False, grid = True)"
      ],
      "execution_count": 31,
      "outputs": [
        {
          "output_type": "execute_result",
          "data": {
            "text/plain": [
              "<matplotlib.axes._subplots.AxesSubplot at 0x7f28891337f0>"
            ]
          },
          "metadata": {
            "tags": []
          },
          "execution_count": 31
        },
        {
          "output_type": "display_data",
          "data": {
            "image/png": "[encoded data removed]",
            "text/plain": [
              "<Figure size 432x288 with 1 Axes>"
            ]
          },
          "metadata": {
            "tags": [],
            "needs_background": "light"
          }
        }
      ]
    },
    {
      "cell_type": "code",
      "metadata": {
        "colab": {
          "base_uri": "https://localhost:8080/",
          "height": 282
        },
        "id": "N6kkBLBmRGpH",
        "outputId": "382a49dc-0db1-4807-a3fa-595f43d31399"
      },
      "source": [
        "casual_df.lens.plot.box(vert = False, grid = True)"
      ],
      "execution_count": 30,
      "outputs": [
        {
          "output_type": "execute_result",
          "data": {
            "text/plain": [
              "<matplotlib.axes._subplots.AxesSubplot at 0x7f28851e6a90>"
            ]
          },
          "metadata": {
            "tags": []
          },
          "execution_count": 30
        },
        {
          "output_type": "display_data",
          "data": {
            "image/png": "[encoded data removed]",
            "text/plain": [
              "<Figure size 432x288 with 1 Axes>"
            ]
          },
          "metadata": {
            "tags": [],
            "needs_background": "light"
          }
        }
      ]
    },
    {
      "cell_type": "code",
      "metadata": {
        "colab": {
          "base_uri": "https://localhost:8080/",
          "height": 282
        },
        "id": "iTVa1EowRG3t",
        "outputId": "07d94126-fe48-416b-cdc8-25569a447063"
      },
      "source": [
        "all_df.lens.plot.box(vert = False, grid = True)"
      ],
      "execution_count": 32,
      "outputs": [
        {
          "output_type": "execute_result",
          "data": {
            "text/plain": [
              "<matplotlib.axes._subplots.AxesSubplot at 0x7f286cc3e630>"
            ]
          },
          "metadata": {
            "tags": []
          },
          "execution_count": 32
        },
        {
          "output_type": "display_data",
          "data": {
            "image/png": "[encoded data removed]",
            "text/plain": [
              "<Figure size 432x288 with 1 Axes>"
            ]
          },
          "metadata": {
            "tags": [],
            "needs_background": "light"
          }
        }
      ]
    },
    {
      "cell_type": "code",
      "metadata": {
        "colab": {
          "base_uri": "https://localhost:8080/",
          "height": 871
        },
        "id": "Dp0c7gkaQHcm",
        "outputId": "3c82906d-3f76-434d-8380-9eacb567e16f"
      },
      "source": [
        "fps_all_df.plot.scatter(x='hours_played', y='lens', title='FPS')\n",
        "casual_df.plot.scatter(x='hours_played', y='lens', title='Casual')\n",
        "all_df.plot.scatter(x='hours_played', y='lens', title='Combined')"
      ],
      "execution_count": 33,
      "outputs": [
        {
          "output_type": "execute_result",
          "data": {
            "text/plain": [
              "<matplotlib.axes._subplots.AxesSubplot at 0x7f286cb3d828>"
            ]
          },
          "metadata": {
            "tags": []
          },
          "execution_count": 33
        },
        {
          "output_type": "display_data",
          "data": {
            "image/png": "[encoded data removed]",
            "text/plain": [
              "<Figure size 432x288 with 1 Axes>"
            ]
          },
          "metadata": {
            "tags": [],
            "needs_background": "light"
          }
        },
        {
          "output_type": "display_data",
          "data": {
            "image/png": "[encoded data removed]",
            "text/plain": [
              "<Figure size 432x288 with 1 Axes>"
            ]
          },
          "metadata": {
            "tags": [],
            "needs_background": "light"
          }
        },
        {
          "output_type": "display_data",
          "data": {
            "image/png": "[encoded data removed]",
            "text/plain": [
              "<Figure size 432x288 with 1 Axes>"
            ]
          },
          "metadata": {
            "tags": [],
            "needs_background": "light"
          }
        }
      ]
    },
    {
      "cell_type": "code",
      "metadata": {
        "id": "8I3A02R2XgMn",
        "colab": {
          "base_uri": "https://localhost:8080/",
          "height": 402
        },
        "outputId": "44be0ed0-a7fc-43dc-93f2-f0404e864759"
      },
      "source": [
        "#Use just the recommend and cleaned columns\n",
        "casual_clean_df = casual_df[[\"recommend\",\"cleaned\"]]\n",
        "fps_clean_df = fps_all_df[[\"recommend\",\"cleaned\"]]\n",
        "all_clean_df = all_df[[\"recommend\",\"cleaned\"]]\n",
        "fps_clean_df"
      ],
      "execution_count": 11,
      "outputs": [
        {
          "output_type": "execute_result",
          "data": {
            "text/html": [
              "<div>\n",
              "<style scoped>\n",
              "    .dataframe tbody tr th:only-of-type {\n",
              "        vertical-align: middle;\n",
              "    }\n",
              "\n",
              "    .dataframe tbody tr th {\n",
              "        vertical-align: top;\n",
              "    }\n",
              "\n",
              "    .dataframe thead th {\n",
              "        text-align: right;\n",
              "    }\n",
              "</style>\n",
              "<table border=\"1\" class=\"dataframe\">\n",
              "  <thead>\n",
              "    <tr style=\"text-align: right;\">\n",
              "      <th></th>\n",
              "      <th>recommend</th>\n",
              "      <th>cleaned</th>\n",
              "    </tr>\n",
              "  </thead>\n",
              "  <tbody>\n",
              "    <tr>\n",
              "      <th>0</th>\n",
              "      <td>1.0</td>\n",
              "      <td>nice</td>\n",
              "    </tr>\n",
              "    <tr>\n",
              "      <th>1</th>\n",
              "      <td>1.0</td>\n",
              "      <td>ok game</td>\n",
              "    </tr>\n",
              "    <tr>\n",
              "      <th>2</th>\n",
              "      <td>1.0</td>\n",
              "      <td>eish</td>\n",
              "    </tr>\n",
              "    <tr>\n",
              "      <th>3</th>\n",
              "      <td>-1.0</td>\n",
              "      <td>cyka blyat rush don stop good for learning rus...</td>\n",
              "    </tr>\n",
              "    <tr>\n",
              "      <th>4</th>\n",
              "      <td>1.0</td>\n",
              "      <td>gud game learn russian really quick very nice ...</td>\n",
              "    </tr>\n",
              "    <tr>\n",
              "      <th>...</th>\n",
              "      <td>...</td>\n",
              "      <td>...</td>\n",
              "    </tr>\n",
              "    <tr>\n",
              "      <th>53698</th>\n",
              "      <td>1.0</td>\n",
              "      <td>its just guud</td>\n",
              "    </tr>\n",
              "    <tr>\n",
              "      <th>53699</th>\n",
              "      <td>-1.0</td>\n",
              "      <td>gay</td>\n",
              "    </tr>\n",
              "    <tr>\n",
              "      <th>53700</th>\n",
              "      <td>1.0</td>\n",
              "      <td>ubisoft sucks</td>\n",
              "    </tr>\n",
              "    <tr>\n",
              "      <th>53701</th>\n",
              "      <td>1.0</td>\n",
              "      <td>best shooter in the market</td>\n",
              "    </tr>\n",
              "    <tr>\n",
              "      <th>53702</th>\n",
              "      <td>1.0</td>\n",
              "      <td>immersive</td>\n",
              "    </tr>\n",
              "  </tbody>\n",
              "</table>\n",
              "<p>374266 rows × 2 columns</p>\n",
              "</div>"
            ],
            "text/plain": [
              "       recommend                                            cleaned\n",
              "0            1.0                                               nice\n",
              "1            1.0                                            ok game\n",
              "2            1.0                                               eish\n",
              "3           -1.0  cyka blyat rush don stop good for learning rus...\n",
              "4            1.0  gud game learn russian really quick very nice ...\n",
              "...          ...                                                ...\n",
              "53698        1.0                                      its just guud\n",
              "53699       -1.0                                                gay\n",
              "53700        1.0                                      ubisoft sucks\n",
              "53701        1.0                         best shooter in the market\n",
              "53702        1.0                                          immersive\n",
              "\n",
              "[374266 rows x 2 columns]"
            ]
          },
          "metadata": {
            "tags": []
          },
          "execution_count": 11
        }
      ]
    },
    {
      "cell_type": "code",
      "metadata": {
        "id": "nFSQvyP1wOO2",
        "colab": {
          "base_uri": "https://localhost:8080/"
        },
        "outputId": "e357752b-403e-4779-a15a-487d3b8600cf"
      },
      "source": [
        "#check negative data vs positive data\n",
        "#df_final.recommend.value_counts()\n",
        "print(casual_clean_df.recommend.value_counts())\n",
        "print(fps_clean_df.recommend.value_counts())\n",
        "print(all_clean_df.recommend.value_counts())"
      ],
      "execution_count": 12,
      "outputs": [
        {
          "output_type": "stream",
          "text": [
            " 1    165483\n",
            "-1     14783\n",
            "Name: recommend, dtype: int64\n",
            " 1.0    282667\n",
            "-1.0     91599\n",
            "Name: recommend, dtype: int64\n",
            " 1.0    448835\n",
            "-1.0    104932\n",
            "Name: recommend, dtype: int64\n"
          ],
          "name": "stdout"
        }
      ]
    },
    {
      "cell_type": "code",
      "metadata": {
        "id": "fVZ35aYFEMyQ",
        "colab": {
          "base_uri": "https://localhost:8080/",
          "height": 350
        },
        "outputId": "760d77ae-bbfc-4127-9c1a-7d33aa00f01f"
      },
      "source": [
        "sns.countplot(all_df.lens)"
      ],
      "execution_count": 13,
      "outputs": [
        {
          "output_type": "stream",
          "text": [
            "/usr/local/lib/python3.6/dist-packages/seaborn/_decorators.py:43: FutureWarning: Pass the following variable as a keyword arg: x. From version 0.12, the only valid positional argument will be `data`, and passing other arguments without an explicit keyword will result in an error or misinterpretation.\n",
            "  FutureWarning\n"
          ],
          "name": "stderr"
        },
        {
          "output_type": "execute_result",
          "data": {
            "text/plain": [
              "<matplotlib.axes._subplots.AxesSubplot at 0x7f287e004f60>"
            ]
          },
          "metadata": {
            "tags": []
          },
          "execution_count": 13
        },
        {
          "output_type": "display_data",
          "data": {
            "image/png": "[encoded data removed]",
            "text/plain": [
              "<Figure size 432x288 with 1 Axes>"
            ]
          },
          "metadata": {
            "tags": [],
            "needs_background": "light"
          }
        }
      ]
    },
    {
      "cell_type": "code",
      "metadata": {
        "colab": {
          "base_uri": "https://localhost:8080/",
          "height": 284
        },
        "id": "RG8pzSzzW6wM",
        "outputId": "f6929438-2f30-4498-85c6-b60b4cb3e557"
      },
      "source": [
        "all_clean_df.describe()"
      ],
      "execution_count": 14,
      "outputs": [
        {
          "output_type": "execute_result",
          "data": {
            "text/html": [
              "<div>\n",
              "<style scoped>\n",
              "    .dataframe tbody tr th:only-of-type {\n",
              "        vertical-align: middle;\n",
              "    }\n",
              "\n",
              "    .dataframe tbody tr th {\n",
              "        vertical-align: top;\n",
              "    }\n",
              "\n",
              "    .dataframe thead th {\n",
              "        text-align: right;\n",
              "    }\n",
              "</style>\n",
              "<table border=\"1\" class=\"dataframe\">\n",
              "  <thead>\n",
              "    <tr style=\"text-align: right;\">\n",
              "      <th></th>\n",
              "      <th>recommend</th>\n",
              "    </tr>\n",
              "  </thead>\n",
              "  <tbody>\n",
              "    <tr>\n",
              "      <th>count</th>\n",
              "      <td>553767.000000</td>\n",
              "    </tr>\n",
              "    <tr>\n",
              "      <th>mean</th>\n",
              "      <td>0.621025</td>\n",
              "    </tr>\n",
              "    <tr>\n",
              "      <th>std</th>\n",
              "      <td>0.783792</td>\n",
              "    </tr>\n",
              "    <tr>\n",
              "      <th>min</th>\n",
              "      <td>-1.000000</td>\n",
              "    </tr>\n",
              "    <tr>\n",
              "      <th>25%</th>\n",
              "      <td>1.000000</td>\n",
              "    </tr>\n",
              "    <tr>\n",
              "      <th>50%</th>\n",
              "      <td>1.000000</td>\n",
              "    </tr>\n",
              "    <tr>\n",
              "      <th>75%</th>\n",
              "      <td>1.000000</td>\n",
              "    </tr>\n",
              "    <tr>\n",
              "      <th>max</th>\n",
              "      <td>1.000000</td>\n",
              "    </tr>\n",
              "  </tbody>\n",
              "</table>\n",
              "</div>"
            ],
            "text/plain": [
              "           recommend\n",
              "count  553767.000000\n",
              "mean        0.621025\n",
              "std         0.783792\n",
              "min        -1.000000\n",
              "25%         1.000000\n",
              "50%         1.000000\n",
              "75%         1.000000\n",
              "max         1.000000"
            ]
          },
          "metadata": {
            "tags": []
          },
          "execution_count": 14
        }
      ]
    },
    {
      "cell_type": "code",
      "metadata": {
        "colab": {
          "base_uri": "https://localhost:8080/",
          "height": 304
        },
        "id": "HIpplSleZ3TC",
        "outputId": "c15bf8ad-e2f5-4ef4-c604-a745405e894b"
      },
      "source": [
        "# Things to examine:\n",
        "# Number of reviews per df\n",
        "# Length of review\n",
        "# Num of hours played\n",
        "# length of review\n",
        "\n",
        "# Summary Statistis of each\n",
        "fps_all_df.describe()       "
      ],
      "execution_count": 15,
      "outputs": [
        {
          "output_type": "execute_result",
          "data": {
            "text/html": [
              "<div>\n",
              "<style scoped>\n",
              "    .dataframe tbody tr th:only-of-type {\n",
              "        vertical-align: middle;\n",
              "    }\n",
              "\n",
              "    .dataframe tbody tr th {\n",
              "        vertical-align: top;\n",
              "    }\n",
              "\n",
              "    .dataframe thead th {\n",
              "        text-align: right;\n",
              "    }\n",
              "</style>\n",
              "<table border=\"1\" class=\"dataframe\">\n",
              "  <thead>\n",
              "    <tr style=\"text-align: right;\">\n",
              "      <th></th>\n",
              "      <th>app</th>\n",
              "      <th>useful</th>\n",
              "      <th>funny</th>\n",
              "      <th>games_owned</th>\n",
              "      <th>num_reviews</th>\n",
              "      <th>recommend</th>\n",
              "      <th>hours_played</th>\n",
              "      <th>lens</th>\n",
              "    </tr>\n",
              "  </thead>\n",
              "  <tbody>\n",
              "    <tr>\n",
              "      <th>count</th>\n",
              "      <td>3.742660e+05</td>\n",
              "      <td>374266.000000</td>\n",
              "      <td>374266.000000</td>\n",
              "      <td>374266.000000</td>\n",
              "      <td>374266.000000</td>\n",
              "      <td>374266.000000</td>\n",
              "      <td>374266.000000</td>\n",
              "      <td>374266.000000</td>\n",
              "    </tr>\n",
              "    <tr>\n",
              "      <th>mean</th>\n",
              "      <td>4.375493e+05</td>\n",
              "      <td>0.702078</td>\n",
              "      <td>0.218061</td>\n",
              "      <td>73.915242</td>\n",
              "      <td>5.085167</td>\n",
              "      <td>0.510514</td>\n",
              "      <td>309.795535</td>\n",
              "      <td>10.347977</td>\n",
              "    </tr>\n",
              "    <tr>\n",
              "      <th>std</th>\n",
              "      <td>3.445942e+05</td>\n",
              "      <td>9.821998</td>\n",
              "      <td>7.568190</td>\n",
              "      <td>111.299990</td>\n",
              "      <td>13.502586</td>\n",
              "      <td>0.859871</td>\n",
              "      <td>262.216057</td>\n",
              "      <td>12.974513</td>\n",
              "    </tr>\n",
              "    <tr>\n",
              "      <th>min</th>\n",
              "      <td>7.300000e+02</td>\n",
              "      <td>0.000000</td>\n",
              "      <td>0.000000</td>\n",
              "      <td>0.000000</td>\n",
              "      <td>1.000000</td>\n",
              "      <td>-1.000000</td>\n",
              "      <td>0.000000</td>\n",
              "      <td>0.000000</td>\n",
              "    </tr>\n",
              "    <tr>\n",
              "      <th>25%</th>\n",
              "      <td>7.300000e+02</td>\n",
              "      <td>0.000000</td>\n",
              "      <td>0.000000</td>\n",
              "      <td>10.000000</td>\n",
              "      <td>1.000000</td>\n",
              "      <td>1.000000</td>\n",
              "      <td>89.700000</td>\n",
              "      <td>2.000000</td>\n",
              "    </tr>\n",
              "    <tr>\n",
              "      <th>50%</th>\n",
              "      <td>5.780800e+05</td>\n",
              "      <td>0.000000</td>\n",
              "      <td>0.000000</td>\n",
              "      <td>34.000000</td>\n",
              "      <td>2.000000</td>\n",
              "      <td>1.000000</td>\n",
              "      <td>238.400000</td>\n",
              "      <td>5.000000</td>\n",
              "    </tr>\n",
              "    <tr>\n",
              "      <th>75%</th>\n",
              "      <td>5.780800e+05</td>\n",
              "      <td>1.000000</td>\n",
              "      <td>0.000000</td>\n",
              "      <td>89.000000</td>\n",
              "      <td>5.000000</td>\n",
              "      <td>1.000000</td>\n",
              "      <td>476.100000</td>\n",
              "      <td>14.000000</td>\n",
              "    </tr>\n",
              "    <tr>\n",
              "      <th>max</th>\n",
              "      <td>1.085660e+06</td>\n",
              "      <td>989.000000</td>\n",
              "      <td>952.000000</td>\n",
              "      <td>999.000000</td>\n",
              "      <td>4137.000000</td>\n",
              "      <td>1.000000</td>\n",
              "      <td>999.900000</td>\n",
              "      <td>60.000000</td>\n",
              "    </tr>\n",
              "  </tbody>\n",
              "</table>\n",
              "</div>"
            ],
            "text/plain": [
              "                app         useful  ...   hours_played           lens\n",
              "count  3.742660e+05  374266.000000  ...  374266.000000  374266.000000\n",
              "mean   4.375493e+05       0.702078  ...     309.795535      10.347977\n",
              "std    3.445942e+05       9.821998  ...     262.216057      12.974513\n",
              "min    7.300000e+02       0.000000  ...       0.000000       0.000000\n",
              "25%    7.300000e+02       0.000000  ...      89.700000       2.000000\n",
              "50%    5.780800e+05       0.000000  ...     238.400000       5.000000\n",
              "75%    5.780800e+05       1.000000  ...     476.100000      14.000000\n",
              "max    1.085660e+06     989.000000  ...     999.900000      60.000000\n",
              "\n",
              "[8 rows x 8 columns]"
            ]
          },
          "metadata": {
            "tags": []
          },
          "execution_count": 15
        }
      ]
    },
    {
      "cell_type": "code",
      "metadata": {
        "colab": {
          "base_uri": "https://localhost:8080/",
          "height": 284
        },
        "id": "hAIkiaQMoAXV",
        "outputId": "493c15c2-1e5c-4672-9f46-0165cb0b2928"
      },
      "source": [
        "casual_df.describe()"
      ],
      "execution_count": 16,
      "outputs": [
        {
          "output_type": "execute_result",
          "data": {
            "text/html": [
              "<div>\n",
              "<style scoped>\n",
              "    .dataframe tbody tr th:only-of-type {\n",
              "        vertical-align: middle;\n",
              "    }\n",
              "\n",
              "    .dataframe tbody tr th {\n",
              "        vertical-align: top;\n",
              "    }\n",
              "\n",
              "    .dataframe thead th {\n",
              "        text-align: right;\n",
              "    }\n",
              "</style>\n",
              "<table border=\"1\" class=\"dataframe\">\n",
              "  <thead>\n",
              "    <tr style=\"text-align: right;\">\n",
              "      <th></th>\n",
              "      <th>app</th>\n",
              "      <th>useful</th>\n",
              "      <th>funny</th>\n",
              "      <th>games_owned</th>\n",
              "      <th>num_reviews</th>\n",
              "      <th>recommend</th>\n",
              "      <th>hours_played</th>\n",
              "      <th>lens</th>\n",
              "    </tr>\n",
              "  </thead>\n",
              "  <tbody>\n",
              "    <tr>\n",
              "      <th>count</th>\n",
              "      <td>1.802660e+05</td>\n",
              "      <td>180266.000000</td>\n",
              "      <td>180266.000000</td>\n",
              "      <td>180266.000000</td>\n",
              "      <td>180266.000000</td>\n",
              "      <td>180266.000000</td>\n",
              "      <td>180266.000000</td>\n",
              "      <td>180266.000000</td>\n",
              "    </tr>\n",
              "    <tr>\n",
              "      <th>mean</th>\n",
              "      <td>9.770780e+05</td>\n",
              "      <td>0.500239</td>\n",
              "      <td>0.227175</td>\n",
              "      <td>65.154616</td>\n",
              "      <td>5.466744</td>\n",
              "      <td>0.835987</td>\n",
              "      <td>50.444379</td>\n",
              "      <td>8.920645</td>\n",
              "    </tr>\n",
              "    <tr>\n",
              "      <th>std</th>\n",
              "      <td>1.503317e+05</td>\n",
              "      <td>11.319846</td>\n",
              "      <td>9.274932</td>\n",
              "      <td>112.954599</td>\n",
              "      <td>12.457366</td>\n",
              "      <td>0.548751</td>\n",
              "      <td>95.933505</td>\n",
              "      <td>10.047635</td>\n",
              "    </tr>\n",
              "    <tr>\n",
              "      <th>min</th>\n",
              "      <td>7.396300e+05</td>\n",
              "      <td>0.000000</td>\n",
              "      <td>0.000000</td>\n",
              "      <td>0.000000</td>\n",
              "      <td>1.000000</td>\n",
              "      <td>-1.000000</td>\n",
              "      <td>0.100000</td>\n",
              "      <td>0.000000</td>\n",
              "    </tr>\n",
              "    <tr>\n",
              "      <th>25%</th>\n",
              "      <td>9.453600e+05</td>\n",
              "      <td>0.000000</td>\n",
              "      <td>0.000000</td>\n",
              "      <td>6.000000</td>\n",
              "      <td>1.000000</td>\n",
              "      <td>1.000000</td>\n",
              "      <td>12.600000</td>\n",
              "      <td>2.000000</td>\n",
              "    </tr>\n",
              "    <tr>\n",
              "      <th>50%</th>\n",
              "      <td>1.089350e+06</td>\n",
              "      <td>0.000000</td>\n",
              "      <td>0.000000</td>\n",
              "      <td>22.000000</td>\n",
              "      <td>2.000000</td>\n",
              "      <td>1.000000</td>\n",
              "      <td>24.500000</td>\n",
              "      <td>5.000000</td>\n",
              "    </tr>\n",
              "    <tr>\n",
              "      <th>75%</th>\n",
              "      <td>1.097150e+06</td>\n",
              "      <td>0.000000</td>\n",
              "      <td>0.000000</td>\n",
              "      <td>72.000000</td>\n",
              "      <td>5.000000</td>\n",
              "      <td>1.000000</td>\n",
              "      <td>48.200000</td>\n",
              "      <td>12.000000</td>\n",
              "    </tr>\n",
              "    <tr>\n",
              "      <th>max</th>\n",
              "      <td>1.313860e+06</td>\n",
              "      <td>987.000000</td>\n",
              "      <td>972.000000</td>\n",
              "      <td>999.000000</td>\n",
              "      <td>1038.000000</td>\n",
              "      <td>1.000000</td>\n",
              "      <td>999.900000</td>\n",
              "      <td>45.000000</td>\n",
              "    </tr>\n",
              "  </tbody>\n",
              "</table>\n",
              "</div>"
            ],
            "text/plain": [
              "                app         useful  ...   hours_played           lens\n",
              "count  1.802660e+05  180266.000000  ...  180266.000000  180266.000000\n",
              "mean   9.770780e+05       0.500239  ...      50.444379       8.920645\n",
              "std    1.503317e+05      11.319846  ...      95.933505      10.047635\n",
              "min    7.396300e+05       0.000000  ...       0.100000       0.000000\n",
              "25%    9.453600e+05       0.000000  ...      12.600000       2.000000\n",
              "50%    1.089350e+06       0.000000  ...      24.500000       5.000000\n",
              "75%    1.097150e+06       0.000000  ...      48.200000      12.000000\n",
              "max    1.313860e+06     987.000000  ...     999.900000      45.000000\n",
              "\n",
              "[8 rows x 8 columns]"
            ]
          },
          "metadata": {
            "tags": []
          },
          "execution_count": 16
        }
      ]
    },
    {
      "cell_type": "code",
      "metadata": {
        "id": "W00n-Er7wsjf",
        "colab": {
          "base_uri": "https://localhost:8080/"
        },
        "outputId": "b4c821fe-51a8-423c-b7bf-8a6b2d8f4ff1"
      },
      "source": [
        "#balance the negative and positive data\n",
        "from sklearn.utils import resample\n",
        "\n",
        "def upsample_data(df, n):\n",
        "  df_majority = df[df.recommend==1]\n",
        "  df_minority = df[df.recommend==-1]\n",
        "  df_minority_upsampled = resample(df_minority, \n",
        "                                   replace=True,     # sample with replacement\n",
        "                                   n_samples=n,    # to match majority class\n",
        "                                   random_state=235) # reproducible results\n",
        "\n",
        "  #Combine majority class with upsampled minority class\n",
        "  df_balanced = pd.concat([df_majority, df_minority_upsampled])\n",
        "  #Replace outcome label -1 with 0\n",
        "  df_balanced['recommend'] = df_balanced['recommend'].replace([-1],0)\n",
        "  #Display new class counts\n",
        "  print(df_balanced.recommend.value_counts())\n",
        "  return df_balanced\n",
        "\n",
        "df_casual_balanced = upsample_data(casual_clean_df, 165483)\n",
        "df_fps_balanced = upsample_data(fps_clean_df, 282667)\n",
        "df_all_balanced = upsample_data(all_clean_df, 448835)"
      ],
      "execution_count": 17,
      "outputs": [
        {
          "output_type": "stream",
          "text": [
            "1    165483\n",
            "0    165483\n",
            "Name: recommend, dtype: int64\n",
            "1.0    282667\n",
            "0.0    282667\n",
            "Name: recommend, dtype: int64\n",
            "1.0    448835\n",
            "0.0    448835\n",
            "Name: recommend, dtype: int64\n"
          ],
          "name": "stdout"
        }
      ]
    },
    {
      "cell_type": "code",
      "metadata": {
        "id": "szr37BDfOuVz"
      },
      "source": [
        "# Build model"
      ],
      "execution_count": 18,
      "outputs": []
    },
    {
      "cell_type": "code",
      "metadata": {
        "id": "WRSwS4BBzlWG"
      },
      "source": [
        "from sklearn.model_selection import train_test_split\n",
        "cas_X_train, cas_X_test, cas_y_train, cas_y_test = train_test_split(df_casual_balanced.cleaned,df_casual_balanced.recommend, \n",
        "                                                                    test_size=0.2,stratify=df_casual_balanced.recommend)\n",
        "fps_X_train, fps_X_test, fps_y_train, fps_y_test = train_test_split(df_fps_balanced.cleaned,df_fps_balanced.recommend, \n",
        "                                                                    test_size=0.2,stratify=df_fps_balanced.recommend)\n",
        "all_X_train, all_X_test, all_y_train, all_y_test = train_test_split(df_all_balanced.cleaned,df_all_balanced.recommend, \n",
        "                                                                    test_size=0.2,stratify=df_all_balanced.recommend)"
      ],
      "execution_count": 13,
      "outputs": []
    },
    {
      "cell_type": "code",
      "metadata": {
        "id": "m3A_qMs4J_2i"
      },
      "source": [
        "#Bag of Words + XGBoost\n",
        "from sklearn.feature_extraction.text import CountVectorizer\n",
        "import xgboost as xgb\n",
        "from sklearn.model_selection import cross_val_score\n",
        "from sklearn.metrics import confusion_matrix\n",
        "from sklearn.model_selection import GridSearchCV"
      ],
      "execution_count": null,
      "outputs": []
    },
    {
      "cell_type": "code",
      "metadata": {
        "id": "Zfw7Zn-UHa5g"
      },
      "source": [
        "#Start with Bag of Words\n",
        "vectorizer = CountVectorizer(analyzer = \"word\", max_features=1500, min_df=.01, max_df=0.7) \n",
        "#cas_bow_train = vectorizer.fit_transform(cas_X_train).toarray()\n",
        "#fps_bow_train = vectorizer.fit_transform(fps_X_train).toarray()\n",
        "all_bow_train = vectorizer.fit_transform(all_X_train).toarray()"
      ],
      "execution_count": null,
      "outputs": []
    },
    {
      "cell_type": "code",
      "metadata": {
        "id": "411QkviQOKtg",
        "colab": {
          "base_uri": "https://localhost:8080/"
        },
        "outputId": "74d98aac-ec28-4d0e-be34-dbea6987afad"
      },
      "source": [
        "#XGB classifier\n",
        "BOW_XGB = xgb.XGBClassifier(max_depth=7, n_estimators=300, objective=\"binary:logistic\", \n",
        "                            random_state=1, tree_method='gpu_hist', predictor='gpu_predictor')\n",
        "\n",
        "#BOW_XGB.fit(cas_bow_train, cas_y_train)\n",
        "#BOW_XGB.fit(fps_bow_train, fps_y_train)\n",
        "BOW_XGB.fit(all_bow_train, all_y_train)\n"
      ],
      "execution_count": null,
      "outputs": [
        {
          "output_type": "execute_result",
          "data": {
            "text/plain": [
              "XGBClassifier(base_score=0.5, booster='gbtree', colsample_bylevel=1,\n",
              "              colsample_bynode=1, colsample_bytree=1, gamma=0,\n",
              "              learning_rate=0.1, max_delta_step=0, max_depth=7,\n",
              "              min_child_weight=1, missing=None, n_estimators=300, n_jobs=1,\n",
              "              nthread=None, objective='binary:logistic',\n",
              "              predictor='gpu_predictor', random_state=1, reg_alpha=0,\n",
              "              reg_lambda=1, scale_pos_weight=1, seed=None, silent=None,\n",
              "              subsample=1, tree_method='gpu_hist', verbosity=1)"
            ]
          },
          "metadata": {
            "tags": []
          },
          "execution_count": 49
        }
      ]
    },
    {
      "cell_type": "code",
      "metadata": {
        "id": "9CGG7LN8TpjL"
      },
      "source": [
        "#bow_test = (vectorizer.transform(cas_X_test)).toarray()\n",
        "#bow_test = (vectorizer.transform(fps_X_test)).toarray()\n",
        "bow_test = (vectorizer.transform(all_X_test)).toarray()\n",
        "XGB_pred = BOW_XGB.predict(bow_test)"
      ],
      "execution_count": null,
      "outputs": []
    },
    {
      "cell_type": "code",
      "metadata": {
        "id": "fZgDgRGsUBif"
      },
      "source": [
        "#Results\n",
        "from sklearn.metrics import accuracy_score\n",
        "from sklearn.metrics import f1_score\n",
        "from sklearn.metrics import roc_auc_score \n",
        "from sklearn.metrics import average_precision_score\n",
        "from sklearn.metrics import recall_score\n",
        "\n",
        "#Print metrics\n",
        "def print_eval_metrics(y_test, predicted):    \n",
        "    print('Accuracy: %0.5f' % accuracy_score(y_test, predicted))\n",
        "    print('Precision: %0.5f' % average_precision_score(y_test, predicted, average='macro'))    \n",
        "    print('F1-score: %0.5f' % f1_score(y_test, predicted, average='weighted'))   \n",
        "\n",
        "#print_eval_metrics(cas_y_test, XGB_pred)\n",
        "#print_eval_metrics(fps_y_test, XGB_pred)\n",
        "#print_eval_metrics(all_y_test, XGB_pred)"
      ],
      "execution_count": null,
      "outputs": []
    },
    {
      "cell_type": "code",
      "metadata": {
        "id": "Fm5BRcZsNn1R"
      },
      "source": [
        "# LSTM\n",
        "import tensorflow as tf\n",
        "from tensorflow import keras\n",
        "from tensorflow.keras import layers\n",
        "from keras.preprocessing.sequence import pad_sequences\n",
        "from keras.layers import Dense, Input, LSTM, Embedding, Dropout, Activation\n",
        "from keras.layers import Bidirectional, GlobalMaxPool1D\n",
        "from keras.models import Model\n",
        "from keras import initializers, regularizers, constraints, optimizers, layers"
      ],
      "execution_count": null,
      "outputs": []
    },
    {
      "cell_type": "code",
      "metadata": {
        "id": "5LOQ82hNzPKw"
      },
      "source": [
        "\n",
        "max_features = 200000  # Only consider the top 200k words\n",
        "maxlen = 60\n",
        "embedding_dim = 128\n"
      ],
      "execution_count": null,
      "outputs": []
    },
    {
      "cell_type": "code",
      "metadata": {
        "id": "OW4JP3XXzleL"
      },
      "source": [
        "from tensorflow.keras.layers.experimental.preprocessing import TextVectorization\n",
        "from tensorflow.keras import layers\n",
        "import string\n",
        "import re\n",
        "vectorization_layer = TextVectorization(max_tokens=max_features,\n",
        "    output_mode='int',\n",
        "    output_sequence_length=maxlen)\n",
        "\n",
        "#vectorization_layer.adapt(cas_X_train.values)\n",
        "#vectorization_layer.adapt(cas_X_test.values)\n",
        "#vectorization_layer.adapt(fps_X_train.values)\n",
        "#vectorization_layer.adapt(fps_X_test.values)\n",
        "vectorization_layer.adapt(all_X_train.values)\n",
        "vectorization_layer.adapt(all_X_test.values)"
      ],
      "execution_count": null,
      "outputs": []
    },
    {
      "cell_type": "code",
      "metadata": {
        "id": "gkXHGbba_i-f"
      },
      "source": [
        "#build CNN model\n",
        "def CNN_model():\n",
        "  model = tf.keras.models.Sequential()\n",
        "  model.add(tf.keras.Input(shape=(None,), dtype=tf.string))\n",
        "  model.add(vectorization_layer)\n",
        "  model.add(layers.Embedding(max_features, embedding_dim))\n",
        "  model.layers[1].trainable = False\n",
        "\n",
        "  model.add(tf.keras.layers.Conv1D(\n",
        "    filters=5, \n",
        "    kernel_size=3, \n",
        "    strides=1, \n",
        "    padding='same', \n",
        "    activation='relu', \n",
        "    use_bias=True,\n",
        "    kernel_initializer='glorot_uniform', \n",
        "    bias_initializer='zeros')\n",
        "            )    \n",
        "  model.add(layers.GlobalAveragePooling1D())\n",
        "  model.add(layers.Dense(64, activation=\"relu\"))\n",
        "  #model.add(layers.Dropout(0.05))\n",
        "  model.add(layers.Dense(1, activation=\"sigmoid\"))\n",
        "\n",
        "  model.summary()\n",
        "\n",
        "  model.compile(loss=\"binary_crossentropy\", optimizer=keras.optimizers.Adam(), metrics=\"accuracy\")\n",
        "  return model"
      ],
      "execution_count": null,
      "outputs": []
    },
    {
      "cell_type": "code",
      "metadata": {
        "id": "fRSt1O71_73z",
        "colab": {
          "base_uri": "https://localhost:8080/"
        },
        "outputId": "f35f7337-c777-435a-b5de-65fa9058015c"
      },
      "source": [
        "#train CNN\n",
        "CNN_model=CNN_model()\n",
        "#history = CNN_model.fit(cas_X_train, cas_y_train, validation_data=(cas_X_test, cas_y_test),\n",
        "#                        epochs=10,batch_size=128)\n",
        "#history = CNN_model.fit(fps_X_train, fps_y_train, validation_data=(fps_X_test, fps_y_test),\n",
        "#                        epochs=10,batch_size=128)\n",
        "history = CNN_model.fit(all_X_train, all_y_train, validation_data=(all_X_test, all_y_test),\n",
        "                        epochs=10,batch_size=128)"
      ],
      "execution_count": null,
      "outputs": [
        {
          "output_type": "stream",
          "text": [
            "Model: \"sequential_2\"\n",
            "_________________________________________________________________\n",
            "Layer (type)                 Output Shape              Param #   \n",
            "=================================================================\n",
            "text_vectorization_3 (TextVe (None, 60)                0         \n",
            "_________________________________________________________________\n",
            "embedding_2 (Embedding)      (None, 60, 128)           25600000  \n",
            "_________________________________________________________________\n",
            "conv1d_2 (Conv1D)            (None, 60, 5)             1925      \n",
            "_________________________________________________________________\n",
            "global_average_pooling1d_2 ( (None, 5)                 0         \n",
            "_________________________________________________________________\n",
            "dense_4 (Dense)              (None, 64)                384       \n",
            "_________________________________________________________________\n",
            "dense_5 (Dense)              (None, 1)                 65        \n",
            "=================================================================\n",
            "Total params: 25,602,374\n",
            "Trainable params: 2,374\n",
            "Non-trainable params: 25,600,000\n",
            "_________________________________________________________________\n",
            "Epoch 1/10\n",
            "5611/5611 [==============================] - 101s 18ms/step - loss: 0.5583 - accuracy: 0.7053 - val_loss: 0.5049 - val_accuracy: 0.7436\n",
            "Epoch 2/10\n",
            "5611/5611 [==============================] - 102s 18ms/step - loss: 0.4592 - accuracy: 0.7750 - val_loss: 0.4441 - val_accuracy: 0.7831\n",
            "Epoch 3/10\n",
            "5611/5611 [==============================] - 105s 19ms/step - loss: 0.4193 - accuracy: 0.7996 - val_loss: 0.4210 - val_accuracy: 0.7966\n",
            "Epoch 4/10\n",
            "5611/5611 [==============================] - 105s 19ms/step - loss: 0.4038 - accuracy: 0.8088 - val_loss: 0.4135 - val_accuracy: 0.8000\n",
            "Epoch 5/10\n",
            "5611/5611 [==============================] - 105s 19ms/step - loss: 0.3957 - accuracy: 0.8133 - val_loss: 0.4060 - val_accuracy: 0.8043\n",
            "Epoch 6/10\n",
            "5611/5611 [==============================] - 106s 19ms/step - loss: 0.3907 - accuracy: 0.8164 - val_loss: 0.4078 - val_accuracy: 0.8065\n",
            "Epoch 7/10\n",
            "5611/5611 [==============================] - 106s 19ms/step - loss: 0.3873 - accuracy: 0.8185 - val_loss: 0.3994 - val_accuracy: 0.8083\n",
            "Epoch 8/10\n",
            "5611/5611 [==============================] - 106s 19ms/step - loss: 0.3853 - accuracy: 0.8195 - val_loss: 0.3988 - val_accuracy: 0.8089\n",
            "Epoch 9/10\n",
            "5611/5611 [==============================] - 107s 19ms/step - loss: 0.3839 - accuracy: 0.8200 - val_loss: 0.3996 - val_accuracy: 0.8112\n",
            "Epoch 10/10\n",
            "5611/5611 [==============================] - 107s 19ms/step - loss: 0.3827 - accuracy: 0.8209 - val_loss: 0.3968 - val_accuracy: 0.8100\n"
          ],
          "name": "stdout"
        }
      ]
    },
    {
      "cell_type": "code",
      "metadata": {
        "id": "4V5_S5CPbARO",
        "colab": {
          "base_uri": "https://localhost:8080/"
        },
        "outputId": "96cea1f6-bc3d-42c2-c2c8-720c288fde1c"
      },
      "source": [
        "# predict probabilities for test set\n",
        "#yhat_probs = CNN_model.predict(cas_X_test, verbose=0)\n",
        "#yhat_probs = CNN_model.predict(fps_X_test, verbose=0)\n",
        "yhat_probs = CNN_model.predict(all_X_test, verbose=0)\n",
        "\n",
        "# predict crisp classes for test set\n",
        "#yhat_classes = CNN_model.predict_classes(cas_X_test, verbose=0)\n",
        "#yhat_classes = CNN_model.predict_classes(fps_X_test, verbose=0)\n",
        "yhat_classes = CNN_model.predict_classes(all_X_test, verbose=0)\n",
        "\n",
        "# reduce to 1d array\n",
        "yhat_probs = yhat_probs[:, 0]\n",
        "yhat_classes = yhat_classes[:, 0]\n",
        "\n",
        "#print_eval_metrics(cas_y_test, yhat_classes)\n",
        "#print_eval_metrics(fps_y_test, yhat_classes)\n",
        "print_eval_metrics(all_y_test, yhat_classes)"
      ],
      "execution_count": null,
      "outputs": [
        {
          "output_type": "stream",
          "text": [
            "Accuracy: 0.81001\n",
            "Precision: 0.74885\n",
            "F1-score: 0.80999\n"
          ],
          "name": "stdout"
        }
      ]
    },
    {
      "cell_type": "code",
      "metadata": {
        "id": "DcEgk_7PN7Sf"
      },
      "source": [
        "#build LSTM\n",
        "\n",
        "def LSTM_model():\n",
        "\n",
        "  # A integer input for vocab indices.\n",
        "  model = tf.keras.models.Sequential()\n",
        "  \n",
        "  model.add(tf.keras.Input(shape=(None,), dtype=tf.string))\n",
        "\n",
        "  # Next, we add a layer to map those vocab indices into a space of dimensionality\n",
        "  # 'embedding_dim'.\n",
        "  model.add(vectorization_layer)\n",
        "  model.add(tf.keras.layers.Embedding(max_features, embedding_dim))\n",
        "  model.layers[1].trainable = False\n",
        "\n",
        "  # Add bidirectional LSTM\n",
        "  model.add(tf.keras.layers.LSTM(60, return_sequences=True,name='lstm'))\n",
        "  model.add(tf.keras.layers.GlobalMaxPool1D())\n",
        "  model.add(tf.keras.layers.Dropout(0.1))\n",
        "  model.add(tf.keras.layers.Dense(50,activation=\"relu\"))\n",
        "  model.add(tf.keras.layers.Dropout(0.1))\n",
        "\n",
        "\n",
        "  # Add a classifier\n",
        "  model.add(tf.keras.layers.Dense(1, activation=\"sigmoid\"))\n",
        "\n",
        "  model.summary()\n",
        "  model.compile(\"adam\", \"binary_crossentropy\", metrics=[\"accuracy\"])\n",
        "  return model"
      ],
      "execution_count": null,
      "outputs": []
    },
    {
      "cell_type": "code",
      "metadata": {
        "id": "OPsooca3N7Vl",
        "colab": {
          "base_uri": "https://localhost:8080/"
        },
        "outputId": "d71f5bfb-d163-4a59-ef5d-fd95f1896414"
      },
      "source": [
        "#train LSTM\n",
        "model_LSTM=LSTM_model()\n",
        "model_LSTM.fit(np.array(X_train),y_train, validation_data=(X_test, y_test),epochs=20, batch_size=128)\n"
      ],
      "execution_count": null,
      "outputs": [
        {
          "output_type": "stream",
          "text": [
            "Model: \"sequential_1\"\n",
            "_________________________________________________________________\n",
            "Layer (type)                 Output Shape              Param #   \n",
            "=================================================================\n",
            "text_vectorization (TextVect (None, 60)                0         \n",
            "_________________________________________________________________\n",
            "embedding_1 (Embedding)      (None, 60, 128)           25600000  \n",
            "_________________________________________________________________\n",
            "lstm (LSTM)                  (None, 60, 60)            45360     \n",
            "_________________________________________________________________\n",
            "global_max_pooling1d (Global (None, 60)                0         \n",
            "_________________________________________________________________\n",
            "dropout (Dropout)            (None, 60)                0         \n",
            "_________________________________________________________________\n",
            "dense_2 (Dense)              (None, 50)                3050      \n",
            "_________________________________________________________________\n",
            "dropout_1 (Dropout)          (None, 50)                0         \n",
            "_________________________________________________________________\n",
            "dense_3 (Dense)              (None, 1)                 51        \n",
            "=================================================================\n",
            "Total params: 25,648,461\n",
            "Trainable params: 48,461\n",
            "Non-trainable params: 25,600,000\n",
            "_________________________________________________________________\n"
          ],
          "name": "stdout"
        }
      ]
    },
    {
      "cell_type": "code",
      "metadata": {
        "id": "VJwBYEowO2pk"
      },
      "source": [
        "#BERT model"
      ],
      "execution_count": null,
      "outputs": []
    },
    {
      "cell_type": "code",
      "metadata": {
        "id": "vO0QlEWmzj-r"
      },
      "source": [
        "tf.config.set_soft_device_placement(True)\n",
        "tf.debugging.set_log_device_placement(True)"
      ],
      "execution_count": null,
      "outputs": []
    },
    {
      "cell_type": "code",
      "metadata": {
        "id": "wHbZ0Xo73rcB"
      },
      "source": [
        "\n",
        "import pandas as pd\n",
        "import numpy as np\n",
        "import os\n",
        "import sys\n",
        "import tensorflow as tf\n",
        "from time import time\n",
        "import io\n",
        "import re\n",
        "\n",
        "import pickle\n",
        "from tensorflow.keras import layers\n",
        "from tensorflow.keras.layers import Dense, Flatten\n",
        "from datetime import datetime\n",
        "\n"
      ],
      "execution_count": null,
      "outputs": []
    },
    {
      "cell_type": "code",
      "metadata": {
        "id": "hlpRCXbRBvbe"
      },
      "source": [
        "from sklearn.model_selection import train_test_split\n",
        "\n",
        "train,test= train_test_split(df_balanced,\n",
        "test_size=0.2)\n"
      ],
      "execution_count": null,
      "outputs": []
    },
    {
      "cell_type": "code",
      "metadata": {
        "id": "5Eqix_R9C2Ml"
      },
      "source": [
        ""
      ],
      "execution_count": null,
      "outputs": []
    },
    {
      "cell_type": "code",
      "metadata": {
        "id": "MT2WH75Sjskf"
      },
      "source": [
        "#Build Bert Model with tf_hub\n",
        "import tensorflow_hub as hub\n",
        "import tensorflow_datasets as tfds\n",
        "\n",
        "embedding = \"https://tfhub.dev/google/nnlm-en-dim50/2\"\n"
      ],
      "execution_count": null,
      "outputs": []
    },
    {
      "cell_type": "code",
      "metadata": {
        "id": "cthDiLknjszv"
      },
      "source": [
        "#convert pandas dataframe to tensorflow dataset\n",
        "tf.enable_eager_execution()"
      ],
      "execution_count": null,
      "outputs": []
    },
    {
      "cell_type": "code",
      "metadata": {
        "id": "yGTh5zqRjs4C"
      },
      "source": [
        "train_dataset = (\n",
        "    tf.data.Dataset.from_tensor_slices(\n",
        "        (\n",
        "            tf.cast(train[\"cleaned\"].values, tf.string),\n",
        "            tf.cast(train['recommend'].values, tf.int32)\n",
        "        )\n",
        "    )\n",
        ")"
      ],
      "execution_count": null,
      "outputs": []
    },
    {
      "cell_type": "code",
      "metadata": {
        "id": "sNDhnz0gk-5X"
      },
      "source": [
        "test_dataset = (\n",
        "    tf.data.Dataset.from_tensor_slices(\n",
        "        (\n",
        "            tf.cast(test[\"cleaned\"].values, tf.string),\n",
        "            tf.cast(test['recommend'].values, tf.int32)\n",
        "        )\n",
        "    )\n",
        ")"
      ],
      "execution_count": null,
      "outputs": []
    },
    {
      "cell_type": "code",
      "metadata": {
        "id": "55NqpdJ1lEj4",
        "colab": {
          "base_uri": "https://localhost:8080/"
        },
        "outputId": "93612de1-a61f-4cf9-9e54-6527665af94f"
      },
      "source": [
        "#build BERT \n",
        "hub_layer = hub.KerasLayer(embedding, input_shape=[], \n",
        "                           dtype=tf.string, trainable=True)\n",
        "def BERT_model():\n",
        "  model = tf.keras.Sequential()\n",
        "  model.add(hub_layer)\n",
        "  model.add(tf.keras.layers.Dropout(0.1))\n",
        "  model.add(tf.keras.layers.Dense(16, activation='relu'))\n",
        "  model.add(tf.keras.layers.Dense(1))\n",
        "\n",
        "  model.summary()\n",
        "  model.compile(optimizer= tf.keras.optimizers.Adam(),\n",
        "                loss=tf.keras.losses.BinaryCrossentropy(from_logits=True),\n",
        "                metrics=['accuracy'])\n",
        "  return model\n",
        "\n"
      ],
      "execution_count": null,
      "outputs": [
        {
          "output_type": "stream",
          "text": [
            "WARNING:tensorflow:11 out of the last 11 calls to <function recreate_function.<locals>.restored_function_body at 0x7fa8de1ac9d8> triggered tf.function retracing. Tracing is expensive and the excessive number of tracings could be due to (1) creating @tf.function repeatedly in a loop, (2) passing tensors with different shapes, (3) passing Python objects instead of tensors. For (1), please define your @tf.function outside of the loop. For (2), @tf.function has experimental_relax_shapes=True option that relaxes argument shapes that can avoid unnecessary retracing. For (3), please refer to https://www.tensorflow.org/tutorials/customization/performance#python_or_tensor_args and https://www.tensorflow.org/api_docs/python/tf/function for  more details.\n"
          ],
          "name": "stdout"
        },
        {
          "output_type": "stream",
          "text": [
            "WARNING:tensorflow:11 out of the last 11 calls to <function recreate_function.<locals>.restored_function_body at 0x7fa8de1ac9d8> triggered tf.function retracing. Tracing is expensive and the excessive number of tracings could be due to (1) creating @tf.function repeatedly in a loop, (2) passing tensors with different shapes, (3) passing Python objects instead of tensors. For (1), please define your @tf.function outside of the loop. For (2), @tf.function has experimental_relax_shapes=True option that relaxes argument shapes that can avoid unnecessary retracing. For (3), please refer to https://www.tensorflow.org/tutorials/customization/performance#python_or_tensor_args and https://www.tensorflow.org/api_docs/python/tf/function for  more details.\n"
          ],
          "name": "stderr"
        },
        {
          "output_type": "stream",
          "text": [
            "WARNING:tensorflow:11 out of the last 11 calls to <function recreate_function.<locals>.restored_function_body at 0x7fa8de1ac268> triggered tf.function retracing. Tracing is expensive and the excessive number of tracings could be due to (1) creating @tf.function repeatedly in a loop, (2) passing tensors with different shapes, (3) passing Python objects instead of tensors. For (1), please define your @tf.function outside of the loop. For (2), @tf.function has experimental_relax_shapes=True option that relaxes argument shapes that can avoid unnecessary retracing. For (3), please refer to https://www.tensorflow.org/tutorials/customization/performance#python_or_tensor_args and https://www.tensorflow.org/api_docs/python/tf/function for  more details.\n"
          ],
          "name": "stdout"
        },
        {
          "output_type": "stream",
          "text": [
            "WARNING:tensorflow:11 out of the last 11 calls to <function recreate_function.<locals>.restored_function_body at 0x7fa8de1ac268> triggered tf.function retracing. Tracing is expensive and the excessive number of tracings could be due to (1) creating @tf.function repeatedly in a loop, (2) passing tensors with different shapes, (3) passing Python objects instead of tensors. For (1), please define your @tf.function outside of the loop. For (2), @tf.function has experimental_relax_shapes=True option that relaxes argument shapes that can avoid unnecessary retracing. For (3), please refer to https://www.tensorflow.org/tutorials/customization/performance#python_or_tensor_args and https://www.tensorflow.org/api_docs/python/tf/function for  more details.\n"
          ],
          "name": "stderr"
        }
      ]
    },
    {
      "cell_type": "code",
      "metadata": {
        "id": "zDf2FpQLnonc",
        "colab": {
          "base_uri": "https://localhost:8080/"
        },
        "outputId": "3943d6ed-d5ca-4f8b-d3e0-96014f2213a8"
      },
      "source": [
        "BERT_model=BERT_model()"
      ],
      "execution_count": null,
      "outputs": [
        {
          "output_type": "stream",
          "text": [
            "Model: \"sequential_6\"\n",
            "_________________________________________________________________\n",
            "Layer (type)                 Output Shape              Param #   \n",
            "=================================================================\n",
            "keras_layer_5 (KerasLayer)   (None, 50)                48190600  \n",
            "_________________________________________________________________\n",
            "dense_15 (Dense)             (None, 16)                816       \n",
            "_________________________________________________________________\n",
            "dense_16 (Dense)             (None, 1)                 17        \n",
            "=================================================================\n",
            "Total params: 48,191,433\n",
            "Trainable params: 48,191,433\n",
            "Non-trainable params: 0\n",
            "_________________________________________________________________\n"
          ],
          "name": "stdout"
        }
      ]
    },
    {
      "cell_type": "code",
      "metadata": {
        "id": "4zoXHplalEpW",
        "colab": {
          "base_uri": "https://localhost:8080/"
        },
        "outputId": "3125be18-0615-448c-888d-86150641b54b"
      },
      "source": [
        "history = BERT_model.fit(train_dataset.shuffle(10000).batch(512),\n",
        "                    epochs=20,\n",
        "                    validation_data=test_dataset.batch(512),\n",
        "                    verbose=1)"
      ],
      "execution_count": null,
      "outputs": [
        {
          "output_type": "stream",
          "text": [
            "Epoch 1/20\n",
            "926/926 [==============================] - 29s 32ms/step - loss: 0.1813 - accuracy: 0.9284 - val_loss: 0.2633 - val_accuracy: 0.9026\n",
            "Epoch 2/20\n",
            "926/926 [==============================] - 29s 32ms/step - loss: 0.1741 - accuracy: 0.9320 - val_loss: 0.2628 - val_accuracy: 0.9053\n",
            "Epoch 3/20\n",
            "926/926 [==============================] - 29s 32ms/step - loss: 0.1675 - accuracy: 0.9349 - val_loss: 0.2626 - val_accuracy: 0.9061\n",
            "Epoch 4/20\n",
            "926/926 [==============================] - 30s 32ms/step - loss: 0.1616 - accuracy: 0.9376 - val_loss: 0.2633 - val_accuracy: 0.9073\n",
            "Epoch 5/20\n",
            "926/926 [==============================] - 30s 32ms/step - loss: 0.1563 - accuracy: 0.9400 - val_loss: 0.2644 - val_accuracy: 0.9092\n",
            "Epoch 6/20\n",
            "926/926 [==============================] - 29s 32ms/step - loss: 0.1513 - accuracy: 0.9423 - val_loss: 0.2658 - val_accuracy: 0.9102\n",
            "Epoch 7/20\n",
            "926/926 [==============================] - 29s 32ms/step - loss: 0.1468 - accuracy: 0.9443 - val_loss: 0.2693 - val_accuracy: 0.9103\n",
            "Epoch 8/20\n",
            "926/926 [==============================] - 29s 32ms/step - loss: 0.1427 - accuracy: 0.9459 - val_loss: 0.2713 - val_accuracy: 0.9111\n",
            "Epoch 9/20\n",
            "926/926 [==============================] - 29s 32ms/step - loss: 0.1390 - accuracy: 0.9476 - val_loss: 0.2718 - val_accuracy: 0.9123\n",
            "Epoch 10/20\n",
            "926/926 [==============================] - 30s 32ms/step - loss: 0.1355 - accuracy: 0.9489 - val_loss: 0.2721 - val_accuracy: 0.9135\n",
            "Epoch 11/20\n",
            "926/926 [==============================] - 29s 32ms/step - loss: 0.1324 - accuracy: 0.9502 - val_loss: 0.2759 - val_accuracy: 0.9132\n",
            "Epoch 12/20\n",
            "926/926 [==============================] - 29s 32ms/step - loss: 0.1295 - accuracy: 0.9514 - val_loss: 0.2775 - val_accuracy: 0.9143\n",
            "Epoch 13/20\n",
            "926/926 [==============================] - 30s 32ms/step - loss: 0.1269 - accuracy: 0.9527 - val_loss: 0.2803 - val_accuracy: 0.9149\n",
            "Epoch 14/20\n",
            "926/926 [==============================] - 30s 32ms/step - loss: 0.1245 - accuracy: 0.9536 - val_loss: 0.2842 - val_accuracy: 0.9150\n",
            "Epoch 15/20\n",
            "926/926 [==============================] - 30s 32ms/step - loss: 0.1220 - accuracy: 0.9545 - val_loss: 0.2834 - val_accuracy: 0.9163\n",
            "Epoch 16/20\n",
            "926/926 [==============================] - 29s 32ms/step - loss: 0.1200 - accuracy: 0.9553 - val_loss: 0.2873 - val_accuracy: 0.9156\n",
            "Epoch 17/20\n",
            " 17/926 [..............................] - ETA: 26s - loss: 0.1275 - accuracy: 0.9536"
          ],
          "name": "stdout"
        }
      ]
    },
    {
      "cell_type": "code",
      "metadata": {
        "id": "RQAKfwswlEvB"
      },
      "source": [
        ""
      ],
      "execution_count": null,
      "outputs": []
    },
    {
      "cell_type": "code",
      "metadata": {
        "id": "s7opfmARlEr-"
      },
      "source": [
        ""
      ],
      "execution_count": null,
      "outputs": []
    },
    {
      "cell_type": "code",
      "metadata": {
        "id": "MTH1MYUGlEnM"
      },
      "source": [
        ""
      ],
      "execution_count": null,
      "outputs": []
    }
  ]
}