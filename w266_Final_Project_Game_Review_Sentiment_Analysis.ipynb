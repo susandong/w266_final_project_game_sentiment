{
  "nbformat": 4,
  "nbformat_minor": 0,
  "metadata": {
    "colab": {
      "name": "w266_Final Project_Game Review Sentiment Analysis.ipynb",
      "provenance": [],
      "include_colab_link": true
    },
    "kernelspec": {
      "name": "python3",
      "display_name": "Python 3"
    }
  },
  "cells": [
    {
      "cell_type": "markdown",
      "metadata": {
        "id": "view-in-github",
        "colab_type": "text"
      },
      "source": [
        "<a href=\"https://colab.research.google.com/github/susandong/w266_final_project_game_sentiment/blob/master/w266_Final_Project_Game_Review_Sentiment_Analysis.ipynb\" target=\"_parent\"><img src=\"https://colab.research.google.com/assets/colab-badge.svg\" alt=\"Open In Colab\"/></a>"
      ]
    },
    {
      "cell_type": "markdown",
      "metadata": {
        "id": "DrstJ8hJNJmO"
      },
      "source": [
        "# Final Project: Game Review Sentiment Analysis Over Time\n",
        "## Research Question: \n",
        "* Can we use sentiment analysis score to predict the active user base for video games over time\n",
        "\n",
        "## Dataset: \n",
        "* Game Review: twitter/reddit/discord/steam reviews\n",
        "* active user base: steam\n",
        "\n",
        "## Algorithm: \n",
        "* Baseline(logistic Regression); \n",
        "* Transformer(Elmo/Bert)\n"
      ]
    },
    {
      "cell_type": "code",
      "metadata": {
        "id": "yW01NUndQd3C"
      },
      "source": [
        "#Load libraries\n",
        "import pandas as pd"
      ],
      "execution_count": 2,
      "outputs": []
    },
    {
      "cell_type": "code",
      "metadata": {
        "id": "kFboN7cwMM6V"
      },
      "source": [
        "\"\"\" Download Data: There are 4 games with review data\n",
        "Fall Guys (fg)\n",
        "PlayerUnknown Battlegrounds (pubg)\n",
        "Dota 2 (dota2)\n",
        "Counterstrike Source: Go (csgo)\n",
        "\n",
        "Review data has the following columns:\n",
        "app: ID for the game\n",
        "useful: how many users voted the review as useful\n",
        "funny: how many users voted the review as funny\n",
        "username: username of the person who wrote the review\n",
        "games_owned: how many games the reviewer owns on Steam\n",
        "num_reviews: how many reviews the reviewer has written on Steam\n",
        "recommend: 1 for recommend (thumbs up), -1 for do not recommend (thumbs down)\n",
        "hours_played: number of hours the reviewer played before writing the review\n",
        "date: date review was written\n",
        "text: text of the review\n",
        "\"\"\"\n",
        "fg_url = 'https://raw.githubusercontent.com/susandong/w266_final_project_game_sentiment/master/data/fallguys_reviews.csv'\n",
        "fg_df = pd.read_csv(fg_url, error_bad_lines=False)\n",
        "csgo_url = 'https://raw.githubusercontent.com/susandong/w266_final_project_game_sentiment/master/data/csgo_reviews.csv'\n",
        "csgo_df = pd.read_csv(csgo_url, error_bad_lines=False)\n",
        "dota2_url = 'https://raw.githubusercontent.com/susandong/w266_final_project_game_sentiment/master/data/dota2_reviews.csv'\n",
        "dota2_df = pd.read_csv(dota2_url, error_bad_lines=False)\n",
        "pubg_url = 'https://raw.githubusercontent.com/susandong/w266_final_project_game_sentiment/master/data/pubg_reviews.csv'\n",
        "pubg_df = pd.read_csv(pubg_url, error_bad_lines=False)"
      ],
      "execution_count": 9,
      "outputs": []
    },
    {
      "cell_type": "code",
      "metadata": {
        "id": "Fq_wR2DmOp7T",
        "outputId": "4f2f764e-fb3f-43fe-cdf6-87cd3cba7c5a",
        "colab": {
          "base_uri": "https://localhost:8080/",
          "height": 759
        }
      },
      "source": [
        "# Data Preprocessing\n",
        "pubg_df"
      ],
      "execution_count": 10,
      "outputs": [
        {
          "output_type": "execute_result",
          "data": {
            "text/html": [
              "<div>\n",
              "<style scoped>\n",
              "    .dataframe tbody tr th:only-of-type {\n",
              "        vertical-align: middle;\n",
              "    }\n",
              "\n",
              "    .dataframe tbody tr th {\n",
              "        vertical-align: top;\n",
              "    }\n",
              "\n",
              "    .dataframe thead th {\n",
              "        text-align: right;\n",
              "    }\n",
              "</style>\n",
              "<table border=\"1\" class=\"dataframe\">\n",
              "  <thead>\n",
              "    <tr style=\"text-align: right;\">\n",
              "      <th></th>\n",
              "      <th>app</th>\n",
              "      <th>useful</th>\n",
              "      <th>funny</th>\n",
              "      <th>username</th>\n",
              "      <th>games_owned</th>\n",
              "      <th>num_reviews</th>\n",
              "      <th>recommend</th>\n",
              "      <th>hours_played</th>\n",
              "      <th>date</th>\n",
              "      <th>text</th>\n",
              "    </tr>\n",
              "  </thead>\n",
              "  <tbody>\n",
              "    <tr>\n",
              "      <th>0</th>\n",
              "      <td>578080</td>\n",
              "      <td>0</td>\n",
              "      <td>0</td>\n",
              "      <td>Pastelowy</td>\n",
              "      <td>200</td>\n",
              "      <td>5</td>\n",
              "      <td>1</td>\n",
              "      <td>972.4</td>\n",
              "      <td>11 October, 2020</td>\n",
              "      <td>After nearly 1k of hours .... yeah i would rec...</td>\n",
              "    </tr>\n",
              "    <tr>\n",
              "      <th>1</th>\n",
              "      <td>578080</td>\n",
              "      <td>0</td>\n",
              "      <td>0</td>\n",
              "      <td>7.65612E+16</td>\n",
              "      <td>157</td>\n",
              "      <td>2</td>\n",
              "      <td>1</td>\n",
              "      <td>110.4</td>\n",
              "      <td>11 October, 2020</td>\n",
              "      <td>NaN</td>\n",
              "    </tr>\n",
              "    <tr>\n",
              "      <th>2</th>\n",
              "      <td>578080</td>\n",
              "      <td>0</td>\n",
              "      <td>0</td>\n",
              "      <td>7.65612E+16</td>\n",
              "      <td>16</td>\n",
              "      <td>1</td>\n",
              "      <td>-1</td>\n",
              "      <td>152.2</td>\n",
              "      <td>11 October, 2020</td>\n",
              "      <td>Sick and tired of it crashing in the final mom...</td>\n",
              "    </tr>\n",
              "    <tr>\n",
              "      <th>3</th>\n",
              "      <td>578080</td>\n",
              "      <td>0</td>\n",
              "      <td>0</td>\n",
              "      <td>7.65612E+16</td>\n",
              "      <td>23</td>\n",
              "      <td>11</td>\n",
              "      <td>1</td>\n",
              "      <td>21.7</td>\n",
              "      <td>11 October, 2020</td>\n",
              "      <td>Good game</td>\n",
              "    </tr>\n",
              "    <tr>\n",
              "      <th>4</th>\n",
              "      <td>578080</td>\n",
              "      <td>1</td>\n",
              "      <td>0</td>\n",
              "      <td>7.65612E+16</td>\n",
              "      <td>3</td>\n",
              "      <td>1</td>\n",
              "      <td>1</td>\n",
              "      <td>304.1</td>\n",
              "      <td>11 October, 2020</td>\n",
              "      <td>good but lag</td>\n",
              "    </tr>\n",
              "    <tr>\n",
              "      <th>...</th>\n",
              "      <td>...</td>\n",
              "      <td>...</td>\n",
              "      <td>...</td>\n",
              "      <td>...</td>\n",
              "      <td>...</td>\n",
              "      <td>...</td>\n",
              "      <td>...</td>\n",
              "      <td>...</td>\n",
              "      <td>...</td>\n",
              "      <td>...</td>\n",
              "    </tr>\n",
              "    <tr>\n",
              "      <th>236687</th>\n",
              "      <td>578080</td>\n",
              "      <td>1</td>\n",
              "      <td>0</td>\n",
              "      <td>7.65612E+16</td>\n",
              "      <td>34</td>\n",
              "      <td>5</td>\n",
              "      <td>-1</td>\n",
              "      <td>59.7</td>\n",
              "      <td>3 August, 2017</td>\n",
              "      <td>Cash grab with micro transactions (promised no...</td>\n",
              "    </tr>\n",
              "    <tr>\n",
              "      <th>236688</th>\n",
              "      <td>578080</td>\n",
              "      <td>0</td>\n",
              "      <td>0</td>\n",
              "      <td>Cascadia</td>\n",
              "      <td>184</td>\n",
              "      <td>18</td>\n",
              "      <td>1</td>\n",
              "      <td>88.3</td>\n",
              "      <td>3 August, 2017</td>\n",
              "      <td>this game is great (WHEN THEIR SERVERS WORK, U...</td>\n",
              "    </tr>\n",
              "    <tr>\n",
              "      <th>236689</th>\n",
              "      <td>578080</td>\n",
              "      <td>0</td>\n",
              "      <td>0</td>\n",
              "      <td>7.65612E+16</td>\n",
              "      <td>37</td>\n",
              "      <td>7</td>\n",
              "      <td>1</td>\n",
              "      <td>174.2</td>\n",
              "      <td>3 August, 2017</td>\n",
              "      <td>good game</td>\n",
              "    </tr>\n",
              "    <tr>\n",
              "      <th>236690</th>\n",
              "      <td>578080</td>\n",
              "      <td>0</td>\n",
              "      <td>0</td>\n",
              "      <td>porygonl</td>\n",
              "      <td>307</td>\n",
              "      <td>88</td>\n",
              "      <td>-1</td>\n",
              "      <td>37.0</td>\n",
              "      <td>3 August, 2017</td>\n",
              "      <td>Cashgrab...I dont like how I have to wait 3-5 ...</td>\n",
              "    </tr>\n",
              "    <tr>\n",
              "      <th>236691</th>\n",
              "      <td>578080</td>\n",
              "      <td>0</td>\n",
              "      <td>0</td>\n",
              "      <td>designatedanchor</td>\n",
              "      <td>328</td>\n",
              "      <td>6</td>\n",
              "      <td>-1</td>\n",
              "      <td>293.6</td>\n",
              "      <td>3 August, 2017</td>\n",
              "      <td>\"We're not early access anymore guys! We bucke...</td>\n",
              "    </tr>\n",
              "  </tbody>\n",
              "</table>\n",
              "<p>236692 rows × 10 columns</p>\n",
              "</div>"
            ],
            "text/plain": [
              "           app  ...                                               text\n",
              "0       578080  ...  After nearly 1k of hours .... yeah i would rec...\n",
              "1       578080  ...                                                NaN\n",
              "2       578080  ...  Sick and tired of it crashing in the final mom...\n",
              "3       578080  ...                                          Good game\n",
              "4       578080  ...                                       good but lag\n",
              "...        ...  ...                                                ...\n",
              "236687  578080  ...  Cash grab with micro transactions (promised no...\n",
              "236688  578080  ...  this game is great (WHEN THEIR SERVERS WORK, U...\n",
              "236689  578080  ...                                          good game\n",
              "236690  578080  ...  Cashgrab...I dont like how I have to wait 3-5 ...\n",
              "236691  578080  ...  \"We're not early access anymore guys! We bucke...\n",
              "\n",
              "[236692 rows x 10 columns]"
            ]
          },
          "metadata": {
            "tags": []
          },
          "execution_count": 10
        }
      ]
    },
    {
      "cell_type": "code",
      "metadata": {
        "id": "szr37BDfOuVz"
      },
      "source": [
        "# Build model"
      ],
      "execution_count": null,
      "outputs": []
    },
    {
      "cell_type": "code",
      "metadata": {
        "id": "VJwBYEowO2pk"
      },
      "source": [
        "# evaluate model"
      ],
      "execution_count": null,
      "outputs": []
    },
    {
      "cell_type": "code",
      "metadata": {
        "id": "o1Vn7p_HPKRm"
      },
      "source": [
        ""
      ],
      "execution_count": null,
      "outputs": []
    }
  ]
}